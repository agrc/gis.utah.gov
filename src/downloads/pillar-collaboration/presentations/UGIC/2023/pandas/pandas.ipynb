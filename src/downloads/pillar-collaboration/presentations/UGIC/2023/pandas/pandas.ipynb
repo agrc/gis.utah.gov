{
 "cells": [
  {
   "cell_type": "markdown",
   "id": "b68399a8",
   "metadata": {
    "slideshow": {
     "slide_type": "slide"
    }
   },
   "source": [
    "![intro](assets/intro.png)"
   ]
  },
  {
   "cell_type": "markdown",
   "id": "44441285",
   "metadata": {
    "slideshow": {
     "slide_type": "slide"
    }
   },
   "source": [
    "![don't panic](assets/dontpanic.png)\n",
    "\n",
    "### Jupyter notebook available at gis.utah.gov/presentations"
   ]
  },
  {
   "cell_type": "markdown",
   "id": "5666b3e0",
   "metadata": {
    "slideshow": {
     "slide_type": "slide"
    }
   },
   "source": [
    "# Why Use pandas?\n",
    "\n",
    "![pandas](assets/pandas.jpg)"
   ]
  },
  {
   "cell_type": "markdown",
   "id": "e1227c76",
   "metadata": {
    "heading_collapsed": true,
    "slideshow": {
     "slide_type": "slide"
    }
   },
   "source": [
    "## Easy to Reference Data\n",
    "\n",
    "pandas uses a series of **labels** for both rows and columns so that we can refer to spefic values in a table, like a spreadsheet's row number and column name, or a feature class' ObjectID and field name. These labels are a fundamental part of pandas.\n",
    "\n",
    "No more trying to remember what the \"`i`th element of the `j`th row\" refers to (and heaven help you if you're in a nested cursor)."
   ]
  },
  {
   "cell_type": "markdown",
   "id": "00aa2b1c",
   "metadata": {
    "heading_collapsed": true,
    "slideshow": {
     "slide_type": "slide"
    }
   },
   "source": [
    "## Less Overhead for Data Managment than arcpy\n",
    "Calling geoprocessing tools in arcpy requires setting up input and output layers, either on disk or in memory. The code is constantly jumping back and forth from python to the underlying geoprocessing libraries.\n",
    "\n",
    "pandas data structures are native python structures kept in memory and are easily modified. No more creating a new feature layer just to change field names. \n",
    "\n",
    "In addition, most non-spatial table operations are highly optimzied to run against a collection of data at the same time rather than operating element-by-element.  "
   ]
  },
  {
   "cell_type": "markdown",
   "id": "9554d16f",
   "metadata": {
    "heading_collapsed": true,
    "slideshow": {
     "slide_type": "slide"
    }
   },
   "source": [
    "## Potentially More Readable Code\n",
    "As a consequence of not having to deal with feature layer management and verbose geoprocessing tool calls, pandas code can be much shorter and more concise. Once you're familiar with pandas syntax and programming patterns, you can create brief, expressive statements that perform several operations all in one go. \n",
    "\n",
    "And again, no more nested cursors. Seriously. "
   ]
  },
  {
   "cell_type": "markdown",
   "id": "3b5bfd10",
   "metadata": {
    "heading_collapsed": true,
    "slideshow": {
     "slide_type": "slide"
    }
   },
   "source": [
    "## Easy Interoperabilty with Other Data Sources and Processing Libraries\n",
    "As one of (if not the) main go-to python libraries for data science, the pandas ecosystem is vast. \n",
    "\n",
    "You can easily pull in data from spreadsheets, databases, web-based sources like (well-formatted) json and xml, and cloud-based tables like Google BigQuery. \n",
    "\n",
    "Once you've got your data, there's a vast body of tutorials, examples, and production code to build off of (or just shamelessly steal). Other libraries have been written to extend pandas or accept data from pandas data structures, like geopandas and the ArcGIS API for Python's spatially-enabled dataframes."
   ]
  },
  {
   "cell_type": "markdown",
   "id": "59b7243b",
   "metadata": {
    "slideshow": {
     "slide_type": "slide"
    }
   },
   "source": [
    "# Laying Our Foundation\n",
    "\n",
    "![foudnation](assets/foundation.jpg)"
   ]
  },
  {
   "cell_type": "markdown",
   "id": "11453fe4",
   "metadata": {
    "slideshow": {
     "slide_type": "slide"
    }
   },
   "source": [
    "## Get Our Imports Out of the Way"
   ]
  },
  {
   "cell_type": "code",
   "execution_count": 105,
   "id": "f8595e88",
   "metadata": {
    "slideshow": {
     "slide_type": "fragment"
    }
   },
   "outputs": [],
   "source": [
    "import numpy as np\n",
    "import pandas as pd\n",
    "import arcgis\n",
    "from arcgis import GeoAccessor, GeoSeriesAccessor\n",
    "from pathlib import Path"
   ]
  },
  {
   "cell_type": "markdown",
   "id": "2d4a9f75",
   "metadata": {
    "slideshow": {
     "slide_type": "slide"
    }
   },
   "source": [
    "## Scalars and Vectors"
   ]
  },
  {
   "cell_type": "markdown",
   "id": "e6dd3883",
   "metadata": {
    "slideshow": {
     "slide_type": "slide"
    }
   },
   "source": [
    "A **scalar** is just a single value.\n",
    "\n",
    "![single](assets/single.jpg)"
   ]
  },
  {
   "cell_type": "code",
   "execution_count": 2,
   "id": "a248647a",
   "metadata": {
    "slideshow": {
     "slide_type": "slide"
    }
   },
   "outputs": [],
   "source": [
    "#: Most python variables can be considered scalars\n",
    "foo = 5\n",
    "bar = 'Midway'\n",
    "baz = True"
   ]
  },
  {
   "cell_type": "markdown",
   "id": "29ee5c9c",
   "metadata": {
    "slideshow": {
     "slide_type": "slide"
    }
   },
   "source": [
    "A **vector** is a collection of scalars or other vectors"
   ]
  },
  {
   "cell_type": "markdown",
   "id": "2530e2a2",
   "metadata": {
    "slideshow": {
     "slide_type": "slide"
    }
   },
   "source": [
    "![GIS Vector](assets/vector_gis.jpg)\n",
    "\n",
    "No, not that."
   ]
  },
  {
   "cell_type": "markdown",
   "id": "5a308435",
   "metadata": {
    "slideshow": {
     "slide_type": "slide"
    }
   },
   "source": [
    "![Vector](assets/vector_despicableme.jpg)\n",
    "\n",
    "Or that."
   ]
  },
  {
   "cell_type": "code",
   "execution_count": 3,
   "id": "870f48d0",
   "metadata": {
    "slideshow": {
     "slide_type": "slide"
    }
   },
   "outputs": [
    {
     "data": {
      "text/plain": [
       "[[1, 2, 3], ('foo', 'bar', 'baz'), [5, 1.7, 'zen']]"
      ]
     },
     "execution_count": 3,
     "metadata": {},
     "output_type": "execute_result"
    }
   ],
   "source": [
    "#: python lists and tuples\n",
    "spam = [1, 2, 3]\n",
    "eggs = ('foo', 'bar', 'baz')\n",
    "ham = [foo, 1.7, 'zen']\n",
    "[spam, eggs, ham] #: a 2-dimensional vector"
   ]
  },
  {
   "cell_type": "markdown",
   "id": "7ee3ab4a",
   "metadata": {
    "slideshow": {
     "slide_type": "slide"
    }
   },
   "source": [
    "## Series and DataFrames: pandas' Fundamental Data Structures"
   ]
  },
  {
   "cell_type": "markdown",
   "id": "b01c4f31",
   "metadata": {
    "slideshow": {
     "slide_type": "slide"
    }
   },
   "source": [
    "A **series** is a collection of scalars. Normally it should have the same data type, but it can be mixed."
   ]
  },
  {
   "cell_type": "code",
   "execution_count": 4,
   "id": "24564738",
   "metadata": {
    "slideshow": {
     "slide_type": "fragment"
    }
   },
   "outputs": [
    {
     "data": {
      "text/plain": [
       "0    a\n",
       "1    b\n",
       "2    c\n",
       "dtype: object"
      ]
     },
     "execution_count": 4,
     "metadata": {},
     "output_type": "execute_result"
    }
   ],
   "source": [
    "#: Build a series from a python list\n",
    "pd.Series(['a', 'b', 'c'])"
   ]
  },
  {
   "cell_type": "code",
   "execution_count": 5,
   "id": "1d1b319b",
   "metadata": {
    "scrolled": true,
    "slideshow": {
     "slide_type": "fragment"
    }
   },
   "outputs": [
    {
     "data": {
      "text/plain": [
       "foo    1\n",
       "bar    2\n",
       "baz    3\n",
       "dtype: int64"
      ]
     },
     "execution_count": 5,
     "metadata": {},
     "output_type": "execute_result"
    }
   ],
   "source": [
    "#: Series have an index, which allows you to reference individual elements with arbitrary labels\n",
    "pd.Series([1, 2, 3], index=['foo', 'bar', 'baz'])"
   ]
  },
  {
   "cell_type": "markdown",
   "id": "b7d6460f",
   "metadata": {
    "slideshow": {
     "slide_type": "slide"
    }
   },
   "source": [
    "A **dataframe** is a two-dimensional collection of vectors with labels for both rows and columns. Basically, a spreadsheet in code."
   ]
  },
  {
   "cell_type": "code",
   "execution_count": 6,
   "id": "f8e3a520",
   "metadata": {
    "slideshow": {
     "slide_type": "fragment"
    }
   },
   "outputs": [
    {
     "data": {
      "text/html": [
       "<div>\n",
       "<style scoped>\n",
       "    .dataframe tbody tr th:only-of-type {\n",
       "        vertical-align: middle;\n",
       "    }\n",
       "\n",
       "    .dataframe tbody tr th {\n",
       "        vertical-align: top;\n",
       "    }\n",
       "\n",
       "    .dataframe thead th {\n",
       "        text-align: right;\n",
       "    }\n",
       "</style>\n",
       "<table border=\"1\" class=\"dataframe\">\n",
       "  <thead>\n",
       "    <tr style=\"text-align: right;\">\n",
       "      <th></th>\n",
       "      <th>foo</th>\n",
       "      <th>bar</th>\n",
       "      <th>baz</th>\n",
       "    </tr>\n",
       "  </thead>\n",
       "  <tbody>\n",
       "    <tr>\n",
       "      <th>0</th>\n",
       "      <td>1</td>\n",
       "      <td>a</td>\n",
       "      <td>True</td>\n",
       "    </tr>\n",
       "    <tr>\n",
       "      <th>1</th>\n",
       "      <td>2</td>\n",
       "      <td>b</td>\n",
       "      <td>1.7</td>\n",
       "    </tr>\n",
       "    <tr>\n",
       "      <th>2</th>\n",
       "      <td>3</td>\n",
       "      <td>c</td>\n",
       "      <td>zen</td>\n",
       "    </tr>\n",
       "  </tbody>\n",
       "</table>\n",
       "</div>"
      ],
      "text/plain": [
       "   foo bar   baz\n",
       "0    1   a  True\n",
       "1    2   b   1.7\n",
       "2    3   c   zen"
      ]
     },
     "execution_count": 6,
     "metadata": {},
     "output_type": "execute_result"
    }
   ],
   "source": [
    "#: Build a dataframe from a dictionary, where each key is a column name and each value is a list of values for that column\n",
    "pd.DataFrame({\n",
    "    'foo': [1, 2, 3],\n",
    "    'bar': ['a', 'b', 'c'],\n",
    "    'baz': [True, 1.7, 'zen']\n",
    "})"
   ]
  },
  {
   "cell_type": "markdown",
   "id": "7f087f62",
   "metadata": {
    "slideshow": {
     "slide_type": "slide"
    }
   },
   "source": [
    "Under the hood, a dataframe is stored in memory as a collection of vectors (`numpy` arrays), one for each column. Thus, a lot of pandas operations occur on a column-by-column basis, like adding two columns together and storing the result in a third:"
   ]
  },
  {
   "cell_type": "code",
   "execution_count": 7,
   "id": "f4aeff31",
   "metadata": {
    "slideshow": {
     "slide_type": "fragment"
    }
   },
   "outputs": [
    {
     "data": {
      "text/html": [
       "<div>\n",
       "<style scoped>\n",
       "    .dataframe tbody tr th:only-of-type {\n",
       "        vertical-align: middle;\n",
       "    }\n",
       "\n",
       "    .dataframe tbody tr th {\n",
       "        vertical-align: top;\n",
       "    }\n",
       "\n",
       "    .dataframe thead th {\n",
       "        text-align: right;\n",
       "    }\n",
       "</style>\n",
       "<table border=\"1\" class=\"dataframe\">\n",
       "  <thead>\n",
       "    <tr style=\"text-align: right;\">\n",
       "      <th></th>\n",
       "      <th>a</th>\n",
       "      <th>b</th>\n",
       "      <th>c</th>\n",
       "    </tr>\n",
       "  </thead>\n",
       "  <tbody>\n",
       "    <tr>\n",
       "      <th>0</th>\n",
       "      <td>1</td>\n",
       "      <td>4</td>\n",
       "      <td>5</td>\n",
       "    </tr>\n",
       "    <tr>\n",
       "      <th>1</th>\n",
       "      <td>2</td>\n",
       "      <td>5</td>\n",
       "      <td>7</td>\n",
       "    </tr>\n",
       "    <tr>\n",
       "      <th>2</th>\n",
       "      <td>3</td>\n",
       "      <td>6</td>\n",
       "      <td>9</td>\n",
       "    </tr>\n",
       "  </tbody>\n",
       "</table>\n",
       "</div>"
      ],
      "text/plain": [
       "   a  b  c\n",
       "0  1  4  5\n",
       "1  2  5  7\n",
       "2  3  6  9"
      ]
     },
     "execution_count": 7,
     "metadata": {},
     "output_type": "execute_result"
    }
   ],
   "source": [
    "df = pd.DataFrame({\n",
    "    'a': [1, 2, 3],\n",
    "    'b': [4, 5, 6]\n",
    "})\n",
    "df['c'] = df['a'] + df['b']\n",
    "df"
   ]
  },
  {
   "cell_type": "markdown",
   "id": "bddf33a7",
   "metadata": {
    "slideshow": {
     "slide_type": "slide"
    }
   },
   "source": [
    "## Vectorized Operations"
   ]
  },
  {
   "cell_type": "markdown",
   "id": "135de539",
   "metadata": {
    "slideshow": {
     "slide_type": "slide"
    }
   },
   "source": [
    "The key to understanding pandas operations is to think in terms of **operations that are applied to every element in a vector**, rather than extracting each element and passing it to the operation one by one. "
   ]
  },
  {
   "cell_type": "code",
   "execution_count": 8,
   "id": "25e1c5fe",
   "metadata": {
    "slideshow": {
     "slide_type": "slide"
    }
   },
   "outputs": [
    {
     "name": "stdout",
     "output_type": "stream",
     "text": [
      "1.0\n",
      "1.4142135623730951\n",
      "1.7320508075688772\n"
     ]
    }
   ],
   "source": [
    "#: Standard python: we're responsible for looping through a vector and calling a function on each element:\n",
    "for element in [1, 2, 3]:\n",
    "    print(np.sqrt(element))"
   ]
  },
  {
   "cell_type": "markdown",
   "id": "4d889f51",
   "metadata": {
    "slideshow": {
     "slide_type": "fragment"
    }
   },
   "source": [
    "![for loop](assets/for_loop.png)"
   ]
  },
  {
   "cell_type": "code",
   "execution_count": 9,
   "id": "92e0294e",
   "metadata": {
    "slideshow": {
     "slide_type": "slide"
    }
   },
   "outputs": [
    {
     "data": {
      "text/plain": [
       "array([1.        , 1.41421356, 1.73205081])"
      ]
     },
     "execution_count": 9,
     "metadata": {},
     "output_type": "execute_result"
    }
   ],
   "source": [
    "#: Vectorized operation: pass a whole vector to a vectorized function:\n",
    "np.sqrt([1, 2, 3])"
   ]
  },
  {
   "cell_type": "code",
   "execution_count": 10,
   "id": "f501957d",
   "metadata": {
    "slideshow": {
     "slide_type": "fragment"
    }
   },
   "outputs": [
    {
     "data": {
      "text/plain": [
       "0    1.000000\n",
       "1    1.414214\n",
       "2    1.732051\n",
       "dtype: float64"
      ]
     },
     "execution_count": 10,
     "metadata": {},
     "output_type": "execute_result"
    }
   ],
   "source": [
    "#: pandas operation: a method on a series or dataframe\n",
    "pd.Series([1, 2, 3]).transform(np.sqrt)"
   ]
  },
  {
   "cell_type": "markdown",
   "id": "066234b2",
   "metadata": {
    "slideshow": {
     "slide_type": "fragment"
    }
   },
   "source": [
    "![vectorized](assets/vectorized_sqrt.png)"
   ]
  },
  {
   "cell_type": "markdown",
   "id": "0340c490",
   "metadata": {
    "slideshow": {
     "slide_type": "slide"
    }
   },
   "source": [
    "`for` loops in python are **computationally expensive** and require extra resources to set up the iteration. In addition, the function has to be called multiple times, requirin even more work behind the scenes for each call.\n",
    "\n",
    "In contrast, vectorized operations are **optimized to perform the same operation on multiple pieces of data**. In addition to avoiding the overhead from iteration and multiple function calls, the processor has special logic and routines for parallelizing many operations. However, to use these it needs to know the operation and the data type ahead of time, which it generally can't with python `for` loops."
   ]
  },
  {
   "cell_type": "markdown",
   "id": "b5cb2937",
   "metadata": {
    "slideshow": {
     "slide_type": "slide"
    }
   },
   "source": [
    "![take them all](assets/take_them_all.jpg)"
   ]
  },
  {
   "cell_type": "markdown",
   "id": "ca8fb8e1",
   "metadata": {
    "heading_collapsed": true,
    "slideshow": {
     "slide_type": "slide"
    }
   },
   "source": [
    "## Think about sending a set of data to an operation, not operating on data one piece at a time."
   ]
  },
  {
   "cell_type": "markdown",
   "id": "745a387b",
   "metadata": {
    "slideshow": {
     "slide_type": "slide"
    }
   },
   "source": [
    "# Let's load a dataframe"
   ]
  },
  {
   "cell_type": "code",
   "execution_count": 11,
   "id": "aef05e7d",
   "metadata": {
    "scrolled": false,
    "slideshow": {
     "slide_type": "fragment"
    }
   },
   "outputs": [
    {
     "data": {
      "text/html": [
       "<div>\n",
       "<style scoped>\n",
       "    .dataframe tbody tr th:only-of-type {\n",
       "        vertical-align: middle;\n",
       "    }\n",
       "\n",
       "    .dataframe tbody tr th {\n",
       "        vertical-align: top;\n",
       "    }\n",
       "\n",
       "    .dataframe thead th {\n",
       "        text-align: right;\n",
       "    }\n",
       "</style>\n",
       "<table border=\"1\" class=\"dataframe\">\n",
       "  <thead>\n",
       "    <tr style=\"text-align: right;\">\n",
       "      <th></th>\n",
       "      <th>OBJECTID</th>\n",
       "      <th>COUNTYNBR</th>\n",
       "      <th>ENTITYNBR</th>\n",
       "      <th>ENTITYYR</th>\n",
       "      <th>NAME</th>\n",
       "      <th>FIPS</th>\n",
       "      <th>STATEPLANE</th>\n",
       "      <th>POP_LASTCENSUS</th>\n",
       "      <th>POP_CURRESTIMATE</th>\n",
       "      <th>GlobalID</th>\n",
       "      <th>COLOR4</th>\n",
       "      <th>SHAPE</th>\n",
       "    </tr>\n",
       "    <tr>\n",
       "      <th>FIPS_STR</th>\n",
       "      <th></th>\n",
       "      <th></th>\n",
       "      <th></th>\n",
       "      <th></th>\n",
       "      <th></th>\n",
       "      <th></th>\n",
       "      <th></th>\n",
       "      <th></th>\n",
       "      <th></th>\n",
       "      <th></th>\n",
       "      <th></th>\n",
       "      <th></th>\n",
       "    </tr>\n",
       "  </thead>\n",
       "  <tbody>\n",
       "    <tr>\n",
       "      <th>49005</th>\n",
       "      <td>1</td>\n",
       "      <td>03</td>\n",
       "      <td>2.010031e+09</td>\n",
       "      <td>2010.0</td>\n",
       "      <td>CACHE</td>\n",
       "      <td>5.0</td>\n",
       "      <td>North</td>\n",
       "      <td>133154</td>\n",
       "      <td>140173</td>\n",
       "      <td>{AD3015BE-B3C9-4316-B8DC-03AFBB56B443}</td>\n",
       "      <td>2</td>\n",
       "      <td>{\"rings\": [[[-12485167.954, 5160638.807099998]...</td>\n",
       "    </tr>\n",
       "    <tr>\n",
       "      <th>49013</th>\n",
       "      <td>2</td>\n",
       "      <td>07</td>\n",
       "      <td>2.010071e+09</td>\n",
       "      <td>2010.0</td>\n",
       "      <td>DUCHESNE</td>\n",
       "      <td>13.0</td>\n",
       "      <td>Central</td>\n",
       "      <td>19596</td>\n",
       "      <td>20161</td>\n",
       "      <td>{7F6252B7-137F-4F7E-A19A-03C702111509}</td>\n",
       "      <td>4</td>\n",
       "      <td>{\"rings\": [[[-12273167.1888, 4987644.314599998...</td>\n",
       "    </tr>\n",
       "    <tr>\n",
       "      <th>49011</th>\n",
       "      <td>3</td>\n",
       "      <td>06</td>\n",
       "      <td>2.010061e+09</td>\n",
       "      <td>2010.0</td>\n",
       "      <td>DAVIS</td>\n",
       "      <td>11.0</td>\n",
       "      <td>North</td>\n",
       "      <td>362679</td>\n",
       "      <td>369948</td>\n",
       "      <td>{214E29A1-CC25-4867-9148-2817DB623088}</td>\n",
       "      <td>3</td>\n",
       "      <td>{\"rings\": [[[-12458980.0088, 5032817.971900001...</td>\n",
       "    </tr>\n",
       "    <tr>\n",
       "      <th>49027</th>\n",
       "      <td>4</td>\n",
       "      <td>14</td>\n",
       "      <td>2.010141e+09</td>\n",
       "      <td>2010.0</td>\n",
       "      <td>MILLARD</td>\n",
       "      <td>27.0</td>\n",
       "      <td>Central</td>\n",
       "      <td>12975</td>\n",
       "      <td>13330</td>\n",
       "      <td>{BC91C742-7508-4118-8469-297719E423CB}</td>\n",
       "      <td>3</td>\n",
       "      <td>{\"rings\": [[[-12494338.1205, 4801287.949100003...</td>\n",
       "    </tr>\n",
       "    <tr>\n",
       "      <th>49051</th>\n",
       "      <td>5</td>\n",
       "      <td>26</td>\n",
       "      <td>2.010261e+09</td>\n",
       "      <td>2010.0</td>\n",
       "      <td>WASATCH</td>\n",
       "      <td>51.0</td>\n",
       "      <td>Central</td>\n",
       "      <td>34788</td>\n",
       "      <td>36619</td>\n",
       "      <td>{3D0C5C1E-2650-458E-B322-2B86AA473441}</td>\n",
       "      <td>2</td>\n",
       "      <td>{\"rings\": [[[-12400515.3909, 4966751.283200003...</td>\n",
       "    </tr>\n",
       "  </tbody>\n",
       "</table>\n",
       "</div>"
      ],
      "text/plain": [
       "          OBJECTID COUNTYNBR     ENTITYNBR  ENTITYYR      NAME  FIPS  \\\n",
       "FIPS_STR                                                               \n",
       "49005            1        03  2.010031e+09    2010.0     CACHE   5.0   \n",
       "49013            2        07  2.010071e+09    2010.0  DUCHESNE  13.0   \n",
       "49011            3        06  2.010061e+09    2010.0     DAVIS  11.0   \n",
       "49027            4        14  2.010141e+09    2010.0   MILLARD  27.0   \n",
       "49051            5        26  2.010261e+09    2010.0   WASATCH  51.0   \n",
       "\n",
       "         STATEPLANE  POP_LASTCENSUS  POP_CURRESTIMATE  \\\n",
       "FIPS_STR                                                \n",
       "49005         North          133154            140173   \n",
       "49013       Central           19596             20161   \n",
       "49011         North          362679            369948   \n",
       "49027       Central           12975             13330   \n",
       "49051       Central           34788             36619   \n",
       "\n",
       "                                        GlobalID  COLOR4  \\\n",
       "FIPS_STR                                                   \n",
       "49005     {AD3015BE-B3C9-4316-B8DC-03AFBB56B443}       2   \n",
       "49013     {7F6252B7-137F-4F7E-A19A-03C702111509}       4   \n",
       "49011     {214E29A1-CC25-4867-9148-2817DB623088}       3   \n",
       "49027     {BC91C742-7508-4118-8469-297719E423CB}       3   \n",
       "49051     {3D0C5C1E-2650-458E-B322-2B86AA473441}       2   \n",
       "\n",
       "                                                      SHAPE  \n",
       "FIPS_STR                                                     \n",
       "49005     {\"rings\": [[[-12485167.954, 5160638.807099998]...  \n",
       "49013     {\"rings\": [[[-12273167.1888, 4987644.314599998...  \n",
       "49011     {\"rings\": [[[-12458980.0088, 5032817.971900001...  \n",
       "49027     {\"rings\": [[[-12494338.1205, 4801287.949100003...  \n",
       "49051     {\"rings\": [[[-12400515.3909, 4966751.283200003...  "
      ]
     },
     "execution_count": 11,
     "metadata": {},
     "output_type": "execute_result"
    }
   ],
   "source": [
    "counties_df = pd.DataFrame.spatial.from_featureclass(r'data/county_boundaries.gdb/Counties')\n",
    "counties_df.set_index('FIPS_STR', inplace=True)  #: Replace the default index with one of our columns\n",
    "counties_df.head()"
   ]
  },
  {
   "cell_type": "markdown",
   "id": "ab533027",
   "metadata": {
    "slideshow": {
     "slide_type": "slide"
    }
   },
   "source": [
    "A dataframe has rows and columns, and each of these has a collection of labels informally called an index. The row labels are considered the main DataFrame _index_, while the column labels are just called _columns_."
   ]
  },
  {
   "cell_type": "code",
   "execution_count": 12,
   "id": "7bd24137",
   "metadata": {
    "slideshow": {
     "slide_type": "fragment"
    }
   },
   "outputs": [
    {
     "data": {
      "text/plain": [
       "Index(['49005', '49013', '49011', '49027', '49051', '49003', '49057', '49023',\n",
       "       '49039', '49053', '49019', '49033', '49007', '49009', '49001', '49041',\n",
       "       '49017', '49045', '49043', '49031', '49047', '49021', '49015', '49055',\n",
       "       '49037', '49029', '49025', '49035', '49049'],\n",
       "      dtype='object', name='FIPS_STR')"
      ]
     },
     "execution_count": 12,
     "metadata": {},
     "output_type": "execute_result"
    }
   ],
   "source": [
    "counties_df.index"
   ]
  },
  {
   "cell_type": "code",
   "execution_count": 13,
   "id": "8cde92c0",
   "metadata": {
    "slideshow": {
     "slide_type": "fragment"
    }
   },
   "outputs": [
    {
     "data": {
      "text/plain": [
       "Index(['OBJECTID', 'COUNTYNBR', 'ENTITYNBR', 'ENTITYYR', 'NAME', 'FIPS',\n",
       "       'STATEPLANE', 'POP_LASTCENSUS', 'POP_CURRESTIMATE', 'GlobalID',\n",
       "       'COLOR4', 'SHAPE'],\n",
       "      dtype='object')"
      ]
     },
     "execution_count": 13,
     "metadata": {},
     "output_type": "execute_result"
    }
   ],
   "source": [
    "counties_df.columns"
   ]
  },
  {
   "cell_type": "markdown",
   "id": "6a19e3b2",
   "metadata": {
    "slideshow": {
     "slide_type": "slide"
    }
   },
   "source": [
    "Each row and column in a dataframe can be extracted as an individual series."
   ]
  },
  {
   "cell_type": "code",
   "execution_count": 14,
   "id": "1f7987d2",
   "metadata": {
    "slideshow": {
     "slide_type": "fragment"
    }
   },
   "outputs": [
    {
     "data": {
      "text/plain": [
       "FIPS_STR\n",
       "49005       CACHE\n",
       "49013    DUCHESNE\n",
       "49011       DAVIS\n",
       "49027     MILLARD\n",
       "49051     WASATCH\n",
       "Name: NAME, dtype: object"
      ]
     },
     "execution_count": 14,
     "metadata": {},
     "output_type": "execute_result"
    }
   ],
   "source": [
    "#: Column- series name is column name, series index is the main dataframe index\n",
    "counties_df.loc[:, 'NAME'].head()"
   ]
  },
  {
   "cell_type": "code",
   "execution_count": 15,
   "id": "c1d2ece0",
   "metadata": {
    "slideshow": {
     "slide_type": "fragment"
    }
   },
   "outputs": [
    {
     "data": {
      "text/plain": [
       "OBJECTID                                                            1\n",
       "COUNTYNBR                                                          03\n",
       "ENTITYNBR                                                2010031010.0\n",
       "ENTITYYR                                                       2010.0\n",
       "NAME                                                            CACHE\n",
       "FIPS                                                              5.0\n",
       "STATEPLANE                                                      North\n",
       "POP_LASTCENSUS                                                 133154\n",
       "POP_CURRESTIMATE                                               140173\n",
       "GlobalID                       {AD3015BE-B3C9-4316-B8DC-03AFBB56B443}\n",
       "COLOR4                                                              2\n",
       "SHAPE               {'rings': [[[-12485167.954, 5160638.807099998]...\n",
       "Name: 49005, dtype: object"
      ]
     },
     "execution_count": 15,
     "metadata": {},
     "output_type": "execute_result"
    }
   ],
   "source": [
    "#: Row- series name is the row index label, series index is the column set \n",
    "counties_df.loc['49005', :]"
   ]
  },
  {
   "cell_type": "markdown",
   "id": "06258a64",
   "metadata": {
    "slideshow": {
     "slide_type": "slide"
    }
   },
   "source": [
    "# Data Types"
   ]
  },
  {
   "cell_type": "markdown",
   "id": "68ec93ae",
   "metadata": {
    "slideshow": {
     "slide_type": "slide"
    }
   },
   "source": [
    "Every column has a data type, just like fields in a feature class.\n",
    "\n",
    "Most data types come from the `numpy` library (which, at least currently, provides a lot of the backend data structures for python)."
   ]
  },
  {
   "cell_type": "code",
   "execution_count": 16,
   "id": "7455d78a",
   "metadata": {
    "slideshow": {
     "slide_type": "fragment"
    }
   },
   "outputs": [
    {
     "name": "stdout",
     "output_type": "stream",
     "text": [
      "<class 'pandas.core.frame.DataFrame'>\n",
      "Index: 29 entries, 49005 to 49049\n",
      "Data columns (total 12 columns):\n",
      " #   Column            Non-Null Count  Dtype   \n",
      "---  ------            --------------  -----   \n",
      " 0   OBJECTID          29 non-null     int64   \n",
      " 1   COUNTYNBR         29 non-null     object  \n",
      " 2   ENTITYNBR         29 non-null     float64 \n",
      " 3   ENTITYYR          29 non-null     float64 \n",
      " 4   NAME              29 non-null     object  \n",
      " 5   FIPS              29 non-null     float64 \n",
      " 6   STATEPLANE        29 non-null     object  \n",
      " 7   POP_LASTCENSUS    29 non-null     int64   \n",
      " 8   POP_CURRESTIMATE  29 non-null     int64   \n",
      " 9   GlobalID          29 non-null     object  \n",
      " 10  COLOR4            29 non-null     int64   \n",
      " 11  SHAPE             29 non-null     geometry\n",
      "dtypes: float64(3), geometry(1), int64(4), object(4)\n",
      "memory usage: 4.0+ KB\n"
     ]
    }
   ],
   "source": [
    "# .info() gives us an overview of the dataframe, including the column types\n",
    "counties_df.info()"
   ]
  },
  {
   "cell_type": "markdown",
   "id": "ec6c787a",
   "metadata": {
    "slideshow": {
     "slide_type": "slide"
    }
   },
   "source": [
    "Strings are a special case. By default, pandas uses the `object` dtype for columns that contain text. However, it could also contain multiple types."
   ]
  },
  {
   "cell_type": "code",
   "execution_count": 17,
   "id": "0f18cfb9",
   "metadata": {
    "slideshow": {
     "slide_type": "fragment"
    }
   },
   "outputs": [
    {
     "name": "stdout",
     "output_type": "stream",
     "text": [
      "<class 'pandas.core.frame.DataFrame'>\n",
      "RangeIndex: 3 entries, 0 to 2\n",
      "Data columns (total 2 columns):\n",
      " #   Column  Non-Null Count  Dtype \n",
      "---  ------  --------------  ----- \n",
      " 0   ints    3 non-null      int64 \n",
      " 1   mixed   3 non-null      object\n",
      "dtypes: int64(1), object(1)\n",
      "memory usage: 176.0+ bytes\n"
     ]
    }
   ],
   "source": [
    "mixed_df = pd.DataFrame({\n",
    "    'ints': [1, 2, 3],\n",
    "    'mixed': ['zero', 1, 2.1]\n",
    "})\n",
    "mixed_df.info()"
   ]
  },
  {
   "cell_type": "markdown",
   "id": "d1516d60",
   "metadata": {
    "slideshow": {
     "slide_type": "slide"
    }
   },
   "source": [
    "## Handling Missing Data"
   ]
  },
  {
   "cell_type": "code",
   "execution_count": 18,
   "id": "84bddd0d",
   "metadata": {
    "slideshow": {
     "slide_type": "fragment"
    }
   },
   "outputs": [
    {
     "name": "stdout",
     "output_type": "stream",
     "text": [
      "<class 'pandas.core.frame.DataFrame'>\n",
      "RangeIndex: 3 entries, 0 to 2\n",
      "Data columns (total 2 columns):\n",
      " #   Column  Non-Null Count  Dtype  \n",
      "---  ------  --------------  -----  \n",
      " 0   foo     2 non-null      float64\n",
      " 1   bar     2 non-null      object \n",
      "dtypes: float64(1), object(1)\n",
      "memory usage: 176.0+ bytes\n",
      "None\n"
     ]
    },
    {
     "data": {
      "text/html": [
       "<div>\n",
       "<style scoped>\n",
       "    .dataframe tbody tr th:only-of-type {\n",
       "        vertical-align: middle;\n",
       "    }\n",
       "\n",
       "    .dataframe tbody tr th {\n",
       "        vertical-align: top;\n",
       "    }\n",
       "\n",
       "    .dataframe thead th {\n",
       "        text-align: right;\n",
       "    }\n",
       "</style>\n",
       "<table border=\"1\" class=\"dataframe\">\n",
       "  <thead>\n",
       "    <tr style=\"text-align: right;\">\n",
       "      <th></th>\n",
       "      <th>foo</th>\n",
       "      <th>bar</th>\n",
       "    </tr>\n",
       "  </thead>\n",
       "  <tbody>\n",
       "    <tr>\n",
       "      <th>0</th>\n",
       "      <td>1.0</td>\n",
       "      <td>four</td>\n",
       "    </tr>\n",
       "    <tr>\n",
       "      <th>1</th>\n",
       "      <td>2.0</td>\n",
       "      <td>None</td>\n",
       "    </tr>\n",
       "    <tr>\n",
       "      <th>2</th>\n",
       "      <td>NaN</td>\n",
       "      <td>six</td>\n",
       "    </tr>\n",
       "  </tbody>\n",
       "</table>\n",
       "</div>"
      ],
      "text/plain": [
       "   foo   bar\n",
       "0  1.0  four\n",
       "1  2.0  None\n",
       "2  NaN   six"
      ]
     },
     "execution_count": 18,
     "metadata": {},
     "output_type": "execute_result"
    }
   ],
   "source": [
    "#: Numeric Nones convert to np.nan, strings stay as None\n",
    "none_df = pd.DataFrame({\n",
    "    'foo': [1, 2, None],\n",
    "    'bar': ['four', None, 'six']\n",
    "})\n",
    "print(none_df.info())\n",
    "none_df"
   ]
  },
  {
   "cell_type": "code",
   "execution_count": 19,
   "id": "3344bb92",
   "metadata": {
    "slideshow": {
     "slide_type": "slide"
    }
   },
   "outputs": [
    {
     "name": "stdout",
     "output_type": "stream",
     "text": [
      "<class 'pandas.core.frame.DataFrame'>\n",
      "RangeIndex: 3 entries, 0 to 2\n",
      "Data columns (total 2 columns):\n",
      " #   Column  Non-Null Count  Dtype \n",
      "---  ------  --------------  ----- \n",
      " 0   foo     2 non-null      Int64 \n",
      " 1   bar     2 non-null      string\n",
      "dtypes: Int64(1), string(1)\n",
      "memory usage: 179.0 bytes\n",
      "None\n"
     ]
    },
    {
     "data": {
      "text/html": [
       "<div>\n",
       "<style scoped>\n",
       "    .dataframe tbody tr th:only-of-type {\n",
       "        vertical-align: middle;\n",
       "    }\n",
       "\n",
       "    .dataframe tbody tr th {\n",
       "        vertical-align: top;\n",
       "    }\n",
       "\n",
       "    .dataframe thead th {\n",
       "        text-align: right;\n",
       "    }\n",
       "</style>\n",
       "<table border=\"1\" class=\"dataframe\">\n",
       "  <thead>\n",
       "    <tr style=\"text-align: right;\">\n",
       "      <th></th>\n",
       "      <th>foo</th>\n",
       "      <th>bar</th>\n",
       "    </tr>\n",
       "  </thead>\n",
       "  <tbody>\n",
       "    <tr>\n",
       "      <th>0</th>\n",
       "      <td>1</td>\n",
       "      <td>four</td>\n",
       "    </tr>\n",
       "    <tr>\n",
       "      <th>1</th>\n",
       "      <td>2</td>\n",
       "      <td>&lt;NA&gt;</td>\n",
       "    </tr>\n",
       "    <tr>\n",
       "      <th>2</th>\n",
       "      <td>&lt;NA&gt;</td>\n",
       "      <td>six</td>\n",
       "    </tr>\n",
       "  </tbody>\n",
       "</table>\n",
       "</div>"
      ],
      "text/plain": [
       "    foo   bar\n",
       "0     1  four\n",
       "1     2  <NA>\n",
       "2  <NA>   six"
      ]
     },
     "execution_count": 19,
     "metadata": {},
     "output_type": "execute_result"
    }
   ],
   "source": [
    "#: Convert to nullable types; note capitalized Int64\n",
    "converted_df = none_df.convert_dtypes()\n",
    "print(converted_df.info())\n",
    "converted_df"
   ]
  },
  {
   "cell_type": "markdown",
   "id": "3e79950e",
   "metadata": {
    "slideshow": {
     "slide_type": "slide"
    }
   },
   "source": [
    "# `df[]`: selecting columns and rows"
   ]
  },
  {
   "cell_type": "markdown",
   "id": "12613610",
   "metadata": {
    "slideshow": {
     "slide_type": "slide"
    }
   },
   "source": [
    "The `[]` operator on DataFrames is overloaded and will do different things depending on what you pass to it:\n",
    "1. **string**: returns all rows in the indicated **column** as a series\n",
    "2. **list of strings**: returns all rows the indicated **columns** as a single data frame.\n",
    "3. **python-esque slices**: select **rows** (either by label or by index)\n",
    "4. **sequence of booleans**: all *rows* whose index matches the sequence index of a true value. This is where magic happens, because we can put conditional statements as the boolean sequence. The condition is evaluated on each row in the given column, and the resulting true/false value is passed to the indexing operator `[]` to select specific rows. \n",
    "   *The length of the sequence must match the number of rows in the dataframe.*"
   ]
  },
  {
   "cell_type": "code",
   "execution_count": 20,
   "id": "d8a332f1",
   "metadata": {
    "slideshow": {
     "slide_type": "slide"
    }
   },
   "outputs": [
    {
     "data": {
      "text/plain": [
       "FIPS_STR\n",
       "49005       CACHE\n",
       "49013    DUCHESNE\n",
       "49011       DAVIS\n",
       "49027     MILLARD\n",
       "49051     WASATCH\n",
       "Name: NAME, dtype: object"
      ]
     },
     "execution_count": 20,
     "metadata": {},
     "output_type": "execute_result"
    }
   ],
   "source": [
    "#: 1: single string gives a single column as a series\n",
    "counties_df['NAME'].head()"
   ]
  },
  {
   "cell_type": "code",
   "execution_count": 21,
   "id": "3e9bd6b1",
   "metadata": {
    "slideshow": {
     "slide_type": "fragment"
    }
   },
   "outputs": [
    {
     "data": {
      "text/html": [
       "<div>\n",
       "<style scoped>\n",
       "    .dataframe tbody tr th:only-of-type {\n",
       "        vertical-align: middle;\n",
       "    }\n",
       "\n",
       "    .dataframe tbody tr th {\n",
       "        vertical-align: top;\n",
       "    }\n",
       "\n",
       "    .dataframe thead th {\n",
       "        text-align: right;\n",
       "    }\n",
       "</style>\n",
       "<table border=\"1\" class=\"dataframe\">\n",
       "  <thead>\n",
       "    <tr style=\"text-align: right;\">\n",
       "      <th></th>\n",
       "      <th>NAME</th>\n",
       "      <th>POP_LASTCENSUS</th>\n",
       "    </tr>\n",
       "    <tr>\n",
       "      <th>FIPS_STR</th>\n",
       "      <th></th>\n",
       "      <th></th>\n",
       "    </tr>\n",
       "  </thead>\n",
       "  <tbody>\n",
       "    <tr>\n",
       "      <th>49005</th>\n",
       "      <td>CACHE</td>\n",
       "      <td>133154</td>\n",
       "    </tr>\n",
       "    <tr>\n",
       "      <th>49013</th>\n",
       "      <td>DUCHESNE</td>\n",
       "      <td>19596</td>\n",
       "    </tr>\n",
       "    <tr>\n",
       "      <th>49011</th>\n",
       "      <td>DAVIS</td>\n",
       "      <td>362679</td>\n",
       "    </tr>\n",
       "    <tr>\n",
       "      <th>49027</th>\n",
       "      <td>MILLARD</td>\n",
       "      <td>12975</td>\n",
       "    </tr>\n",
       "    <tr>\n",
       "      <th>49051</th>\n",
       "      <td>WASATCH</td>\n",
       "      <td>34788</td>\n",
       "    </tr>\n",
       "  </tbody>\n",
       "</table>\n",
       "</div>"
      ],
      "text/plain": [
       "              NAME  POP_LASTCENSUS\n",
       "FIPS_STR                          \n",
       "49005        CACHE          133154\n",
       "49013     DUCHESNE           19596\n",
       "49011        DAVIS          362679\n",
       "49027      MILLARD           12975\n",
       "49051      WASATCH           34788"
      ]
     },
     "execution_count": 21,
     "metadata": {},
     "output_type": "execute_result"
    }
   ],
   "source": [
    "#: 2: list of strings returns multiple columns as a dataframe\n",
    "counties_df[['NAME', 'POP_LASTCENSUS']].head()"
   ]
  },
  {
   "cell_type": "code",
   "execution_count": 22,
   "id": "255b6bc9",
   "metadata": {
    "slideshow": {
     "slide_type": "slide"
    }
   },
   "outputs": [
    {
     "data": {
      "text/html": [
       "<div>\n",
       "<style scoped>\n",
       "    .dataframe tbody tr th:only-of-type {\n",
       "        vertical-align: middle;\n",
       "    }\n",
       "\n",
       "    .dataframe tbody tr th {\n",
       "        vertical-align: top;\n",
       "    }\n",
       "\n",
       "    .dataframe thead th {\n",
       "        text-align: right;\n",
       "    }\n",
       "</style>\n",
       "<table border=\"1\" class=\"dataframe\">\n",
       "  <thead>\n",
       "    <tr style=\"text-align: right;\">\n",
       "      <th></th>\n",
       "      <th>OBJECTID</th>\n",
       "      <th>COUNTYNBR</th>\n",
       "      <th>ENTITYNBR</th>\n",
       "      <th>ENTITYYR</th>\n",
       "      <th>NAME</th>\n",
       "      <th>FIPS</th>\n",
       "      <th>STATEPLANE</th>\n",
       "      <th>POP_LASTCENSUS</th>\n",
       "      <th>POP_CURRESTIMATE</th>\n",
       "      <th>GlobalID</th>\n",
       "      <th>COLOR4</th>\n",
       "      <th>SHAPE</th>\n",
       "    </tr>\n",
       "    <tr>\n",
       "      <th>FIPS_STR</th>\n",
       "      <th></th>\n",
       "      <th></th>\n",
       "      <th></th>\n",
       "      <th></th>\n",
       "      <th></th>\n",
       "      <th></th>\n",
       "      <th></th>\n",
       "      <th></th>\n",
       "      <th></th>\n",
       "      <th></th>\n",
       "      <th></th>\n",
       "      <th></th>\n",
       "    </tr>\n",
       "  </thead>\n",
       "  <tbody>\n",
       "    <tr>\n",
       "      <th>49027</th>\n",
       "      <td>4</td>\n",
       "      <td>14</td>\n",
       "      <td>2.010141e+09</td>\n",
       "      <td>2010.0</td>\n",
       "      <td>MILLARD</td>\n",
       "      <td>27.0</td>\n",
       "      <td>Central</td>\n",
       "      <td>12975</td>\n",
       "      <td>13330</td>\n",
       "      <td>{BC91C742-7508-4118-8469-297719E423CB}</td>\n",
       "      <td>3</td>\n",
       "      <td>{\"rings\": [[[-12494338.1205, 4801287.949100003...</td>\n",
       "    </tr>\n",
       "    <tr>\n",
       "      <th>49051</th>\n",
       "      <td>5</td>\n",
       "      <td>26</td>\n",
       "      <td>2.010261e+09</td>\n",
       "      <td>2010.0</td>\n",
       "      <td>WASATCH</td>\n",
       "      <td>51.0</td>\n",
       "      <td>Central</td>\n",
       "      <td>34788</td>\n",
       "      <td>36619</td>\n",
       "      <td>{3D0C5C1E-2650-458E-B322-2B86AA473441}</td>\n",
       "      <td>2</td>\n",
       "      <td>{\"rings\": [[[-12400515.3909, 4966751.283200003...</td>\n",
       "    </tr>\n",
       "  </tbody>\n",
       "</table>\n",
       "</div>"
      ],
      "text/plain": [
       "          OBJECTID COUNTYNBR     ENTITYNBR  ENTITYYR     NAME  FIPS  \\\n",
       "FIPS_STR                                                              \n",
       "49027            4        14  2.010141e+09    2010.0  MILLARD  27.0   \n",
       "49051            5        26  2.010261e+09    2010.0  WASATCH  51.0   \n",
       "\n",
       "         STATEPLANE  POP_LASTCENSUS  POP_CURRESTIMATE  \\\n",
       "FIPS_STR                                                \n",
       "49027       Central           12975             13330   \n",
       "49051       Central           34788             36619   \n",
       "\n",
       "                                        GlobalID  COLOR4  \\\n",
       "FIPS_STR                                                   \n",
       "49027     {BC91C742-7508-4118-8469-297719E423CB}       3   \n",
       "49051     {3D0C5C1E-2650-458E-B322-2B86AA473441}       2   \n",
       "\n",
       "                                                      SHAPE  \n",
       "FIPS_STR                                                     \n",
       "49027     {\"rings\": [[[-12494338.1205, 4801287.949100003...  \n",
       "49051     {\"rings\": [[[-12400515.3909, 4966751.283200003...  "
      ]
     },
     "execution_count": 22,
     "metadata": {},
     "output_type": "execute_result"
    }
   ],
   "source": [
    "#: 3: Slicing returns the rows, all-inclusive (as opposed to python's all-but-end behavior) ???\n",
    "counties_df[3:5]"
   ]
  },
  {
   "cell_type": "markdown",
   "id": "5238cc88",
   "metadata": {
    "slideshow": {
     "slide_type": "slide"
    }
   },
   "source": [
    "## 4: sequence of booleans"
   ]
  },
  {
   "cell_type": "code",
   "execution_count": 23,
   "id": "6aae4888",
   "metadata": {
    "slideshow": {
     "slide_type": "fragment"
    }
   },
   "outputs": [
    {
     "data": {
      "text/html": [
       "<div>\n",
       "<style scoped>\n",
       "    .dataframe tbody tr th:only-of-type {\n",
       "        vertical-align: middle;\n",
       "    }\n",
       "\n",
       "    .dataframe tbody tr th {\n",
       "        vertical-align: top;\n",
       "    }\n",
       "\n",
       "    .dataframe thead th {\n",
       "        text-align: right;\n",
       "    }\n",
       "</style>\n",
       "<table border=\"1\" class=\"dataframe\">\n",
       "  <thead>\n",
       "    <tr style=\"text-align: right;\">\n",
       "      <th></th>\n",
       "      <th>OBJECTID</th>\n",
       "      <th>COUNTYNBR</th>\n",
       "      <th>ENTITYNBR</th>\n",
       "      <th>ENTITYYR</th>\n",
       "      <th>NAME</th>\n",
       "      <th>FIPS</th>\n",
       "      <th>STATEPLANE</th>\n",
       "      <th>POP_LASTCENSUS</th>\n",
       "      <th>POP_CURRESTIMATE</th>\n",
       "      <th>GlobalID</th>\n",
       "      <th>COLOR4</th>\n",
       "      <th>SHAPE</th>\n",
       "    </tr>\n",
       "    <tr>\n",
       "      <th>FIPS_STR</th>\n",
       "      <th></th>\n",
       "      <th></th>\n",
       "      <th></th>\n",
       "      <th></th>\n",
       "      <th></th>\n",
       "      <th></th>\n",
       "      <th></th>\n",
       "      <th></th>\n",
       "      <th></th>\n",
       "      <th></th>\n",
       "      <th></th>\n",
       "      <th></th>\n",
       "    </tr>\n",
       "  </thead>\n",
       "  <tbody>\n",
       "    <tr>\n",
       "      <th>49005</th>\n",
       "      <td>1</td>\n",
       "      <td>03</td>\n",
       "      <td>2.010031e+09</td>\n",
       "      <td>2010.0</td>\n",
       "      <td>CACHE</td>\n",
       "      <td>5.0</td>\n",
       "      <td>North</td>\n",
       "      <td>133154</td>\n",
       "      <td>140173</td>\n",
       "      <td>{AD3015BE-B3C9-4316-B8DC-03AFBB56B443}</td>\n",
       "      <td>2</td>\n",
       "      <td>{\"rings\": [[[-12485167.954, 5160638.807099998]...</td>\n",
       "    </tr>\n",
       "    <tr>\n",
       "      <th>49013</th>\n",
       "      <td>2</td>\n",
       "      <td>07</td>\n",
       "      <td>2.010071e+09</td>\n",
       "      <td>2010.0</td>\n",
       "      <td>DUCHESNE</td>\n",
       "      <td>13.0</td>\n",
       "      <td>Central</td>\n",
       "      <td>19596</td>\n",
       "      <td>20161</td>\n",
       "      <td>{7F6252B7-137F-4F7E-A19A-03C702111509}</td>\n",
       "      <td>4</td>\n",
       "      <td>{\"rings\": [[[-12273167.1888, 4987644.314599998...</td>\n",
       "    </tr>\n",
       "    <tr>\n",
       "      <th>49011</th>\n",
       "      <td>3</td>\n",
       "      <td>06</td>\n",
       "      <td>2.010061e+09</td>\n",
       "      <td>2010.0</td>\n",
       "      <td>DAVIS</td>\n",
       "      <td>11.0</td>\n",
       "      <td>North</td>\n",
       "      <td>362679</td>\n",
       "      <td>369948</td>\n",
       "      <td>{214E29A1-CC25-4867-9148-2817DB623088}</td>\n",
       "      <td>3</td>\n",
       "      <td>{\"rings\": [[[-12458980.0088, 5032817.971900001...</td>\n",
       "    </tr>\n",
       "    <tr>\n",
       "      <th>49027</th>\n",
       "      <td>4</td>\n",
       "      <td>14</td>\n",
       "      <td>2.010141e+09</td>\n",
       "      <td>2010.0</td>\n",
       "      <td>MILLARD</td>\n",
       "      <td>27.0</td>\n",
       "      <td>Central</td>\n",
       "      <td>12975</td>\n",
       "      <td>13330</td>\n",
       "      <td>{BC91C742-7508-4118-8469-297719E423CB}</td>\n",
       "      <td>3</td>\n",
       "      <td>{\"rings\": [[[-12494338.1205, 4801287.949100003...</td>\n",
       "    </tr>\n",
       "    <tr>\n",
       "      <th>49051</th>\n",
       "      <td>5</td>\n",
       "      <td>26</td>\n",
       "      <td>2.010261e+09</td>\n",
       "      <td>2010.0</td>\n",
       "      <td>WASATCH</td>\n",
       "      <td>51.0</td>\n",
       "      <td>Central</td>\n",
       "      <td>34788</td>\n",
       "      <td>36619</td>\n",
       "      <td>{3D0C5C1E-2650-458E-B322-2B86AA473441}</td>\n",
       "      <td>2</td>\n",
       "      <td>{\"rings\": [[[-12400515.3909, 4966751.283200003...</td>\n",
       "    </tr>\n",
       "  </tbody>\n",
       "</table>\n",
       "</div>"
      ],
      "text/plain": [
       "          OBJECTID COUNTYNBR     ENTITYNBR  ENTITYYR      NAME  FIPS  \\\n",
       "FIPS_STR                                                               \n",
       "49005            1        03  2.010031e+09    2010.0     CACHE   5.0   \n",
       "49013            2        07  2.010071e+09    2010.0  DUCHESNE  13.0   \n",
       "49011            3        06  2.010061e+09    2010.0     DAVIS  11.0   \n",
       "49027            4        14  2.010141e+09    2010.0   MILLARD  27.0   \n",
       "49051            5        26  2.010261e+09    2010.0   WASATCH  51.0   \n",
       "\n",
       "         STATEPLANE  POP_LASTCENSUS  POP_CURRESTIMATE  \\\n",
       "FIPS_STR                                                \n",
       "49005         North          133154            140173   \n",
       "49013       Central           19596             20161   \n",
       "49011         North          362679            369948   \n",
       "49027       Central           12975             13330   \n",
       "49051       Central           34788             36619   \n",
       "\n",
       "                                        GlobalID  COLOR4  \\\n",
       "FIPS_STR                                                   \n",
       "49005     {AD3015BE-B3C9-4316-B8DC-03AFBB56B443}       2   \n",
       "49013     {7F6252B7-137F-4F7E-A19A-03C702111509}       4   \n",
       "49011     {214E29A1-CC25-4867-9148-2817DB623088}       3   \n",
       "49027     {BC91C742-7508-4118-8469-297719E423CB}       3   \n",
       "49051     {3D0C5C1E-2650-458E-B322-2B86AA473441}       2   \n",
       "\n",
       "                                                      SHAPE  \n",
       "FIPS_STR                                                     \n",
       "49005     {\"rings\": [[[-12485167.954, 5160638.807099998]...  \n",
       "49013     {\"rings\": [[[-12273167.1888, 4987644.314599998...  \n",
       "49011     {\"rings\": [[[-12458980.0088, 5032817.971900001...  \n",
       "49027     {\"rings\": [[[-12494338.1205, 4801287.949100003...  \n",
       "49051     {\"rings\": [[[-12400515.3909, 4966751.283200003...  "
      ]
     },
     "execution_count": 23,
     "metadata": {},
     "output_type": "execute_result"
    }
   ],
   "source": [
    "head_df = counties_df.head().copy()\n",
    "head_df"
   ]
  },
  {
   "cell_type": "code",
   "execution_count": 24,
   "id": "7b498377",
   "metadata": {
    "scrolled": true,
    "slideshow": {
     "slide_type": "slide"
    }
   },
   "outputs": [
    {
     "data": {
      "text/html": [
       "<div>\n",
       "<style scoped>\n",
       "    .dataframe tbody tr th:only-of-type {\n",
       "        vertical-align: middle;\n",
       "    }\n",
       "\n",
       "    .dataframe tbody tr th {\n",
       "        vertical-align: top;\n",
       "    }\n",
       "\n",
       "    .dataframe thead th {\n",
       "        text-align: right;\n",
       "    }\n",
       "</style>\n",
       "<table border=\"1\" class=\"dataframe\">\n",
       "  <thead>\n",
       "    <tr style=\"text-align: right;\">\n",
       "      <th></th>\n",
       "      <th>OBJECTID</th>\n",
       "      <th>COUNTYNBR</th>\n",
       "      <th>ENTITYNBR</th>\n",
       "      <th>ENTITYYR</th>\n",
       "      <th>NAME</th>\n",
       "      <th>FIPS</th>\n",
       "      <th>STATEPLANE</th>\n",
       "      <th>POP_LASTCENSUS</th>\n",
       "      <th>POP_CURRESTIMATE</th>\n",
       "      <th>GlobalID</th>\n",
       "      <th>COLOR4</th>\n",
       "      <th>SHAPE</th>\n",
       "    </tr>\n",
       "    <tr>\n",
       "      <th>FIPS_STR</th>\n",
       "      <th></th>\n",
       "      <th></th>\n",
       "      <th></th>\n",
       "      <th></th>\n",
       "      <th></th>\n",
       "      <th></th>\n",
       "      <th></th>\n",
       "      <th></th>\n",
       "      <th></th>\n",
       "      <th></th>\n",
       "      <th></th>\n",
       "      <th></th>\n",
       "    </tr>\n",
       "  </thead>\n",
       "  <tbody>\n",
       "    <tr>\n",
       "      <th>49005</th>\n",
       "      <td>1</td>\n",
       "      <td>03</td>\n",
       "      <td>2.010031e+09</td>\n",
       "      <td>2010.0</td>\n",
       "      <td>CACHE</td>\n",
       "      <td>5.0</td>\n",
       "      <td>North</td>\n",
       "      <td>133154</td>\n",
       "      <td>140173</td>\n",
       "      <td>{AD3015BE-B3C9-4316-B8DC-03AFBB56B443}</td>\n",
       "      <td>2</td>\n",
       "      <td>{\"rings\": [[[-12485167.954, 5160638.807099998]...</td>\n",
       "    </tr>\n",
       "    <tr>\n",
       "      <th>49011</th>\n",
       "      <td>3</td>\n",
       "      <td>06</td>\n",
       "      <td>2.010061e+09</td>\n",
       "      <td>2010.0</td>\n",
       "      <td>DAVIS</td>\n",
       "      <td>11.0</td>\n",
       "      <td>North</td>\n",
       "      <td>362679</td>\n",
       "      <td>369948</td>\n",
       "      <td>{214E29A1-CC25-4867-9148-2817DB623088}</td>\n",
       "      <td>3</td>\n",
       "      <td>{\"rings\": [[[-12458980.0088, 5032817.971900001...</td>\n",
       "    </tr>\n",
       "    <tr>\n",
       "      <th>49027</th>\n",
       "      <td>4</td>\n",
       "      <td>14</td>\n",
       "      <td>2.010141e+09</td>\n",
       "      <td>2010.0</td>\n",
       "      <td>MILLARD</td>\n",
       "      <td>27.0</td>\n",
       "      <td>Central</td>\n",
       "      <td>12975</td>\n",
       "      <td>13330</td>\n",
       "      <td>{BC91C742-7508-4118-8469-297719E423CB}</td>\n",
       "      <td>3</td>\n",
       "      <td>{\"rings\": [[[-12494338.1205, 4801287.949100003...</td>\n",
       "    </tr>\n",
       "  </tbody>\n",
       "</table>\n",
       "</div>"
      ],
      "text/plain": [
       "          OBJECTID COUNTYNBR     ENTITYNBR  ENTITYYR     NAME  FIPS  \\\n",
       "FIPS_STR                                                              \n",
       "49005            1        03  2.010031e+09    2010.0    CACHE   5.0   \n",
       "49011            3        06  2.010061e+09    2010.0    DAVIS  11.0   \n",
       "49027            4        14  2.010141e+09    2010.0  MILLARD  27.0   \n",
       "\n",
       "         STATEPLANE  POP_LASTCENSUS  POP_CURRESTIMATE  \\\n",
       "FIPS_STR                                                \n",
       "49005         North          133154            140173   \n",
       "49011         North          362679            369948   \n",
       "49027       Central           12975             13330   \n",
       "\n",
       "                                        GlobalID  COLOR4  \\\n",
       "FIPS_STR                                                   \n",
       "49005     {AD3015BE-B3C9-4316-B8DC-03AFBB56B443}       2   \n",
       "49011     {214E29A1-CC25-4867-9148-2817DB623088}       3   \n",
       "49027     {BC91C742-7508-4118-8469-297719E423CB}       3   \n",
       "\n",
       "                                                      SHAPE  \n",
       "FIPS_STR                                                     \n",
       "49005     {\"rings\": [[[-12485167.954, 5160638.807099998]...  \n",
       "49011     {\"rings\": [[[-12458980.0088, 5032817.971900001...  \n",
       "49027     {\"rings\": [[[-12494338.1205, 4801287.949100003...  "
      ]
     },
     "execution_count": 24,
     "metadata": {},
     "output_type": "execute_result"
    }
   ],
   "source": [
    "head_df[[True, False, True, True, False]]  #: Note the list is the same length as our dataframe index"
   ]
  },
  {
   "cell_type": "markdown",
   "id": "e51d42fe",
   "metadata": {
    "slideshow": {
     "slide_type": "slide"
    }
   },
   "source": [
    " Let's filter our dataframe down to counties with population greater than 100,000"
   ]
  },
  {
   "cell_type": "code",
   "execution_count": 25,
   "id": "8f156d4f",
   "metadata": {
    "slideshow": {
     "slide_type": "fragment"
    }
   },
   "outputs": [
    {
     "data": {
      "text/plain": [
       "FIPS_STR\n",
       "49005    133154\n",
       "49013     19596\n",
       "49011    362679\n",
       "49027     12975\n",
       "49051     34788\n",
       "Name: POP_LASTCENSUS, dtype: int64"
      ]
     },
     "execution_count": 25,
     "metadata": {},
     "output_type": "execute_result"
    }
   ],
   "source": [
    "pop_series = head_df['POP_LASTCENSUS'].copy()\n",
    "pop_series"
   ]
  },
  {
   "cell_type": "code",
   "execution_count": 26,
   "id": "f2e77d67",
   "metadata": {
    "slideshow": {
     "slide_type": "fragment"
    }
   },
   "outputs": [
    {
     "data": {
      "text/plain": [
       "FIPS_STR\n",
       "49005     True\n",
       "49013    False\n",
       "49011     True\n",
       "49027    False\n",
       "49051    False\n",
       "Name: POP_LASTCENSUS, dtype: bool"
      ]
     },
     "execution_count": 26,
     "metadata": {},
     "output_type": "execute_result"
    }
   ],
   "source": [
    "#: Performing a comparison on a series returns a new series with the result of each comparison\n",
    "pop_gt_100k = pop_series > 100000\n",
    "pop_gt_100k"
   ]
  },
  {
   "cell_type": "code",
   "execution_count": 27,
   "id": "69711c32",
   "metadata": {
    "slideshow": {
     "slide_type": "slide"
    }
   },
   "outputs": [
    {
     "data": {
      "text/html": [
       "<div>\n",
       "<style scoped>\n",
       "    .dataframe tbody tr th:only-of-type {\n",
       "        vertical-align: middle;\n",
       "    }\n",
       "\n",
       "    .dataframe tbody tr th {\n",
       "        vertical-align: top;\n",
       "    }\n",
       "\n",
       "    .dataframe thead th {\n",
       "        text-align: right;\n",
       "    }\n",
       "</style>\n",
       "<table border=\"1\" class=\"dataframe\">\n",
       "  <thead>\n",
       "    <tr style=\"text-align: right;\">\n",
       "      <th></th>\n",
       "      <th>OBJECTID</th>\n",
       "      <th>COUNTYNBR</th>\n",
       "      <th>ENTITYNBR</th>\n",
       "      <th>ENTITYYR</th>\n",
       "      <th>NAME</th>\n",
       "      <th>FIPS</th>\n",
       "      <th>STATEPLANE</th>\n",
       "      <th>POP_LASTCENSUS</th>\n",
       "      <th>POP_CURRESTIMATE</th>\n",
       "      <th>GlobalID</th>\n",
       "      <th>COLOR4</th>\n",
       "      <th>SHAPE</th>\n",
       "    </tr>\n",
       "    <tr>\n",
       "      <th>FIPS_STR</th>\n",
       "      <th></th>\n",
       "      <th></th>\n",
       "      <th></th>\n",
       "      <th></th>\n",
       "      <th></th>\n",
       "      <th></th>\n",
       "      <th></th>\n",
       "      <th></th>\n",
       "      <th></th>\n",
       "      <th></th>\n",
       "      <th></th>\n",
       "      <th></th>\n",
       "    </tr>\n",
       "  </thead>\n",
       "  <tbody>\n",
       "    <tr>\n",
       "      <th>49005</th>\n",
       "      <td>1</td>\n",
       "      <td>03</td>\n",
       "      <td>2.010031e+09</td>\n",
       "      <td>2010.0</td>\n",
       "      <td>CACHE</td>\n",
       "      <td>5.0</td>\n",
       "      <td>North</td>\n",
       "      <td>133154</td>\n",
       "      <td>140173</td>\n",
       "      <td>{AD3015BE-B3C9-4316-B8DC-03AFBB56B443}</td>\n",
       "      <td>2</td>\n",
       "      <td>{\"rings\": [[[-12485167.954, 5160638.807099998]...</td>\n",
       "    </tr>\n",
       "    <tr>\n",
       "      <th>49011</th>\n",
       "      <td>3</td>\n",
       "      <td>06</td>\n",
       "      <td>2.010061e+09</td>\n",
       "      <td>2010.0</td>\n",
       "      <td>DAVIS</td>\n",
       "      <td>11.0</td>\n",
       "      <td>North</td>\n",
       "      <td>362679</td>\n",
       "      <td>369948</td>\n",
       "      <td>{214E29A1-CC25-4867-9148-2817DB623088}</td>\n",
       "      <td>3</td>\n",
       "      <td>{\"rings\": [[[-12458980.0088, 5032817.971900001...</td>\n",
       "    </tr>\n",
       "  </tbody>\n",
       "</table>\n",
       "</div>"
      ],
      "text/plain": [
       "          OBJECTID COUNTYNBR     ENTITYNBR  ENTITYYR   NAME  FIPS STATEPLANE  \\\n",
       "FIPS_STR                                                                       \n",
       "49005            1        03  2.010031e+09    2010.0  CACHE   5.0      North   \n",
       "49011            3        06  2.010061e+09    2010.0  DAVIS  11.0      North   \n",
       "\n",
       "          POP_LASTCENSUS  POP_CURRESTIMATE  \\\n",
       "FIPS_STR                                     \n",
       "49005             133154            140173   \n",
       "49011             362679            369948   \n",
       "\n",
       "                                        GlobalID  COLOR4  \\\n",
       "FIPS_STR                                                   \n",
       "49005     {AD3015BE-B3C9-4316-B8DC-03AFBB56B443}       2   \n",
       "49011     {214E29A1-CC25-4867-9148-2817DB623088}       3   \n",
       "\n",
       "                                                      SHAPE  \n",
       "FIPS_STR                                                     \n",
       "49005     {\"rings\": [[[-12485167.954, 5160638.807099998]...  \n",
       "49011     {\"rings\": [[[-12458980.0088, 5032817.971900001...  "
      ]
     },
     "execution_count": 27,
     "metadata": {},
     "output_type": "execute_result"
    }
   ],
   "source": [
    "#: Pass our new boolean series as a boolean indexer\n",
    "head_df[pop_gt_100k]"
   ]
  },
  {
   "cell_type": "code",
   "execution_count": 28,
   "id": "9d787305",
   "metadata": {
    "scrolled": true,
    "slideshow": {
     "slide_type": "slide"
    }
   },
   "outputs": [
    {
     "data": {
      "text/html": [
       "<div>\n",
       "<style scoped>\n",
       "    .dataframe tbody tr th:only-of-type {\n",
       "        vertical-align: middle;\n",
       "    }\n",
       "\n",
       "    .dataframe tbody tr th {\n",
       "        vertical-align: top;\n",
       "    }\n",
       "\n",
       "    .dataframe thead th {\n",
       "        text-align: right;\n",
       "    }\n",
       "</style>\n",
       "<table border=\"1\" class=\"dataframe\">\n",
       "  <thead>\n",
       "    <tr style=\"text-align: right;\">\n",
       "      <th></th>\n",
       "      <th>OBJECTID</th>\n",
       "      <th>COUNTYNBR</th>\n",
       "      <th>ENTITYNBR</th>\n",
       "      <th>ENTITYYR</th>\n",
       "      <th>NAME</th>\n",
       "      <th>FIPS</th>\n",
       "      <th>STATEPLANE</th>\n",
       "      <th>POP_LASTCENSUS</th>\n",
       "      <th>POP_CURRESTIMATE</th>\n",
       "      <th>GlobalID</th>\n",
       "      <th>COLOR4</th>\n",
       "      <th>SHAPE</th>\n",
       "    </tr>\n",
       "    <tr>\n",
       "      <th>FIPS_STR</th>\n",
       "      <th></th>\n",
       "      <th></th>\n",
       "      <th></th>\n",
       "      <th></th>\n",
       "      <th></th>\n",
       "      <th></th>\n",
       "      <th></th>\n",
       "      <th></th>\n",
       "      <th></th>\n",
       "      <th></th>\n",
       "      <th></th>\n",
       "      <th></th>\n",
       "    </tr>\n",
       "  </thead>\n",
       "  <tbody>\n",
       "    <tr>\n",
       "      <th>49005</th>\n",
       "      <td>1</td>\n",
       "      <td>03</td>\n",
       "      <td>2.010031e+09</td>\n",
       "      <td>2010.0</td>\n",
       "      <td>CACHE</td>\n",
       "      <td>5.0</td>\n",
       "      <td>North</td>\n",
       "      <td>133154</td>\n",
       "      <td>140173</td>\n",
       "      <td>{AD3015BE-B3C9-4316-B8DC-03AFBB56B443}</td>\n",
       "      <td>2</td>\n",
       "      <td>{\"rings\": [[[-12485167.954, 5160638.807099998]...</td>\n",
       "    </tr>\n",
       "    <tr>\n",
       "      <th>49011</th>\n",
       "      <td>3</td>\n",
       "      <td>06</td>\n",
       "      <td>2.010061e+09</td>\n",
       "      <td>2010.0</td>\n",
       "      <td>DAVIS</td>\n",
       "      <td>11.0</td>\n",
       "      <td>North</td>\n",
       "      <td>362679</td>\n",
       "      <td>369948</td>\n",
       "      <td>{214E29A1-CC25-4867-9148-2817DB623088}</td>\n",
       "      <td>3</td>\n",
       "      <td>{\"rings\": [[[-12458980.0088, 5032817.971900001...</td>\n",
       "    </tr>\n",
       "  </tbody>\n",
       "</table>\n",
       "</div>"
      ],
      "text/plain": [
       "          OBJECTID COUNTYNBR     ENTITYNBR  ENTITYYR   NAME  FIPS STATEPLANE  \\\n",
       "FIPS_STR                                                                       \n",
       "49005            1        03  2.010031e+09    2010.0  CACHE   5.0      North   \n",
       "49011            3        06  2.010061e+09    2010.0  DAVIS  11.0      North   \n",
       "\n",
       "          POP_LASTCENSUS  POP_CURRESTIMATE  \\\n",
       "FIPS_STR                                     \n",
       "49005             133154            140173   \n",
       "49011             362679            369948   \n",
       "\n",
       "                                        GlobalID  COLOR4  \\\n",
       "FIPS_STR                                                   \n",
       "49005     {AD3015BE-B3C9-4316-B8DC-03AFBB56B443}       2   \n",
       "49011     {214E29A1-CC25-4867-9148-2817DB623088}       3   \n",
       "\n",
       "                                                      SHAPE  \n",
       "FIPS_STR                                                     \n",
       "49005     {\"rings\": [[[-12485167.954, 5160638.807099998]...  \n",
       "49011     {\"rings\": [[[-12458980.0088, 5032817.971900001...  "
      ]
     },
     "execution_count": 28,
     "metadata": {},
     "output_type": "execute_result"
    }
   ],
   "source": [
    "#: All the previous steps, just in one line of code\n",
    "head_df[head_df['POP_LASTCENSUS'] > 100000]"
   ]
  },
  {
   "cell_type": "code",
   "execution_count": 29,
   "id": "674870a0",
   "metadata": {
    "slideshow": {
     "slide_type": "slide"
    }
   },
   "outputs": [
    {
     "data": {
      "text/html": [
       "<div>\n",
       "<style scoped>\n",
       "    .dataframe tbody tr th:only-of-type {\n",
       "        vertical-align: middle;\n",
       "    }\n",
       "\n",
       "    .dataframe tbody tr th {\n",
       "        vertical-align: top;\n",
       "    }\n",
       "\n",
       "    .dataframe thead th {\n",
       "        text-align: right;\n",
       "    }\n",
       "</style>\n",
       "<table border=\"1\" class=\"dataframe\">\n",
       "  <thead>\n",
       "    <tr style=\"text-align: right;\">\n",
       "      <th></th>\n",
       "      <th>OBJECTID</th>\n",
       "      <th>COUNTYNBR</th>\n",
       "      <th>ENTITYNBR</th>\n",
       "      <th>ENTITYYR</th>\n",
       "      <th>NAME</th>\n",
       "      <th>FIPS</th>\n",
       "      <th>STATEPLANE</th>\n",
       "      <th>POP_LASTCENSUS</th>\n",
       "      <th>POP_CURRESTIMATE</th>\n",
       "      <th>GlobalID</th>\n",
       "      <th>COLOR4</th>\n",
       "      <th>SHAPE</th>\n",
       "    </tr>\n",
       "    <tr>\n",
       "      <th>FIPS_STR</th>\n",
       "      <th></th>\n",
       "      <th></th>\n",
       "      <th></th>\n",
       "      <th></th>\n",
       "      <th></th>\n",
       "      <th></th>\n",
       "      <th></th>\n",
       "      <th></th>\n",
       "      <th></th>\n",
       "      <th></th>\n",
       "      <th></th>\n",
       "      <th></th>\n",
       "    </tr>\n",
       "  </thead>\n",
       "  <tbody>\n",
       "    <tr>\n",
       "      <th>49005</th>\n",
       "      <td>1</td>\n",
       "      <td>03</td>\n",
       "      <td>2.010031e+09</td>\n",
       "      <td>2010.0</td>\n",
       "      <td>CACHE</td>\n",
       "      <td>5.0</td>\n",
       "      <td>North</td>\n",
       "      <td>133154</td>\n",
       "      <td>140173</td>\n",
       "      <td>{AD3015BE-B3C9-4316-B8DC-03AFBB56B443}</td>\n",
       "      <td>2</td>\n",
       "      <td>{\"rings\": [[[-12485167.954, 5160638.807099998]...</td>\n",
       "    </tr>\n",
       "    <tr>\n",
       "      <th>49011</th>\n",
       "      <td>3</td>\n",
       "      <td>06</td>\n",
       "      <td>2.010061e+09</td>\n",
       "      <td>2010.0</td>\n",
       "      <td>DAVIS</td>\n",
       "      <td>11.0</td>\n",
       "      <td>North</td>\n",
       "      <td>362679</td>\n",
       "      <td>369948</td>\n",
       "      <td>{214E29A1-CC25-4867-9148-2817DB623088}</td>\n",
       "      <td>3</td>\n",
       "      <td>{\"rings\": [[[-12458980.0088, 5032817.971900001...</td>\n",
       "    </tr>\n",
       "    <tr>\n",
       "      <th>49027</th>\n",
       "      <td>4</td>\n",
       "      <td>14</td>\n",
       "      <td>2.010141e+09</td>\n",
       "      <td>2010.0</td>\n",
       "      <td>MILLARD</td>\n",
       "      <td>27.0</td>\n",
       "      <td>Central</td>\n",
       "      <td>12975</td>\n",
       "      <td>13330</td>\n",
       "      <td>{BC91C742-7508-4118-8469-297719E423CB}</td>\n",
       "      <td>3</td>\n",
       "      <td>{\"rings\": [[[-12494338.1205, 4801287.949100003...</td>\n",
       "    </tr>\n",
       "    <tr>\n",
       "      <th>49051</th>\n",
       "      <td>5</td>\n",
       "      <td>26</td>\n",
       "      <td>2.010261e+09</td>\n",
       "      <td>2010.0</td>\n",
       "      <td>WASATCH</td>\n",
       "      <td>51.0</td>\n",
       "      <td>Central</td>\n",
       "      <td>34788</td>\n",
       "      <td>36619</td>\n",
       "      <td>{3D0C5C1E-2650-458E-B322-2B86AA473441}</td>\n",
       "      <td>2</td>\n",
       "      <td>{\"rings\": [[[-12400515.3909, 4966751.283200003...</td>\n",
       "    </tr>\n",
       "  </tbody>\n",
       "</table>\n",
       "</div>"
      ],
      "text/plain": [
       "          OBJECTID COUNTYNBR     ENTITYNBR  ENTITYYR     NAME  FIPS  \\\n",
       "FIPS_STR                                                              \n",
       "49005            1        03  2.010031e+09    2010.0    CACHE   5.0   \n",
       "49011            3        06  2.010061e+09    2010.0    DAVIS  11.0   \n",
       "49027            4        14  2.010141e+09    2010.0  MILLARD  27.0   \n",
       "49051            5        26  2.010261e+09    2010.0  WASATCH  51.0   \n",
       "\n",
       "         STATEPLANE  POP_LASTCENSUS  POP_CURRESTIMATE  \\\n",
       "FIPS_STR                                                \n",
       "49005         North          133154            140173   \n",
       "49011         North          362679            369948   \n",
       "49027       Central           12975             13330   \n",
       "49051       Central           34788             36619   \n",
       "\n",
       "                                        GlobalID  COLOR4  \\\n",
       "FIPS_STR                                                   \n",
       "49005     {AD3015BE-B3C9-4316-B8DC-03AFBB56B443}       2   \n",
       "49011     {214E29A1-CC25-4867-9148-2817DB623088}       3   \n",
       "49027     {BC91C742-7508-4118-8469-297719E423CB}       3   \n",
       "49051     {3D0C5C1E-2650-458E-B322-2B86AA473441}       2   \n",
       "\n",
       "                                                      SHAPE  \n",
       "FIPS_STR                                                     \n",
       "49005     {\"rings\": [[[-12485167.954, 5160638.807099998]...  \n",
       "49011     {\"rings\": [[[-12458980.0088, 5032817.971900001...  \n",
       "49027     {\"rings\": [[[-12494338.1205, 4801287.949100003...  \n",
       "49051     {\"rings\": [[[-12400515.3909, 4966751.283200003...  "
      ]
     },
     "execution_count": 29,
     "metadata": {},
     "output_type": "execute_result"
    }
   ],
   "source": [
    "#: Use .isin() to filter based on membership in a sequence\n",
    "head_df[head_df['COLOR4'].isin([2, 3])]"
   ]
  },
  {
   "cell_type": "code",
   "execution_count": 30,
   "id": "fb8bdcfa",
   "metadata": {
    "slideshow": {
     "slide_type": "fragment"
    }
   },
   "outputs": [
    {
     "data": {
      "text/plain": [
       "FIPS_STR\n",
       "49005     True\n",
       "49013    False\n",
       "49011     True\n",
       "49027     True\n",
       "49051     True\n",
       "Name: COLOR4, dtype: bool"
      ]
     },
     "execution_count": 30,
     "metadata": {},
     "output_type": "execute_result"
    }
   ],
   "source": [
    "head_df['COLOR4'].isin([2, 3])"
   ]
  },
  {
   "cell_type": "markdown",
   "id": "649b9b3c",
   "metadata": {
    "slideshow": {
     "slide_type": "slide"
    }
   },
   "source": [
    "# `.loc` and `.iloc`: Selecting by Label/Index"
   ]
  },
  {
   "cell_type": "markdown",
   "id": "5f2934a3",
   "metadata": {
    "slideshow": {
     "slide_type": "slide"
    }
   },
   "source": [
    " ## `.loc`: Label-based"
   ]
  },
  {
   "cell_type": "code",
   "execution_count": 31,
   "id": "a98fd1bf",
   "metadata": {
    "slideshow": {
     "slide_type": "fragment"
    }
   },
   "outputs": [
    {
     "data": {
      "text/plain": [
       "OBJECTID                                                            5\n",
       "COUNTYNBR                                                          26\n",
       "ENTITYNBR                                                2010261010.0\n",
       "ENTITYYR                                                       2010.0\n",
       "NAME                                                          WASATCH\n",
       "FIPS                                                             51.0\n",
       "STATEPLANE                                                    Central\n",
       "POP_LASTCENSUS                                                  34788\n",
       "POP_CURRESTIMATE                                                36619\n",
       "GlobalID                       {3D0C5C1E-2650-458E-B322-2B86AA473441}\n",
       "COLOR4                                                              2\n",
       "SHAPE               {'rings': [[[-12400515.3909, 4966751.283200003...\n",
       "Name: 49051, dtype: object"
      ]
     },
     "execution_count": 31,
     "metadata": {},
     "output_type": "execute_result"
    }
   ],
   "source": [
    "#: Single value: index label\n",
    "counties_df.loc['49051']"
   ]
  },
  {
   "cell_type": "code",
   "execution_count": 32,
   "id": "5428d593",
   "metadata": {
    "slideshow": {
     "slide_type": "slide"
    }
   },
   "outputs": [
    {
     "data": {
      "text/plain": [
       "'WASATCH'"
      ]
     },
     "execution_count": 32,
     "metadata": {},
     "output_type": "execute_result"
    }
   ],
   "source": [
    "#: Two values: index label, column label\n",
    "counties_df.loc['49051', 'NAME']"
   ]
  },
  {
   "cell_type": "code",
   "execution_count": 33,
   "id": "c692070b",
   "metadata": {
    "slideshow": {
     "slide_type": "fragment"
    }
   },
   "outputs": [
    {
     "data": {
      "text/plain": [
       "FIPS_STR\n",
       "49005       CACHE\n",
       "49013    DUCHESNE\n",
       "49011       DAVIS\n",
       "49027     MILLARD\n",
       "49051     WASATCH\n",
       "Name: NAME, dtype: object"
      ]
     },
     "execution_count": 33,
     "metadata": {},
     "output_type": "execute_result"
    }
   ],
   "source": [
    "#: Two values with everything slice: column as series\n",
    "counties_df.loc[:, 'NAME'].head()"
   ]
  },
  {
   "cell_type": "code",
   "execution_count": 34,
   "id": "95025d3b",
   "metadata": {
    "slideshow": {
     "slide_type": "slide"
    }
   },
   "outputs": [
    {
     "data": {
      "text/html": [
       "<div>\n",
       "<style scoped>\n",
       "    .dataframe tbody tr th:only-of-type {\n",
       "        vertical-align: middle;\n",
       "    }\n",
       "\n",
       "    .dataframe tbody tr th {\n",
       "        vertical-align: top;\n",
       "    }\n",
       "\n",
       "    .dataframe thead th {\n",
       "        text-align: right;\n",
       "    }\n",
       "</style>\n",
       "<table border=\"1\" class=\"dataframe\">\n",
       "  <thead>\n",
       "    <tr style=\"text-align: right;\">\n",
       "      <th></th>\n",
       "      <th>NAME</th>\n",
       "      <th>POP_LASTCENSUS</th>\n",
       "    </tr>\n",
       "    <tr>\n",
       "      <th>FIPS_STR</th>\n",
       "      <th></th>\n",
       "      <th></th>\n",
       "    </tr>\n",
       "  </thead>\n",
       "  <tbody>\n",
       "    <tr>\n",
       "      <th>49005</th>\n",
       "      <td>CACHE</td>\n",
       "      <td>133154</td>\n",
       "    </tr>\n",
       "    <tr>\n",
       "      <th>49013</th>\n",
       "      <td>DUCHESNE</td>\n",
       "      <td>19596</td>\n",
       "    </tr>\n",
       "    <tr>\n",
       "      <th>49011</th>\n",
       "      <td>DAVIS</td>\n",
       "      <td>362679</td>\n",
       "    </tr>\n",
       "    <tr>\n",
       "      <th>49027</th>\n",
       "      <td>MILLARD</td>\n",
       "      <td>12975</td>\n",
       "    </tr>\n",
       "    <tr>\n",
       "      <th>49051</th>\n",
       "      <td>WASATCH</td>\n",
       "      <td>34788</td>\n",
       "    </tr>\n",
       "  </tbody>\n",
       "</table>\n",
       "</div>"
      ],
      "text/plain": [
       "              NAME  POP_LASTCENSUS\n",
       "FIPS_STR                          \n",
       "49005        CACHE          133154\n",
       "49013     DUCHESNE           19596\n",
       "49011        DAVIS          362679\n",
       "49027      MILLARD           12975\n",
       "49051      WASATCH           34788"
      ]
     },
     "execution_count": 34,
     "metadata": {},
     "output_type": "execute_result"
    }
   ],
   "source": [
    "#: everything slice and list of labels: columns as DataFrame\n",
    "counties_df.loc[:, ['NAME', 'POP_LASTCENSUS']].head()"
   ]
  },
  {
   "cell_type": "code",
   "execution_count": 35,
   "id": "3092e99a",
   "metadata": {
    "slideshow": {
     "slide_type": "fragment"
    }
   },
   "outputs": [
    {
     "data": {
      "text/html": [
       "<div>\n",
       "<style scoped>\n",
       "    .dataframe tbody tr th:only-of-type {\n",
       "        vertical-align: middle;\n",
       "    }\n",
       "\n",
       "    .dataframe tbody tr th {\n",
       "        vertical-align: top;\n",
       "    }\n",
       "\n",
       "    .dataframe thead th {\n",
       "        text-align: right;\n",
       "    }\n",
       "</style>\n",
       "<table border=\"1\" class=\"dataframe\">\n",
       "  <thead>\n",
       "    <tr style=\"text-align: right;\">\n",
       "      <th></th>\n",
       "      <th>OBJECTID</th>\n",
       "      <th>COUNTYNBR</th>\n",
       "      <th>ENTITYNBR</th>\n",
       "      <th>ENTITYYR</th>\n",
       "      <th>NAME</th>\n",
       "      <th>FIPS</th>\n",
       "      <th>STATEPLANE</th>\n",
       "      <th>POP_LASTCENSUS</th>\n",
       "      <th>POP_CURRESTIMATE</th>\n",
       "      <th>GlobalID</th>\n",
       "      <th>COLOR4</th>\n",
       "      <th>SHAPE</th>\n",
       "    </tr>\n",
       "    <tr>\n",
       "      <th>FIPS_STR</th>\n",
       "      <th></th>\n",
       "      <th></th>\n",
       "      <th></th>\n",
       "      <th></th>\n",
       "      <th></th>\n",
       "      <th></th>\n",
       "      <th></th>\n",
       "      <th></th>\n",
       "      <th></th>\n",
       "      <th></th>\n",
       "      <th></th>\n",
       "      <th></th>\n",
       "    </tr>\n",
       "  </thead>\n",
       "  <tbody>\n",
       "    <tr>\n",
       "      <th>49001</th>\n",
       "      <td>15</td>\n",
       "      <td>01</td>\n",
       "      <td>2.010011e+09</td>\n",
       "      <td>2010.0</td>\n",
       "      <td>BEAVER</td>\n",
       "      <td>1.0</td>\n",
       "      <td>South</td>\n",
       "      <td>7072</td>\n",
       "      <td>7327</td>\n",
       "      <td>{04ADA80E-57CF-40BB-8C5C-6FDED3D82E74}</td>\n",
       "      <td>4</td>\n",
       "      <td>{\"rings\": [[[-12525157.6426, 4660669.5066], [-...</td>\n",
       "    </tr>\n",
       "    <tr>\n",
       "      <th>49003</th>\n",
       "      <td>6</td>\n",
       "      <td>02</td>\n",
       "      <td>2.010021e+09</td>\n",
       "      <td>2010.0</td>\n",
       "      <td>BOX ELDER</td>\n",
       "      <td>3.0</td>\n",
       "      <td>North</td>\n",
       "      <td>57666</td>\n",
       "      <td>61498</td>\n",
       "      <td>{82F842F7-FCE7-402B-9144-34F50FCCA4E5}</td>\n",
       "      <td>4</td>\n",
       "      <td>{\"rings\": [[[-12631966.5192, 5159977.284500003...</td>\n",
       "    </tr>\n",
       "  </tbody>\n",
       "</table>\n",
       "</div>"
      ],
      "text/plain": [
       "          OBJECTID COUNTYNBR     ENTITYNBR  ENTITYYR       NAME  FIPS  \\\n",
       "FIPS_STR                                                                \n",
       "49001           15        01  2.010011e+09    2010.0     BEAVER   1.0   \n",
       "49003            6        02  2.010021e+09    2010.0  BOX ELDER   3.0   \n",
       "\n",
       "         STATEPLANE  POP_LASTCENSUS  POP_CURRESTIMATE  \\\n",
       "FIPS_STR                                                \n",
       "49001         South            7072              7327   \n",
       "49003         North           57666             61498   \n",
       "\n",
       "                                        GlobalID  COLOR4  \\\n",
       "FIPS_STR                                                   \n",
       "49001     {04ADA80E-57CF-40BB-8C5C-6FDED3D82E74}       4   \n",
       "49003     {82F842F7-FCE7-402B-9144-34F50FCCA4E5}       4   \n",
       "\n",
       "                                                      SHAPE  \n",
       "FIPS_STR                                                     \n",
       "49001     {\"rings\": [[[-12525157.6426, 4660669.5066], [-...  \n",
       "49003     {\"rings\": [[[-12631966.5192, 5159977.284500003...  "
      ]
     },
     "execution_count": 35,
     "metadata": {},
     "output_type": "execute_result"
    }
   ],
   "source": [
    "#: everything slice and list of labels reversed: rows as DataFrame\n",
    "counties_df.loc[['49001', '49003'], :]"
   ]
  },
  {
   "cell_type": "markdown",
   "id": "037747db",
   "metadata": {
    "slideshow": {
     "slide_type": "slide"
    }
   },
   "source": [
    "## `.iloc`: Position-based"
   ]
  },
  {
   "cell_type": "code",
   "execution_count": 36,
   "id": "5ba18013",
   "metadata": {
    "slideshow": {
     "slide_type": "fragment"
    }
   },
   "outputs": [
    {
     "data": {
      "text/plain": [
       "OBJECTID                                                            1\n",
       "COUNTYNBR                                                          03\n",
       "ENTITYNBR                                                2010031010.0\n",
       "ENTITYYR                                                       2010.0\n",
       "NAME                                                            CACHE\n",
       "FIPS                                                              5.0\n",
       "STATEPLANE                                                      North\n",
       "POP_LASTCENSUS                                                 133154\n",
       "POP_CURRESTIMATE                                               140173\n",
       "GlobalID                       {AD3015BE-B3C9-4316-B8DC-03AFBB56B443}\n",
       "COLOR4                                                              2\n",
       "SHAPE               {'rings': [[[-12485167.954, 5160638.807099998]...\n",
       "Name: 49005, dtype: object"
      ]
     },
     "execution_count": 36,
     "metadata": {},
     "output_type": "execute_result"
    }
   ],
   "source": [
    "#: Get the first row:\n",
    "counties_df.iloc[0]"
   ]
  },
  {
   "cell_type": "code",
   "execution_count": 37,
   "id": "0d061a77",
   "metadata": {
    "slideshow": {
     "slide_type": "slide"
    }
   },
   "outputs": [
    {
     "data": {
      "text/plain": [
       "FIPS_STR\n",
       "49005    1\n",
       "49013    2\n",
       "49011    3\n",
       "49027    4\n",
       "49051    5\n",
       "Name: OBJECTID, dtype: int64"
      ]
     },
     "execution_count": 37,
     "metadata": {},
     "output_type": "execute_result"
    }
   ],
   "source": [
    "#: Use slicing to get the first column for the first five rows:\n",
    "counties_df.iloc[:5, 0]"
   ]
  },
  {
   "cell_type": "code",
   "execution_count": 38,
   "id": "43b546c7",
   "metadata": {
    "scrolled": true,
    "slideshow": {
     "slide_type": "fragment"
    }
   },
   "outputs": [
    {
     "data": {
      "text/plain": [
       "OBJECTID                                                           29\n",
       "COUNTYNBR                                                          25\n",
       "ENTITYNBR                                                2010251010.0\n",
       "ENTITYYR                                                       2010.0\n",
       "NAME                                                             UTAH\n",
       "FIPS                                                             49.0\n",
       "STATEPLANE                                                    Central\n",
       "POP_LASTCENSUS                                                 659399\n",
       "POP_CURRESTIMATE                                               702434\n",
       "GlobalID                       {8DF99710-DCB1-4C52-8EAD-E9555C83618F}\n",
       "COLOR4                                                              3\n",
       "SHAPE               {'rings': [[[-12422592.7433, 4950159.090400003...\n",
       "Name: 49049, dtype: object"
      ]
     },
     "execution_count": 38,
     "metadata": {},
     "output_type": "execute_result"
    }
   ],
   "source": [
    "#: investigate the last row\n",
    "counties_df.iloc[-1]"
   ]
  },
  {
   "cell_type": "markdown",
   "id": "fb0acb48",
   "metadata": {
    "slideshow": {
     "slide_type": "slide"
    }
   },
   "source": [
    "## Common Problem: Chained Indexing and `SettingWithCopyWarning`"
   ]
  },
  {
   "cell_type": "code",
   "execution_count": 143,
   "id": "3ee110e7",
   "metadata": {
    "slideshow": {
     "slide_type": "slide"
    }
   },
   "outputs": [
    {
     "name": "stderr",
     "output_type": "stream",
     "text": [
      "<ipython-input-143-e4d3b8d8f772>:2: SettingWithCopyWarning: \n",
      "A value is trying to be set on a copy of a slice from a DataFrame.\n",
      "Try using .loc[row_indexer,col_indexer] = value instead\n",
      "\n",
      "See the caveats in the documentation: https://pandas.pydata.org/pandas-docs/stable/user_guide/indexing.html#returning-a-view-versus-a-copy\n",
      "  test_df[test_df['STATEPLANE'] == 'Central']['foo'] = 3\n"
     ]
    },
    {
     "data": {
      "text/html": [
       "<div>\n",
       "<style scoped>\n",
       "    .dataframe tbody tr th:only-of-type {\n",
       "        vertical-align: middle;\n",
       "    }\n",
       "\n",
       "    .dataframe tbody tr th {\n",
       "        vertical-align: top;\n",
       "    }\n",
       "\n",
       "    .dataframe thead th {\n",
       "        text-align: right;\n",
       "    }\n",
       "</style>\n",
       "<table border=\"1\" class=\"dataframe\">\n",
       "  <thead>\n",
       "    <tr style=\"text-align: right;\">\n",
       "      <th></th>\n",
       "      <th>OBJECTID</th>\n",
       "      <th>COUNTYNBR</th>\n",
       "      <th>ENTITYNBR</th>\n",
       "      <th>ENTITYYR</th>\n",
       "      <th>NAME</th>\n",
       "      <th>FIPS</th>\n",
       "      <th>STATEPLANE</th>\n",
       "      <th>POP_LASTCENSUS</th>\n",
       "      <th>POP_CURRESTIMATE</th>\n",
       "      <th>GlobalID</th>\n",
       "      <th>COLOR4</th>\n",
       "      <th>SHAPE</th>\n",
       "    </tr>\n",
       "    <tr>\n",
       "      <th>FIPS_STR</th>\n",
       "      <th></th>\n",
       "      <th></th>\n",
       "      <th></th>\n",
       "      <th></th>\n",
       "      <th></th>\n",
       "      <th></th>\n",
       "      <th></th>\n",
       "      <th></th>\n",
       "      <th></th>\n",
       "      <th></th>\n",
       "      <th></th>\n",
       "      <th></th>\n",
       "    </tr>\n",
       "  </thead>\n",
       "  <tbody>\n",
       "    <tr>\n",
       "      <th>49005</th>\n",
       "      <td>1</td>\n",
       "      <td>03</td>\n",
       "      <td>2.010031e+09</td>\n",
       "      <td>2010.0</td>\n",
       "      <td>CACHE</td>\n",
       "      <td>5.0</td>\n",
       "      <td>North</td>\n",
       "      <td>133154</td>\n",
       "      <td>140173</td>\n",
       "      <td>{AD3015BE-B3C9-4316-B8DC-03AFBB56B443}</td>\n",
       "      <td>2</td>\n",
       "      <td>{\"rings\": [[[-12485167.954, 5160638.807099998]...</td>\n",
       "    </tr>\n",
       "    <tr>\n",
       "      <th>49013</th>\n",
       "      <td>2</td>\n",
       "      <td>07</td>\n",
       "      <td>2.010071e+09</td>\n",
       "      <td>2010.0</td>\n",
       "      <td>DUCHESNE</td>\n",
       "      <td>13.0</td>\n",
       "      <td>Central</td>\n",
       "      <td>19596</td>\n",
       "      <td>20161</td>\n",
       "      <td>{7F6252B7-137F-4F7E-A19A-03C702111509}</td>\n",
       "      <td>4</td>\n",
       "      <td>{\"rings\": [[[-12273167.1888, 4987644.314599998...</td>\n",
       "    </tr>\n",
       "    <tr>\n",
       "      <th>49011</th>\n",
       "      <td>3</td>\n",
       "      <td>06</td>\n",
       "      <td>2.010061e+09</td>\n",
       "      <td>2010.0</td>\n",
       "      <td>DAVIS</td>\n",
       "      <td>11.0</td>\n",
       "      <td>North</td>\n",
       "      <td>362679</td>\n",
       "      <td>369948</td>\n",
       "      <td>{214E29A1-CC25-4867-9148-2817DB623088}</td>\n",
       "      <td>3</td>\n",
       "      <td>{\"rings\": [[[-12458980.0088, 5032817.971900001...</td>\n",
       "    </tr>\n",
       "    <tr>\n",
       "      <th>49027</th>\n",
       "      <td>4</td>\n",
       "      <td>14</td>\n",
       "      <td>2.010141e+09</td>\n",
       "      <td>2010.0</td>\n",
       "      <td>MILLARD</td>\n",
       "      <td>27.0</td>\n",
       "      <td>Central</td>\n",
       "      <td>12975</td>\n",
       "      <td>13330</td>\n",
       "      <td>{BC91C742-7508-4118-8469-297719E423CB}</td>\n",
       "      <td>3</td>\n",
       "      <td>{\"rings\": [[[-12494338.1205, 4801287.949100003...</td>\n",
       "    </tr>\n",
       "    <tr>\n",
       "      <th>49051</th>\n",
       "      <td>5</td>\n",
       "      <td>26</td>\n",
       "      <td>2.010261e+09</td>\n",
       "      <td>2010.0</td>\n",
       "      <td>WASATCH</td>\n",
       "      <td>51.0</td>\n",
       "      <td>Central</td>\n",
       "      <td>34788</td>\n",
       "      <td>36619</td>\n",
       "      <td>{3D0C5C1E-2650-458E-B322-2B86AA473441}</td>\n",
       "      <td>2</td>\n",
       "      <td>{\"rings\": [[[-12400515.3909, 4966751.283200003...</td>\n",
       "    </tr>\n",
       "  </tbody>\n",
       "</table>\n",
       "</div>"
      ],
      "text/plain": [
       "          OBJECTID COUNTYNBR     ENTITYNBR  ENTITYYR      NAME  FIPS  \\\n",
       "FIPS_STR                                                               \n",
       "49005            1        03  2.010031e+09    2010.0     CACHE   5.0   \n",
       "49013            2        07  2.010071e+09    2010.0  DUCHESNE  13.0   \n",
       "49011            3        06  2.010061e+09    2010.0     DAVIS  11.0   \n",
       "49027            4        14  2.010141e+09    2010.0   MILLARD  27.0   \n",
       "49051            5        26  2.010261e+09    2010.0   WASATCH  51.0   \n",
       "\n",
       "         STATEPLANE  POP_LASTCENSUS  POP_CURRESTIMATE  \\\n",
       "FIPS_STR                                                \n",
       "49005         North          133154            140173   \n",
       "49013       Central           19596             20161   \n",
       "49011         North          362679            369948   \n",
       "49027       Central           12975             13330   \n",
       "49051       Central           34788             36619   \n",
       "\n",
       "                                        GlobalID  COLOR4  \\\n",
       "FIPS_STR                                                   \n",
       "49005     {AD3015BE-B3C9-4316-B8DC-03AFBB56B443}       2   \n",
       "49013     {7F6252B7-137F-4F7E-A19A-03C702111509}       4   \n",
       "49011     {214E29A1-CC25-4867-9148-2817DB623088}       3   \n",
       "49027     {BC91C742-7508-4118-8469-297719E423CB}       3   \n",
       "49051     {3D0C5C1E-2650-458E-B322-2B86AA473441}       2   \n",
       "\n",
       "                                                      SHAPE  \n",
       "FIPS_STR                                                     \n",
       "49005     {\"rings\": [[[-12485167.954, 5160638.807099998]...  \n",
       "49013     {\"rings\": [[[-12273167.1888, 4987644.314599998...  \n",
       "49011     {\"rings\": [[[-12458980.0088, 5032817.971900001...  \n",
       "49027     {\"rings\": [[[-12494338.1205, 4801287.949100003...  \n",
       "49051     {\"rings\": [[[-12400515.3909, 4966751.283200003...  "
      ]
     },
     "execution_count": 143,
     "metadata": {},
     "output_type": "execute_result"
    }
   ],
   "source": [
    "#: Create a copy so we don't mess with our original\n",
    "test_df = counties_df.copy()  \n",
    "\n",
    "#: \"get the rows that have a Central state plane and set the foo column to 3\"\n",
    "test_df[test_df['STATEPLANE'] == 'Central']['foo'] = 3  #: The [] calls are chained- do the first, then do the second\n",
    "test_df.head()"
   ]
  },
  {
   "cell_type": "code",
   "execution_count": 139,
   "id": "79215634",
   "metadata": {
    "slideshow": {
     "slide_type": "slide"
    }
   },
   "outputs": [
    {
     "data": {
      "text/html": [
       "<div>\n",
       "<style scoped>\n",
       "    .dataframe tbody tr th:only-of-type {\n",
       "        vertical-align: middle;\n",
       "    }\n",
       "\n",
       "    .dataframe tbody tr th {\n",
       "        vertical-align: top;\n",
       "    }\n",
       "\n",
       "    .dataframe thead th {\n",
       "        text-align: right;\n",
       "    }\n",
       "</style>\n",
       "<table border=\"1\" class=\"dataframe\">\n",
       "  <thead>\n",
       "    <tr style=\"text-align: right;\">\n",
       "      <th></th>\n",
       "      <th>OBJECTID</th>\n",
       "      <th>COUNTYNBR</th>\n",
       "      <th>ENTITYNBR</th>\n",
       "      <th>ENTITYYR</th>\n",
       "      <th>NAME</th>\n",
       "      <th>FIPS</th>\n",
       "      <th>STATEPLANE</th>\n",
       "      <th>POP_LASTCENSUS</th>\n",
       "      <th>POP_CURRESTIMATE</th>\n",
       "      <th>GlobalID</th>\n",
       "      <th>COLOR4</th>\n",
       "      <th>SHAPE</th>\n",
       "      <th>foo</th>\n",
       "    </tr>\n",
       "    <tr>\n",
       "      <th>FIPS_STR</th>\n",
       "      <th></th>\n",
       "      <th></th>\n",
       "      <th></th>\n",
       "      <th></th>\n",
       "      <th></th>\n",
       "      <th></th>\n",
       "      <th></th>\n",
       "      <th></th>\n",
       "      <th></th>\n",
       "      <th></th>\n",
       "      <th></th>\n",
       "      <th></th>\n",
       "      <th></th>\n",
       "    </tr>\n",
       "  </thead>\n",
       "  <tbody>\n",
       "    <tr>\n",
       "      <th>49005</th>\n",
       "      <td>1</td>\n",
       "      <td>03</td>\n",
       "      <td>2.010031e+09</td>\n",
       "      <td>2010.0</td>\n",
       "      <td>CACHE</td>\n",
       "      <td>5.0</td>\n",
       "      <td>North</td>\n",
       "      <td>133154</td>\n",
       "      <td>140173</td>\n",
       "      <td>{AD3015BE-B3C9-4316-B8DC-03AFBB56B443}</td>\n",
       "      <td>2</td>\n",
       "      <td>{\"rings\": [[[-12485167.954, 5160638.807099998]...</td>\n",
       "      <td>NaN</td>\n",
       "    </tr>\n",
       "    <tr>\n",
       "      <th>49013</th>\n",
       "      <td>2</td>\n",
       "      <td>07</td>\n",
       "      <td>2.010071e+09</td>\n",
       "      <td>2010.0</td>\n",
       "      <td>DUCHESNE</td>\n",
       "      <td>13.0</td>\n",
       "      <td>Central</td>\n",
       "      <td>19596</td>\n",
       "      <td>20161</td>\n",
       "      <td>{7F6252B7-137F-4F7E-A19A-03C702111509}</td>\n",
       "      <td>4</td>\n",
       "      <td>{\"rings\": [[[-12273167.1888, 4987644.314599998...</td>\n",
       "      <td>3.0</td>\n",
       "    </tr>\n",
       "    <tr>\n",
       "      <th>49011</th>\n",
       "      <td>3</td>\n",
       "      <td>06</td>\n",
       "      <td>2.010061e+09</td>\n",
       "      <td>2010.0</td>\n",
       "      <td>DAVIS</td>\n",
       "      <td>11.0</td>\n",
       "      <td>North</td>\n",
       "      <td>362679</td>\n",
       "      <td>369948</td>\n",
       "      <td>{214E29A1-CC25-4867-9148-2817DB623088}</td>\n",
       "      <td>3</td>\n",
       "      <td>{\"rings\": [[[-12458980.0088, 5032817.971900001...</td>\n",
       "      <td>NaN</td>\n",
       "    </tr>\n",
       "    <tr>\n",
       "      <th>49027</th>\n",
       "      <td>4</td>\n",
       "      <td>14</td>\n",
       "      <td>2.010141e+09</td>\n",
       "      <td>2010.0</td>\n",
       "      <td>MILLARD</td>\n",
       "      <td>27.0</td>\n",
       "      <td>Central</td>\n",
       "      <td>12975</td>\n",
       "      <td>13330</td>\n",
       "      <td>{BC91C742-7508-4118-8469-297719E423CB}</td>\n",
       "      <td>3</td>\n",
       "      <td>{\"rings\": [[[-12494338.1205, 4801287.949100003...</td>\n",
       "      <td>3.0</td>\n",
       "    </tr>\n",
       "    <tr>\n",
       "      <th>49051</th>\n",
       "      <td>5</td>\n",
       "      <td>26</td>\n",
       "      <td>2.010261e+09</td>\n",
       "      <td>2010.0</td>\n",
       "      <td>WASATCH</td>\n",
       "      <td>51.0</td>\n",
       "      <td>Central</td>\n",
       "      <td>34788</td>\n",
       "      <td>36619</td>\n",
       "      <td>{3D0C5C1E-2650-458E-B322-2B86AA473441}</td>\n",
       "      <td>2</td>\n",
       "      <td>{\"rings\": [[[-12400515.3909, 4966751.283200003...</td>\n",
       "      <td>3.0</td>\n",
       "    </tr>\n",
       "  </tbody>\n",
       "</table>\n",
       "</div>"
      ],
      "text/plain": [
       "          OBJECTID COUNTYNBR     ENTITYNBR  ENTITYYR      NAME  FIPS  \\\n",
       "FIPS_STR                                                               \n",
       "49005            1        03  2.010031e+09    2010.0     CACHE   5.0   \n",
       "49013            2        07  2.010071e+09    2010.0  DUCHESNE  13.0   \n",
       "49011            3        06  2.010061e+09    2010.0     DAVIS  11.0   \n",
       "49027            4        14  2.010141e+09    2010.0   MILLARD  27.0   \n",
       "49051            5        26  2.010261e+09    2010.0   WASATCH  51.0   \n",
       "\n",
       "         STATEPLANE  POP_LASTCENSUS  POP_CURRESTIMATE  \\\n",
       "FIPS_STR                                                \n",
       "49005         North          133154            140173   \n",
       "49013       Central           19596             20161   \n",
       "49011         North          362679            369948   \n",
       "49027       Central           12975             13330   \n",
       "49051       Central           34788             36619   \n",
       "\n",
       "                                        GlobalID  COLOR4  \\\n",
       "FIPS_STR                                                   \n",
       "49005     {AD3015BE-B3C9-4316-B8DC-03AFBB56B443}       2   \n",
       "49013     {7F6252B7-137F-4F7E-A19A-03C702111509}       4   \n",
       "49011     {214E29A1-CC25-4867-9148-2817DB623088}       3   \n",
       "49027     {BC91C742-7508-4118-8469-297719E423CB}       3   \n",
       "49051     {3D0C5C1E-2650-458E-B322-2B86AA473441}       2   \n",
       "\n",
       "                                                      SHAPE  foo  \n",
       "FIPS_STR                                                          \n",
       "49005     {\"rings\": [[[-12485167.954, 5160638.807099998]...  NaN  \n",
       "49013     {\"rings\": [[[-12273167.1888, 4987644.314599998...  3.0  \n",
       "49011     {\"rings\": [[[-12458980.0088, 5032817.971900001...  NaN  \n",
       "49027     {\"rings\": [[[-12494338.1205, 4801287.949100003...  3.0  \n",
       "49051     {\"rings\": [[[-12400515.3909, 4966751.283200003...  3.0  "
      ]
     },
     "execution_count": 139,
     "metadata": {},
     "output_type": "execute_result"
    }
   ],
   "source": [
    "#: Fix one: use .loc[] to perform the row and column indexing in one call\n",
    "test_df.loc[test_df['STATEPLANE'] == 'Central', 'foo'] = 3\n",
    "test_df.head()"
   ]
  },
  {
   "cell_type": "code",
   "execution_count": 146,
   "id": "0b779420",
   "metadata": {
    "slideshow": {
     "slide_type": "slide"
    }
   },
   "outputs": [
    {
     "data": {
      "text/html": [
       "<div>\n",
       "<style scoped>\n",
       "    .dataframe tbody tr th:only-of-type {\n",
       "        vertical-align: middle;\n",
       "    }\n",
       "\n",
       "    .dataframe tbody tr th {\n",
       "        vertical-align: top;\n",
       "    }\n",
       "\n",
       "    .dataframe thead th {\n",
       "        text-align: right;\n",
       "    }\n",
       "</style>\n",
       "<table border=\"1\" class=\"dataframe\">\n",
       "  <thead>\n",
       "    <tr style=\"text-align: right;\">\n",
       "      <th></th>\n",
       "      <th>OBJECTID</th>\n",
       "      <th>COUNTYNBR</th>\n",
       "      <th>ENTITYNBR</th>\n",
       "      <th>ENTITYYR</th>\n",
       "      <th>NAME</th>\n",
       "      <th>FIPS</th>\n",
       "      <th>STATEPLANE</th>\n",
       "      <th>POP_LASTCENSUS</th>\n",
       "      <th>POP_CURRESTIMATE</th>\n",
       "      <th>GlobalID</th>\n",
       "      <th>COLOR4</th>\n",
       "      <th>SHAPE</th>\n",
       "      <th>foo</th>\n",
       "    </tr>\n",
       "    <tr>\n",
       "      <th>FIPS_STR</th>\n",
       "      <th></th>\n",
       "      <th></th>\n",
       "      <th></th>\n",
       "      <th></th>\n",
       "      <th></th>\n",
       "      <th></th>\n",
       "      <th></th>\n",
       "      <th></th>\n",
       "      <th></th>\n",
       "      <th></th>\n",
       "      <th></th>\n",
       "      <th></th>\n",
       "      <th></th>\n",
       "    </tr>\n",
       "  </thead>\n",
       "  <tbody>\n",
       "    <tr>\n",
       "      <th>49013</th>\n",
       "      <td>2</td>\n",
       "      <td>07</td>\n",
       "      <td>2.010071e+09</td>\n",
       "      <td>2010.0</td>\n",
       "      <td>DUCHESNE</td>\n",
       "      <td>13.0</td>\n",
       "      <td>Central</td>\n",
       "      <td>19596</td>\n",
       "      <td>20161</td>\n",
       "      <td>{7F6252B7-137F-4F7E-A19A-03C702111509}</td>\n",
       "      <td>4</td>\n",
       "      <td>{\"rings\": [[[-12273167.1888, 4987644.314599998...</td>\n",
       "      <td>3</td>\n",
       "    </tr>\n",
       "    <tr>\n",
       "      <th>49027</th>\n",
       "      <td>4</td>\n",
       "      <td>14</td>\n",
       "      <td>2.010141e+09</td>\n",
       "      <td>2010.0</td>\n",
       "      <td>MILLARD</td>\n",
       "      <td>27.0</td>\n",
       "      <td>Central</td>\n",
       "      <td>12975</td>\n",
       "      <td>13330</td>\n",
       "      <td>{BC91C742-7508-4118-8469-297719E423CB}</td>\n",
       "      <td>3</td>\n",
       "      <td>{\"rings\": [[[-12494338.1205, 4801287.949100003...</td>\n",
       "      <td>3</td>\n",
       "    </tr>\n",
       "    <tr>\n",
       "      <th>49051</th>\n",
       "      <td>5</td>\n",
       "      <td>26</td>\n",
       "      <td>2.010261e+09</td>\n",
       "      <td>2010.0</td>\n",
       "      <td>WASATCH</td>\n",
       "      <td>51.0</td>\n",
       "      <td>Central</td>\n",
       "      <td>34788</td>\n",
       "      <td>36619</td>\n",
       "      <td>{3D0C5C1E-2650-458E-B322-2B86AA473441}</td>\n",
       "      <td>2</td>\n",
       "      <td>{\"rings\": [[[-12400515.3909, 4966751.283200003...</td>\n",
       "      <td>3</td>\n",
       "    </tr>\n",
       "    <tr>\n",
       "      <th>49023</th>\n",
       "      <td>8</td>\n",
       "      <td>12</td>\n",
       "      <td>2.010121e+09</td>\n",
       "      <td>2010.0</td>\n",
       "      <td>JUAB</td>\n",
       "      <td>23.0</td>\n",
       "      <td>Central</td>\n",
       "      <td>11786</td>\n",
       "      <td>12567</td>\n",
       "      <td>{FE19C8AA-C706-4A81-9EB1-3C608CA317C3}</td>\n",
       "      <td>4</td>\n",
       "      <td>{\"rings\": [[[-12487614.2694, 4867585.2205], [-...</td>\n",
       "      <td>3</td>\n",
       "    </tr>\n",
       "    <tr>\n",
       "      <th>49039</th>\n",
       "      <td>9</td>\n",
       "      <td>20</td>\n",
       "      <td>2.010201e+09</td>\n",
       "      <td>2010.0</td>\n",
       "      <td>SANPETE</td>\n",
       "      <td>39.0</td>\n",
       "      <td>Central</td>\n",
       "      <td>28437</td>\n",
       "      <td>29724</td>\n",
       "      <td>{02C0C074-657F-44AE-A886-44ADB97263BD}</td>\n",
       "      <td>2</td>\n",
       "      <td>{\"rings\": [[[-12423642.5466, 4838788.997599997...</td>\n",
       "      <td>3</td>\n",
       "    </tr>\n",
       "  </tbody>\n",
       "</table>\n",
       "</div>"
      ],
      "text/plain": [
       "          OBJECTID COUNTYNBR     ENTITYNBR  ENTITYYR      NAME  FIPS  \\\n",
       "FIPS_STR                                                               \n",
       "49013            2        07  2.010071e+09    2010.0  DUCHESNE  13.0   \n",
       "49027            4        14  2.010141e+09    2010.0   MILLARD  27.0   \n",
       "49051            5        26  2.010261e+09    2010.0   WASATCH  51.0   \n",
       "49023            8        12  2.010121e+09    2010.0      JUAB  23.0   \n",
       "49039            9        20  2.010201e+09    2010.0   SANPETE  39.0   \n",
       "\n",
       "         STATEPLANE  POP_LASTCENSUS  POP_CURRESTIMATE  \\\n",
       "FIPS_STR                                                \n",
       "49013       Central           19596             20161   \n",
       "49027       Central           12975             13330   \n",
       "49051       Central           34788             36619   \n",
       "49023       Central           11786             12567   \n",
       "49039       Central           28437             29724   \n",
       "\n",
       "                                        GlobalID  COLOR4  \\\n",
       "FIPS_STR                                                   \n",
       "49013     {7F6252B7-137F-4F7E-A19A-03C702111509}       4   \n",
       "49027     {BC91C742-7508-4118-8469-297719E423CB}       3   \n",
       "49051     {3D0C5C1E-2650-458E-B322-2B86AA473441}       2   \n",
       "49023     {FE19C8AA-C706-4A81-9EB1-3C608CA317C3}       4   \n",
       "49039     {02C0C074-657F-44AE-A886-44ADB97263BD}       2   \n",
       "\n",
       "                                                      SHAPE  foo  \n",
       "FIPS_STR                                                          \n",
       "49013     {\"rings\": [[[-12273167.1888, 4987644.314599998...    3  \n",
       "49027     {\"rings\": [[[-12494338.1205, 4801287.949100003...    3  \n",
       "49051     {\"rings\": [[[-12400515.3909, 4966751.283200003...    3  \n",
       "49023     {\"rings\": [[[-12487614.2694, 4867585.2205], [-...    3  \n",
       "49039     {\"rings\": [[[-12423642.5466, 4838788.997599997...    3  "
      ]
     },
     "execution_count": 146,
     "metadata": {},
     "output_type": "execute_result"
    }
   ],
   "source": [
    "#: Fix two: create an explicit copy to break up the chain\n",
    "central_df = test_df[test_df['STATEPLANE'] == 'Central'].copy()\n",
    "central_df['foo'] = 3\n",
    "central_df.head()"
   ]
  },
  {
   "cell_type": "markdown",
   "id": "516c3788",
   "metadata": {
    "slideshow": {
     "slide_type": "slide"
    }
   },
   "source": [
    "# Working With Columns"
   ]
  },
  {
   "cell_type": "markdown",
   "id": "88fe11de",
   "metadata": {
    "slideshow": {
     "slide_type": "fragment"
    }
   },
   "source": [
    "Pandas makes working with columns really easy. Whether renaming, re-ordering, or re-calculating, it's usually just a single line of code.\n",
    "\n",
    "Let's take our counties dataset and calculate the population density, creating a new dataframe with just the relevant columns."
   ]
  },
  {
   "cell_type": "code",
   "execution_count": 39,
   "id": "e8b43a82",
   "metadata": {
    "slideshow": {
     "slide_type": "fragment"
    }
   },
   "outputs": [],
   "source": [
    "#: Create a copy to avoid altering the original\n",
    "density_df = counties_df.copy()"
   ]
  },
  {
   "cell_type": "code",
   "execution_count": 40,
   "id": "0657b510",
   "metadata": {
    "slideshow": {
     "slide_type": "slide"
    }
   },
   "outputs": [
    {
     "data": {
      "text/html": [
       "<div>\n",
       "<style scoped>\n",
       "    .dataframe tbody tr th:only-of-type {\n",
       "        vertical-align: middle;\n",
       "    }\n",
       "\n",
       "    .dataframe tbody tr th {\n",
       "        vertical-align: top;\n",
       "    }\n",
       "\n",
       "    .dataframe thead th {\n",
       "        text-align: right;\n",
       "    }\n",
       "</style>\n",
       "<table border=\"1\" class=\"dataframe\">\n",
       "  <thead>\n",
       "    <tr style=\"text-align: right;\">\n",
       "      <th></th>\n",
       "      <th>OBJECTID</th>\n",
       "      <th>COUNTYNBR</th>\n",
       "      <th>ENTITYNBR</th>\n",
       "      <th>ENTITYYR</th>\n",
       "      <th>NAME</th>\n",
       "      <th>FIPS</th>\n",
       "      <th>STATEPLANE</th>\n",
       "      <th>POP_LASTCENSUS</th>\n",
       "      <th>POP_CURRESTIMATE</th>\n",
       "      <th>GlobalID</th>\n",
       "      <th>COLOR4</th>\n",
       "      <th>SHAPE</th>\n",
       "      <th>sq_km</th>\n",
       "      <th>density</th>\n",
       "    </tr>\n",
       "    <tr>\n",
       "      <th>FIPS_STR</th>\n",
       "      <th></th>\n",
       "      <th></th>\n",
       "      <th></th>\n",
       "      <th></th>\n",
       "      <th></th>\n",
       "      <th></th>\n",
       "      <th></th>\n",
       "      <th></th>\n",
       "      <th></th>\n",
       "      <th></th>\n",
       "      <th></th>\n",
       "      <th></th>\n",
       "      <th></th>\n",
       "      <th></th>\n",
       "    </tr>\n",
       "  </thead>\n",
       "  <tbody>\n",
       "    <tr>\n",
       "      <th>49005</th>\n",
       "      <td>1</td>\n",
       "      <td>03</td>\n",
       "      <td>2.010031e+09</td>\n",
       "      <td>2010.0</td>\n",
       "      <td>CACHE</td>\n",
       "      <td>5.0</td>\n",
       "      <td>North</td>\n",
       "      <td>133154</td>\n",
       "      <td>140173</td>\n",
       "      <td>{AD3015BE-B3C9-4316-B8DC-03AFBB56B443}</td>\n",
       "      <td>2</td>\n",
       "      <td>{\"rings\": [[[-12485167.954, 5160638.807099998]...</td>\n",
       "      <td>5456.779633</td>\n",
       "      <td>24.401572</td>\n",
       "    </tr>\n",
       "    <tr>\n",
       "      <th>49013</th>\n",
       "      <td>2</td>\n",
       "      <td>07</td>\n",
       "      <td>2.010071e+09</td>\n",
       "      <td>2010.0</td>\n",
       "      <td>DUCHESNE</td>\n",
       "      <td>13.0</td>\n",
       "      <td>Central</td>\n",
       "      <td>19596</td>\n",
       "      <td>20161</td>\n",
       "      <td>{7F6252B7-137F-4F7E-A19A-03C702111509}</td>\n",
       "      <td>4</td>\n",
       "      <td>{\"rings\": [[[-12273167.1888, 4987644.314599998...</td>\n",
       "      <td>14489.452124</td>\n",
       "      <td>1.352432</td>\n",
       "    </tr>\n",
       "    <tr>\n",
       "      <th>49011</th>\n",
       "      <td>3</td>\n",
       "      <td>06</td>\n",
       "      <td>2.010061e+09</td>\n",
       "      <td>2010.0</td>\n",
       "      <td>DAVIS</td>\n",
       "      <td>11.0</td>\n",
       "      <td>North</td>\n",
       "      <td>362679</td>\n",
       "      <td>369948</td>\n",
       "      <td>{214E29A1-CC25-4867-9148-2817DB623088}</td>\n",
       "      <td>3</td>\n",
       "      <td>{\"rings\": [[[-12458980.0088, 5032817.971900001...</td>\n",
       "      <td>2889.969718</td>\n",
       "      <td>125.495779</td>\n",
       "    </tr>\n",
       "    <tr>\n",
       "      <th>49027</th>\n",
       "      <td>4</td>\n",
       "      <td>14</td>\n",
       "      <td>2.010141e+09</td>\n",
       "      <td>2010.0</td>\n",
       "      <td>MILLARD</td>\n",
       "      <td>27.0</td>\n",
       "      <td>Central</td>\n",
       "      <td>12975</td>\n",
       "      <td>13330</td>\n",
       "      <td>{BC91C742-7508-4118-8469-297719E423CB}</td>\n",
       "      <td>3</td>\n",
       "      <td>{\"rings\": [[[-12494338.1205, 4801287.949100003...</td>\n",
       "      <td>29421.994253</td>\n",
       "      <td>0.440997</td>\n",
       "    </tr>\n",
       "    <tr>\n",
       "      <th>49051</th>\n",
       "      <td>5</td>\n",
       "      <td>26</td>\n",
       "      <td>2.010261e+09</td>\n",
       "      <td>2010.0</td>\n",
       "      <td>WASATCH</td>\n",
       "      <td>51.0</td>\n",
       "      <td>Central</td>\n",
       "      <td>34788</td>\n",
       "      <td>36619</td>\n",
       "      <td>{3D0C5C1E-2650-458E-B322-2B86AA473441}</td>\n",
       "      <td>2</td>\n",
       "      <td>{\"rings\": [[[-12400515.3909, 4966751.283200003...</td>\n",
       "      <td>5396.133031</td>\n",
       "      <td>6.446839</td>\n",
       "    </tr>\n",
       "  </tbody>\n",
       "</table>\n",
       "</div>"
      ],
      "text/plain": [
       "          OBJECTID COUNTYNBR     ENTITYNBR  ENTITYYR      NAME  FIPS  \\\n",
       "FIPS_STR                                                               \n",
       "49005            1        03  2.010031e+09    2010.0     CACHE   5.0   \n",
       "49013            2        07  2.010071e+09    2010.0  DUCHESNE  13.0   \n",
       "49011            3        06  2.010061e+09    2010.0     DAVIS  11.0   \n",
       "49027            4        14  2.010141e+09    2010.0   MILLARD  27.0   \n",
       "49051            5        26  2.010261e+09    2010.0   WASATCH  51.0   \n",
       "\n",
       "         STATEPLANE  POP_LASTCENSUS  POP_CURRESTIMATE  \\\n",
       "FIPS_STR                                                \n",
       "49005         North          133154            140173   \n",
       "49013       Central           19596             20161   \n",
       "49011         North          362679            369948   \n",
       "49027       Central           12975             13330   \n",
       "49051       Central           34788             36619   \n",
       "\n",
       "                                        GlobalID  COLOR4  \\\n",
       "FIPS_STR                                                   \n",
       "49005     {AD3015BE-B3C9-4316-B8DC-03AFBB56B443}       2   \n",
       "49013     {7F6252B7-137F-4F7E-A19A-03C702111509}       4   \n",
       "49011     {214E29A1-CC25-4867-9148-2817DB623088}       3   \n",
       "49027     {BC91C742-7508-4118-8469-297719E423CB}       3   \n",
       "49051     {3D0C5C1E-2650-458E-B322-2B86AA473441}       2   \n",
       "\n",
       "                                                      SHAPE         sq_km  \\\n",
       "FIPS_STR                                                                    \n",
       "49005     {\"rings\": [[[-12485167.954, 5160638.807099998]...   5456.779633   \n",
       "49013     {\"rings\": [[[-12273167.1888, 4987644.314599998...  14489.452124   \n",
       "49011     {\"rings\": [[[-12458980.0088, 5032817.971900001...   2889.969718   \n",
       "49027     {\"rings\": [[[-12494338.1205, 4801287.949100003...  29421.994253   \n",
       "49051     {\"rings\": [[[-12400515.3909, 4966751.283200003...   5396.133031   \n",
       "\n",
       "             density  \n",
       "FIPS_STR              \n",
       "49005      24.401572  \n",
       "49013       1.352432  \n",
       "49011     125.495779  \n",
       "49027       0.440997  \n",
       "49051       6.446839  "
      ]
     },
     "execution_count": 40,
     "metadata": {},
     "output_type": "execute_result"
    }
   ],
   "source": [
    "#: Create a new column by assigning the results of a calculation against another column\n",
    "# density_df['sq_km'] = density_df['SHAPE_Area'] / 1000000  #: shapely\n",
    "density_df['sq_km'] = density_df['SHAPE'].apply(lambda x: x.area / 1000000)  #: arcpy\n",
    "density_df['density'] = density_df['POP_LASTCENSUS'] / density_df['sq_km']\n",
    "density_df.head()"
   ]
  },
  {
   "cell_type": "code",
   "execution_count": 41,
   "id": "af933ff4",
   "metadata": {
    "slideshow": {
     "slide_type": "slide"
    }
   },
   "outputs": [
    {
     "data": {
      "text/html": [
       "<div>\n",
       "<style scoped>\n",
       "    .dataframe tbody tr th:only-of-type {\n",
       "        vertical-align: middle;\n",
       "    }\n",
       "\n",
       "    .dataframe tbody tr th {\n",
       "        vertical-align: top;\n",
       "    }\n",
       "\n",
       "    .dataframe thead th {\n",
       "        text-align: right;\n",
       "    }\n",
       "</style>\n",
       "<table border=\"1\" class=\"dataframe\">\n",
       "  <thead>\n",
       "    <tr style=\"text-align: right;\">\n",
       "      <th></th>\n",
       "      <th>OBJECTID</th>\n",
       "      <th>COUNTYNBR</th>\n",
       "      <th>ENTITYNBR</th>\n",
       "      <th>ENTITYYR</th>\n",
       "      <th>NAME</th>\n",
       "      <th>FIPS</th>\n",
       "      <th>STATEPLANE</th>\n",
       "      <th>POP_LASTCENSUS</th>\n",
       "      <th>POP_CURRESTIMATE</th>\n",
       "      <th>GlobalID</th>\n",
       "      <th>COLOR4</th>\n",
       "      <th>SHAPE</th>\n",
       "      <th>sq_km</th>\n",
       "      <th>density</th>\n",
       "    </tr>\n",
       "    <tr>\n",
       "      <th>FIPS_STR</th>\n",
       "      <th></th>\n",
       "      <th></th>\n",
       "      <th></th>\n",
       "      <th></th>\n",
       "      <th></th>\n",
       "      <th></th>\n",
       "      <th></th>\n",
       "      <th></th>\n",
       "      <th></th>\n",
       "      <th></th>\n",
       "      <th></th>\n",
       "      <th></th>\n",
       "      <th></th>\n",
       "      <th></th>\n",
       "    </tr>\n",
       "  </thead>\n",
       "  <tbody>\n",
       "    <tr>\n",
       "      <th>49005</th>\n",
       "      <td>1</td>\n",
       "      <td>03</td>\n",
       "      <td>2.010031e+09</td>\n",
       "      <td>2010.0</td>\n",
       "      <td>CACHE</td>\n",
       "      <td>5</td>\n",
       "      <td>North</td>\n",
       "      <td>133154</td>\n",
       "      <td>140173</td>\n",
       "      <td>{AD3015BE-B3C9-4316-B8DC-03AFBB56B443}</td>\n",
       "      <td>2</td>\n",
       "      <td>{\"rings\": [[[-12485167.954, 5160638.807099998]...</td>\n",
       "      <td>5456.779633</td>\n",
       "      <td>24.401572</td>\n",
       "    </tr>\n",
       "    <tr>\n",
       "      <th>49013</th>\n",
       "      <td>2</td>\n",
       "      <td>07</td>\n",
       "      <td>2.010071e+09</td>\n",
       "      <td>2010.0</td>\n",
       "      <td>DUCHESNE</td>\n",
       "      <td>13</td>\n",
       "      <td>Central</td>\n",
       "      <td>19596</td>\n",
       "      <td>20161</td>\n",
       "      <td>{7F6252B7-137F-4F7E-A19A-03C702111509}</td>\n",
       "      <td>4</td>\n",
       "      <td>{\"rings\": [[[-12273167.1888, 4987644.314599998...</td>\n",
       "      <td>14489.452124</td>\n",
       "      <td>1.352432</td>\n",
       "    </tr>\n",
       "    <tr>\n",
       "      <th>49011</th>\n",
       "      <td>3</td>\n",
       "      <td>06</td>\n",
       "      <td>2.010061e+09</td>\n",
       "      <td>2010.0</td>\n",
       "      <td>DAVIS</td>\n",
       "      <td>11</td>\n",
       "      <td>North</td>\n",
       "      <td>362679</td>\n",
       "      <td>369948</td>\n",
       "      <td>{214E29A1-CC25-4867-9148-2817DB623088}</td>\n",
       "      <td>3</td>\n",
       "      <td>{\"rings\": [[[-12458980.0088, 5032817.971900001...</td>\n",
       "      <td>2889.969718</td>\n",
       "      <td>125.495779</td>\n",
       "    </tr>\n",
       "    <tr>\n",
       "      <th>49027</th>\n",
       "      <td>4</td>\n",
       "      <td>14</td>\n",
       "      <td>2.010141e+09</td>\n",
       "      <td>2010.0</td>\n",
       "      <td>MILLARD</td>\n",
       "      <td>27</td>\n",
       "      <td>Central</td>\n",
       "      <td>12975</td>\n",
       "      <td>13330</td>\n",
       "      <td>{BC91C742-7508-4118-8469-297719E423CB}</td>\n",
       "      <td>3</td>\n",
       "      <td>{\"rings\": [[[-12494338.1205, 4801287.949100003...</td>\n",
       "      <td>29421.994253</td>\n",
       "      <td>0.440997</td>\n",
       "    </tr>\n",
       "    <tr>\n",
       "      <th>49051</th>\n",
       "      <td>5</td>\n",
       "      <td>26</td>\n",
       "      <td>2.010261e+09</td>\n",
       "      <td>2010.0</td>\n",
       "      <td>WASATCH</td>\n",
       "      <td>51</td>\n",
       "      <td>Central</td>\n",
       "      <td>34788</td>\n",
       "      <td>36619</td>\n",
       "      <td>{3D0C5C1E-2650-458E-B322-2B86AA473441}</td>\n",
       "      <td>2</td>\n",
       "      <td>{\"rings\": [[[-12400515.3909, 4966751.283200003...</td>\n",
       "      <td>5396.133031</td>\n",
       "      <td>6.446839</td>\n",
       "    </tr>\n",
       "  </tbody>\n",
       "</table>\n",
       "</div>"
      ],
      "text/plain": [
       "          OBJECTID COUNTYNBR     ENTITYNBR  ENTITYYR      NAME  FIPS  \\\n",
       "FIPS_STR                                                               \n",
       "49005            1        03  2.010031e+09    2010.0     CACHE     5   \n",
       "49013            2        07  2.010071e+09    2010.0  DUCHESNE    13   \n",
       "49011            3        06  2.010061e+09    2010.0     DAVIS    11   \n",
       "49027            4        14  2.010141e+09    2010.0   MILLARD    27   \n",
       "49051            5        26  2.010261e+09    2010.0   WASATCH    51   \n",
       "\n",
       "         STATEPLANE  POP_LASTCENSUS  POP_CURRESTIMATE  \\\n",
       "FIPS_STR                                                \n",
       "49005         North          133154            140173   \n",
       "49013       Central           19596             20161   \n",
       "49011         North          362679            369948   \n",
       "49027       Central           12975             13330   \n",
       "49051       Central           34788             36619   \n",
       "\n",
       "                                        GlobalID  COLOR4  \\\n",
       "FIPS_STR                                                   \n",
       "49005     {AD3015BE-B3C9-4316-B8DC-03AFBB56B443}       2   \n",
       "49013     {7F6252B7-137F-4F7E-A19A-03C702111509}       4   \n",
       "49011     {214E29A1-CC25-4867-9148-2817DB623088}       3   \n",
       "49027     {BC91C742-7508-4118-8469-297719E423CB}       3   \n",
       "49051     {3D0C5C1E-2650-458E-B322-2B86AA473441}       2   \n",
       "\n",
       "                                                      SHAPE         sq_km  \\\n",
       "FIPS_STR                                                                    \n",
       "49005     {\"rings\": [[[-12485167.954, 5160638.807099998]...   5456.779633   \n",
       "49013     {\"rings\": [[[-12273167.1888, 4987644.314599998...  14489.452124   \n",
       "49011     {\"rings\": [[[-12458980.0088, 5032817.971900001...   2889.969718   \n",
       "49027     {\"rings\": [[[-12494338.1205, 4801287.949100003...  29421.994253   \n",
       "49051     {\"rings\": [[[-12400515.3909, 4966751.283200003...   5396.133031   \n",
       "\n",
       "             density  \n",
       "FIPS_STR              \n",
       "49005      24.401572  \n",
       "49013       1.352432  \n",
       "49011     125.495779  \n",
       "49027       0.440997  \n",
       "49051       6.446839  "
      ]
     },
     "execution_count": 41,
     "metadata": {},
     "output_type": "execute_result"
    }
   ],
   "source": [
    "#: Change dtype of FIPS column\n",
    "density_df['FIPS'] = density_df['FIPS'].astype(int)\n",
    "density_df.head()"
   ]
  },
  {
   "cell_type": "code",
   "execution_count": 42,
   "id": "297a158e",
   "metadata": {
    "slideshow": {
     "slide_type": "slide"
    }
   },
   "outputs": [
    {
     "data": {
      "text/html": [
       "<div>\n",
       "<style scoped>\n",
       "    .dataframe tbody tr th:only-of-type {\n",
       "        vertical-align: middle;\n",
       "    }\n",
       "\n",
       "    .dataframe tbody tr th {\n",
       "        vertical-align: top;\n",
       "    }\n",
       "\n",
       "    .dataframe thead th {\n",
       "        text-align: right;\n",
       "    }\n",
       "</style>\n",
       "<table border=\"1\" class=\"dataframe\">\n",
       "  <thead>\n",
       "    <tr style=\"text-align: right;\">\n",
       "      <th></th>\n",
       "      <th>OBJECTID</th>\n",
       "      <th>COUNTYNBR</th>\n",
       "      <th>ENTITYNBR</th>\n",
       "      <th>ENTITYYR</th>\n",
       "      <th>NAME</th>\n",
       "      <th>FIPS</th>\n",
       "      <th>STATEPLANE</th>\n",
       "      <th>pop_2020</th>\n",
       "      <th>POP_CURRESTIMATE</th>\n",
       "      <th>GlobalID</th>\n",
       "      <th>COLOR4</th>\n",
       "      <th>SHAPE</th>\n",
       "      <th>sq_km</th>\n",
       "      <th>population_per_sq_km</th>\n",
       "    </tr>\n",
       "    <tr>\n",
       "      <th>FIPS_STR</th>\n",
       "      <th></th>\n",
       "      <th></th>\n",
       "      <th></th>\n",
       "      <th></th>\n",
       "      <th></th>\n",
       "      <th></th>\n",
       "      <th></th>\n",
       "      <th></th>\n",
       "      <th></th>\n",
       "      <th></th>\n",
       "      <th></th>\n",
       "      <th></th>\n",
       "      <th></th>\n",
       "      <th></th>\n",
       "    </tr>\n",
       "  </thead>\n",
       "  <tbody>\n",
       "    <tr>\n",
       "      <th>49005</th>\n",
       "      <td>1</td>\n",
       "      <td>03</td>\n",
       "      <td>2.010031e+09</td>\n",
       "      <td>2010.0</td>\n",
       "      <td>CACHE</td>\n",
       "      <td>5</td>\n",
       "      <td>North</td>\n",
       "      <td>133154</td>\n",
       "      <td>140173</td>\n",
       "      <td>{AD3015BE-B3C9-4316-B8DC-03AFBB56B443}</td>\n",
       "      <td>2</td>\n",
       "      <td>{\"rings\": [[[-12485167.954, 5160638.807099998]...</td>\n",
       "      <td>5456.779633</td>\n",
       "      <td>24.401572</td>\n",
       "    </tr>\n",
       "    <tr>\n",
       "      <th>49013</th>\n",
       "      <td>2</td>\n",
       "      <td>07</td>\n",
       "      <td>2.010071e+09</td>\n",
       "      <td>2010.0</td>\n",
       "      <td>DUCHESNE</td>\n",
       "      <td>13</td>\n",
       "      <td>Central</td>\n",
       "      <td>19596</td>\n",
       "      <td>20161</td>\n",
       "      <td>{7F6252B7-137F-4F7E-A19A-03C702111509}</td>\n",
       "      <td>4</td>\n",
       "      <td>{\"rings\": [[[-12273167.1888, 4987644.314599998...</td>\n",
       "      <td>14489.452124</td>\n",
       "      <td>1.352432</td>\n",
       "    </tr>\n",
       "    <tr>\n",
       "      <th>49011</th>\n",
       "      <td>3</td>\n",
       "      <td>06</td>\n",
       "      <td>2.010061e+09</td>\n",
       "      <td>2010.0</td>\n",
       "      <td>DAVIS</td>\n",
       "      <td>11</td>\n",
       "      <td>North</td>\n",
       "      <td>362679</td>\n",
       "      <td>369948</td>\n",
       "      <td>{214E29A1-CC25-4867-9148-2817DB623088}</td>\n",
       "      <td>3</td>\n",
       "      <td>{\"rings\": [[[-12458980.0088, 5032817.971900001...</td>\n",
       "      <td>2889.969718</td>\n",
       "      <td>125.495779</td>\n",
       "    </tr>\n",
       "    <tr>\n",
       "      <th>49027</th>\n",
       "      <td>4</td>\n",
       "      <td>14</td>\n",
       "      <td>2.010141e+09</td>\n",
       "      <td>2010.0</td>\n",
       "      <td>MILLARD</td>\n",
       "      <td>27</td>\n",
       "      <td>Central</td>\n",
       "      <td>12975</td>\n",
       "      <td>13330</td>\n",
       "      <td>{BC91C742-7508-4118-8469-297719E423CB}</td>\n",
       "      <td>3</td>\n",
       "      <td>{\"rings\": [[[-12494338.1205, 4801287.949100003...</td>\n",
       "      <td>29421.994253</td>\n",
       "      <td>0.440997</td>\n",
       "    </tr>\n",
       "    <tr>\n",
       "      <th>49051</th>\n",
       "      <td>5</td>\n",
       "      <td>26</td>\n",
       "      <td>2.010261e+09</td>\n",
       "      <td>2010.0</td>\n",
       "      <td>WASATCH</td>\n",
       "      <td>51</td>\n",
       "      <td>Central</td>\n",
       "      <td>34788</td>\n",
       "      <td>36619</td>\n",
       "      <td>{3D0C5C1E-2650-458E-B322-2B86AA473441}</td>\n",
       "      <td>2</td>\n",
       "      <td>{\"rings\": [[[-12400515.3909, 4966751.283200003...</td>\n",
       "      <td>5396.133031</td>\n",
       "      <td>6.446839</td>\n",
       "    </tr>\n",
       "  </tbody>\n",
       "</table>\n",
       "</div>"
      ],
      "text/plain": [
       "          OBJECTID COUNTYNBR     ENTITYNBR  ENTITYYR      NAME  FIPS  \\\n",
       "FIPS_STR                                                               \n",
       "49005            1        03  2.010031e+09    2010.0     CACHE     5   \n",
       "49013            2        07  2.010071e+09    2010.0  DUCHESNE    13   \n",
       "49011            3        06  2.010061e+09    2010.0     DAVIS    11   \n",
       "49027            4        14  2.010141e+09    2010.0   MILLARD    27   \n",
       "49051            5        26  2.010261e+09    2010.0   WASATCH    51   \n",
       "\n",
       "         STATEPLANE  pop_2020  POP_CURRESTIMATE  \\\n",
       "FIPS_STR                                          \n",
       "49005         North    133154            140173   \n",
       "49013       Central     19596             20161   \n",
       "49011         North    362679            369948   \n",
       "49027       Central     12975             13330   \n",
       "49051       Central     34788             36619   \n",
       "\n",
       "                                        GlobalID  COLOR4  \\\n",
       "FIPS_STR                                                   \n",
       "49005     {AD3015BE-B3C9-4316-B8DC-03AFBB56B443}       2   \n",
       "49013     {7F6252B7-137F-4F7E-A19A-03C702111509}       4   \n",
       "49011     {214E29A1-CC25-4867-9148-2817DB623088}       3   \n",
       "49027     {BC91C742-7508-4118-8469-297719E423CB}       3   \n",
       "49051     {3D0C5C1E-2650-458E-B322-2B86AA473441}       2   \n",
       "\n",
       "                                                      SHAPE         sq_km  \\\n",
       "FIPS_STR                                                                    \n",
       "49005     {\"rings\": [[[-12485167.954, 5160638.807099998]...   5456.779633   \n",
       "49013     {\"rings\": [[[-12273167.1888, 4987644.314599998...  14489.452124   \n",
       "49011     {\"rings\": [[[-12458980.0088, 5032817.971900001...   2889.969718   \n",
       "49027     {\"rings\": [[[-12494338.1205, 4801287.949100003...  29421.994253   \n",
       "49051     {\"rings\": [[[-12400515.3909, 4966751.283200003...   5396.133031   \n",
       "\n",
       "          population_per_sq_km  \n",
       "FIPS_STR                        \n",
       "49005                24.401572  \n",
       "49013                 1.352432  \n",
       "49011               125.495779  \n",
       "49027                 0.440997  \n",
       "49051                 6.446839  "
      ]
     },
     "execution_count": 42,
     "metadata": {},
     "output_type": "execute_result"
    }
   ],
   "source": [
    "#: Rename columns with .rename() and a dictionary\n",
    "density_df.rename(columns={'density': 'population_per_sq_km', 'POP_LASTCENSUS': 'pop_2020'}, inplace=True)\n",
    "density_df.head()"
   ]
  },
  {
   "cell_type": "code",
   "execution_count": 43,
   "id": "4d9bef80",
   "metadata": {
    "scrolled": true,
    "slideshow": {
     "slide_type": "slide"
    }
   },
   "outputs": [
    {
     "data": {
      "text/html": [
       "<div>\n",
       "<style scoped>\n",
       "    .dataframe tbody tr th:only-of-type {\n",
       "        vertical-align: middle;\n",
       "    }\n",
       "\n",
       "    .dataframe tbody tr th {\n",
       "        vertical-align: top;\n",
       "    }\n",
       "\n",
       "    .dataframe thead th {\n",
       "        text-align: right;\n",
       "    }\n",
       "</style>\n",
       "<table border=\"1\" class=\"dataframe\">\n",
       "  <thead>\n",
       "    <tr style=\"text-align: right;\">\n",
       "      <th></th>\n",
       "      <th>population_per_sq_km</th>\n",
       "      <th>NAME</th>\n",
       "      <th>ENTITYYR</th>\n",
       "      <th>STATEPLANE</th>\n",
       "    </tr>\n",
       "    <tr>\n",
       "      <th>FIPS_STR</th>\n",
       "      <th></th>\n",
       "      <th></th>\n",
       "      <th></th>\n",
       "      <th></th>\n",
       "    </tr>\n",
       "  </thead>\n",
       "  <tbody>\n",
       "    <tr>\n",
       "      <th>49005</th>\n",
       "      <td>24.401572</td>\n",
       "      <td>CACHE</td>\n",
       "      <td>2010.0</td>\n",
       "      <td>North</td>\n",
       "    </tr>\n",
       "    <tr>\n",
       "      <th>49013</th>\n",
       "      <td>1.352432</td>\n",
       "      <td>DUCHESNE</td>\n",
       "      <td>2010.0</td>\n",
       "      <td>Central</td>\n",
       "    </tr>\n",
       "    <tr>\n",
       "      <th>49011</th>\n",
       "      <td>125.495779</td>\n",
       "      <td>DAVIS</td>\n",
       "      <td>2010.0</td>\n",
       "      <td>North</td>\n",
       "    </tr>\n",
       "    <tr>\n",
       "      <th>49027</th>\n",
       "      <td>0.440997</td>\n",
       "      <td>MILLARD</td>\n",
       "      <td>2010.0</td>\n",
       "      <td>Central</td>\n",
       "    </tr>\n",
       "    <tr>\n",
       "      <th>49051</th>\n",
       "      <td>6.446839</td>\n",
       "      <td>WASATCH</td>\n",
       "      <td>2010.0</td>\n",
       "      <td>Central</td>\n",
       "    </tr>\n",
       "  </tbody>\n",
       "</table>\n",
       "</div>"
      ],
      "text/plain": [
       "          population_per_sq_km      NAME  ENTITYYR STATEPLANE\n",
       "FIPS_STR                                                     \n",
       "49005                24.401572     CACHE    2010.0      North\n",
       "49013                 1.352432  DUCHESNE    2010.0    Central\n",
       "49011               125.495779     DAVIS    2010.0      North\n",
       "49027                 0.440997   MILLARD    2010.0    Central\n",
       "49051                 6.446839   WASATCH    2010.0    Central"
      ]
     },
     "execution_count": 43,
     "metadata": {},
     "output_type": "execute_result"
    }
   ],
   "source": [
    "#: Subset down to just the desired columns; reindex doesn't have inplace option\n",
    "density_df = density_df.reindex(columns=['population_per_sq_km', 'NAME', 'ENTITYYR', 'STATEPLANE'])\n",
    "density_df.head()"
   ]
  },
  {
   "cell_type": "code",
   "execution_count": 44,
   "id": "171c2a19",
   "metadata": {
    "slideshow": {
     "slide_type": "slide"
    }
   },
   "outputs": [
    {
     "data": {
      "text/html": [
       "<div>\n",
       "<style scoped>\n",
       "    .dataframe tbody tr th:only-of-type {\n",
       "        vertical-align: middle;\n",
       "    }\n",
       "\n",
       "    .dataframe tbody tr th {\n",
       "        vertical-align: top;\n",
       "    }\n",
       "\n",
       "    .dataframe thead th {\n",
       "        text-align: right;\n",
       "    }\n",
       "</style>\n",
       "<table border=\"1\" class=\"dataframe\">\n",
       "  <thead>\n",
       "    <tr style=\"text-align: right;\">\n",
       "      <th></th>\n",
       "      <th>population_per_sq_km</th>\n",
       "      <th>NAME</th>\n",
       "      <th>ENTITYYR</th>\n",
       "    </tr>\n",
       "    <tr>\n",
       "      <th>FIPS_STR</th>\n",
       "      <th></th>\n",
       "      <th></th>\n",
       "      <th></th>\n",
       "    </tr>\n",
       "  </thead>\n",
       "  <tbody>\n",
       "    <tr>\n",
       "      <th>49005</th>\n",
       "      <td>24.401572</td>\n",
       "      <td>CACHE</td>\n",
       "      <td>2010.0</td>\n",
       "    </tr>\n",
       "    <tr>\n",
       "      <th>49013</th>\n",
       "      <td>1.352432</td>\n",
       "      <td>DUCHESNE</td>\n",
       "      <td>2010.0</td>\n",
       "    </tr>\n",
       "    <tr>\n",
       "      <th>49011</th>\n",
       "      <td>125.495779</td>\n",
       "      <td>DAVIS</td>\n",
       "      <td>2010.0</td>\n",
       "    </tr>\n",
       "    <tr>\n",
       "      <th>49027</th>\n",
       "      <td>0.440997</td>\n",
       "      <td>MILLARD</td>\n",
       "      <td>2010.0</td>\n",
       "    </tr>\n",
       "    <tr>\n",
       "      <th>49051</th>\n",
       "      <td>6.446839</td>\n",
       "      <td>WASATCH</td>\n",
       "      <td>2010.0</td>\n",
       "    </tr>\n",
       "  </tbody>\n",
       "</table>\n",
       "</div>"
      ],
      "text/plain": [
       "          population_per_sq_km      NAME  ENTITYYR\n",
       "FIPS_STR                                          \n",
       "49005                24.401572     CACHE    2010.0\n",
       "49013                 1.352432  DUCHESNE    2010.0\n",
       "49011               125.495779     DAVIS    2010.0\n",
       "49027                 0.440997   MILLARD    2010.0\n",
       "49051                 6.446839   WASATCH    2010.0"
      ]
     },
     "execution_count": 44,
     "metadata": {},
     "output_type": "execute_result"
    }
   ],
   "source": [
    "#: Another way to delete individual columns\n",
    "del density_df['STATEPLANE']\n",
    "density_df.head()"
   ]
  },
  {
   "cell_type": "code",
   "execution_count": 45,
   "id": "59756b42",
   "metadata": {
    "slideshow": {
     "slide_type": "fragment"
    }
   },
   "outputs": [
    {
     "data": {
      "text/html": [
       "<div>\n",
       "<style scoped>\n",
       "    .dataframe tbody tr th:only-of-type {\n",
       "        vertical-align: middle;\n",
       "    }\n",
       "\n",
       "    .dataframe tbody tr th {\n",
       "        vertical-align: top;\n",
       "    }\n",
       "\n",
       "    .dataframe thead th {\n",
       "        text-align: right;\n",
       "    }\n",
       "</style>\n",
       "<table border=\"1\" class=\"dataframe\">\n",
       "  <thead>\n",
       "    <tr style=\"text-align: right;\">\n",
       "      <th></th>\n",
       "      <th>population_per_sq_km</th>\n",
       "      <th>ENTITYYR</th>\n",
       "    </tr>\n",
       "    <tr>\n",
       "      <th>FIPS_STR</th>\n",
       "      <th></th>\n",
       "      <th></th>\n",
       "    </tr>\n",
       "  </thead>\n",
       "  <tbody>\n",
       "    <tr>\n",
       "      <th>49005</th>\n",
       "      <td>24.401572</td>\n",
       "      <td>2010.0</td>\n",
       "    </tr>\n",
       "    <tr>\n",
       "      <th>49013</th>\n",
       "      <td>1.352432</td>\n",
       "      <td>2010.0</td>\n",
       "    </tr>\n",
       "    <tr>\n",
       "      <th>49011</th>\n",
       "      <td>125.495779</td>\n",
       "      <td>2010.0</td>\n",
       "    </tr>\n",
       "    <tr>\n",
       "      <th>49027</th>\n",
       "      <td>0.440997</td>\n",
       "      <td>2010.0</td>\n",
       "    </tr>\n",
       "    <tr>\n",
       "      <th>49051</th>\n",
       "      <td>6.446839</td>\n",
       "      <td>2010.0</td>\n",
       "    </tr>\n",
       "  </tbody>\n",
       "</table>\n",
       "</div>"
      ],
      "text/plain": [
       "          population_per_sq_km  ENTITYYR\n",
       "FIPS_STR                                \n",
       "49005                24.401572    2010.0\n",
       "49013                 1.352432    2010.0\n",
       "49011               125.495779    2010.0\n",
       "49027                 0.440997    2010.0\n",
       "49051                 6.446839    2010.0"
      ]
     },
     "execution_count": 45,
     "metadata": {},
     "output_type": "execute_result"
    }
   ],
   "source": [
    "#: Or .drop, which returns a new dataframe\n",
    "density_df.drop('NAME', axis='columns').head()"
   ]
  },
  {
   "cell_type": "code",
   "execution_count": 46,
   "id": "810579d9",
   "metadata": {
    "slideshow": {
     "slide_type": "slide"
    }
   },
   "outputs": [
    {
     "data": {
      "text/html": [
       "<div>\n",
       "<style scoped>\n",
       "    .dataframe tbody tr th:only-of-type {\n",
       "        vertical-align: middle;\n",
       "    }\n",
       "\n",
       "    .dataframe tbody tr th {\n",
       "        vertical-align: top;\n",
       "    }\n",
       "\n",
       "    .dataframe thead th {\n",
       "        text-align: right;\n",
       "    }\n",
       "</style>\n",
       "<table border=\"1\" class=\"dataframe\">\n",
       "  <thead>\n",
       "    <tr style=\"text-align: right;\">\n",
       "      <th></th>\n",
       "      <th>population_per_sq_km</th>\n",
       "      <th>NAME</th>\n",
       "      <th>ENTITYYR</th>\n",
       "    </tr>\n",
       "    <tr>\n",
       "      <th>FIPS_STR</th>\n",
       "      <th></th>\n",
       "      <th></th>\n",
       "      <th></th>\n",
       "    </tr>\n",
       "  </thead>\n",
       "  <tbody>\n",
       "    <tr>\n",
       "      <th>49005</th>\n",
       "      <td>24.401572</td>\n",
       "      <td>CACHE</td>\n",
       "      <td>2020</td>\n",
       "    </tr>\n",
       "    <tr>\n",
       "      <th>49013</th>\n",
       "      <td>1.352432</td>\n",
       "      <td>DUCHESNE</td>\n",
       "      <td>2020</td>\n",
       "    </tr>\n",
       "    <tr>\n",
       "      <th>49011</th>\n",
       "      <td>125.495779</td>\n",
       "      <td>DAVIS</td>\n",
       "      <td>2020</td>\n",
       "    </tr>\n",
       "    <tr>\n",
       "      <th>49027</th>\n",
       "      <td>0.440997</td>\n",
       "      <td>MILLARD</td>\n",
       "      <td>2020</td>\n",
       "    </tr>\n",
       "    <tr>\n",
       "      <th>49051</th>\n",
       "      <td>6.446839</td>\n",
       "      <td>WASATCH</td>\n",
       "      <td>2020</td>\n",
       "    </tr>\n",
       "  </tbody>\n",
       "</table>\n",
       "</div>"
      ],
      "text/plain": [
       "          population_per_sq_km      NAME  ENTITYYR\n",
       "FIPS_STR                                          \n",
       "49005                24.401572     CACHE      2020\n",
       "49013                 1.352432  DUCHESNE      2020\n",
       "49011               125.495779     DAVIS      2020\n",
       "49027                 0.440997   MILLARD      2020\n",
       "49051                 6.446839   WASATCH      2020"
      ]
     },
     "execution_count": 46,
     "metadata": {},
     "output_type": "execute_result"
    }
   ],
   "source": [
    "#: Update ENTITYYR\n",
    "density_df['ENTITYYR'] = 2020\n",
    "density_df.head()"
   ]
  },
  {
   "cell_type": "code",
   "execution_count": 47,
   "id": "c8fd2d48",
   "metadata": {
    "scrolled": true,
    "slideshow": {
     "slide_type": "fragment"
    }
   },
   "outputs": [
    {
     "name": "stdout",
     "output_type": "stream",
     "text": [
      "<class 'pandas.core.frame.DataFrame'>\n",
      "Index: 29 entries, 49005 to 49049\n",
      "Data columns (total 3 columns):\n",
      " #   Column                Non-Null Count  Dtype  \n",
      "---  ------                --------------  -----  \n",
      " 0   population_per_sq_km  29 non-null     float64\n",
      " 1   NAME                  29 non-null     object \n",
      " 2   ENTITYYR              29 non-null     int64  \n",
      "dtypes: float64(1), int64(1), object(1)\n",
      "memory usage: 2.0+ KB\n"
     ]
    }
   ],
   "source": [
    "density_df.info()"
   ]
  },
  {
   "cell_type": "markdown",
   "id": "9720c747",
   "metadata": {
    "slideshow": {
     "slide_type": "slide"
    }
   },
   "source": [
    "## Working with strings"
   ]
  },
  {
   "cell_type": "code",
   "execution_count": 48,
   "id": "ec09ffe2",
   "metadata": {
    "scrolled": true,
    "slideshow": {
     "slide_type": "fragment"
    }
   },
   "outputs": [
    {
     "data": {
      "text/html": [
       "<div>\n",
       "<style scoped>\n",
       "    .dataframe tbody tr th:only-of-type {\n",
       "        vertical-align: middle;\n",
       "    }\n",
       "\n",
       "    .dataframe tbody tr th {\n",
       "        vertical-align: top;\n",
       "    }\n",
       "\n",
       "    .dataframe thead th {\n",
       "        text-align: right;\n",
       "    }\n",
       "</style>\n",
       "<table border=\"1\" class=\"dataframe\">\n",
       "  <thead>\n",
       "    <tr style=\"text-align: right;\">\n",
       "      <th></th>\n",
       "      <th>population_per_sq_km</th>\n",
       "      <th>NAME</th>\n",
       "      <th>ENTITYYR</th>\n",
       "    </tr>\n",
       "    <tr>\n",
       "      <th>FIPS_STR</th>\n",
       "      <th></th>\n",
       "      <th></th>\n",
       "      <th></th>\n",
       "    </tr>\n",
       "  </thead>\n",
       "  <tbody>\n",
       "    <tr>\n",
       "      <th>49005</th>\n",
       "      <td>24.401572</td>\n",
       "      <td>Cache County</td>\n",
       "      <td>2020</td>\n",
       "    </tr>\n",
       "    <tr>\n",
       "      <th>49013</th>\n",
       "      <td>1.352432</td>\n",
       "      <td>Duchesne County</td>\n",
       "      <td>2020</td>\n",
       "    </tr>\n",
       "    <tr>\n",
       "      <th>49011</th>\n",
       "      <td>125.495779</td>\n",
       "      <td>Davis County</td>\n",
       "      <td>2020</td>\n",
       "    </tr>\n",
       "    <tr>\n",
       "      <th>49027</th>\n",
       "      <td>0.440997</td>\n",
       "      <td>Millard County</td>\n",
       "      <td>2020</td>\n",
       "    </tr>\n",
       "    <tr>\n",
       "      <th>49051</th>\n",
       "      <td>6.446839</td>\n",
       "      <td>Wasatch County</td>\n",
       "      <td>2020</td>\n",
       "    </tr>\n",
       "  </tbody>\n",
       "</table>\n",
       "</div>"
      ],
      "text/plain": [
       "          population_per_sq_km             NAME  ENTITYYR\n",
       "FIPS_STR                                                 \n",
       "49005                24.401572     Cache County      2020\n",
       "49013                 1.352432  Duchesne County      2020\n",
       "49011               125.495779     Davis County      2020\n",
       "49027                 0.440997   Millard County      2020\n",
       "49051                 6.446839   Wasatch County      2020"
      ]
     },
     "execution_count": 48,
     "metadata": {},
     "output_type": "execute_result"
    }
   ],
   "source": [
    "#: Use .str to access string methods of a series\n",
    "density_df['NAME'] = density_df['NAME'].str.title() + ' County'\n",
    "density_df.head()"
   ]
  },
  {
   "cell_type": "code",
   "execution_count": 49,
   "id": "ca92795c",
   "metadata": {
    "scrolled": true,
    "slideshow": {
     "slide_type": "fragment"
    }
   },
   "outputs": [
    {
     "data": {
      "text/plain": [
       "FIPS_STR\n",
       "49005       Cache\n",
       "49013    Duchesne\n",
       "49011       Davis\n",
       "49027     Millard\n",
       "49051     Wasatch\n",
       "Name: NAME, dtype: object"
      ]
     },
     "execution_count": 49,
     "metadata": {},
     "output_type": "execute_result"
    }
   ],
   "source": [
    "#: Chain multiple .str calls together to get the first result from a split operation\n",
    "density_df['NAME'].str.split().str[0].head()"
   ]
  },
  {
   "cell_type": "markdown",
   "id": "d6028729",
   "metadata": {
    "slideshow": {
     "slide_type": "slide"
    }
   },
   "source": [
    "## Example: Cleaning Up Addresses for Geocoding"
   ]
  },
  {
   "cell_type": "markdown",
   "id": "8ab139ae",
   "metadata": {
    "slideshow": {
     "slide_type": "fragment"
    }
   },
   "source": [
    "We have a CSV of school names and addresses that we want to geocode using the UGRC API Client.\n",
    "\n",
    "The address field contains the entire address as a single string, but the API Client requires separate street and city/zip fields.\n",
    "\n",
    "Some addresses use a newline character `\\n` in between the street address and the city/state/zip address, while others just use a comma.\n",
    "\n",
    "We need to pull out the street address from both types, and then grab the zip code as well."
   ]
  },
  {
   "cell_type": "code",
   "execution_count": 50,
   "id": "93897473",
   "metadata": {
    "slideshow": {
     "slide_type": "slide"
    }
   },
   "outputs": [
    {
     "data": {
      "text/html": [
       "<div>\n",
       "<style scoped>\n",
       "    .dataframe tbody tr th:only-of-type {\n",
       "        vertical-align: middle;\n",
       "    }\n",
       "\n",
       "    .dataframe tbody tr th {\n",
       "        vertical-align: top;\n",
       "    }\n",
       "\n",
       "    .dataframe thead th {\n",
       "        text-align: right;\n",
       "    }\n",
       "</style>\n",
       "<table border=\"1\" class=\"dataframe\">\n",
       "  <thead>\n",
       "    <tr style=\"text-align: right;\">\n",
       "      <th></th>\n",
       "      <th>school</th>\n",
       "      <th>address</th>\n",
       "    </tr>\n",
       "  </thead>\n",
       "  <tbody>\n",
       "    <tr>\n",
       "      <th>0</th>\n",
       "      <td>Academy Park Elementary School</td>\n",
       "      <td>4580 W Westpoint Drive (4575 S)\\nWest Valley, ...</td>\n",
       "    </tr>\n",
       "    <tr>\n",
       "      <th>1</th>\n",
       "      <td>Arcadia Elementary</td>\n",
       "      <td>3461 W 4850 S, Salt Lake City, UT 84129</td>\n",
       "    </tr>\n",
       "    <tr>\n",
       "      <th>2</th>\n",
       "      <td>Beehive Elementary School</td>\n",
       "      <td>5655 South 5220 West\\nKearns, UT 84118-7500</td>\n",
       "    </tr>\n",
       "    <tr>\n",
       "      <th>3</th>\n",
       "      <td>Bennion Jr. High</td>\n",
       "      <td>6055 S 2700 W, Salt Lake City, UT 84129</td>\n",
       "    </tr>\n",
       "    <tr>\n",
       "      <th>4</th>\n",
       "      <td>Bonneville Junior High</td>\n",
       "      <td>5330 Gurene Dr, Holladay, UT 84117</td>\n",
       "    </tr>\n",
       "  </tbody>\n",
       "</table>\n",
       "</div>"
      ],
      "text/plain": [
       "                           school  \\\n",
       "0  Academy Park Elementary School   \n",
       "1              Arcadia Elementary   \n",
       "2       Beehive Elementary School   \n",
       "3                Bennion Jr. High   \n",
       "4          Bonneville Junior High   \n",
       "\n",
       "                                             address  \n",
       "0  4580 W Westpoint Drive (4575 S)\\nWest Valley, ...  \n",
       "1            3461 W 4850 S, Salt Lake City, UT 84129  \n",
       "2        5655 South 5220 West\\nKearns, UT 84118-7500  \n",
       "3            6055 S 2700 W, Salt Lake City, UT 84129  \n",
       "4                 5330 Gurene Dr, Holladay, UT 84117  "
      ]
     },
     "execution_count": 50,
     "metadata": {},
     "output_type": "execute_result"
    }
   ],
   "source": [
    "#: Read a csv in, reanme the columns\n",
    "in_df = pd.read_csv('data/schools.csv').rename(columns={'School name ': 'school', 'School address ': 'address'})\n",
    "in_df.head()"
   ]
  },
  {
   "cell_type": "code",
   "execution_count": 51,
   "id": "18d07c0a",
   "metadata": {
    "slideshow": {
     "slide_type": "slide"
    }
   },
   "outputs": [
    {
     "name": "stdout",
     "output_type": "stream",
     "text": [
      "49\n"
     ]
    },
    {
     "data": {
      "text/html": [
       "<div>\n",
       "<style scoped>\n",
       "    .dataframe tbody tr th:only-of-type {\n",
       "        vertical-align: middle;\n",
       "    }\n",
       "\n",
       "    .dataframe tbody tr th {\n",
       "        vertical-align: top;\n",
       "    }\n",
       "\n",
       "    .dataframe thead th {\n",
       "        text-align: right;\n",
       "    }\n",
       "</style>\n",
       "<table border=\"1\" class=\"dataframe\">\n",
       "  <thead>\n",
       "    <tr style=\"text-align: right;\">\n",
       "      <th></th>\n",
       "      <th>school</th>\n",
       "      <th>address</th>\n",
       "      <th>street_addr</th>\n",
       "    </tr>\n",
       "  </thead>\n",
       "  <tbody>\n",
       "    <tr>\n",
       "      <th>0</th>\n",
       "      <td>Academy Park Elementary School</td>\n",
       "      <td>4580 W Westpoint Drive (4575 S)\\nWest Valley, ...</td>\n",
       "      <td>4580 W Westpoint Drive</td>\n",
       "    </tr>\n",
       "    <tr>\n",
       "      <th>2</th>\n",
       "      <td>Beehive Elementary School</td>\n",
       "      <td>5655 South 5220 West\\nKearns, UT 84118-7500</td>\n",
       "      <td>5655 South 5220 West</td>\n",
       "    </tr>\n",
       "    <tr>\n",
       "      <th>6</th>\n",
       "      <td>Churchill Junior High</td>\n",
       "      <td>3450 E Oakview Drive (4275 S)\\nSalt Lake City,...</td>\n",
       "      <td>3450 E Oakview Drive</td>\n",
       "    </tr>\n",
       "    <tr>\n",
       "      <th>8</th>\n",
       "      <td>Cottonwood Elementary School</td>\n",
       "      <td>5205 S Holladay Boulevard (2600 E)\\nHolladay, ...</td>\n",
       "      <td>5205 S Holladay Boulevard</td>\n",
       "    </tr>\n",
       "    <tr>\n",
       "      <th>10</th>\n",
       "      <td>Crestview Elementary School</td>\n",
       "      <td>2100 E Lincoln Lane (4350 S)\\nHolladay, UT 841...</td>\n",
       "      <td>2100 E Lincoln Lane</td>\n",
       "    </tr>\n",
       "  </tbody>\n",
       "</table>\n",
       "</div>"
      ],
      "text/plain": [
       "                            school  \\\n",
       "0   Academy Park Elementary School   \n",
       "2        Beehive Elementary School   \n",
       "6            Churchill Junior High   \n",
       "8     Cottonwood Elementary School   \n",
       "10     Crestview Elementary School   \n",
       "\n",
       "                                              address  \\\n",
       "0   4580 W Westpoint Drive (4575 S)\\nWest Valley, ...   \n",
       "2         5655 South 5220 West\\nKearns, UT 84118-7500   \n",
       "6   3450 E Oakview Drive (4275 S)\\nSalt Lake City,...   \n",
       "8   5205 S Holladay Boulevard (2600 E)\\nHolladay, ...   \n",
       "10  2100 E Lincoln Lane (4350 S)\\nHolladay, UT 841...   \n",
       "\n",
       "                  street_addr  \n",
       "0      4580 W Westpoint Drive  \n",
       "2        5655 South 5220 West  \n",
       "6        3450 E Oakview Drive  \n",
       "8   5205 S Holladay Boulevard  \n",
       "10        2100 E Lincoln Lane  "
      ]
     },
     "execution_count": 51,
     "metadata": {},
     "output_type": "execute_result"
    }
   ],
   "source": [
    "#: First, work on addresses that use newlines\n",
    "newline_df = in_df[in_df['address'].str.contains(r'\\n')].copy()\n",
    "print(len(newline_df))\n",
    "\n",
    "#: Split on newline, then split on \"(\" to remove alternative street names, then strip whitespace\n",
    "newline_df['street_addr'] = newline_df['address'].str.split(r'\\n').str[0].str.split(r'(').str[0].str.strip()\n",
    "newline_df.head()"
   ]
  },
  {
   "cell_type": "code",
   "execution_count": 52,
   "id": "d27ced3f",
   "metadata": {
    "slideshow": {
     "slide_type": "slide"
    }
   },
   "outputs": [
    {
     "name": "stdout",
     "output_type": "stream",
     "text": [
      "35\n"
     ]
    },
    {
     "data": {
      "text/html": [
       "<div>\n",
       "<style scoped>\n",
       "    .dataframe tbody tr th:only-of-type {\n",
       "        vertical-align: middle;\n",
       "    }\n",
       "\n",
       "    .dataframe tbody tr th {\n",
       "        vertical-align: top;\n",
       "    }\n",
       "\n",
       "    .dataframe thead th {\n",
       "        text-align: right;\n",
       "    }\n",
       "</style>\n",
       "<table border=\"1\" class=\"dataframe\">\n",
       "  <thead>\n",
       "    <tr style=\"text-align: right;\">\n",
       "      <th></th>\n",
       "      <th>school</th>\n",
       "      <th>address</th>\n",
       "      <th>street_addr</th>\n",
       "    </tr>\n",
       "  </thead>\n",
       "  <tbody>\n",
       "    <tr>\n",
       "      <th>1</th>\n",
       "      <td>Arcadia Elementary</td>\n",
       "      <td>3461 W 4850 S, Salt Lake City, UT 84129</td>\n",
       "      <td>3461 W 4850 S</td>\n",
       "    </tr>\n",
       "    <tr>\n",
       "      <th>3</th>\n",
       "      <td>Bennion Jr. High</td>\n",
       "      <td>6055 S 2700 W, Salt Lake City, UT 84129</td>\n",
       "      <td>6055 S 2700 W</td>\n",
       "    </tr>\n",
       "    <tr>\n",
       "      <th>4</th>\n",
       "      <td>Bonneville Junior High</td>\n",
       "      <td>5330 Gurene Dr, Holladay, UT 84117</td>\n",
       "      <td>5330 Gurene Dr</td>\n",
       "    </tr>\n",
       "    <tr>\n",
       "      <th>5</th>\n",
       "      <td>Calvin S. Smith Elementary</td>\n",
       "      <td>2150 W 6200 S, Taylorsville, UT 84129</td>\n",
       "      <td>2150 W 6200 S</td>\n",
       "    </tr>\n",
       "    <tr>\n",
       "      <th>7</th>\n",
       "      <td>Copper Hills Elementary School</td>\n",
       "      <td>7635 W Washington Rd, Magna, UT 84044</td>\n",
       "      <td>7635 W Washington Rd</td>\n",
       "    </tr>\n",
       "  </tbody>\n",
       "</table>\n",
       "</div>"
      ],
      "text/plain": [
       "                           school                                  address  \\\n",
       "1              Arcadia Elementary  3461 W 4850 S, Salt Lake City, UT 84129   \n",
       "3                Bennion Jr. High  6055 S 2700 W, Salt Lake City, UT 84129   \n",
       "4          Bonneville Junior High       5330 Gurene Dr, Holladay, UT 84117   \n",
       "5      Calvin S. Smith Elementary    2150 W 6200 S, Taylorsville, UT 84129   \n",
       "7  Copper Hills Elementary School    7635 W Washington Rd, Magna, UT 84044   \n",
       "\n",
       "            street_addr  \n",
       "1         3461 W 4850 S  \n",
       "3         6055 S 2700 W  \n",
       "4        5330 Gurene Dr  \n",
       "5         2150 W 6200 S  \n",
       "7  7635 W Washington Rd  "
      ]
     },
     "execution_count": 52,
     "metadata": {},
     "output_type": "execute_result"
    }
   ],
   "source": [
    "#: Now operate on all the addresses that don't have a newline \n",
    "#: The ~ is panda's negating operator (similar to !). We wrap the whole expression to be negated in ().\n",
    "comma_df = in_df[~(in_df['address'].str.contains(r'\\n'))].copy()\n",
    "print(len(comma_df))\n",
    "\n",
    "#: Just split on comma, taking the first piece\n",
    "comma_df['street_addr'] = comma_df['address'].str.split(',').str[0]\n",
    "comma_df.head()"
   ]
  },
  {
   "cell_type": "code",
   "execution_count": 53,
   "id": "7c3bb603",
   "metadata": {
    "slideshow": {
     "slide_type": "slide"
    }
   },
   "outputs": [
    {
     "data": {
      "text/html": [
       "<div>\n",
       "<style scoped>\n",
       "    .dataframe tbody tr th:only-of-type {\n",
       "        vertical-align: middle;\n",
       "    }\n",
       "\n",
       "    .dataframe tbody tr th {\n",
       "        vertical-align: top;\n",
       "    }\n",
       "\n",
       "    .dataframe thead th {\n",
       "        text-align: right;\n",
       "    }\n",
       "</style>\n",
       "<table border=\"1\" class=\"dataframe\">\n",
       "  <thead>\n",
       "    <tr style=\"text-align: right;\">\n",
       "      <th></th>\n",
       "      <th>school</th>\n",
       "      <th>address</th>\n",
       "      <th>street_addr</th>\n",
       "      <th>zip</th>\n",
       "    </tr>\n",
       "  </thead>\n",
       "  <tbody>\n",
       "    <tr>\n",
       "      <th>0</th>\n",
       "      <td>Academy Park Elementary School</td>\n",
       "      <td>4580 W Westpoint Drive (4575 S)\\nWest Valley, ...</td>\n",
       "      <td>4580 W Westpoint Drive</td>\n",
       "      <td>84120-5920</td>\n",
       "    </tr>\n",
       "    <tr>\n",
       "      <th>1</th>\n",
       "      <td>Arcadia Elementary</td>\n",
       "      <td>3461 W 4850 S, Salt Lake City, UT 84129</td>\n",
       "      <td>3461 W 4850 S</td>\n",
       "      <td>84129</td>\n",
       "    </tr>\n",
       "    <tr>\n",
       "      <th>2</th>\n",
       "      <td>Beehive Elementary School</td>\n",
       "      <td>5655 South 5220 West\\nKearns, UT 84118-7500</td>\n",
       "      <td>5655 South 5220 West</td>\n",
       "      <td>84118-7500</td>\n",
       "    </tr>\n",
       "    <tr>\n",
       "      <th>3</th>\n",
       "      <td>Bennion Jr. High</td>\n",
       "      <td>6055 S 2700 W, Salt Lake City, UT 84129</td>\n",
       "      <td>6055 S 2700 W</td>\n",
       "      <td>84129</td>\n",
       "    </tr>\n",
       "    <tr>\n",
       "      <th>4</th>\n",
       "      <td>Bonneville Junior High</td>\n",
       "      <td>5330 Gurene Dr, Holladay, UT 84117</td>\n",
       "      <td>5330 Gurene Dr</td>\n",
       "      <td>84117</td>\n",
       "    </tr>\n",
       "  </tbody>\n",
       "</table>\n",
       "</div>"
      ],
      "text/plain": [
       "                           school  \\\n",
       "0  Academy Park Elementary School   \n",
       "1              Arcadia Elementary   \n",
       "2       Beehive Elementary School   \n",
       "3                Bennion Jr. High   \n",
       "4          Bonneville Junior High   \n",
       "\n",
       "                                             address             street_addr  \\\n",
       "0  4580 W Westpoint Drive (4575 S)\\nWest Valley, ...  4580 W Westpoint Drive   \n",
       "1            3461 W 4850 S, Salt Lake City, UT 84129           3461 W 4850 S   \n",
       "2        5655 South 5220 West\\nKearns, UT 84118-7500    5655 South 5220 West   \n",
       "3            6055 S 2700 W, Salt Lake City, UT 84129           6055 S 2700 W   \n",
       "4                 5330 Gurene Dr, Holladay, UT 84117          5330 Gurene Dr   \n",
       "\n",
       "          zip  \n",
       "0  84120-5920  \n",
       "1       84129  \n",
       "2  84118-7500  \n",
       "3       84129  \n",
       "4       84117  "
      ]
     },
     "execution_count": 53,
     "metadata": {},
     "output_type": "execute_result"
    }
   ],
   "source": [
    "#: Combine them back together with pd.concat (more on this later)\n",
    "recombined_df = pd.concat([newline_df, comma_df])\n",
    "\n",
    "#: The zip code is always the text after the last space\n",
    "recombined_df['zip'] = recombined_df['address'].str.split(' ').str[-1]\n",
    "recombined_df.sort_index().head()"
   ]
  },
  {
   "cell_type": "code",
   "execution_count": 54,
   "id": "2db4df33",
   "metadata": {
    "slideshow": {
     "slide_type": "fragment"
    }
   },
   "outputs": [],
   "source": [
    "#: Write to csv\n",
    "recombined_df.to_csv('data\\combined.csv')"
   ]
  },
  {
   "cell_type": "markdown",
   "id": "e17a98b7",
   "metadata": {
    "slideshow": {
     "slide_type": "slide"
    }
   },
   "source": [
    "# Working with Rows: `.apply()`"
   ]
  },
  {
   "cell_type": "markdown",
   "id": "7b856dbd",
   "metadata": {
    "slideshow": {
     "slide_type": "slide"
    }
   },
   "source": [
    "## The Wrong Way to Get Row Values"
   ]
  },
  {
   "cell_type": "code",
   "execution_count": 55,
   "id": "9954d9a6",
   "metadata": {
    "slideshow": {
     "slide_type": "fragment"
    }
   },
   "outputs": [
    {
     "name": "stdout",
     "output_type": "stream",
     "text": [
      "11.0\n",
      "57.0\n",
      "35.0\n",
      "49.0\n"
     ]
    }
   ],
   "source": [
    "#: Get the values of each row as a named tuple- \"fastest\" iteration if you absolutely have to iterate\n",
    "#: Find the FIPS value of all counties with population over 200,000\n",
    "for row in counties_df.itertuples():\n",
    "    if row.POP_LASTCENSUS > 200000:\n",
    "        print(row.FIPS)"
   ]
  },
  {
   "cell_type": "markdown",
   "id": "6344b777",
   "metadata": {
    "slideshow": {
     "slide_type": "slide"
    }
   },
   "source": [
    "Iterating over the rows of a dataframe is like using using a a set of pliers to drive in a nail. It can be done, but it's slow and everyone will tell you to use a hammer instead.\n",
    "\n",
    "![not a hammer](assets/pliers_hammer.png)\n",
    "\n",
    "Instead, change your thought process. Think about how your output could be expressed as a **function of other columns** within the dataframe. Using pandas' built-in vectorized functions is much faster and ultimately more readable."
   ]
  },
  {
   "cell_type": "code",
   "execution_count": 56,
   "id": "b3508f92",
   "metadata": {
    "slideshow": {
     "slide_type": "fragment"
    }
   },
   "outputs": [
    {
     "data": {
      "text/plain": [
       "[11.0, 57.0, 35.0, 49.0]"
      ]
     },
     "execution_count": 56,
     "metadata": {},
     "output_type": "execute_result"
    }
   ],
   "source": [
    "#: use filtering and lists\n",
    "list(counties_df[counties_df['POP_LASTCENSUS'] > 200000]['FIPS'])"
   ]
  },
  {
   "cell_type": "markdown",
   "id": "934ac495",
   "metadata": {
    "slideshow": {
     "slide_type": "slide"
    }
   },
   "source": [
    "## Use `.apply` Instead"
   ]
  },
  {
   "cell_type": "markdown",
   "id": "786a5bfd",
   "metadata": {
    "slideshow": {
     "slide_type": "slide"
    }
   },
   "source": [
    "The `.apply()` method can be used to perform an aribtrary operation against data in a DataFrame. This is a shift in thinking: instead of extracting the data _from_ the dataframe to pass to another function, you pass the _function_ to the dataframe. This is much faster than iterating over the rows to get individual elements."
   ]
  },
  {
   "cell_type": "markdown",
   "id": "1487c5e2",
   "metadata": {
    "slideshow": {
     "slide_type": "fragment"
    }
   },
   "source": [
    "`.apply` sends a series of data to the specified function and combines the resulting data. If called directly on a series, it just sends that data. If called on a DataFrame, it either sends each column as the series of values in each row or each row as the series of values in each column. "
   ]
  },
  {
   "cell_type": "markdown",
   "id": "75b99644",
   "metadata": {
    "slideshow": {
     "slide_type": "fragment"
    }
   },
   "source": [
    "The function passed via `.apply` can either **aggregate** the data (create a new output that is a function of the inputs) or **transform** the data (create a new element for eact input element). "
   ]
  },
  {
   "cell_type": "code",
   "execution_count": 57,
   "id": "51702f79",
   "metadata": {
    "scrolled": true,
    "slideshow": {
     "slide_type": "slide"
    }
   },
   "outputs": [
    {
     "data": {
      "text/html": [
       "<div>\n",
       "<style scoped>\n",
       "    .dataframe tbody tr th:only-of-type {\n",
       "        vertical-align: middle;\n",
       "    }\n",
       "\n",
       "    .dataframe tbody tr th {\n",
       "        vertical-align: top;\n",
       "    }\n",
       "\n",
       "    .dataframe thead th {\n",
       "        text-align: right;\n",
       "    }\n",
       "</style>\n",
       "<table border=\"1\" class=\"dataframe\">\n",
       "  <thead>\n",
       "    <tr style=\"text-align: right;\">\n",
       "      <th></th>\n",
       "      <th>POP_LASTCENSUS</th>\n",
       "      <th>POP_CURRESTIMATE</th>\n",
       "    </tr>\n",
       "    <tr>\n",
       "      <th>FIPS_STR</th>\n",
       "      <th></th>\n",
       "      <th></th>\n",
       "    </tr>\n",
       "  </thead>\n",
       "  <tbody>\n",
       "    <tr>\n",
       "      <th>49005</th>\n",
       "      <td>133154</td>\n",
       "      <td>140173</td>\n",
       "    </tr>\n",
       "    <tr>\n",
       "      <th>49013</th>\n",
       "      <td>19596</td>\n",
       "      <td>20161</td>\n",
       "    </tr>\n",
       "    <tr>\n",
       "      <th>49011</th>\n",
       "      <td>362679</td>\n",
       "      <td>369948</td>\n",
       "    </tr>\n",
       "    <tr>\n",
       "      <th>49027</th>\n",
       "      <td>12975</td>\n",
       "      <td>13330</td>\n",
       "    </tr>\n",
       "    <tr>\n",
       "      <th>49051</th>\n",
       "      <td>34788</td>\n",
       "      <td>36619</td>\n",
       "    </tr>\n",
       "  </tbody>\n",
       "</table>\n",
       "</div>"
      ],
      "text/plain": [
       "          POP_LASTCENSUS  POP_CURRESTIMATE\n",
       "FIPS_STR                                  \n",
       "49005             133154            140173\n",
       "49013              19596             20161\n",
       "49011             362679            369948\n",
       "49027              12975             13330\n",
       "49051              34788             36619"
      ]
     },
     "execution_count": 57,
     "metadata": {},
     "output_type": "execute_result"
    }
   ],
   "source": [
    "#: Get some numeric data to work on\n",
    "county_pop_df = counties_df[['POP_LASTCENSUS', 'POP_CURRESTIMATE']]\n",
    "county_pop_df.head()"
   ]
  },
  {
   "cell_type": "markdown",
   "id": "890d8798",
   "metadata": {
    "slideshow": {
     "slide_type": "slide"
    }
   },
   "source": [
    "## Aggrevating Aggregation"
   ]
  },
  {
   "cell_type": "markdown",
   "id": "c6312df1",
   "metadata": {
    "slideshow": {
     "slide_type": "fragment"
    }
   },
   "source": [
    "An **agregation** function takes a set of data and computes a value for each set. The output will have one dimension less than the input. Applying to a dataframe will result in a series, like taking the average of values:"
   ]
  },
  {
   "cell_type": "code",
   "execution_count": 58,
   "id": "338201f2",
   "metadata": {
    "slideshow": {
     "slide_type": "slide"
    }
   },
   "outputs": [
    {
     "data": {
      "text/plain": [
       "POP_LASTCENSUS      112814.344828\n",
       "POP_CURRESTIMATE    116579.310345\n",
       "dtype: float64"
      ]
     },
     "execution_count": 58,
     "metadata": {},
     "output_type": "execute_result"
    }
   ],
   "source": [
    "county_pop_df.apply(np.mean)  #: default is axis='rows', which applies the function to every row in a column"
   ]
  },
  {
   "cell_type": "code",
   "execution_count": 59,
   "id": "cf7aceac",
   "metadata": {
    "scrolled": false,
    "slideshow": {
     "slide_type": "fragment"
    }
   },
   "outputs": [
    {
     "data": {
      "text/plain": [
       "FIPS_STR\n",
       "49005    136663.5\n",
       "49013     19878.5\n",
       "49011    366313.5\n",
       "49027     13152.5\n",
       "49051     35703.5\n",
       "dtype: float64"
      ]
     },
     "execution_count": 59,
     "metadata": {},
     "output_type": "execute_result"
    }
   ],
   "source": [
    "county_pop_df.apply(np.mean, axis='columns').head()  #: change to pass columns (applied along the columns)"
   ]
  },
  {
   "cell_type": "markdown",
   "id": "0f92c81d",
   "metadata": {
    "slideshow": {
     "slide_type": "slide"
    }
   },
   "source": [
    "Note the differences with `axis='columns'` in aggregating functions. This parameter controls the contents of the series that is passed to the function. \n",
    "\n",
    "The default (`axis='rows'`) sends a series containing all the row values in a column to the function, repeating for however many columns there are. Thus, the function is applied along the rows."
   ]
  },
  {
   "cell_type": "markdown",
   "id": "26f01120",
   "metadata": {
    "slideshow": {
     "slide_type": "fragment"
    }
   },
   "source": [
    "![aggreation/rows](assets/apply_aggregation_rows.png)"
   ]
  },
  {
   "cell_type": "markdown",
   "id": "7e943fe3",
   "metadata": {
    "slideshow": {
     "slide_type": "slide"
    }
   },
   "source": [
    "Using `axis='columns'` instead sends a series containing all the columns to the function, repeating for however many rows are in the dataframe. Thus, the function is applied along the columns."
   ]
  },
  {
   "cell_type": "markdown",
   "id": "72ec7f83",
   "metadata": {
    "slideshow": {
     "slide_type": "fragment"
    }
   },
   "source": [
    "![apply/columns](assets/apply_aggregation_columns.png)"
   ]
  },
  {
   "cell_type": "markdown",
   "id": "6498e552",
   "metadata": {
    "slideshow": {
     "slide_type": "slide"
    }
   },
   "source": [
    " ## Transcontinental Transformations"
   ]
  },
  {
   "cell_type": "markdown",
   "id": "385980dc",
   "metadata": {
    "slideshow": {
     "slide_type": "fragment"
    }
   },
   "source": [
    "A **transformation** function returns an output for every input and thus has the same dimensions as the input, such as taking the square root of all the values in the dataframe:"
   ]
  },
  {
   "cell_type": "code",
   "execution_count": 60,
   "id": "4f4a2d91",
   "metadata": {
    "scrolled": false,
    "slideshow": {
     "slide_type": "slide"
    }
   },
   "outputs": [
    {
     "data": {
      "text/html": [
       "<div>\n",
       "<style scoped>\n",
       "    .dataframe tbody tr th:only-of-type {\n",
       "        vertical-align: middle;\n",
       "    }\n",
       "\n",
       "    .dataframe tbody tr th {\n",
       "        vertical-align: top;\n",
       "    }\n",
       "\n",
       "    .dataframe thead th {\n",
       "        text-align: right;\n",
       "    }\n",
       "</style>\n",
       "<table border=\"1\" class=\"dataframe\">\n",
       "  <thead>\n",
       "    <tr style=\"text-align: right;\">\n",
       "      <th></th>\n",
       "      <th>POP_LASTCENSUS</th>\n",
       "      <th>POP_CURRESTIMATE</th>\n",
       "    </tr>\n",
       "    <tr>\n",
       "      <th>FIPS_STR</th>\n",
       "      <th></th>\n",
       "      <th></th>\n",
       "    </tr>\n",
       "  </thead>\n",
       "  <tbody>\n",
       "    <tr>\n",
       "      <th>49005</th>\n",
       "      <td>364.902727</td>\n",
       "      <td>374.396848</td>\n",
       "    </tr>\n",
       "    <tr>\n",
       "      <th>49013</th>\n",
       "      <td>139.985714</td>\n",
       "      <td>141.989436</td>\n",
       "    </tr>\n",
       "    <tr>\n",
       "      <th>49011</th>\n",
       "      <td>602.228362</td>\n",
       "      <td>608.233508</td>\n",
       "    </tr>\n",
       "    <tr>\n",
       "      <th>49027</th>\n",
       "      <td>113.907857</td>\n",
       "      <td>115.455619</td>\n",
       "    </tr>\n",
       "    <tr>\n",
       "      <th>49051</th>\n",
       "      <td>186.515415</td>\n",
       "      <td>191.360916</td>\n",
       "    </tr>\n",
       "  </tbody>\n",
       "</table>\n",
       "</div>"
      ],
      "text/plain": [
       "          POP_LASTCENSUS  POP_CURRESTIMATE\n",
       "FIPS_STR                                  \n",
       "49005         364.902727        374.396848\n",
       "49013         139.985714        141.989436\n",
       "49011         602.228362        608.233508\n",
       "49027         113.907857        115.455619\n",
       "49051         186.515415        191.360916"
      ]
     },
     "execution_count": 60,
     "metadata": {},
     "output_type": "execute_result"
    }
   ],
   "source": [
    "county_pop_df.apply(np.sqrt).head()"
   ]
  },
  {
   "cell_type": "markdown",
   "id": "1f330540",
   "metadata": {
    "slideshow": {
     "slide_type": "fragment"
    }
   },
   "source": [
    "![apply/transformation](assets/apply_transformation_columns.png)"
   ]
  },
  {
   "cell_type": "markdown",
   "id": "015c2b73",
   "metadata": {
    "slideshow": {
     "slide_type": "slide"
    }
   },
   "source": [
    "## Using `lambda` Functions for Arbitrary Operations"
   ]
  },
  {
   "cell_type": "markdown",
   "id": "507d7fd1",
   "metadata": {
    "slideshow": {
     "slide_type": "slide"
    }
   },
   "source": [
    "`lambda` functions are small, one-line functions that don't use the normal `def function_name(args):` syntax.\n",
    "\n",
    "They are useful for creating simple bits of code you can use with `.apply` without having to declare a normal function elsewhere in your code."
   ]
  },
  {
   "cell_type": "markdown",
   "id": "a14125f3",
   "metadata": {},
   "source": [
    "`lambda`s are callable objects meant to be passed to another function imediately after creation, instead of the normal behavior of assigning them a name for later reference."
   ]
  },
  {
   "cell_type": "code",
   "execution_count": 61,
   "id": "5f6b0e30",
   "metadata": {
    "slideshow": {
     "slide_type": "slide"
    }
   },
   "outputs": [
    {
     "data": {
      "text/plain": [
       "FIPS_STR\n",
       "49005     5456.779633\n",
       "49013    14489.452124\n",
       "49011     2889.969718\n",
       "49027    29421.994253\n",
       "49051     5396.133031\n",
       "Name: SHAPE, dtype: float64"
      ]
     },
     "execution_count": 61,
     "metadata": {},
     "output_type": "execute_result"
    }
   ],
   "source": [
    "#: Calculate the square kilometers of a geometry \n",
    "def get_sq_km(geometry):\n",
    "    return geometry.area / 1000000\n",
    "\n",
    "counties_df['SHAPE'].apply(get_sq_km).head()"
   ]
  },
  {
   "cell_type": "code",
   "execution_count": 62,
   "id": "bb8a6465",
   "metadata": {
    "scrolled": true,
    "slideshow": {
     "slide_type": "fragment"
    }
   },
   "outputs": [
    {
     "data": {
      "text/plain": [
       "FIPS_STR\n",
       "49005     5456.779633\n",
       "49013    14489.452124\n",
       "49011     2889.969718\n",
       "49027    29421.994253\n",
       "49051     5396.133031\n",
       "Name: SHAPE, dtype: float64"
      ]
     },
     "execution_count": 62,
     "metadata": {},
     "output_type": "execute_result"
    }
   ],
   "source": [
    "#: Access the `.area` property of each geometry in the SHAPE column by applying a lambda function instead\n",
    "counties_df['SHAPE'].apply(lambda x: x.area / 1000000).head()"
   ]
  },
  {
   "cell_type": "markdown",
   "id": "f41fcc02",
   "metadata": {
    "slideshow": {
     "slide_type": "slide"
    }
   },
   "source": [
    "## `lambda` syntax"
   ]
  },
  {
   "cell_type": "markdown",
   "id": "dee86ef7",
   "metadata": {
    "slideshow": {
     "slide_type": "fragment"
    }
   },
   "source": [
    "`lambda` functions are defined with the statement `lambda var_name: <operations on var_name>`. "
   ]
  },
  {
   "cell_type": "markdown",
   "id": "b31aeac8",
   "metadata": {
    "slideshow": {
     "slide_type": "fragment"
    }
   },
   "source": [
    "`var_name` is a name you choose to refer to the input; `x` is used by convention but you can choose another name that is more applicable to your problem. "
   ]
  },
  {
   "cell_type": "markdown",
   "id": "43129555",
   "metadata": {
    "slideshow": {
     "slide_type": "fragment"
    }
   },
   "source": [
    "The body of the statement, everything after `:`, is what you want to do with the input \n"
   ]
  },
  {
   "cell_type": "markdown",
   "id": "e58563df",
   "metadata": {
    "slideshow": {
     "slide_type": "fragment"
    }
   },
   "source": [
    "Rather than explicitely using a `return` statement, it implicitely returns whatever the operation creates."
   ]
  },
  {
   "cell_type": "code",
   "execution_count": 63,
   "id": "c4b4543c",
   "metadata": {
    "slideshow": {
     "slide_type": "slide"
    }
   },
   "outputs": [
    {
     "data": {
      "text/plain": [
       "FIPS_STR\n",
       "49005    136663.5\n",
       "49013     19878.5\n",
       "49011    366313.5\n",
       "49027     13152.5\n",
       "49051     35703.5\n",
       "dtype: float64"
      ]
     },
     "execution_count": 63,
     "metadata": {},
     "output_type": "execute_result"
    }
   ],
   "source": [
    "#: Create a custom aggregation function for each row that references the column names \n",
    "county_pop_df.apply(lambda row: (row['POP_LASTCENSUS'] + row['POP_CURRESTIMATE'])/2, axis='columns').head()"
   ]
  },
  {
   "cell_type": "markdown",
   "id": "30bded6e",
   "metadata": {
    "slideshow": {
     "slide_type": "slide"
    }
   },
   "source": [
    "# Groupby: Aggregation and Summarization by Category"
   ]
  },
  {
   "cell_type": "markdown",
   "id": "f8a4ba7a",
   "metadata": {
    "slideshow": {
     "slide_type": "slide"
    }
   },
   "source": [
    "`.groupby` **splits** a dataframe by the values of a column, **applies** an operation on that each chunk's sub-frame, and then **combines** the results into a data structure based on the type of operation performed. "
   ]
  },
  {
   "cell_type": "code",
   "execution_count": 64,
   "id": "1f0b0933",
   "metadata": {
    "slideshow": {
     "slide_type": "fragment"
    }
   },
   "outputs": [
    {
     "data": {
      "text/plain": [
       "STATEPLANE\n",
       "Central    163228.076923\n",
       "North      109227.375000\n",
       "South       34479.000000\n",
       "Name: POP_LASTCENSUS, dtype: float64"
      ]
     },
     "execution_count": 64,
     "metadata": {},
     "output_type": "execute_result"
    }
   ],
   "source": [
    "#: Split by the different state plane projections, compute the mean of the population column, and recombine into a series\n",
    "counties_df.groupby('STATEPLANE')['POP_LASTCENSUS'].mean()"
   ]
  },
  {
   "cell_type": "markdown",
   "id": "720e861c",
   "metadata": {
    "slideshow": {
     "slide_type": "slide"
    }
   },
   "source": [
    "![groupby](assets/groupby_aggregation.png)"
   ]
  },
  {
   "cell_type": "code",
   "execution_count": 65,
   "id": "b523fa18",
   "metadata": {
    "slideshow": {
     "slide_type": "skip"
    }
   },
   "outputs": [],
   "source": [
    "#: calculate the percent contribution of each county's population to the group's total\n",
    "# plane_pop_df = counties_df[['STATEPLANE', 'POP_LASTCENSUS', 'POP_CURRESTIMATE']]\n",
    "# plane_pop_df.groupby('STATEPLANE').apply(lambda x: x/x.sum())"
   ]
  },
  {
   "cell_type": "markdown",
   "id": "15247158",
   "metadata": {
    "slideshow": {
     "slide_type": "slide"
    }
   },
   "source": [
    "Each groupby chunk is its own DataFrame, and any operation that can be done on a DataFrame can be done to the chunk. `.groupby()` returns a groupby object that handles the iteration over the DataFrames, and it also gives you access to the individual groups' DataFrames"
   ]
  },
  {
   "cell_type": "code",
   "execution_count": 66,
   "id": "dc63924d",
   "metadata": {
    "slideshow": {
     "slide_type": "slide"
    }
   },
   "outputs": [
    {
     "data": {
      "text/plain": [
       "{'Central': ['49013', '49027', '49051', '49023', '49039', '49019', '49007', '49041', '49045', '49047', '49015', '49035', '49049'], 'North': ['49005', '49011', '49003', '49057', '49033', '49009', '49043', '49029'], 'South': ['49053', '49001', '49017', '49031', '49021', '49055', '49037', '49025']}"
      ]
     },
     "execution_count": 66,
     "metadata": {},
     "output_type": "execute_result"
    }
   ],
   "source": [
    "#: Get a groupby object and list the groups\n",
    "grouped = counties_df.groupby('STATEPLANE')\n",
    "grouped.groups"
   ]
  },
  {
   "cell_type": "code",
   "execution_count": 67,
   "id": "bcf1ced6",
   "metadata": {
    "slideshow": {
     "slide_type": "fragment"
    }
   },
   "outputs": [
    {
     "data": {
      "text/html": [
       "<div>\n",
       "<style scoped>\n",
       "    .dataframe tbody tr th:only-of-type {\n",
       "        vertical-align: middle;\n",
       "    }\n",
       "\n",
       "    .dataframe tbody tr th {\n",
       "        vertical-align: top;\n",
       "    }\n",
       "\n",
       "    .dataframe thead th {\n",
       "        text-align: right;\n",
       "    }\n",
       "</style>\n",
       "<table border=\"1\" class=\"dataframe\">\n",
       "  <thead>\n",
       "    <tr style=\"text-align: right;\">\n",
       "      <th></th>\n",
       "      <th>OBJECTID</th>\n",
       "      <th>COUNTYNBR</th>\n",
       "      <th>ENTITYNBR</th>\n",
       "      <th>ENTITYYR</th>\n",
       "      <th>NAME</th>\n",
       "      <th>FIPS</th>\n",
       "      <th>STATEPLANE</th>\n",
       "      <th>POP_LASTCENSUS</th>\n",
       "      <th>POP_CURRESTIMATE</th>\n",
       "      <th>GlobalID</th>\n",
       "      <th>COLOR4</th>\n",
       "      <th>SHAPE</th>\n",
       "    </tr>\n",
       "    <tr>\n",
       "      <th>FIPS_STR</th>\n",
       "      <th></th>\n",
       "      <th></th>\n",
       "      <th></th>\n",
       "      <th></th>\n",
       "      <th></th>\n",
       "      <th></th>\n",
       "      <th></th>\n",
       "      <th></th>\n",
       "      <th></th>\n",
       "      <th></th>\n",
       "      <th></th>\n",
       "      <th></th>\n",
       "    </tr>\n",
       "  </thead>\n",
       "  <tbody>\n",
       "    <tr>\n",
       "      <th>49053</th>\n",
       "      <td>10</td>\n",
       "      <td>27</td>\n",
       "      <td>2.010271e+09</td>\n",
       "      <td>2010.0</td>\n",
       "      <td>WASHINGTON</td>\n",
       "      <td>53.0</td>\n",
       "      <td>South</td>\n",
       "      <td>180279</td>\n",
       "      <td>197680</td>\n",
       "      <td>{83A50666-0CF4-475E-8766-4B034A67F5CB}</td>\n",
       "      <td>1</td>\n",
       "      <td>{\"rings\": [[[-12631933.3297, 4524079.526000001...</td>\n",
       "    </tr>\n",
       "    <tr>\n",
       "      <th>49001</th>\n",
       "      <td>15</td>\n",
       "      <td>01</td>\n",
       "      <td>2.010011e+09</td>\n",
       "      <td>2010.0</td>\n",
       "      <td>BEAVER</td>\n",
       "      <td>1.0</td>\n",
       "      <td>South</td>\n",
       "      <td>7072</td>\n",
       "      <td>7327</td>\n",
       "      <td>{04ADA80E-57CF-40BB-8C5C-6FDED3D82E74}</td>\n",
       "      <td>4</td>\n",
       "      <td>{\"rings\": [[[-12525157.6426, 4660669.5066], [-...</td>\n",
       "    </tr>\n",
       "    <tr>\n",
       "      <th>49017</th>\n",
       "      <td>17</td>\n",
       "      <td>09</td>\n",
       "      <td>2.010091e+09</td>\n",
       "      <td>2010.0</td>\n",
       "      <td>GARFIELD</td>\n",
       "      <td>17.0</td>\n",
       "      <td>South</td>\n",
       "      <td>5083</td>\n",
       "      <td>5281</td>\n",
       "      <td>{BC231D40-6F41-45B1-B85D-8182B762CB64}</td>\n",
       "      <td>1</td>\n",
       "      <td>{\"rings\": [[[-12497349.647300001, 4600620.4720...</td>\n",
       "    </tr>\n",
       "    <tr>\n",
       "      <th>49031</th>\n",
       "      <td>20</td>\n",
       "      <td>16</td>\n",
       "      <td>2.010161e+09</td>\n",
       "      <td>2010.0</td>\n",
       "      <td>PIUTE</td>\n",
       "      <td>31.0</td>\n",
       "      <td>South</td>\n",
       "      <td>1438</td>\n",
       "      <td>1487</td>\n",
       "      <td>{D6B3A246-ECFB-42BF-96AA-970553380419}</td>\n",
       "      <td>2</td>\n",
       "      <td>{\"rings\": [[[-12504544.7647, 4651843.050300002...</td>\n",
       "    </tr>\n",
       "    <tr>\n",
       "      <th>49021</th>\n",
       "      <td>22</td>\n",
       "      <td>11</td>\n",
       "      <td>2.010111e+09</td>\n",
       "      <td>2010.0</td>\n",
       "      <td>IRON</td>\n",
       "      <td>21.0</td>\n",
       "      <td>South</td>\n",
       "      <td>57289</td>\n",
       "      <td>62429</td>\n",
       "      <td>{2ACA2EB9-31B5-4D6A-A858-A0F6B16C64E2}</td>\n",
       "      <td>3</td>\n",
       "      <td>{\"rings\": [[[-12619832.6598, 4600452.2751], [-...</td>\n",
       "    </tr>\n",
       "  </tbody>\n",
       "</table>\n",
       "</div>"
      ],
      "text/plain": [
       "          OBJECTID COUNTYNBR     ENTITYNBR  ENTITYYR        NAME  FIPS  \\\n",
       "FIPS_STR                                                                 \n",
       "49053           10        27  2.010271e+09    2010.0  WASHINGTON  53.0   \n",
       "49001           15        01  2.010011e+09    2010.0      BEAVER   1.0   \n",
       "49017           17        09  2.010091e+09    2010.0    GARFIELD  17.0   \n",
       "49031           20        16  2.010161e+09    2010.0       PIUTE  31.0   \n",
       "49021           22        11  2.010111e+09    2010.0        IRON  21.0   \n",
       "\n",
       "         STATEPLANE  POP_LASTCENSUS  POP_CURRESTIMATE  \\\n",
       "FIPS_STR                                                \n",
       "49053         South          180279            197680   \n",
       "49001         South            7072              7327   \n",
       "49017         South            5083              5281   \n",
       "49031         South            1438              1487   \n",
       "49021         South           57289             62429   \n",
       "\n",
       "                                        GlobalID  COLOR4  \\\n",
       "FIPS_STR                                                   \n",
       "49053     {83A50666-0CF4-475E-8766-4B034A67F5CB}       1   \n",
       "49001     {04ADA80E-57CF-40BB-8C5C-6FDED3D82E74}       4   \n",
       "49017     {BC231D40-6F41-45B1-B85D-8182B762CB64}       1   \n",
       "49031     {D6B3A246-ECFB-42BF-96AA-970553380419}       2   \n",
       "49021     {2ACA2EB9-31B5-4D6A-A858-A0F6B16C64E2}       3   \n",
       "\n",
       "                                                      SHAPE  \n",
       "FIPS_STR                                                     \n",
       "49053     {\"rings\": [[[-12631933.3297, 4524079.526000001...  \n",
       "49001     {\"rings\": [[[-12525157.6426, 4660669.5066], [-...  \n",
       "49017     {\"rings\": [[[-12497349.647300001, 4600620.4720...  \n",
       "49031     {\"rings\": [[[-12504544.7647, 4651843.050300002...  \n",
       "49021     {\"rings\": [[[-12619832.6598, 4600452.2751], [-...  "
      ]
     },
     "execution_count": 67,
     "metadata": {},
     "output_type": "execute_result"
    }
   ],
   "source": [
    "#: Access an individual group's dataframe\n",
    "grouped.get_group('South').head()"
   ]
  },
  {
   "cell_type": "markdown",
   "id": "1f617748",
   "metadata": {
    "slideshow": {
     "slide_type": "slide"
    }
   },
   "source": [
    "## `.groupby` and `.apply`"
   ]
  },
  {
   "cell_type": "markdown",
   "id": "b7e6dc31",
   "metadata": {
    "slideshow": {
     "slide_type": "fragment"
    }
   },
   "source": [
    "Because `.groupby` creates dataframes and iterates an operation on each one, we can use `.apply` to perform any arbitrary function on each dataframe. \n",
    "\n",
    "The function passed by `.apply` operates on the rows or columns of each chunk sub-frame just like it would when you use `.apply` on a normal dataframe, and the results from each group are combined back together."
   ]
  },
  {
   "cell_type": "markdown",
   "id": "e6c0b573",
   "metadata": {
    "slideshow": {
     "slide_type": "slide"
    }
   },
   "source": [
    "If you use a **tranformation** function that returns a value for each input value, `.apply` thus returns a dataframe. The groubpy combine step then concats all the dataframes together into a new dataframe with the same index as the original. "
   ]
  },
  {
   "cell_type": "markdown",
   "id": "63c21533",
   "metadata": {
    "slideshow": {
     "slide_type": "fragment"
    }
   },
   "source": [
    "This can be useful if you want to compare a value to the group's average, or apply a different correction value to each group."
   ]
  },
  {
   "cell_type": "code",
   "execution_count": 68,
   "id": "c033dc32",
   "metadata": {
    "slideshow": {
     "slide_type": "fragment"
    }
   },
   "outputs": [
    {
     "data": {
      "text/html": [
       "<div>\n",
       "<style scoped>\n",
       "    .dataframe tbody tr th:only-of-type {\n",
       "        vertical-align: middle;\n",
       "    }\n",
       "\n",
       "    .dataframe tbody tr th {\n",
       "        vertical-align: top;\n",
       "    }\n",
       "\n",
       "    .dataframe thead th {\n",
       "        text-align: right;\n",
       "    }\n",
       "</style>\n",
       "<table border=\"1\" class=\"dataframe\">\n",
       "  <thead>\n",
       "    <tr style=\"text-align: right;\">\n",
       "      <th></th>\n",
       "      <th>POP_LASTCENSUS</th>\n",
       "      <th>POP_CURRESTIMATE</th>\n",
       "    </tr>\n",
       "    <tr>\n",
       "      <th>FIPS_STR</th>\n",
       "      <th></th>\n",
       "      <th></th>\n",
       "    </tr>\n",
       "  </thead>\n",
       "  <tbody>\n",
       "    <tr>\n",
       "      <th>49005</th>\n",
       "      <td>0.152382</td>\n",
       "      <td>0.155628</td>\n",
       "    </tr>\n",
       "    <tr>\n",
       "      <th>49013</th>\n",
       "      <td>0.009235</td>\n",
       "      <td>0.009245</td>\n",
       "    </tr>\n",
       "    <tr>\n",
       "      <th>49011</th>\n",
       "      <td>0.415050</td>\n",
       "      <td>0.410738</td>\n",
       "    </tr>\n",
       "    <tr>\n",
       "      <th>49027</th>\n",
       "      <td>0.006115</td>\n",
       "      <td>0.006113</td>\n",
       "    </tr>\n",
       "    <tr>\n",
       "      <th>49051</th>\n",
       "      <td>0.016394</td>\n",
       "      <td>0.016793</td>\n",
       "    </tr>\n",
       "  </tbody>\n",
       "</table>\n",
       "</div>"
      ],
      "text/plain": [
       "          POP_LASTCENSUS  POP_CURRESTIMATE\n",
       "FIPS_STR                                  \n",
       "49005           0.152382          0.155628\n",
       "49013           0.009235          0.009245\n",
       "49011           0.415050          0.410738\n",
       "49027           0.006115          0.006113\n",
       "49051           0.016394          0.016793"
      ]
     },
     "execution_count": 68,
     "metadata": {},
     "output_type": "execute_result"
    }
   ],
   "source": [
    "#: calculate the percent contribution of each county's population to the group's total\n",
    "plane_pop_df = counties_df[['STATEPLANE', 'POP_LASTCENSUS', 'POP_CURRESTIMATE']]\n",
    "plane_pop_df.groupby('STATEPLANE').apply(lambda x: x/x.sum()).head()"
   ]
  },
  {
   "cell_type": "markdown",
   "id": "51a9623b",
   "metadata": {
    "slideshow": {
     "slide_type": "slide"
    }
   },
   "source": [
    "If you use an **aggregation function that returns a series** for each group, the combine step concats these series into a new dataframe. "
   ]
  },
  {
   "cell_type": "markdown",
   "id": "2eec4686",
   "metadata": {
    "slideshow": {
     "slide_type": "fragment"
    }
   },
   "source": [
    "This can be useful for running the same operation on multiple columns in each group, like a descriptive statistic."
   ]
  },
  {
   "cell_type": "code",
   "execution_count": 69,
   "id": "c409aa92",
   "metadata": {
    "slideshow": {
     "slide_type": "fragment"
    }
   },
   "outputs": [
    {
     "data": {
      "text/html": [
       "<div>\n",
       "<style scoped>\n",
       "    .dataframe tbody tr th:only-of-type {\n",
       "        vertical-align: middle;\n",
       "    }\n",
       "\n",
       "    .dataframe tbody tr th {\n",
       "        vertical-align: top;\n",
       "    }\n",
       "\n",
       "    .dataframe thead th {\n",
       "        text-align: right;\n",
       "    }\n",
       "</style>\n",
       "<table border=\"1\" class=\"dataframe\">\n",
       "  <thead>\n",
       "    <tr style=\"text-align: right;\">\n",
       "      <th></th>\n",
       "      <th>POP_LASTCENSUS</th>\n",
       "      <th>POP_CURRESTIMATE</th>\n",
       "    </tr>\n",
       "    <tr>\n",
       "      <th>STATEPLANE</th>\n",
       "      <th></th>\n",
       "      <th></th>\n",
       "    </tr>\n",
       "  </thead>\n",
       "  <tbody>\n",
       "    <tr>\n",
       "      <th>Central</th>\n",
       "      <td>163228.076923</td>\n",
       "      <td>167744.230769</td>\n",
       "    </tr>\n",
       "    <tr>\n",
       "      <th>North</th>\n",
       "      <td>109227.375000</td>\n",
       "      <td>112586.250000</td>\n",
       "    </tr>\n",
       "    <tr>\n",
       "      <th>South</th>\n",
       "      <td>34479.000000</td>\n",
       "      <td>37429.375000</td>\n",
       "    </tr>\n",
       "  </tbody>\n",
       "</table>\n",
       "</div>"
      ],
      "text/plain": [
       "            POP_LASTCENSUS  POP_CURRESTIMATE\n",
       "STATEPLANE                                  \n",
       "Central      163228.076923     167744.230769\n",
       "North        109227.375000     112586.250000\n",
       "South         34479.000000      37429.375000"
      ]
     },
     "execution_count": 69,
     "metadata": {},
     "output_type": "execute_result"
    }
   ],
   "source": [
    "#: Get the average for each column by group. The apply acts across two series for each group dataframe and returns\n",
    "#: a series for each, and then these are added as columns of our new dataframe\n",
    "plane_pop_df.groupby('STATEPLANE')[['POP_LASTCENSUS', 'POP_CURRESTIMATE']].apply(np.mean)"
   ]
  },
  {
   "cell_type": "markdown",
   "id": "160467ea",
   "metadata": {
    "slideshow": {
     "slide_type": "slide"
    }
   },
   "source": [
    "Finally, if you use an **aggregation function that returns a single value** for each group, they are combined into a series. "
   ]
  },
  {
   "cell_type": "markdown",
   "id": "fef9aa5b",
   "metadata": {
    "slideshow": {
     "slide_type": "fragment"
    }
   },
   "source": [
    "A commone use case is to get the total value for each group, like summing populations."
   ]
  },
  {
   "cell_type": "code",
   "execution_count": 70,
   "id": "e85dd2f4",
   "metadata": {
    "slideshow": {
     "slide_type": "fragment"
    }
   },
   "outputs": [
    {
     "data": {
      "text/plain": [
       "STATEPLANE\n",
       "Central    2121965\n",
       "North       873819\n",
       "South       275832\n",
       "Name: POP_LASTCENSUS, dtype: int64"
      ]
     },
     "execution_count": 70,
     "metadata": {},
     "output_type": "execute_result"
    }
   ],
   "source": [
    "plane_pop_df.groupby('STATEPLANE')['POP_LASTCENSUS'].sum()"
   ]
  },
  {
   "cell_type": "markdown",
   "id": "4aa2ca81",
   "metadata": {
    "slideshow": {
     "slide_type": "slide"
    }
   },
   "source": [
    "While these different recombinations may seem a little trivial, it's important to understand them when you pass more complicated functions."
   ]
  },
  {
   "cell_type": "markdown",
   "id": "5c88b657",
   "metadata": {
    "slideshow": {
     "slide_type": "slide"
    }
   },
   "source": [
    "## `groupby` Example: Broadband Data "
   ]
  },
  {
   "cell_type": "markdown",
   "id": "76878abc",
   "metadata": {
    "slideshow": {
     "slide_type": "fragment"
    }
   },
   "source": [
    "The FCC has released new broadband availability data based on individual Broadband Servicable Locations (BSLs). While the BSL locations themselves are protected by license, we can download the available service info from [broadbandmap.gov](broadbandmap.gov) and analyze it."
   ]
  },
  {
   "cell_type": "markdown",
   "id": "e9ad03ad",
   "metadata": {
    "slideshow": {
     "slide_type": "fragment"
    }
   },
   "source": [
    "The data are available for download by technology type, and there can be multiple records per location id within any technology types—one per provider that serves that location. "
   ]
  },
  {
   "cell_type": "markdown",
   "id": "63d5ee1b",
   "metadata": {
    "slideshow": {
     "slide_type": "fragment"
    }
   },
   "source": [
    "We'll take a folder of the downloaded CSVs, load and combine them into a single dataframe, classify the speeds into the FCC's three service levels (served, underserved, and unserved), and use `.groupby` to apply a classification function to determine which locations are served based on a subset of technologies."
   ]
  },
  {
   "cell_type": "code",
   "execution_count": 112,
   "id": "208c467a",
   "metadata": {
    "slideshow": {
     "slide_type": "slide"
    }
   },
   "outputs": [
    {
     "data": {
      "text/plain": [
       "GSO-Satellite                2922195\n",
       "Licensed-Fixed-Wireless      1651885\n",
       "Unlicensed-Fixed-Wireless    1537818\n",
       "NGSO-Satellite                974146\n",
       "Cable                         819488\n",
       "Copper                        658352\n",
       "Fiber-to-the-Premises         569896\n",
       "Name: technology_name, dtype: int64"
      ]
     },
     "execution_count": 112,
     "metadata": {},
     "output_type": "execute_result"
    }
   ],
   "source": [
    "#: Build a list of CSVs within a directory using Path's .glob() method\n",
    "csv_dir = Path('data/fcc/')\n",
    "csvs = list(csv_dir.glob('*.csv'))\n",
    "\n",
    "#: Build a list of dataframes by reading in each one and adding a column with the technology name from the filename\n",
    "dataframes = []\n",
    "for csv in csvs:\n",
    "    tech = csv.name.split('_')[2]\n",
    "    tech_df = pd.read_csv(csv)\n",
    "    tech_df['technology_name'] = tech\n",
    "    dataframes.append(tech_df)\n",
    "    \n",
    "#: Combine all dataframes into a single dataframe\n",
    "all_df = pd.concat(dataframes)\n",
    "all_df['technology_name'].value_counts()"
   ]
  },
  {
   "cell_type": "code",
   "execution_count": 113,
   "id": "86f19388",
   "metadata": {
    "slideshow": {
     "slide_type": "slide"
    }
   },
   "outputs": [],
   "source": [
    "#: np.select uses a list of boolean arrays or series to determine which choice should be returned\n",
    "#: at each appropriate index. \n",
    "conditions = [\n",
    "    (all_df['max_advertised_download_speed'] >= 100) & (all_df['max_advertised_upload_speed'] >= 20), # 1\n",
    "    ((all_df['max_advertised_download_speed'] >= 100) & ((all_df['max_advertised_upload_speed'] < 20) & (all_df['max_advertised_upload_speed'] >=3))) \n",
    "         | ((all_df['max_advertised_upload_speed'] >= 3) & ((all_df['max_advertised_download_speed'] < 100) & (all_df['max_advertised_download_speed'] >= 20))),\n",
    "    (all_df['max_advertised_download_speed'] < 25) | (all_df['max_advertised_upload_speed'] < 3),\n",
    "]\n",
    "choices = ['above 100/20', 'between 100/20 and 25/3', 'under 25/3']\n",
    "all_df['classification'] = np.select(conditions, choices, default='n/a')"
   ]
  },
  {
   "cell_type": "code",
   "execution_count": 135,
   "id": "4e2ff3ec",
   "metadata": {
    "slideshow": {
     "slide_type": "slide"
    }
   },
   "outputs": [
    {
     "data": {
      "text/html": [
       "<div>\n",
       "<style scoped>\n",
       "    .dataframe tbody tr th:only-of-type {\n",
       "        vertical-align: middle;\n",
       "    }\n",
       "\n",
       "    .dataframe tbody tr th {\n",
       "        vertical-align: top;\n",
       "    }\n",
       "\n",
       "    .dataframe thead th {\n",
       "        text-align: right;\n",
       "    }\n",
       "</style>\n",
       "<table border=\"1\" class=\"dataframe\">\n",
       "  <thead>\n",
       "    <tr style=\"text-align: right;\">\n",
       "      <th></th>\n",
       "      <th>provider_id</th>\n",
       "      <th>frn</th>\n",
       "      <th>brand_name</th>\n",
       "      <th>location_id</th>\n",
       "      <th>block_fips</th>\n",
       "      <th>h3index_hex8</th>\n",
       "      <th>technology_code</th>\n",
       "      <th>max_advertised_download_speed</th>\n",
       "      <th>max_advertised_upload_speed</th>\n",
       "      <th>low_latency</th>\n",
       "      <th>business_residential_code</th>\n",
       "      <th>technology_name</th>\n",
       "      <th>classification</th>\n",
       "    </tr>\n",
       "  </thead>\n",
       "  <tbody>\n",
       "    <tr>\n",
       "      <th>0</th>\n",
       "      <td>131310</td>\n",
       "      <td>22516330</td>\n",
       "      <td>TDS Telecom</td>\n",
       "      <td>1010272409</td>\n",
       "      <td>490211105022030</td>\n",
       "      <td>882991ca17fffff</td>\n",
       "      <td>40</td>\n",
       "      <td>1000</td>\n",
       "      <td>20</td>\n",
       "      <td>1</td>\n",
       "      <td>X</td>\n",
       "      <td>Cable</td>\n",
       "      <td>above 100/20</td>\n",
       "    </tr>\n",
       "    <tr>\n",
       "      <th>8557</th>\n",
       "      <td>130228</td>\n",
       "      <td>18626853</td>\n",
       "      <td>CenturyLink</td>\n",
       "      <td>1010272409</td>\n",
       "      <td>490211105022030</td>\n",
       "      <td>882991ca17fffff</td>\n",
       "      <td>10</td>\n",
       "      <td>0</td>\n",
       "      <td>0</td>\n",
       "      <td>1</td>\n",
       "      <td>X</td>\n",
       "      <td>Copper</td>\n",
       "      <td>under 25/3</td>\n",
       "    </tr>\n",
       "    <tr>\n",
       "      <th>229718</th>\n",
       "      <td>131219</td>\n",
       "      <td>1607175</td>\n",
       "      <td>SC BROADBAND</td>\n",
       "      <td>1010272409</td>\n",
       "      <td>490211105022030</td>\n",
       "      <td>882991ca17fffff</td>\n",
       "      <td>50</td>\n",
       "      <td>1000</td>\n",
       "      <td>1000</td>\n",
       "      <td>1</td>\n",
       "      <td>B</td>\n",
       "      <td>Fiber-to-the-Premises</td>\n",
       "      <td>above 100/20</td>\n",
       "    </tr>\n",
       "    <tr>\n",
       "      <th>13</th>\n",
       "      <td>130627</td>\n",
       "      <td>12369286</td>\n",
       "      <td>HughesNet</td>\n",
       "      <td>1010272409</td>\n",
       "      <td>490211105022030</td>\n",
       "      <td>882991ca17fffff</td>\n",
       "      <td>60</td>\n",
       "      <td>25</td>\n",
       "      <td>3</td>\n",
       "      <td>0</td>\n",
       "      <td>X</td>\n",
       "      <td>GSO-Satellite</td>\n",
       "      <td>between 100/20 and 25/3</td>\n",
       "    </tr>\n",
       "    <tr>\n",
       "      <th>974185</th>\n",
       "      <td>290111</td>\n",
       "      <td>4963088</td>\n",
       "      <td>Viasat, Inc.</td>\n",
       "      <td>1010272409</td>\n",
       "      <td>490211105022030</td>\n",
       "      <td>882991ca17fffff</td>\n",
       "      <td>60</td>\n",
       "      <td>10</td>\n",
       "      <td>1</td>\n",
       "      <td>0</td>\n",
       "      <td>B</td>\n",
       "      <td>GSO-Satellite</td>\n",
       "      <td>under 25/3</td>\n",
       "    </tr>\n",
       "    <tr>\n",
       "      <th>974186</th>\n",
       "      <td>290111</td>\n",
       "      <td>4963088</td>\n",
       "      <td>Viasat, Inc.</td>\n",
       "      <td>1010272409</td>\n",
       "      <td>490211105022030</td>\n",
       "      <td>882991ca17fffff</td>\n",
       "      <td>60</td>\n",
       "      <td>10</td>\n",
       "      <td>1</td>\n",
       "      <td>0</td>\n",
       "      <td>R</td>\n",
       "      <td>GSO-Satellite</td>\n",
       "      <td>under 25/3</td>\n",
       "    </tr>\n",
       "    <tr>\n",
       "      <th>108</th>\n",
       "      <td>130403</td>\n",
       "      <td>6945950</td>\n",
       "      <td>T-Mobile US</td>\n",
       "      <td>1010272409</td>\n",
       "      <td>490211105022030</td>\n",
       "      <td>882991ca17fffff</td>\n",
       "      <td>71</td>\n",
       "      <td>0</td>\n",
       "      <td>0</td>\n",
       "      <td>1</td>\n",
       "      <td>B</td>\n",
       "      <td>Licensed-Fixed-Wireless</td>\n",
       "      <td>under 25/3</td>\n",
       "    </tr>\n",
       "    <tr>\n",
       "      <th>1298375</th>\n",
       "      <td>170054</td>\n",
       "      <td>31777865</td>\n",
       "      <td>InfoWest</td>\n",
       "      <td>1010272409</td>\n",
       "      <td>490211105022030</td>\n",
       "      <td>882991ca17fffff</td>\n",
       "      <td>71</td>\n",
       "      <td>100</td>\n",
       "      <td>20</td>\n",
       "      <td>1</td>\n",
       "      <td>X</td>\n",
       "      <td>Licensed-Fixed-Wireless</td>\n",
       "      <td>above 100/20</td>\n",
       "    </tr>\n",
       "    <tr>\n",
       "      <th>13</th>\n",
       "      <td>430076</td>\n",
       "      <td>26043968</td>\n",
       "      <td>Starlink</td>\n",
       "      <td>1010272409</td>\n",
       "      <td>490211105022030</td>\n",
       "      <td>882991ca17fffff</td>\n",
       "      <td>61</td>\n",
       "      <td>350</td>\n",
       "      <td>40</td>\n",
       "      <td>1</td>\n",
       "      <td>X</td>\n",
       "      <td>NGSO-Satellite</td>\n",
       "      <td>above 100/20</td>\n",
       "    </tr>\n",
       "    <tr>\n",
       "      <th>141850</th>\n",
       "      <td>170054</td>\n",
       "      <td>31777865</td>\n",
       "      <td>InfoWest</td>\n",
       "      <td>1010272409</td>\n",
       "      <td>490211105022030</td>\n",
       "      <td>882991ca17fffff</td>\n",
       "      <td>70</td>\n",
       "      <td>100</td>\n",
       "      <td>20</td>\n",
       "      <td>1</td>\n",
       "      <td>X</td>\n",
       "      <td>Unlicensed-Fixed-Wireless</td>\n",
       "      <td>above 100/20</td>\n",
       "    </tr>\n",
       "  </tbody>\n",
       "</table>\n",
       "</div>"
      ],
      "text/plain": [
       "         provider_id       frn    brand_name  location_id       block_fips  \\\n",
       "0             131310  22516330   TDS Telecom   1010272409  490211105022030   \n",
       "8557          130228  18626853   CenturyLink   1010272409  490211105022030   \n",
       "229718        131219   1607175  SC BROADBAND   1010272409  490211105022030   \n",
       "13            130627  12369286     HughesNet   1010272409  490211105022030   \n",
       "974185        290111   4963088  Viasat, Inc.   1010272409  490211105022030   \n",
       "974186        290111   4963088  Viasat, Inc.   1010272409  490211105022030   \n",
       "108           130403   6945950   T-Mobile US   1010272409  490211105022030   \n",
       "1298375       170054  31777865      InfoWest   1010272409  490211105022030   \n",
       "13            430076  26043968      Starlink   1010272409  490211105022030   \n",
       "141850        170054  31777865      InfoWest   1010272409  490211105022030   \n",
       "\n",
       "            h3index_hex8  technology_code  max_advertised_download_speed  \\\n",
       "0        882991ca17fffff               40                           1000   \n",
       "8557     882991ca17fffff               10                              0   \n",
       "229718   882991ca17fffff               50                           1000   \n",
       "13       882991ca17fffff               60                             25   \n",
       "974185   882991ca17fffff               60                             10   \n",
       "974186   882991ca17fffff               60                             10   \n",
       "108      882991ca17fffff               71                              0   \n",
       "1298375  882991ca17fffff               71                            100   \n",
       "13       882991ca17fffff               61                            350   \n",
       "141850   882991ca17fffff               70                            100   \n",
       "\n",
       "         max_advertised_upload_speed  low_latency business_residential_code  \\\n",
       "0                                 20            1                         X   \n",
       "8557                               0            1                         X   \n",
       "229718                          1000            1                         B   \n",
       "13                                 3            0                         X   \n",
       "974185                             1            0                         B   \n",
       "974186                             1            0                         R   \n",
       "108                                0            1                         B   \n",
       "1298375                           20            1                         X   \n",
       "13                                40            1                         X   \n",
       "141850                            20            1                         X   \n",
       "\n",
       "                   technology_name           classification  \n",
       "0                            Cable             above 100/20  \n",
       "8557                        Copper               under 25/3  \n",
       "229718       Fiber-to-the-Premises             above 100/20  \n",
       "13                   GSO-Satellite  between 100/20 and 25/3  \n",
       "974185               GSO-Satellite               under 25/3  \n",
       "974186               GSO-Satellite               under 25/3  \n",
       "108        Licensed-Fixed-Wireless               under 25/3  \n",
       "1298375    Licensed-Fixed-Wireless             above 100/20  \n",
       "13                  NGSO-Satellite             above 100/20  \n",
       "141850   Unlicensed-Fixed-Wireless             above 100/20  "
      ]
     },
     "execution_count": 135,
     "metadata": {},
     "output_type": "execute_result"
    }
   ],
   "source": [
    "all_df.groupby('location_id').get_group(1010272409)"
   ]
  },
  {
   "cell_type": "code",
   "execution_count": 115,
   "id": "c63b1463",
   "metadata": {
    "slideshow": {
     "slide_type": "slide"
    }
   },
   "outputs": [],
   "source": [
    "def get_location_id_status(location_df):\n",
    "    \n",
    "    if (location_df['classification'] == 'above 100/20').any():\n",
    "        return 'served'\n",
    "    if (location_df['classification'] == 'between 100/20 and 25/3').any():\n",
    "        return 'underserved'\n",
    "    if (location_df['classification'] == 'under 25/3').any():\n",
    "        return 'unserved'"
   ]
  },
  {
   "cell_type": "code",
   "execution_count": 133,
   "id": "30f3c74f",
   "metadata": {
    "slideshow": {
     "slide_type": "fragment"
    }
   },
   "outputs": [
    {
     "data": {
      "text/plain": [
       "location_id\n",
       "1010272362      served\n",
       "1010272363      served\n",
       "1010272364    unserved\n",
       "1010272365      served\n",
       "1010272370    unserved\n",
       "dtype: object"
      ]
     },
     "execution_count": 133,
     "metadata": {},
     "output_type": "execute_result"
    }
   ],
   "source": [
    "#: Subset to the desired techs\n",
    "reliable_techs = ['Cable', 'Copper', 'Fiber-to-the-Premises', 'Licensed-Fixed-Wireless']\n",
    "reliable_techs_df = all_df[all_df['technology_name'].isin(reliable_techs)]\n",
    "\n",
    "#: Groupby individual locations (location_id) and apply our classification function\n",
    "reliable_service_df = reliable_techs_df.groupby('location_id').apply(get_location_id_status)\n",
    "reliable_service_df.head()"
   ]
  },
  {
   "cell_type": "markdown",
   "id": "8de4dcd2",
   "metadata": {
    "slideshow": {
     "slide_type": "slide"
    }
   },
   "source": [
    "# Joing Datasets: concat and merge"
   ]
  },
  {
   "cell_type": "markdown",
   "id": "bb2e3f63",
   "metadata": {
    "slideshow": {
     "slide_type": "slide"
    }
   },
   "source": [
    "## `pd.concat`: Adding rows or columns"
   ]
  },
  {
   "cell_type": "markdown",
   "id": "98a0fca9",
   "metadata": {
    "slideshow": {
     "slide_type": "fragment"
    }
   },
   "source": [
    "Mainly useful when an operation creates another dataframe with the same column labels (ie, adding rows with the same schema) or the same index labels (ie, creating new columns for existing data)."
   ]
  },
  {
   "cell_type": "code",
   "execution_count": 71,
   "id": "445fc1a7",
   "metadata": {
    "slideshow": {
     "slide_type": "slide"
    }
   },
   "outputs": [
    {
     "data": {
      "text/html": [
       "<div>\n",
       "<style scoped>\n",
       "    .dataframe tbody tr th:only-of-type {\n",
       "        vertical-align: middle;\n",
       "    }\n",
       "\n",
       "    .dataframe tbody tr th {\n",
       "        vertical-align: top;\n",
       "    }\n",
       "\n",
       "    .dataframe thead th {\n",
       "        text-align: right;\n",
       "    }\n",
       "</style>\n",
       "<table border=\"1\" class=\"dataframe\">\n",
       "  <thead>\n",
       "    <tr style=\"text-align: right;\">\n",
       "      <th></th>\n",
       "      <th>name</th>\n",
       "      <th>type</th>\n",
       "    </tr>\n",
       "  </thead>\n",
       "  <tbody>\n",
       "    <tr>\n",
       "      <th>0</th>\n",
       "      <td>Main Street Trail</td>\n",
       "      <td>sidewalk</td>\n",
       "    </tr>\n",
       "    <tr>\n",
       "      <th>1</th>\n",
       "      <td>Benches</td>\n",
       "      <td>paved</td>\n",
       "    </tr>\n",
       "    <tr>\n",
       "      <th>2</th>\n",
       "      <td>Beltway</td>\n",
       "      <td>paved</td>\n",
       "    </tr>\n",
       "  </tbody>\n",
       "</table>\n",
       "</div>"
      ],
      "text/plain": [
       "                name      type\n",
       "0  Main Street Trail  sidewalk\n",
       "1            Benches     paved\n",
       "2            Beltway     paved"
      ]
     },
     "execution_count": 71,
     "metadata": {},
     "output_type": "execute_result"
    }
   ],
   "source": [
    "#: Create a new dataframe of bike routes\n",
    "bike_routes_df = pd.DataFrame({\n",
    "    'name': ['Main Street Trail', 'Benches', 'Beltway'],\n",
    "    'type': ['sidewalk', 'paved', 'paved']\n",
    "})\n",
    "bike_routes_df"
   ]
  },
  {
   "cell_type": "code",
   "execution_count": 72,
   "id": "542d81cb",
   "metadata": {
    "slideshow": {
     "slide_type": "fragment"
    }
   },
   "outputs": [
    {
     "data": {
      "text/html": [
       "<div>\n",
       "<style scoped>\n",
       "    .dataframe tbody tr th:only-of-type {\n",
       "        vertical-align: middle;\n",
       "    }\n",
       "\n",
       "    .dataframe tbody tr th {\n",
       "        vertical-align: top;\n",
       "    }\n",
       "\n",
       "    .dataframe thead th {\n",
       "        text-align: right;\n",
       "    }\n",
       "</style>\n",
       "<table border=\"1\" class=\"dataframe\">\n",
       "  <thead>\n",
       "    <tr style=\"text-align: right;\">\n",
       "      <th></th>\n",
       "      <th>name</th>\n",
       "      <th>type</th>\n",
       "    </tr>\n",
       "  </thead>\n",
       "  <tbody>\n",
       "    <tr>\n",
       "      <th>0</th>\n",
       "      <td>Main Street Trail</td>\n",
       "      <td>sidewalk</td>\n",
       "    </tr>\n",
       "    <tr>\n",
       "      <th>1</th>\n",
       "      <td>Benches</td>\n",
       "      <td>paved</td>\n",
       "    </tr>\n",
       "    <tr>\n",
       "      <th>2</th>\n",
       "      <td>Beltway</td>\n",
       "      <td>paved</td>\n",
       "    </tr>\n",
       "    <tr>\n",
       "      <th>0</th>\n",
       "      <td>Provo Express</td>\n",
       "      <td>paved</td>\n",
       "    </tr>\n",
       "  </tbody>\n",
       "</table>\n",
       "</div>"
      ],
      "text/plain": [
       "                name      type\n",
       "0  Main Street Trail  sidewalk\n",
       "1            Benches     paved\n",
       "2            Beltway     paved\n",
       "0      Provo Express     paved"
      ]
     },
     "execution_count": 72,
     "metadata": {},
     "output_type": "execute_result"
    }
   ],
   "source": [
    "#: Add another row\n",
    "new_trail_df = pd.DataFrame({\n",
    "    'name': ['Provo Express'],\n",
    "    'type': ['paved']\n",
    "})\n",
    "combined_df = pd.concat([bike_routes_df, new_trail_df])\n",
    "combined_df"
   ]
  },
  {
   "cell_type": "code",
   "execution_count": 73,
   "id": "4e0480be",
   "metadata": {
    "slideshow": {
     "slide_type": "slide"
    }
   },
   "outputs": [
    {
     "name": "stdout",
     "output_type": "stream",
     "text": [
      "Int64Index([0, 1, 2, 0], dtype='int64')\n",
      "RangeIndex(start=0, stop=4, step=1)\n"
     ]
    },
    {
     "ename": "InvalidIndexError",
     "evalue": "Reindexing only valid with uniquely valued Index objects",
     "output_type": "error",
     "traceback": [
      "\u001b[1;31m---------------------------------------------------------------------------\u001b[0m",
      "\u001b[1;31mInvalidIndexError\u001b[0m                         Traceback (most recent call last)",
      "\u001b[1;32m<ipython-input-73-9b53eda5ce76>\u001b[0m in \u001b[0;36m<module>\u001b[1;34m\u001b[0m\n\u001b[0;32m      6\u001b[0m \u001b[0mprint\u001b[0m\u001b[1;33m(\u001b[0m\u001b[0mcombined_df\u001b[0m\u001b[1;33m.\u001b[0m\u001b[0mindex\u001b[0m\u001b[1;33m)\u001b[0m\u001b[1;33m\u001b[0m\u001b[1;33m\u001b[0m\u001b[0m\n\u001b[0;32m      7\u001b[0m \u001b[0mprint\u001b[0m\u001b[1;33m(\u001b[0m\u001b[0mnew_columns_df\u001b[0m\u001b[1;33m.\u001b[0m\u001b[0mindex\u001b[0m\u001b[1;33m)\u001b[0m\u001b[1;33m\u001b[0m\u001b[1;33m\u001b[0m\u001b[0m\n\u001b[1;32m----> 8\u001b[1;33m \u001b[0mnew_combined_df\u001b[0m \u001b[1;33m=\u001b[0m \u001b[0mpd\u001b[0m\u001b[1;33m.\u001b[0m\u001b[0mconcat\u001b[0m\u001b[1;33m(\u001b[0m\u001b[1;33m[\u001b[0m\u001b[0mcombined_df\u001b[0m\u001b[1;33m,\u001b[0m \u001b[0mnew_columns_df\u001b[0m\u001b[1;33m]\u001b[0m\u001b[1;33m,\u001b[0m \u001b[0maxis\u001b[0m\u001b[1;33m=\u001b[0m\u001b[1;34m'columns'\u001b[0m\u001b[1;33m)\u001b[0m  \u001b[1;31m#: Note axis=1 to append columns instead of rows\u001b[0m\u001b[1;33m\u001b[0m\u001b[1;33m\u001b[0m\u001b[0m\n\u001b[0m",
      "\u001b[1;32m~\\AppData\\Local\\Programs\\ArcGIS\\Pro\\bin\\Python\\envs\\arcpy\\lib\\site-packages\\pandas\\util\\_decorators.py\u001b[0m in \u001b[0;36mwrapper\u001b[1;34m(*args, **kwargs)\u001b[0m\n\u001b[0;32m    309\u001b[0m                     \u001b[0mstacklevel\u001b[0m\u001b[1;33m=\u001b[0m\u001b[0mstacklevel\u001b[0m\u001b[1;33m,\u001b[0m\u001b[1;33m\u001b[0m\u001b[1;33m\u001b[0m\u001b[0m\n\u001b[0;32m    310\u001b[0m                 )\n\u001b[1;32m--> 311\u001b[1;33m             \u001b[1;32mreturn\u001b[0m \u001b[0mfunc\u001b[0m\u001b[1;33m(\u001b[0m\u001b[1;33m*\u001b[0m\u001b[0margs\u001b[0m\u001b[1;33m,\u001b[0m \u001b[1;33m**\u001b[0m\u001b[0mkwargs\u001b[0m\u001b[1;33m)\u001b[0m\u001b[1;33m\u001b[0m\u001b[1;33m\u001b[0m\u001b[0m\n\u001b[0m\u001b[0;32m    312\u001b[0m \u001b[1;33m\u001b[0m\u001b[0m\n\u001b[0;32m    313\u001b[0m         \u001b[1;32mreturn\u001b[0m \u001b[0mwrapper\u001b[0m\u001b[1;33m\u001b[0m\u001b[1;33m\u001b[0m\u001b[0m\n",
      "\u001b[1;32m~\\AppData\\Local\\Programs\\ArcGIS\\Pro\\bin\\Python\\envs\\arcpy\\lib\\site-packages\\pandas\\core\\reshape\\concat.py\u001b[0m in \u001b[0;36mconcat\u001b[1;34m(objs, axis, join, ignore_index, keys, levels, names, verify_integrity, sort, copy)\u001b[0m\n\u001b[0;32m    305\u001b[0m     )\n\u001b[0;32m    306\u001b[0m \u001b[1;33m\u001b[0m\u001b[0m\n\u001b[1;32m--> 307\u001b[1;33m     \u001b[1;32mreturn\u001b[0m \u001b[0mop\u001b[0m\u001b[1;33m.\u001b[0m\u001b[0mget_result\u001b[0m\u001b[1;33m(\u001b[0m\u001b[1;33m)\u001b[0m\u001b[1;33m\u001b[0m\u001b[1;33m\u001b[0m\u001b[0m\n\u001b[0m\u001b[0;32m    308\u001b[0m \u001b[1;33m\u001b[0m\u001b[0m\n\u001b[0;32m    309\u001b[0m \u001b[1;33m\u001b[0m\u001b[0m\n",
      "\u001b[1;32m~\\AppData\\Local\\Programs\\ArcGIS\\Pro\\bin\\Python\\envs\\arcpy\\lib\\site-packages\\pandas\\core\\reshape\\concat.py\u001b[0m in \u001b[0;36mget_result\u001b[1;34m(self)\u001b[0m\n\u001b[0;32m    526\u001b[0m                     \u001b[0mobj_labels\u001b[0m \u001b[1;33m=\u001b[0m \u001b[0mobj\u001b[0m\u001b[1;33m.\u001b[0m\u001b[0maxes\u001b[0m\u001b[1;33m[\u001b[0m\u001b[1;36m1\u001b[0m \u001b[1;33m-\u001b[0m \u001b[0max\u001b[0m\u001b[1;33m]\u001b[0m\u001b[1;33m\u001b[0m\u001b[1;33m\u001b[0m\u001b[0m\n\u001b[0;32m    527\u001b[0m                     \u001b[1;32mif\u001b[0m \u001b[1;32mnot\u001b[0m \u001b[0mnew_labels\u001b[0m\u001b[1;33m.\u001b[0m\u001b[0mequals\u001b[0m\u001b[1;33m(\u001b[0m\u001b[0mobj_labels\u001b[0m\u001b[1;33m)\u001b[0m\u001b[1;33m:\u001b[0m\u001b[1;33m\u001b[0m\u001b[1;33m\u001b[0m\u001b[0m\n\u001b[1;32m--> 528\u001b[1;33m                         \u001b[0mindexers\u001b[0m\u001b[1;33m[\u001b[0m\u001b[0max\u001b[0m\u001b[1;33m]\u001b[0m \u001b[1;33m=\u001b[0m \u001b[0mobj_labels\u001b[0m\u001b[1;33m.\u001b[0m\u001b[0mget_indexer\u001b[0m\u001b[1;33m(\u001b[0m\u001b[0mnew_labels\u001b[0m\u001b[1;33m)\u001b[0m\u001b[1;33m\u001b[0m\u001b[1;33m\u001b[0m\u001b[0m\n\u001b[0m\u001b[0;32m    529\u001b[0m \u001b[1;33m\u001b[0m\u001b[0m\n\u001b[0;32m    530\u001b[0m                 \u001b[0mmgrs_indexers\u001b[0m\u001b[1;33m.\u001b[0m\u001b[0mappend\u001b[0m\u001b[1;33m(\u001b[0m\u001b[1;33m(\u001b[0m\u001b[0mobj\u001b[0m\u001b[1;33m.\u001b[0m\u001b[0m_mgr\u001b[0m\u001b[1;33m,\u001b[0m \u001b[0mindexers\u001b[0m\u001b[1;33m)\u001b[0m\u001b[1;33m)\u001b[0m\u001b[1;33m\u001b[0m\u001b[1;33m\u001b[0m\u001b[0m\n",
      "\u001b[1;32m~\\AppData\\Local\\Programs\\ArcGIS\\Pro\\bin\\Python\\envs\\arcpy\\lib\\site-packages\\pandas\\core\\indexes\\base.py\u001b[0m in \u001b[0;36mget_indexer\u001b[1;34m(self, target, method, limit, tolerance)\u001b[0m\n\u001b[0;32m   3440\u001b[0m \u001b[1;33m\u001b[0m\u001b[0m\n\u001b[0;32m   3441\u001b[0m         \u001b[1;32mif\u001b[0m \u001b[1;32mnot\u001b[0m \u001b[0mself\u001b[0m\u001b[1;33m.\u001b[0m\u001b[0m_index_as_unique\u001b[0m\u001b[1;33m:\u001b[0m\u001b[1;33m\u001b[0m\u001b[1;33m\u001b[0m\u001b[0m\n\u001b[1;32m-> 3442\u001b[1;33m             \u001b[1;32mraise\u001b[0m \u001b[0mInvalidIndexError\u001b[0m\u001b[1;33m(\u001b[0m\u001b[0mself\u001b[0m\u001b[1;33m.\u001b[0m\u001b[0m_requires_unique_msg\u001b[0m\u001b[1;33m)\u001b[0m\u001b[1;33m\u001b[0m\u001b[1;33m\u001b[0m\u001b[0m\n\u001b[0m\u001b[0;32m   3443\u001b[0m \u001b[1;33m\u001b[0m\u001b[0m\n\u001b[0;32m   3444\u001b[0m         \u001b[1;32mif\u001b[0m \u001b[1;32mnot\u001b[0m \u001b[0mself\u001b[0m\u001b[1;33m.\u001b[0m\u001b[0m_should_compare\u001b[0m\u001b[1;33m(\u001b[0m\u001b[0mtarget\u001b[0m\u001b[1;33m)\u001b[0m \u001b[1;32mand\u001b[0m \u001b[1;32mnot\u001b[0m \u001b[0mis_interval_dtype\u001b[0m\u001b[1;33m(\u001b[0m\u001b[0mself\u001b[0m\u001b[1;33m.\u001b[0m\u001b[0mdtype\u001b[0m\u001b[1;33m)\u001b[0m\u001b[1;33m:\u001b[0m\u001b[1;33m\u001b[0m\u001b[1;33m\u001b[0m\u001b[0m\n",
      "\u001b[1;31mInvalidIndexError\u001b[0m: Reindexing only valid with uniquely valued Index objects"
     ]
    }
   ],
   "source": [
    "#: Add a pair of new columns, which are added according to the index\n",
    "new_columns_df = pd.DataFrame({\n",
    "    'status': ['open', 'open', 'open', 'planned'],\n",
    "    'condition': ['good', 'poor', 'failed', None]\n",
    "})\n",
    "print(combined_df.index)\n",
    "print(new_columns_df.index)\n",
    "new_combined_df = pd.concat([combined_df, new_columns_df], axis='columns')  #: Note axis=1 to append columns instead of rows"
   ]
  },
  {
   "cell_type": "code",
   "execution_count": 74,
   "id": "04c82f01",
   "metadata": {
    "slideshow": {
     "slide_type": "slide"
    }
   },
   "outputs": [
    {
     "name": "stdout",
     "output_type": "stream",
     "text": [
      "RangeIndex(start=0, stop=4, step=1)\n",
      "RangeIndex(start=0, stop=4, step=1)\n"
     ]
    },
    {
     "data": {
      "text/html": [
       "<div>\n",
       "<style scoped>\n",
       "    .dataframe tbody tr th:only-of-type {\n",
       "        vertical-align: middle;\n",
       "    }\n",
       "\n",
       "    .dataframe tbody tr th {\n",
       "        vertical-align: top;\n",
       "    }\n",
       "\n",
       "    .dataframe thead th {\n",
       "        text-align: right;\n",
       "    }\n",
       "</style>\n",
       "<table border=\"1\" class=\"dataframe\">\n",
       "  <thead>\n",
       "    <tr style=\"text-align: right;\">\n",
       "      <th></th>\n",
       "      <th>index</th>\n",
       "      <th>name</th>\n",
       "      <th>type</th>\n",
       "      <th>status</th>\n",
       "      <th>condition</th>\n",
       "    </tr>\n",
       "  </thead>\n",
       "  <tbody>\n",
       "    <tr>\n",
       "      <th>0</th>\n",
       "      <td>0</td>\n",
       "      <td>Main Street Trail</td>\n",
       "      <td>sidewalk</td>\n",
       "      <td>open</td>\n",
       "      <td>good</td>\n",
       "    </tr>\n",
       "    <tr>\n",
       "      <th>1</th>\n",
       "      <td>1</td>\n",
       "      <td>Benches</td>\n",
       "      <td>paved</td>\n",
       "      <td>open</td>\n",
       "      <td>poor</td>\n",
       "    </tr>\n",
       "    <tr>\n",
       "      <th>2</th>\n",
       "      <td>2</td>\n",
       "      <td>Beltway</td>\n",
       "      <td>paved</td>\n",
       "      <td>open</td>\n",
       "      <td>failed</td>\n",
       "    </tr>\n",
       "    <tr>\n",
       "      <th>3</th>\n",
       "      <td>0</td>\n",
       "      <td>Provo Express</td>\n",
       "      <td>paved</td>\n",
       "      <td>planned</td>\n",
       "      <td>None</td>\n",
       "    </tr>\n",
       "  </tbody>\n",
       "</table>\n",
       "</div>"
      ],
      "text/plain": [
       "   index               name      type   status condition\n",
       "0      0  Main Street Trail  sidewalk     open      good\n",
       "1      1            Benches     paved     open      poor\n",
       "2      2            Beltway     paved     open    failed\n",
       "3      0      Provo Express     paved  planned      None"
      ]
     },
     "execution_count": 74,
     "metadata": {},
     "output_type": "execute_result"
    }
   ],
   "source": [
    "combined_df.reset_index(inplace=True)\n",
    "print(combined_df.index)\n",
    "print(new_columns_df.index)\n",
    "new_combined_df = pd.concat([combined_df, new_columns_df], axis='columns')\n",
    "new_combined_df"
   ]
  },
  {
   "cell_type": "markdown",
   "id": "663f0f2d",
   "metadata": {
    "slideshow": {
     "slide_type": "slide"
    }
   },
   "source": [
    "## Merge: Joining Two Disparate Datasets"
   ]
  },
  {
   "cell_type": "markdown",
   "id": "7025cbd5",
   "metadata": {
    "slideshow": {
     "slide_type": "slide"
    }
   },
   "source": [
    "`.merge` allows you to do SQL-style joins on two different dataframes based on a common key.\n",
    "\n",
    "This provides much more flexibility than `pd.concat` on the columns used for the keys and allows you to specify the join type (inner, outer, etc). "
   ]
  },
  {
   "cell_type": "code",
   "execution_count": 75,
   "id": "9b3bd1f4",
   "metadata": {
    "slideshow": {
     "slide_type": "slide"
    }
   },
   "outputs": [
    {
     "data": {
      "text/html": [
       "<div>\n",
       "<style scoped>\n",
       "    .dataframe tbody tr th:only-of-type {\n",
       "        vertical-align: middle;\n",
       "    }\n",
       "\n",
       "    .dataframe tbody tr th {\n",
       "        vertical-align: top;\n",
       "    }\n",
       "\n",
       "    .dataframe thead th {\n",
       "        text-align: right;\n",
       "    }\n",
       "</style>\n",
       "<table border=\"1\" class=\"dataframe\">\n",
       "  <thead>\n",
       "    <tr style=\"text-align: right;\">\n",
       "      <th></th>\n",
       "      <th>name</th>\n",
       "      <th>type</th>\n",
       "      <th>status</th>\n",
       "      <th>condition</th>\n",
       "    </tr>\n",
       "  </thead>\n",
       "  <tbody>\n",
       "    <tr>\n",
       "      <th>0</th>\n",
       "      <td>Main Street Trail</td>\n",
       "      <td>sidewalk</td>\n",
       "      <td>open</td>\n",
       "      <td>good</td>\n",
       "    </tr>\n",
       "    <tr>\n",
       "      <th>1</th>\n",
       "      <td>Benches</td>\n",
       "      <td>paved</td>\n",
       "      <td>open</td>\n",
       "      <td>poor</td>\n",
       "    </tr>\n",
       "    <tr>\n",
       "      <th>2</th>\n",
       "      <td>Beltway</td>\n",
       "      <td>paved</td>\n",
       "      <td>open</td>\n",
       "      <td>failed</td>\n",
       "    </tr>\n",
       "    <tr>\n",
       "      <th>3</th>\n",
       "      <td>Provo Express</td>\n",
       "      <td>paved</td>\n",
       "      <td>planned</td>\n",
       "      <td>None</td>\n",
       "    </tr>\n",
       "  </tbody>\n",
       "</table>\n",
       "</div>"
      ],
      "text/plain": [
       "                name      type   status condition\n",
       "0  Main Street Trail  sidewalk     open      good\n",
       "1            Benches     paved     open      poor\n",
       "2            Beltway     paved     open    failed\n",
       "3      Provo Express     paved  planned      None"
      ]
     },
     "execution_count": 75,
     "metadata": {},
     "output_type": "execute_result"
    }
   ],
   "source": [
    "#: first, let's drop the index column from the previous .reset_index() call\n",
    "new_combined_df.drop(columns=['index'], inplace=True)\n",
    "new_combined_df"
   ]
  },
  {
   "cell_type": "code",
   "execution_count": 76,
   "id": "d01fbd1f",
   "metadata": {
    "slideshow": {
     "slide_type": "fragment"
    }
   },
   "outputs": [
    {
     "data": {
      "text/html": [
       "<div>\n",
       "<style scoped>\n",
       "    .dataframe tbody tr th:only-of-type {\n",
       "        vertical-align: middle;\n",
       "    }\n",
       "\n",
       "    .dataframe tbody tr th {\n",
       "        vertical-align: top;\n",
       "    }\n",
       "\n",
       "    .dataframe thead th {\n",
       "        text-align: right;\n",
       "    }\n",
       "</style>\n",
       "<table border=\"1\" class=\"dataframe\">\n",
       "  <thead>\n",
       "    <tr style=\"text-align: right;\">\n",
       "      <th></th>\n",
       "      <th>surface_type</th>\n",
       "      <th>surface_description</th>\n",
       "    </tr>\n",
       "  </thead>\n",
       "  <tbody>\n",
       "    <tr>\n",
       "      <th>0</th>\n",
       "      <td>sidewalk</td>\n",
       "      <td>A shared-use path usually consisting of concre...</td>\n",
       "    </tr>\n",
       "    <tr>\n",
       "      <th>1</th>\n",
       "      <td>paved</td>\n",
       "      <td>An asphalt-paved shared-use path at least 10 f...</td>\n",
       "    </tr>\n",
       "    <tr>\n",
       "      <th>2</th>\n",
       "      <td>gravel</td>\n",
       "      <td>A gravel-based natural-surface path</td>\n",
       "    </tr>\n",
       "  </tbody>\n",
       "</table>\n",
       "</div>"
      ],
      "text/plain": [
       "  surface_type                                surface_description\n",
       "0     sidewalk  A shared-use path usually consisting of concre...\n",
       "1        paved  An asphalt-paved shared-use path at least 10 f...\n",
       "2       gravel                A gravel-based natural-surface path"
      ]
     },
     "execution_count": 76,
     "metadata": {},
     "output_type": "execute_result"
    }
   ],
   "source": [
    "#: Build our new dataframe of surface types and descriptions\n",
    "surface_description_df = pd.DataFrame({\n",
    "    'surface_type': ['sidewalk', 'paved', 'gravel'],\n",
    "    'surface_description': ['A shared-use path usually consisting of concrete four to eight feet wide', 'An asphalt-paved shared-use path at least 10 feet wide', 'A gravel-based natural-surface path'],\n",
    "})\n",
    "surface_description_df"
   ]
  },
  {
   "cell_type": "code",
   "execution_count": 77,
   "id": "0edf6524",
   "metadata": {
    "scrolled": true,
    "slideshow": {
     "slide_type": "slide"
    }
   },
   "outputs": [
    {
     "data": {
      "text/html": [
       "<div>\n",
       "<style scoped>\n",
       "    .dataframe tbody tr th:only-of-type {\n",
       "        vertical-align: middle;\n",
       "    }\n",
       "\n",
       "    .dataframe tbody tr th {\n",
       "        vertical-align: top;\n",
       "    }\n",
       "\n",
       "    .dataframe thead th {\n",
       "        text-align: right;\n",
       "    }\n",
       "</style>\n",
       "<table border=\"1\" class=\"dataframe\">\n",
       "  <thead>\n",
       "    <tr style=\"text-align: right;\">\n",
       "      <th></th>\n",
       "      <th>name</th>\n",
       "      <th>type</th>\n",
       "      <th>status</th>\n",
       "      <th>condition</th>\n",
       "      <th>surface_type</th>\n",
       "      <th>surface_description</th>\n",
       "    </tr>\n",
       "  </thead>\n",
       "  <tbody>\n",
       "    <tr>\n",
       "      <th>0</th>\n",
       "      <td>Main Street Trail</td>\n",
       "      <td>sidewalk</td>\n",
       "      <td>open</td>\n",
       "      <td>good</td>\n",
       "      <td>sidewalk</td>\n",
       "      <td>A shared-use path usually consisting of concre...</td>\n",
       "    </tr>\n",
       "    <tr>\n",
       "      <th>1</th>\n",
       "      <td>Benches</td>\n",
       "      <td>paved</td>\n",
       "      <td>open</td>\n",
       "      <td>poor</td>\n",
       "      <td>paved</td>\n",
       "      <td>An asphalt-paved shared-use path at least 10 f...</td>\n",
       "    </tr>\n",
       "    <tr>\n",
       "      <th>2</th>\n",
       "      <td>Beltway</td>\n",
       "      <td>paved</td>\n",
       "      <td>open</td>\n",
       "      <td>failed</td>\n",
       "      <td>paved</td>\n",
       "      <td>An asphalt-paved shared-use path at least 10 f...</td>\n",
       "    </tr>\n",
       "    <tr>\n",
       "      <th>3</th>\n",
       "      <td>Provo Express</td>\n",
       "      <td>paved</td>\n",
       "      <td>planned</td>\n",
       "      <td>None</td>\n",
       "      <td>paved</td>\n",
       "      <td>An asphalt-paved shared-use path at least 10 f...</td>\n",
       "    </tr>\n",
       "  </tbody>\n",
       "</table>\n",
       "</div>"
      ],
      "text/plain": [
       "                name      type   status condition surface_type  \\\n",
       "0  Main Street Trail  sidewalk     open      good     sidewalk   \n",
       "1            Benches     paved     open      poor        paved   \n",
       "2            Beltway     paved     open    failed        paved   \n",
       "3      Provo Express     paved  planned      None        paved   \n",
       "\n",
       "                                 surface_description  \n",
       "0  A shared-use path usually consisting of concre...  \n",
       "1  An asphalt-paved shared-use path at least 10 f...  \n",
       "2  An asphalt-paved shared-use path at least 10 f...  \n",
       "3  An asphalt-paved shared-use path at least 10 f...  "
      ]
     },
     "execution_count": 77,
     "metadata": {},
     "output_type": "execute_result"
    }
   ],
   "source": [
    "#: Inner merge: only rows whose key is in both dataframes\n",
    "new_combined_df.merge(surface_description_df, left_on='type', right_on='surface_type', how='inner')"
   ]
  },
  {
   "cell_type": "code",
   "execution_count": 78,
   "id": "698e8cf4",
   "metadata": {
    "slideshow": {
     "slide_type": "fragment"
    }
   },
   "outputs": [
    {
     "data": {
      "text/html": [
       "<div>\n",
       "<style scoped>\n",
       "    .dataframe tbody tr th:only-of-type {\n",
       "        vertical-align: middle;\n",
       "    }\n",
       "\n",
       "    .dataframe tbody tr th {\n",
       "        vertical-align: top;\n",
       "    }\n",
       "\n",
       "    .dataframe thead th {\n",
       "        text-align: right;\n",
       "    }\n",
       "</style>\n",
       "<table border=\"1\" class=\"dataframe\">\n",
       "  <thead>\n",
       "    <tr style=\"text-align: right;\">\n",
       "      <th></th>\n",
       "      <th>name</th>\n",
       "      <th>type</th>\n",
       "      <th>status</th>\n",
       "      <th>condition</th>\n",
       "      <th>surface_type</th>\n",
       "      <th>surface_description</th>\n",
       "      <th>_merge</th>\n",
       "    </tr>\n",
       "  </thead>\n",
       "  <tbody>\n",
       "    <tr>\n",
       "      <th>0</th>\n",
       "      <td>Main Street Trail</td>\n",
       "      <td>sidewalk</td>\n",
       "      <td>open</td>\n",
       "      <td>good</td>\n",
       "      <td>sidewalk</td>\n",
       "      <td>A shared-use path usually consisting of concre...</td>\n",
       "      <td>both</td>\n",
       "    </tr>\n",
       "    <tr>\n",
       "      <th>1</th>\n",
       "      <td>Benches</td>\n",
       "      <td>paved</td>\n",
       "      <td>open</td>\n",
       "      <td>poor</td>\n",
       "      <td>paved</td>\n",
       "      <td>An asphalt-paved shared-use path at least 10 f...</td>\n",
       "      <td>both</td>\n",
       "    </tr>\n",
       "    <tr>\n",
       "      <th>2</th>\n",
       "      <td>Beltway</td>\n",
       "      <td>paved</td>\n",
       "      <td>open</td>\n",
       "      <td>failed</td>\n",
       "      <td>paved</td>\n",
       "      <td>An asphalt-paved shared-use path at least 10 f...</td>\n",
       "      <td>both</td>\n",
       "    </tr>\n",
       "    <tr>\n",
       "      <th>3</th>\n",
       "      <td>Provo Express</td>\n",
       "      <td>paved</td>\n",
       "      <td>planned</td>\n",
       "      <td>None</td>\n",
       "      <td>paved</td>\n",
       "      <td>An asphalt-paved shared-use path at least 10 f...</td>\n",
       "      <td>both</td>\n",
       "    </tr>\n",
       "    <tr>\n",
       "      <th>4</th>\n",
       "      <td>NaN</td>\n",
       "      <td>NaN</td>\n",
       "      <td>NaN</td>\n",
       "      <td>NaN</td>\n",
       "      <td>gravel</td>\n",
       "      <td>A gravel-based natural-surface path</td>\n",
       "      <td>right_only</td>\n",
       "    </tr>\n",
       "  </tbody>\n",
       "</table>\n",
       "</div>"
      ],
      "text/plain": [
       "                name      type   status condition surface_type  \\\n",
       "0  Main Street Trail  sidewalk     open      good     sidewalk   \n",
       "1            Benches     paved     open      poor        paved   \n",
       "2            Beltway     paved     open    failed        paved   \n",
       "3      Provo Express     paved  planned      None        paved   \n",
       "4                NaN       NaN      NaN       NaN       gravel   \n",
       "\n",
       "                                 surface_description      _merge  \n",
       "0  A shared-use path usually consisting of concre...        both  \n",
       "1  An asphalt-paved shared-use path at least 10 f...        both  \n",
       "2  An asphalt-paved shared-use path at least 10 f...        both  \n",
       "3  An asphalt-paved shared-use path at least 10 f...        both  \n",
       "4                A gravel-based natural-surface path  right_only  "
      ]
     },
     "execution_count": 78,
     "metadata": {},
     "output_type": "execute_result"
    }
   ],
   "source": [
    "#: Outer: Keep all rows, no matter if the key is missing in one\n",
    "new_combined_df.merge(surface_description_df, left_on='type', right_on='surface_type', how='outer', indicator=True)"
   ]
  },
  {
   "cell_type": "markdown",
   "id": "a91ffe12",
   "metadata": {
    "slideshow": {
     "slide_type": "slide"
    }
   },
   "source": [
    "# Spatial Joins: Like a Table, but Spatial!"
   ]
  },
  {
   "cell_type": "markdown",
   "id": "b1e05f19",
   "metadata": {
    "slideshow": {
     "slide_type": "fragment"
    }
   },
   "source": [
    " Question: How many people are there per supermarket in each county?"
   ]
  },
  {
   "cell_type": "code",
   "execution_count": 79,
   "id": "2e98b186",
   "metadata": {
    "slideshow": {
     "slide_type": "slide"
    }
   },
   "outputs": [],
   "source": [
    "#: Load in the data\n",
    "places_df = pd.DataFrame.spatial.from_featureclass(r'data/open_source_places.gdb/OpenSourcePlaces')\n",
    "new_counties_df = pd.DataFrame.spatial.from_featureclass(r'data/county_boundaries.gdb/Counties')"
   ]
  },
  {
   "cell_type": "code",
   "execution_count": 80,
   "id": "995d5bf6",
   "metadata": {
    "slideshow": {
     "slide_type": "fragment"
    }
   },
   "outputs": [
    {
     "data": {
      "text/plain": [
       "building                5479\n",
       "restaurant              2352\n",
       "christian               1913\n",
       "park                    1870\n",
       "fast_food               1681\n",
       "                        ... \n",
       "greengrocer                3\n",
       "jewish                     2\n",
       "embassy                    2\n",
       "christian_protestant       1\n",
       "hindu                      1\n",
       "Name: category, Length: 105, dtype: int64"
      ]
     },
     "execution_count": 80,
     "metadata": {},
     "output_type": "execute_result"
    }
   ],
   "source": [
    "#: Gives us the frequency of all the unique values in a series\n",
    "places_df['category'].value_counts()"
   ]
  },
  {
   "cell_type": "code",
   "execution_count": 81,
   "id": "3b389747",
   "metadata": {
    "scrolled": true,
    "slideshow": {
     "slide_type": "fragment"
    }
   },
   "outputs": [
    {
     "data": {
      "text/plain": [
       "['airport',\n",
       " 'archaeological',\n",
       " 'arts_centre',\n",
       " 'attraction',\n",
       " 'bakery',\n",
       " 'bank',\n",
       " 'bar',\n",
       " 'beauty_shop',\n",
       " 'beverages',\n",
       " 'bicycle_rental',\n",
       " 'bicycle_shop',\n",
       " 'bookshop',\n",
       " 'buddhist',\n",
       " 'building',\n",
       " 'butcher',\n",
       " 'cafe',\n",
       " 'camp_site',\n",
       " 'car_dealership',\n",
       " 'car_rental',\n",
       " 'car_wash',\n",
       " 'caravan_site',\n",
       " 'chemist',\n",
       " 'christian',\n",
       " 'christian_anglican',\n",
       " 'christian_catholic',\n",
       " 'christian_lutheran',\n",
       " 'christian_methodist',\n",
       " 'christian_protestant',\n",
       " 'cinema',\n",
       " 'clothes',\n",
       " 'college',\n",
       " 'community_centre',\n",
       " 'computer_shop',\n",
       " 'convenience',\n",
       " 'courthouse',\n",
       " 'dentist',\n",
       " 'department_store',\n",
       " 'doctors',\n",
       " 'doityourself',\n",
       " 'embassy',\n",
       " 'fast_food',\n",
       " 'fire_station',\n",
       " 'florist',\n",
       " 'furniture_shop',\n",
       " 'garden_centre',\n",
       " 'general',\n",
       " 'gift_shop',\n",
       " 'golf_course',\n",
       " 'graveyard',\n",
       " 'greengrocer',\n",
       " 'guesthouse',\n",
       " 'hairdresser',\n",
       " 'helipad',\n",
       " 'hindu',\n",
       " 'hospital',\n",
       " 'hostel',\n",
       " 'hotel',\n",
       " 'jeweller',\n",
       " 'jewish',\n",
       " 'kindergarten',\n",
       " 'laundry',\n",
       " 'library',\n",
       " 'mall',\n",
       " 'market_place',\n",
       " 'memorial',\n",
       " 'mobile_phone_shop',\n",
       " 'monument',\n",
       " 'motel',\n",
       " 'museum',\n",
       " 'muslim',\n",
       " 'nightclub',\n",
       " 'nursing_home',\n",
       " 'optician',\n",
       " 'outdoor_shop',\n",
       " 'park',\n",
       " 'pharmacy',\n",
       " 'picnic_site',\n",
       " 'playground',\n",
       " 'police',\n",
       " 'post_office',\n",
       " 'pub',\n",
       " 'railway_station',\n",
       " 'restaurant',\n",
       " 'ruins',\n",
       " 'school',\n",
       " 'shelter',\n",
       " 'shoe_shop',\n",
       " 'sports_centre',\n",
       " 'sports_shop',\n",
       " 'stadium',\n",
       " 'stationery',\n",
       " 'supermarket',\n",
       " 'swimming_pool',\n",
       " 'theatre',\n",
       " 'tourist_info',\n",
       " 'tower',\n",
       " 'town_hall',\n",
       " 'toy_shop',\n",
       " 'travel_agent',\n",
       " 'university',\n",
       " 'vending_any',\n",
       " 'veterinary',\n",
       " 'video_shop',\n",
       " 'viewpoint',\n",
       " 'zoo']"
      ]
     },
     "execution_count": 81,
     "metadata": {},
     "output_type": "execute_result"
    }
   ],
   "source": [
    "#: Returns all the unique values in a series and then sorts them\n",
    "sorted(places_df['category'].unique())"
   ]
  },
  {
   "cell_type": "code",
   "execution_count": 82,
   "id": "1db846c6",
   "metadata": {
    "slideshow": {
     "slide_type": "slide"
    }
   },
   "outputs": [
    {
     "name": "stdout",
     "output_type": "stream",
     "text": [
      "<class 'pandas.core.frame.DataFrame'>\n",
      "Int64Index: 273 entries, 68 to 18846\n",
      "Data columns (total 22 columns):\n",
      " #   Column      Non-Null Count  Dtype   \n",
      "---  ------      --------------  -----   \n",
      " 0   OBJECTID    273 non-null    int64   \n",
      " 1   addr_dist   179 non-null    float64 \n",
      " 2   osm_id      273 non-null    object  \n",
      " 3   category    273 non-null    object  \n",
      " 4   name        273 non-null    object  \n",
      " 5   county      273 non-null    object  \n",
      " 6   city        273 non-null    object  \n",
      " 7   zip         273 non-null    object  \n",
      " 8   block_id    273 non-null    object  \n",
      " 9   ugrc_addr   273 non-null    object  \n",
      " 10  disclaimer  273 non-null    object  \n",
      " 11  lon         273 non-null    float64 \n",
      " 12  lat         273 non-null    float64 \n",
      " 13  amenity     273 non-null    object  \n",
      " 14  cuisine     273 non-null    object  \n",
      " 15  tourism     273 non-null    object  \n",
      " 16  shop        273 non-null    object  \n",
      " 17  website     273 non-null    object  \n",
      " 18  phone       273 non-null    object  \n",
      " 19  open_hours  273 non-null    object  \n",
      " 20  osm_addr    273 non-null    object  \n",
      " 21  SHAPE       273 non-null    geometry\n",
      "dtypes: float64(3), geometry(1), int64(1), object(17)\n",
      "memory usage: 49.1+ KB\n"
     ]
    }
   ],
   "source": [
    "#: Filter down to just supermarkets, make a copy\n",
    "supermarkets_df = places_df[places_df['category'] == 'supermarket'].copy()\n",
    "supermarkets_df.info()"
   ]
  },
  {
   "cell_type": "code",
   "execution_count": 83,
   "id": "f4683e0c",
   "metadata": {
    "slideshow": {
     "slide_type": "slide"
    }
   },
   "outputs": [
    {
     "data": {
      "text/html": [
       "<div>\n",
       "<style scoped>\n",
       "    .dataframe tbody tr th:only-of-type {\n",
       "        vertical-align: middle;\n",
       "    }\n",
       "\n",
       "    .dataframe tbody tr th {\n",
       "        vertical-align: top;\n",
       "    }\n",
       "\n",
       "    .dataframe thead th {\n",
       "        text-align: right;\n",
       "    }\n",
       "</style>\n",
       "<table border=\"1\" class=\"dataframe\">\n",
       "  <thead>\n",
       "    <tr style=\"text-align: right;\">\n",
       "      <th></th>\n",
       "      <th>OBJECTID</th>\n",
       "      <th>addr_dist</th>\n",
       "      <th>osm_id</th>\n",
       "      <th>category</th>\n",
       "      <th>name</th>\n",
       "      <th>county</th>\n",
       "      <th>city</th>\n",
       "      <th>zip</th>\n",
       "      <th>block_id</th>\n",
       "      <th>ugrc_addr</th>\n",
       "      <th>...</th>\n",
       "      <th>lat</th>\n",
       "      <th>amenity</th>\n",
       "      <th>cuisine</th>\n",
       "      <th>tourism</th>\n",
       "      <th>shop</th>\n",
       "      <th>website</th>\n",
       "      <th>phone</th>\n",
       "      <th>open_hours</th>\n",
       "      <th>osm_addr</th>\n",
       "      <th>SHAPE</th>\n",
       "    </tr>\n",
       "  </thead>\n",
       "  <tbody>\n",
       "    <tr>\n",
       "      <th>68</th>\n",
       "      <td>69</td>\n",
       "      <td>NaN</td>\n",
       "      <td>306835249</td>\n",
       "      <td>supermarket</td>\n",
       "      <td>Winegar's</td>\n",
       "      <td>WEBER</td>\n",
       "      <td>OGDEN</td>\n",
       "      <td>84067</td>\n",
       "      <td>490572105133005</td>\n",
       "      <td>None</td>\n",
       "      <td>...</td>\n",
       "      <td>41.177380</td>\n",
       "      <td>None</td>\n",
       "      <td>None</td>\n",
       "      <td>None</td>\n",
       "      <td>supermarket</td>\n",
       "      <td>None</td>\n",
       "      <td>None</td>\n",
       "      <td>None</td>\n",
       "      <td>None</td>\n",
       "      <td>{\"x\": -112.06271881999999, \"y\": 41.17738674000...</td>\n",
       "    </tr>\n",
       "    <tr>\n",
       "      <th>87</th>\n",
       "      <td>88</td>\n",
       "      <td>22.674714</td>\n",
       "      <td>307362738</td>\n",
       "      <td>supermarket</td>\n",
       "      <td>Kents</td>\n",
       "      <td>WEBER</td>\n",
       "      <td>OGDEN</td>\n",
       "      <td>84067</td>\n",
       "      <td>490572105091021</td>\n",
       "      <td>3535 W 5500 S</td>\n",
       "      <td>...</td>\n",
       "      <td>41.162968</td>\n",
       "      <td>None</td>\n",
       "      <td>None</td>\n",
       "      <td>None</td>\n",
       "      <td>supermarket</td>\n",
       "      <td>None</td>\n",
       "      <td>None</td>\n",
       "      <td>None</td>\n",
       "      <td>None</td>\n",
       "      <td>{\"x\": -112.06581891999997, \"y\": 41.16297414000...</td>\n",
       "    </tr>\n",
       "    <tr>\n",
       "      <th>111</th>\n",
       "      <td>112</td>\n",
       "      <td>11.190251</td>\n",
       "      <td>308444242</td>\n",
       "      <td>supermarket</td>\n",
       "      <td>Natural Foods</td>\n",
       "      <td>WEBER</td>\n",
       "      <td>OGDEN</td>\n",
       "      <td>84405</td>\n",
       "      <td>490572105122014</td>\n",
       "      <td>1050 W RIVERDALE RD</td>\n",
       "      <td>...</td>\n",
       "      <td>41.177574</td>\n",
       "      <td>None</td>\n",
       "      <td>None</td>\n",
       "      <td>None</td>\n",
       "      <td>supermarket</td>\n",
       "      <td>None</td>\n",
       "      <td>None</td>\n",
       "      <td>None</td>\n",
       "      <td>None</td>\n",
       "      <td>{\"x\": -112.00384751999997, \"y\": 41.17757994000...</td>\n",
       "    </tr>\n",
       "    <tr>\n",
       "      <th>121</th>\n",
       "      <td>122</td>\n",
       "      <td>NaN</td>\n",
       "      <td>308973217</td>\n",
       "      <td>supermarket</td>\n",
       "      <td>Kent's</td>\n",
       "      <td>DAVIS</td>\n",
       "      <td>CLEARFIELD</td>\n",
       "      <td>84015</td>\n",
       "      <td>490111257013011</td>\n",
       "      <td>None</td>\n",
       "      <td>...</td>\n",
       "      <td>41.104546</td>\n",
       "      <td>None</td>\n",
       "      <td>None</td>\n",
       "      <td>None</td>\n",
       "      <td>supermarket</td>\n",
       "      <td>None</td>\n",
       "      <td>None</td>\n",
       "      <td>None</td>\n",
       "      <td>None</td>\n",
       "      <td>{\"x\": -112.01850231899999, \"y\": 41.10455224000...</td>\n",
       "    </tr>\n",
       "    <tr>\n",
       "      <th>161</th>\n",
       "      <td>162</td>\n",
       "      <td>NaN</td>\n",
       "      <td>355819779</td>\n",
       "      <td>supermarket</td>\n",
       "      <td>Winegar's Grocery</td>\n",
       "      <td>DAVIS</td>\n",
       "      <td>CLEARFIELD</td>\n",
       "      <td>84015</td>\n",
       "      <td>490111255011027</td>\n",
       "      <td>None</td>\n",
       "      <td>...</td>\n",
       "      <td>41.119408</td>\n",
       "      <td>None</td>\n",
       "      <td>None</td>\n",
       "      <td>None</td>\n",
       "      <td>supermarket</td>\n",
       "      <td>None</td>\n",
       "      <td>None</td>\n",
       "      <td>None</td>\n",
       "      <td>None</td>\n",
       "      <td>{\"x\": -112.04676911899998, \"y\": 41.11941383900...</td>\n",
       "    </tr>\n",
       "  </tbody>\n",
       "</table>\n",
       "<p>5 rows × 22 columns</p>\n",
       "</div>"
      ],
      "text/plain": [
       "     OBJECTID  addr_dist     osm_id     category               name county  \\\n",
       "68         69        NaN  306835249  supermarket          Winegar's  WEBER   \n",
       "87         88  22.674714  307362738  supermarket              Kents  WEBER   \n",
       "111       112  11.190251  308444242  supermarket      Natural Foods  WEBER   \n",
       "121       122        NaN  308973217  supermarket             Kent's  DAVIS   \n",
       "161       162        NaN  355819779  supermarket  Winegar's Grocery  DAVIS   \n",
       "\n",
       "           city    zip         block_id            ugrc_addr  ...        lat  \\\n",
       "68        OGDEN  84067  490572105133005                 None  ...  41.177380   \n",
       "87        OGDEN  84067  490572105091021        3535 W 5500 S  ...  41.162968   \n",
       "111       OGDEN  84405  490572105122014  1050 W RIVERDALE RD  ...  41.177574   \n",
       "121  CLEARFIELD  84015  490111257013011                 None  ...  41.104546   \n",
       "161  CLEARFIELD  84015  490111255011027                 None  ...  41.119408   \n",
       "\n",
       "     amenity  cuisine tourism         shop website phone open_hours osm_addr  \\\n",
       "68      None     None    None  supermarket    None  None       None     None   \n",
       "87      None     None    None  supermarket    None  None       None     None   \n",
       "111     None     None    None  supermarket    None  None       None     None   \n",
       "121     None     None    None  supermarket    None  None       None     None   \n",
       "161     None     None    None  supermarket    None  None       None     None   \n",
       "\n",
       "                                                 SHAPE  \n",
       "68   {\"x\": -112.06271881999999, \"y\": 41.17738674000...  \n",
       "87   {\"x\": -112.06581891999997, \"y\": 41.16297414000...  \n",
       "111  {\"x\": -112.00384751999997, \"y\": 41.17757994000...  \n",
       "121  {\"x\": -112.01850231899999, \"y\": 41.10455224000...  \n",
       "161  {\"x\": -112.04676911899998, \"y\": 41.11941383900...  \n",
       "\n",
       "[5 rows x 22 columns]"
      ]
     },
     "execution_count": 83,
     "metadata": {},
     "output_type": "execute_result"
    }
   ],
   "source": [
    "supermarkets_df.head()"
   ]
  },
  {
   "cell_type": "code",
   "execution_count": 84,
   "id": "f521d306",
   "metadata": {
    "slideshow": {
     "slide_type": "slide"
    }
   },
   "outputs": [
    {
     "ename": "Exception",
     "evalue": "Difference Spatial References, aborting operation",
     "output_type": "error",
     "traceback": [
      "\u001b[1;31m---------------------------------------------------------------------------\u001b[0m",
      "\u001b[1;31mException\u001b[0m                                 Traceback (most recent call last)",
      "\u001b[1;32m<ipython-input-84-e1c3f1afe7cb>\u001b[0m in \u001b[0;36m<module>\u001b[1;34m\u001b[0m\n\u001b[0;32m      1\u001b[0m \u001b[1;31m#: Try the join\u001b[0m\u001b[1;33m\u001b[0m\u001b[1;33m\u001b[0m\u001b[0m\n\u001b[1;32m----> 2\u001b[1;33m \u001b[0msupermarkets_df\u001b[0m\u001b[1;33m.\u001b[0m\u001b[0mspatial\u001b[0m\u001b[1;33m.\u001b[0m\u001b[0mjoin\u001b[0m\u001b[1;33m(\u001b[0m\u001b[0mnew_counties_df\u001b[0m\u001b[1;33m)\u001b[0m\u001b[1;33m\u001b[0m\u001b[1;33m\u001b[0m\u001b[0m\n\u001b[0m",
      "\u001b[1;32m~\\AppData\\Local\\Programs\\ArcGIS\\Pro\\bin\\Python\\envs\\arcpy\\lib\\site-packages\\arcgis\\features\\geo\\_accessor.py\u001b[0m in \u001b[0;36mjoin\u001b[1;34m(self, right_df, how, op, left_tag, right_tag)\u001b[0m\n\u001b[0;32m   1552\u001b[0m             )\n\u001b[0;32m   1553\u001b[0m         \u001b[1;32mif\u001b[0m \u001b[0mself\u001b[0m\u001b[1;33m.\u001b[0m\u001b[0msr\u001b[0m \u001b[1;33m!=\u001b[0m \u001b[0mright_df\u001b[0m\u001b[1;33m.\u001b[0m\u001b[0mspatial\u001b[0m\u001b[1;33m.\u001b[0m\u001b[0msr\u001b[0m\u001b[1;33m:\u001b[0m\u001b[1;33m\u001b[0m\u001b[1;33m\u001b[0m\u001b[0m\n\u001b[1;32m-> 1554\u001b[1;33m             \u001b[1;32mraise\u001b[0m \u001b[0mException\u001b[0m\u001b[1;33m(\u001b[0m\u001b[1;34m\"Difference Spatial References, aborting operation\"\u001b[0m\u001b[1;33m)\u001b[0m\u001b[1;33m\u001b[0m\u001b[1;33m\u001b[0m\u001b[0m\n\u001b[0m\u001b[0;32m   1555\u001b[0m         \u001b[0mindex_left\u001b[0m \u001b[1;33m=\u001b[0m \u001b[1;34m\"index_{}\"\u001b[0m\u001b[1;33m.\u001b[0m\u001b[0mformat\u001b[0m\u001b[1;33m(\u001b[0m\u001b[0mleft_tag\u001b[0m\u001b[1;33m)\u001b[0m\u001b[1;33m\u001b[0m\u001b[1;33m\u001b[0m\u001b[0m\n\u001b[0;32m   1556\u001b[0m         \u001b[0mindex_right\u001b[0m \u001b[1;33m=\u001b[0m \u001b[1;34m\"index_{}\"\u001b[0m\u001b[1;33m.\u001b[0m\u001b[0mformat\u001b[0m\u001b[1;33m(\u001b[0m\u001b[0mright_tag\u001b[0m\u001b[1;33m)\u001b[0m\u001b[1;33m\u001b[0m\u001b[1;33m\u001b[0m\u001b[0m\n",
      "\u001b[1;31mException\u001b[0m: Difference Spatial References, aborting operation"
     ]
    }
   ],
   "source": [
    "#: Try the join\n",
    "supermarkets_df.spatial.join(new_counties_df)"
   ]
  },
  {
   "cell_type": "code",
   "execution_count": 85,
   "id": "f090c374",
   "metadata": {
    "slideshow": {
     "slide_type": "slide"
    }
   },
   "outputs": [
    {
     "name": "stdout",
     "output_type": "stream",
     "text": [
      "{'wkid': 4326, 'latestWkid': 4326}\n",
      "{'wkid': 102100, 'latestWkid': 3857}\n"
     ]
    }
   ],
   "source": [
    "print(supermarkets_df.spatial.sr)\n",
    "print(new_counties_df.spatial.sr)"
   ]
  },
  {
   "cell_type": "code",
   "execution_count": 86,
   "id": "faa55ba3",
   "metadata": {
    "slideshow": {
     "slide_type": "fragment"
    }
   },
   "outputs": [
    {
     "data": {
      "text/plain": [
       "True"
      ]
     },
     "execution_count": 86,
     "metadata": {},
     "output_type": "execute_result"
    }
   ],
   "source": [
    "#: Reproject the supermarkets to Web Mercator\n",
    "supermarkets_df.spatial.project(3857)"
   ]
  },
  {
   "cell_type": "code",
   "execution_count": 87,
   "id": "703c312d",
   "metadata": {
    "slideshow": {
     "slide_type": "slide"
    }
   },
   "outputs": [
    {
     "ename": "KeyError",
     "evalue": "'[14081, 8355, 13348, 8259, 13419, 8848, 11120, 882, 18196, 8181, 8183, 8634, 15324, 1159, 967, 970, 1162, 990, 4480, 10754, 10758, 1547, 11033, 3099, 14329, 11048, 11689, 3376, 15412, 15546, 11579, 11462, 8134, 17763, 10986, 2286, 9071, 12923, 8062, 16385, 12866, 18821, 14764, 18316, 11475, 950, 13147, 3039, 1166, 4881, 9368, 1701, 4774, 1194, 12337, 9272, 5949, 11714, 9539, 1093, 7120, 4817, 11730, 982, 4835, 11877, 998, 11753, 1014, 18706, 17705, 5394, 13557, 12906, 5491, 5717, 5625, 5792, 1186, 5859, 13758, 12843, 13868, 1071, 1075, 6707, 1238, 3225, 2814, 1247, 3467, 1276, 1292, 5086, 3694, 3090, 18020, 13718, 1731, 16745, 6042, 16747, 3324, 1866, 17693, 3314, 15374, 1024, 13601, 5826, 2787, 16123, 9498, 3071, 4243, 6164, 6168, 13730, 16039, 15296, 12867, 12241, 13820, 13809, 13822, 874, 12288, 7621, 2055, 2572, 2573, 14353, 8212, 8224, 8226, 11300, 3110, 8232, 8233, 9257, 11309, 15920, 11314, 16947, 17460, 2104, 2556, 8790, 1113, 12892, 16991, 15457, 13924, 1129, 15468, 12402, 11379, 12420, 11406, 14481, 2195, 9883, 1183, 2213, 12455, 7336, 5805, 9906, 10936, 11453, 18627, 12995, 17101, 5332, 8416, 12521, 13034, 17131, 16622, 9457, 8947, 2803, 1790, 8970, 5901, 3854, 5905, 6422, 11548, 12576, 9507, 9003, 2347, 5935, 5936, 13104, 2353, 7988, 2358, 1849, 13120, 13633, 3909, 3913, 5450, 13135, 3920, 9044, 9046, 8546, 12643, 12647, 13168, 6004, 9081, 14714, 15227, 3455, 14722, 6041, 12187, 18846, 16292, 4520, 4533, 16823, 4538, 4550, 7119, 8150, 16343, 12783, 8176, 5105, 11256, 4604, 17405, 11911, 10775, 10780, 6519, 12065, 5284, 13989, 12202, 11954, 11317, 11957, 11448, 11321, 11964, 5948, 3266, 7105, 14659, 16069, 1735, 11978, 15179, 10828, 3024, 15185, 8403, 13658, 1376, 9959, 7024, 10231] not in index'",
     "output_type": "error",
     "traceback": [
      "\u001b[1;31m---------------------------------------------------------------------------\u001b[0m",
      "\u001b[1;31mKeyError\u001b[0m                                  Traceback (most recent call last)",
      "\u001b[1;32m<ipython-input-87-a0d7db3a0141>\u001b[0m in \u001b[0;36m<module>\u001b[1;34m\u001b[0m\n\u001b[1;32m----> 1\u001b[1;33m \u001b[0msupermarkets_df\u001b[0m\u001b[1;33m.\u001b[0m\u001b[0mspatial\u001b[0m\u001b[1;33m.\u001b[0m\u001b[0mjoin\u001b[0m\u001b[1;33m(\u001b[0m\u001b[0mnew_counties_df\u001b[0m\u001b[1;33m,\u001b[0m \u001b[0mhow\u001b[0m\u001b[1;33m=\u001b[0m\u001b[1;34m'inner'\u001b[0m\u001b[1;33m,\u001b[0m \u001b[0mop\u001b[0m\u001b[1;33m=\u001b[0m\u001b[1;34m'within'\u001b[0m\u001b[1;33m)\u001b[0m\u001b[1;33m\u001b[0m\u001b[1;33m\u001b[0m\u001b[0m\n\u001b[0m",
      "\u001b[1;32m~\\AppData\\Local\\Programs\\ArcGIS\\Pro\\bin\\Python\\envs\\arcpy\\lib\\site-packages\\arcgis\\features\\geo\\_accessor.py\u001b[0m in \u001b[0;36mjoin\u001b[1;34m(self, right_df, how, op, left_tag, right_tag)\u001b[0m\n\u001b[0;32m   1616\u001b[0m                         check_predicates(\n\u001b[0;32m   1617\u001b[0m                             \u001b[0mleft_df\u001b[0m\u001b[1;33m[\u001b[0m\u001b[0mself\u001b[0m\u001b[1;33m.\u001b[0m\u001b[0mname\u001b[0m\u001b[1;33m]\u001b[0m\u001b[1;33m.\u001b[0m\u001b[0mapply\u001b[0m\u001b[1;33m(\u001b[0m\u001b[1;32mlambda\u001b[0m \u001b[0mx\u001b[0m\u001b[1;33m:\u001b[0m \u001b[0mx\u001b[0m\u001b[1;33m)\u001b[0m\u001b[1;33m[\u001b[0m\u001b[0ml_idx\u001b[0m\u001b[1;33m]\u001b[0m\u001b[1;33m,\u001b[0m\u001b[1;33m\u001b[0m\u001b[1;33m\u001b[0m\u001b[0m\n\u001b[1;32m-> 1618\u001b[1;33m                             \u001b[0mright_df\u001b[0m\u001b[1;33m[\u001b[0m\u001b[0mright_df\u001b[0m\u001b[1;33m.\u001b[0m\u001b[0mspatial\u001b[0m\u001b[1;33m.\u001b[0m\u001b[0m_name\u001b[0m\u001b[1;33m]\u001b[0m\u001b[1;33m[\u001b[0m\u001b[0mr_idx\u001b[0m\u001b[1;33m]\u001b[0m\u001b[1;33m,\u001b[0m\u001b[1;33m\u001b[0m\u001b[1;33m\u001b[0m\u001b[0m\n\u001b[0m\u001b[0;32m   1619\u001b[0m                         ),\n\u001b[0;32m   1620\u001b[0m                     ]\n",
      "\u001b[1;32m~\\AppData\\Local\\Programs\\ArcGIS\\Pro\\bin\\Python\\envs\\arcpy\\lib\\site-packages\\pandas\\core\\series.py\u001b[0m in \u001b[0;36m__getitem__\u001b[1;34m(self, key)\u001b[0m\n\u001b[0;32m    964\u001b[0m             \u001b[1;32mreturn\u001b[0m \u001b[0mself\u001b[0m\u001b[1;33m.\u001b[0m\u001b[0m_get_values\u001b[0m\u001b[1;33m(\u001b[0m\u001b[0mkey\u001b[0m\u001b[1;33m)\u001b[0m\u001b[1;33m\u001b[0m\u001b[1;33m\u001b[0m\u001b[0m\n\u001b[0;32m    965\u001b[0m \u001b[1;33m\u001b[0m\u001b[0m\n\u001b[1;32m--> 966\u001b[1;33m         \u001b[1;32mreturn\u001b[0m \u001b[0mself\u001b[0m\u001b[1;33m.\u001b[0m\u001b[0m_get_with\u001b[0m\u001b[1;33m(\u001b[0m\u001b[0mkey\u001b[0m\u001b[1;33m)\u001b[0m\u001b[1;33m\u001b[0m\u001b[1;33m\u001b[0m\u001b[0m\n\u001b[0m\u001b[0;32m    967\u001b[0m \u001b[1;33m\u001b[0m\u001b[0m\n\u001b[0;32m    968\u001b[0m     \u001b[1;32mdef\u001b[0m \u001b[0m_get_with\u001b[0m\u001b[1;33m(\u001b[0m\u001b[0mself\u001b[0m\u001b[1;33m,\u001b[0m \u001b[0mkey\u001b[0m\u001b[1;33m)\u001b[0m\u001b[1;33m:\u001b[0m\u001b[1;33m\u001b[0m\u001b[1;33m\u001b[0m\u001b[0m\n",
      "\u001b[1;32m~\\AppData\\Local\\Programs\\ArcGIS\\Pro\\bin\\Python\\envs\\arcpy\\lib\\site-packages\\pandas\\core\\series.py\u001b[0m in \u001b[0;36m_get_with\u001b[1;34m(self, key)\u001b[0m\n\u001b[0;32m    999\u001b[0m             \u001b[1;31m#  (i.e. self.iloc) or label-based (i.e. self.loc)\u001b[0m\u001b[1;33m\u001b[0m\u001b[1;33m\u001b[0m\u001b[0m\n\u001b[0;32m   1000\u001b[0m             \u001b[1;32mif\u001b[0m \u001b[1;32mnot\u001b[0m \u001b[0mself\u001b[0m\u001b[1;33m.\u001b[0m\u001b[0mindex\u001b[0m\u001b[1;33m.\u001b[0m\u001b[0m_should_fallback_to_positional\u001b[0m\u001b[1;33m(\u001b[0m\u001b[1;33m)\u001b[0m\u001b[1;33m:\u001b[0m\u001b[1;33m\u001b[0m\u001b[1;33m\u001b[0m\u001b[0m\n\u001b[1;32m-> 1001\u001b[1;33m                 \u001b[1;32mreturn\u001b[0m \u001b[0mself\u001b[0m\u001b[1;33m.\u001b[0m\u001b[0mloc\u001b[0m\u001b[1;33m[\u001b[0m\u001b[0mkey\u001b[0m\u001b[1;33m]\u001b[0m\u001b[1;33m\u001b[0m\u001b[1;33m\u001b[0m\u001b[0m\n\u001b[0m\u001b[0;32m   1002\u001b[0m             \u001b[1;32melse\u001b[0m\u001b[1;33m:\u001b[0m\u001b[1;33m\u001b[0m\u001b[1;33m\u001b[0m\u001b[0m\n\u001b[0;32m   1003\u001b[0m                 \u001b[1;32mreturn\u001b[0m \u001b[0mself\u001b[0m\u001b[1;33m.\u001b[0m\u001b[0miloc\u001b[0m\u001b[1;33m[\u001b[0m\u001b[0mkey\u001b[0m\u001b[1;33m]\u001b[0m\u001b[1;33m\u001b[0m\u001b[1;33m\u001b[0m\u001b[0m\n",
      "\u001b[1;32m~\\AppData\\Local\\Programs\\ArcGIS\\Pro\\bin\\Python\\envs\\arcpy\\lib\\site-packages\\pandas\\core\\indexing.py\u001b[0m in \u001b[0;36m__getitem__\u001b[1;34m(self, key)\u001b[0m\n\u001b[0;32m    929\u001b[0m \u001b[1;33m\u001b[0m\u001b[0m\n\u001b[0;32m    930\u001b[0m             \u001b[0mmaybe_callable\u001b[0m \u001b[1;33m=\u001b[0m \u001b[0mcom\u001b[0m\u001b[1;33m.\u001b[0m\u001b[0mapply_if_callable\u001b[0m\u001b[1;33m(\u001b[0m\u001b[0mkey\u001b[0m\u001b[1;33m,\u001b[0m \u001b[0mself\u001b[0m\u001b[1;33m.\u001b[0m\u001b[0mobj\u001b[0m\u001b[1;33m)\u001b[0m\u001b[1;33m\u001b[0m\u001b[1;33m\u001b[0m\u001b[0m\n\u001b[1;32m--> 931\u001b[1;33m             \u001b[1;32mreturn\u001b[0m \u001b[0mself\u001b[0m\u001b[1;33m.\u001b[0m\u001b[0m_getitem_axis\u001b[0m\u001b[1;33m(\u001b[0m\u001b[0mmaybe_callable\u001b[0m\u001b[1;33m,\u001b[0m \u001b[0maxis\u001b[0m\u001b[1;33m=\u001b[0m\u001b[0maxis\u001b[0m\u001b[1;33m)\u001b[0m\u001b[1;33m\u001b[0m\u001b[1;33m\u001b[0m\u001b[0m\n\u001b[0m\u001b[0;32m    932\u001b[0m \u001b[1;33m\u001b[0m\u001b[0m\n\u001b[0;32m    933\u001b[0m     \u001b[1;32mdef\u001b[0m \u001b[0m_is_scalar_access\u001b[0m\u001b[1;33m(\u001b[0m\u001b[0mself\u001b[0m\u001b[1;33m,\u001b[0m \u001b[0mkey\u001b[0m\u001b[1;33m:\u001b[0m \u001b[0mtuple\u001b[0m\u001b[1;33m)\u001b[0m\u001b[1;33m:\u001b[0m\u001b[1;33m\u001b[0m\u001b[1;33m\u001b[0m\u001b[0m\n",
      "\u001b[1;32m~\\AppData\\Local\\Programs\\ArcGIS\\Pro\\bin\\Python\\envs\\arcpy\\lib\\site-packages\\pandas\\core\\indexing.py\u001b[0m in \u001b[0;36m_getitem_axis\u001b[1;34m(self, key, axis)\u001b[0m\n\u001b[0;32m   1151\u001b[0m                     \u001b[1;32mraise\u001b[0m \u001b[0mValueError\u001b[0m\u001b[1;33m(\u001b[0m\u001b[1;34m\"Cannot index with multidimensional key\"\u001b[0m\u001b[1;33m)\u001b[0m\u001b[1;33m\u001b[0m\u001b[1;33m\u001b[0m\u001b[0m\n\u001b[0;32m   1152\u001b[0m \u001b[1;33m\u001b[0m\u001b[0m\n\u001b[1;32m-> 1153\u001b[1;33m                 \u001b[1;32mreturn\u001b[0m \u001b[0mself\u001b[0m\u001b[1;33m.\u001b[0m\u001b[0m_getitem_iterable\u001b[0m\u001b[1;33m(\u001b[0m\u001b[0mkey\u001b[0m\u001b[1;33m,\u001b[0m \u001b[0maxis\u001b[0m\u001b[1;33m=\u001b[0m\u001b[0maxis\u001b[0m\u001b[1;33m)\u001b[0m\u001b[1;33m\u001b[0m\u001b[1;33m\u001b[0m\u001b[0m\n\u001b[0m\u001b[0;32m   1154\u001b[0m \u001b[1;33m\u001b[0m\u001b[0m\n\u001b[0;32m   1155\u001b[0m             \u001b[1;31m# nested tuple slicing\u001b[0m\u001b[1;33m\u001b[0m\u001b[1;33m\u001b[0m\u001b[0m\n",
      "\u001b[1;32m~\\AppData\\Local\\Programs\\ArcGIS\\Pro\\bin\\Python\\envs\\arcpy\\lib\\site-packages\\pandas\\core\\indexing.py\u001b[0m in \u001b[0;36m_getitem_iterable\u001b[1;34m(self, key, axis)\u001b[0m\n\u001b[0;32m   1091\u001b[0m \u001b[1;33m\u001b[0m\u001b[0m\n\u001b[0;32m   1092\u001b[0m         \u001b[1;31m# A collection of keys\u001b[0m\u001b[1;33m\u001b[0m\u001b[1;33m\u001b[0m\u001b[0m\n\u001b[1;32m-> 1093\u001b[1;33m         \u001b[0mkeyarr\u001b[0m\u001b[1;33m,\u001b[0m \u001b[0mindexer\u001b[0m \u001b[1;33m=\u001b[0m \u001b[0mself\u001b[0m\u001b[1;33m.\u001b[0m\u001b[0m_get_listlike_indexer\u001b[0m\u001b[1;33m(\u001b[0m\u001b[0mkey\u001b[0m\u001b[1;33m,\u001b[0m \u001b[0maxis\u001b[0m\u001b[1;33m)\u001b[0m\u001b[1;33m\u001b[0m\u001b[1;33m\u001b[0m\u001b[0m\n\u001b[0m\u001b[0;32m   1094\u001b[0m         return self.obj._reindex_with_indexers(\n\u001b[0;32m   1095\u001b[0m             \u001b[1;33m{\u001b[0m\u001b[0maxis\u001b[0m\u001b[1;33m:\u001b[0m \u001b[1;33m[\u001b[0m\u001b[0mkeyarr\u001b[0m\u001b[1;33m,\u001b[0m \u001b[0mindexer\u001b[0m\u001b[1;33m]\u001b[0m\u001b[1;33m}\u001b[0m\u001b[1;33m,\u001b[0m \u001b[0mcopy\u001b[0m\u001b[1;33m=\u001b[0m\u001b[1;32mTrue\u001b[0m\u001b[1;33m,\u001b[0m \u001b[0mallow_dups\u001b[0m\u001b[1;33m=\u001b[0m\u001b[1;32mTrue\u001b[0m\u001b[1;33m\u001b[0m\u001b[1;33m\u001b[0m\u001b[0m\n",
      "\u001b[1;32m~\\AppData\\Local\\Programs\\ArcGIS\\Pro\\bin\\Python\\envs\\arcpy\\lib\\site-packages\\pandas\\core\\indexing.py\u001b[0m in \u001b[0;36m_get_listlike_indexer\u001b[1;34m(self, key, axis)\u001b[0m\n\u001b[0;32m   1312\u001b[0m             \u001b[0mkeyarr\u001b[0m\u001b[1;33m,\u001b[0m \u001b[0mindexer\u001b[0m\u001b[1;33m,\u001b[0m \u001b[0mnew_indexer\u001b[0m \u001b[1;33m=\u001b[0m \u001b[0max\u001b[0m\u001b[1;33m.\u001b[0m\u001b[0m_reindex_non_unique\u001b[0m\u001b[1;33m(\u001b[0m\u001b[0mkeyarr\u001b[0m\u001b[1;33m)\u001b[0m\u001b[1;33m\u001b[0m\u001b[1;33m\u001b[0m\u001b[0m\n\u001b[0;32m   1313\u001b[0m \u001b[1;33m\u001b[0m\u001b[0m\n\u001b[1;32m-> 1314\u001b[1;33m         \u001b[0mself\u001b[0m\u001b[1;33m.\u001b[0m\u001b[0m_validate_read_indexer\u001b[0m\u001b[1;33m(\u001b[0m\u001b[0mkeyarr\u001b[0m\u001b[1;33m,\u001b[0m \u001b[0mindexer\u001b[0m\u001b[1;33m,\u001b[0m \u001b[0maxis\u001b[0m\u001b[1;33m)\u001b[0m\u001b[1;33m\u001b[0m\u001b[1;33m\u001b[0m\u001b[0m\n\u001b[0m\u001b[0;32m   1315\u001b[0m \u001b[1;33m\u001b[0m\u001b[0m\n\u001b[0;32m   1316\u001b[0m         if needs_i8_conversion(ax.dtype) or isinstance(\n",
      "\u001b[1;32m~\\AppData\\Local\\Programs\\ArcGIS\\Pro\\bin\\Python\\envs\\arcpy\\lib\\site-packages\\pandas\\core\\indexing.py\u001b[0m in \u001b[0;36m_validate_read_indexer\u001b[1;34m(self, key, indexer, axis)\u001b[0m\n\u001b[0;32m   1375\u001b[0m \u001b[1;33m\u001b[0m\u001b[0m\n\u001b[0;32m   1376\u001b[0m             \u001b[0mnot_found\u001b[0m \u001b[1;33m=\u001b[0m \u001b[0mlist\u001b[0m\u001b[1;33m(\u001b[0m\u001b[0mensure_index\u001b[0m\u001b[1;33m(\u001b[0m\u001b[0mkey\u001b[0m\u001b[1;33m)\u001b[0m\u001b[1;33m[\u001b[0m\u001b[0mmissing_mask\u001b[0m\u001b[1;33m.\u001b[0m\u001b[0mnonzero\u001b[0m\u001b[1;33m(\u001b[0m\u001b[1;33m)\u001b[0m\u001b[1;33m[\u001b[0m\u001b[1;36m0\u001b[0m\u001b[1;33m]\u001b[0m\u001b[1;33m]\u001b[0m\u001b[1;33m.\u001b[0m\u001b[0munique\u001b[0m\u001b[1;33m(\u001b[0m\u001b[1;33m)\u001b[0m\u001b[1;33m)\u001b[0m\u001b[1;33m\u001b[0m\u001b[1;33m\u001b[0m\u001b[0m\n\u001b[1;32m-> 1377\u001b[1;33m             \u001b[1;32mraise\u001b[0m \u001b[0mKeyError\u001b[0m\u001b[1;33m(\u001b[0m\u001b[1;34mf\"{not_found} not in index\"\u001b[0m\u001b[1;33m)\u001b[0m\u001b[1;33m\u001b[0m\u001b[1;33m\u001b[0m\u001b[0m\n\u001b[0m\u001b[0;32m   1378\u001b[0m \u001b[1;33m\u001b[0m\u001b[0m\n\u001b[0;32m   1379\u001b[0m \u001b[1;33m\u001b[0m\u001b[0m\n",
      "\u001b[1;31mKeyError\u001b[0m: '[14081, 8355, 13348, 8259, 13419, 8848, 11120, 882, 18196, 8181, 8183, 8634, 15324, 1159, 967, 970, 1162, 990, 4480, 10754, 10758, 1547, 11033, 3099, 14329, 11048, 11689, 3376, 15412, 15546, 11579, 11462, 8134, 17763, 10986, 2286, 9071, 12923, 8062, 16385, 12866, 18821, 14764, 18316, 11475, 950, 13147, 3039, 1166, 4881, 9368, 1701, 4774, 1194, 12337, 9272, 5949, 11714, 9539, 1093, 7120, 4817, 11730, 982, 4835, 11877, 998, 11753, 1014, 18706, 17705, 5394, 13557, 12906, 5491, 5717, 5625, 5792, 1186, 5859, 13758, 12843, 13868, 1071, 1075, 6707, 1238, 3225, 2814, 1247, 3467, 1276, 1292, 5086, 3694, 3090, 18020, 13718, 1731, 16745, 6042, 16747, 3324, 1866, 17693, 3314, 15374, 1024, 13601, 5826, 2787, 16123, 9498, 3071, 4243, 6164, 6168, 13730, 16039, 15296, 12867, 12241, 13820, 13809, 13822, 874, 12288, 7621, 2055, 2572, 2573, 14353, 8212, 8224, 8226, 11300, 3110, 8232, 8233, 9257, 11309, 15920, 11314, 16947, 17460, 2104, 2556, 8790, 1113, 12892, 16991, 15457, 13924, 1129, 15468, 12402, 11379, 12420, 11406, 14481, 2195, 9883, 1183, 2213, 12455, 7336, 5805, 9906, 10936, 11453, 18627, 12995, 17101, 5332, 8416, 12521, 13034, 17131, 16622, 9457, 8947, 2803, 1790, 8970, 5901, 3854, 5905, 6422, 11548, 12576, 9507, 9003, 2347, 5935, 5936, 13104, 2353, 7988, 2358, 1849, 13120, 13633, 3909, 3913, 5450, 13135, 3920, 9044, 9046, 8546, 12643, 12647, 13168, 6004, 9081, 14714, 15227, 3455, 14722, 6041, 12187, 18846, 16292, 4520, 4533, 16823, 4538, 4550, 7119, 8150, 16343, 12783, 8176, 5105, 11256, 4604, 17405, 11911, 10775, 10780, 6519, 12065, 5284, 13989, 12202, 11954, 11317, 11957, 11448, 11321, 11964, 5948, 3266, 7105, 14659, 16069, 1735, 11978, 15179, 10828, 3024, 15185, 8403, 13658, 1376, 9959, 7024, 10231] not in index'"
     ]
    }
   ],
   "source": [
    "supermarkets_df.spatial.join(new_counties_df, how='inner', op='within')"
   ]
  },
  {
   "cell_type": "markdown",
   "id": "6afc342a",
   "metadata": {
    "slideshow": {
     "slide_type": "slide"
    }
   },
   "source": [
    "![spatial join error](assets/spatial_join_error.png)"
   ]
  },
  {
   "cell_type": "code",
   "execution_count": 88,
   "id": "4681b201",
   "metadata": {
    "code_folding": [],
    "slideshow": {
     "slide_type": "slide"
    }
   },
   "outputs": [
    {
     "data": {
      "text/html": [
       "<div>\n",
       "<style scoped>\n",
       "    .dataframe tbody tr th:only-of-type {\n",
       "        vertical-align: middle;\n",
       "    }\n",
       "\n",
       "    .dataframe tbody tr th {\n",
       "        vertical-align: top;\n",
       "    }\n",
       "\n",
       "    .dataframe thead th {\n",
       "        text-align: right;\n",
       "    }\n",
       "</style>\n",
       "<table border=\"1\" class=\"dataframe\">\n",
       "  <thead>\n",
       "    <tr style=\"text-align: right;\">\n",
       "      <th></th>\n",
       "      <th>level_0</th>\n",
       "      <th>OBJECTID_left</th>\n",
       "      <th>addr_dist</th>\n",
       "      <th>osm_id</th>\n",
       "      <th>category</th>\n",
       "      <th>name</th>\n",
       "      <th>county</th>\n",
       "      <th>city</th>\n",
       "      <th>zip</th>\n",
       "      <th>block_id</th>\n",
       "      <th>...</th>\n",
       "      <th>ENTITYNBR</th>\n",
       "      <th>ENTITYYR</th>\n",
       "      <th>NAME</th>\n",
       "      <th>FIPS</th>\n",
       "      <th>STATEPLANE</th>\n",
       "      <th>POP_LASTCENSUS</th>\n",
       "      <th>POP_CURRESTIMATE</th>\n",
       "      <th>GlobalID</th>\n",
       "      <th>FIPS_STR</th>\n",
       "      <th>COLOR4</th>\n",
       "    </tr>\n",
       "  </thead>\n",
       "  <tbody>\n",
       "    <tr>\n",
       "      <th>0</th>\n",
       "      <td>0</td>\n",
       "      <td>69</td>\n",
       "      <td>NaN</td>\n",
       "      <td>306835249</td>\n",
       "      <td>supermarket</td>\n",
       "      <td>Winegar's</td>\n",
       "      <td>WEBER</td>\n",
       "      <td>OGDEN</td>\n",
       "      <td>84067</td>\n",
       "      <td>490572105133005</td>\n",
       "      <td>...</td>\n",
       "      <td>2.010291e+09</td>\n",
       "      <td>2010.0</td>\n",
       "      <td>WEBER</td>\n",
       "      <td>57.0</td>\n",
       "      <td>North</td>\n",
       "      <td>262223</td>\n",
       "      <td>269561</td>\n",
       "      <td>{1757A80B-1895-4975-81DA-3AD2EBBA64C9}</td>\n",
       "      <td>49057</td>\n",
       "      <td>1</td>\n",
       "    </tr>\n",
       "    <tr>\n",
       "      <th>1</th>\n",
       "      <td>1</td>\n",
       "      <td>88</td>\n",
       "      <td>22.674714</td>\n",
       "      <td>307362738</td>\n",
       "      <td>supermarket</td>\n",
       "      <td>Kents</td>\n",
       "      <td>WEBER</td>\n",
       "      <td>OGDEN</td>\n",
       "      <td>84067</td>\n",
       "      <td>490572105091021</td>\n",
       "      <td>...</td>\n",
       "      <td>2.010291e+09</td>\n",
       "      <td>2010.0</td>\n",
       "      <td>WEBER</td>\n",
       "      <td>57.0</td>\n",
       "      <td>North</td>\n",
       "      <td>262223</td>\n",
       "      <td>269561</td>\n",
       "      <td>{1757A80B-1895-4975-81DA-3AD2EBBA64C9}</td>\n",
       "      <td>49057</td>\n",
       "      <td>1</td>\n",
       "    </tr>\n",
       "    <tr>\n",
       "      <th>2</th>\n",
       "      <td>2</td>\n",
       "      <td>112</td>\n",
       "      <td>11.190251</td>\n",
       "      <td>308444242</td>\n",
       "      <td>supermarket</td>\n",
       "      <td>Natural Foods</td>\n",
       "      <td>WEBER</td>\n",
       "      <td>OGDEN</td>\n",
       "      <td>84405</td>\n",
       "      <td>490572105122014</td>\n",
       "      <td>...</td>\n",
       "      <td>2.010291e+09</td>\n",
       "      <td>2010.0</td>\n",
       "      <td>WEBER</td>\n",
       "      <td>57.0</td>\n",
       "      <td>North</td>\n",
       "      <td>262223</td>\n",
       "      <td>269561</td>\n",
       "      <td>{1757A80B-1895-4975-81DA-3AD2EBBA64C9}</td>\n",
       "      <td>49057</td>\n",
       "      <td>1</td>\n",
       "    </tr>\n",
       "    <tr>\n",
       "      <th>3</th>\n",
       "      <td>10</td>\n",
       "      <td>983</td>\n",
       "      <td>22.493216</td>\n",
       "      <td>490548656</td>\n",
       "      <td>supermarket</td>\n",
       "      <td>Wangsgards</td>\n",
       "      <td>WEBER</td>\n",
       "      <td>OGDEN</td>\n",
       "      <td>84404</td>\n",
       "      <td>490572003013001</td>\n",
       "      <td>...</td>\n",
       "      <td>2.010291e+09</td>\n",
       "      <td>2010.0</td>\n",
       "      <td>WEBER</td>\n",
       "      <td>57.0</td>\n",
       "      <td>North</td>\n",
       "      <td>262223</td>\n",
       "      <td>269561</td>\n",
       "      <td>{1757A80B-1895-4975-81DA-3AD2EBBA64C9}</td>\n",
       "      <td>49057</td>\n",
       "      <td>1</td>\n",
       "    </tr>\n",
       "    <tr>\n",
       "      <th>4</th>\n",
       "      <td>12</td>\n",
       "      <td>999</td>\n",
       "      <td>NaN</td>\n",
       "      <td>509040436</td>\n",
       "      <td>supermarket</td>\n",
       "      <td>Smith's Marketplace</td>\n",
       "      <td>WEBER</td>\n",
       "      <td>OGDEN</td>\n",
       "      <td>84414</td>\n",
       "      <td>490572102041016</td>\n",
       "      <td>...</td>\n",
       "      <td>2.010291e+09</td>\n",
       "      <td>2010.0</td>\n",
       "      <td>WEBER</td>\n",
       "      <td>57.0</td>\n",
       "      <td>North</td>\n",
       "      <td>262223</td>\n",
       "      <td>269561</td>\n",
       "      <td>{1757A80B-1895-4975-81DA-3AD2EBBA64C9}</td>\n",
       "      <td>49057</td>\n",
       "      <td>1</td>\n",
       "    </tr>\n",
       "  </tbody>\n",
       "</table>\n",
       "<p>5 rows × 36 columns</p>\n",
       "</div>"
      ],
      "text/plain": [
       "   level_0  OBJECTID_left  addr_dist     osm_id     category  \\\n",
       "0        0             69        NaN  306835249  supermarket   \n",
       "1        1             88  22.674714  307362738  supermarket   \n",
       "2        2            112  11.190251  308444242  supermarket   \n",
       "3       10            983  22.493216  490548656  supermarket   \n",
       "4       12            999        NaN  509040436  supermarket   \n",
       "\n",
       "                  name county   city    zip         block_id  ...  \\\n",
       "0            Winegar's  WEBER  OGDEN  84067  490572105133005  ...   \n",
       "1                Kents  WEBER  OGDEN  84067  490572105091021  ...   \n",
       "2        Natural Foods  WEBER  OGDEN  84405  490572105122014  ...   \n",
       "3           Wangsgards  WEBER  OGDEN  84404  490572003013001  ...   \n",
       "4  Smith's Marketplace  WEBER  OGDEN  84414  490572102041016  ...   \n",
       "\n",
       "      ENTITYNBR ENTITYYR   NAME  FIPS STATEPLANE POP_LASTCENSUS  \\\n",
       "0  2.010291e+09   2010.0  WEBER  57.0      North         262223   \n",
       "1  2.010291e+09   2010.0  WEBER  57.0      North         262223   \n",
       "2  2.010291e+09   2010.0  WEBER  57.0      North         262223   \n",
       "3  2.010291e+09   2010.0  WEBER  57.0      North         262223   \n",
       "4  2.010291e+09   2010.0  WEBER  57.0      North         262223   \n",
       "\n",
       "  POP_CURRESTIMATE                                GlobalID FIPS_STR COLOR4  \n",
       "0           269561  {1757A80B-1895-4975-81DA-3AD2EBBA64C9}    49057      1  \n",
       "1           269561  {1757A80B-1895-4975-81DA-3AD2EBBA64C9}    49057      1  \n",
       "2           269561  {1757A80B-1895-4975-81DA-3AD2EBBA64C9}    49057      1  \n",
       "3           269561  {1757A80B-1895-4975-81DA-3AD2EBBA64C9}    49057      1  \n",
       "4           269561  {1757A80B-1895-4975-81DA-3AD2EBBA64C9}    49057      1  \n",
       "\n",
       "[5 rows x 36 columns]"
      ]
     },
     "execution_count": 88,
     "metadata": {},
     "output_type": "execute_result"
    }
   ],
   "source": [
    "#: Reset the index and call the spatial join again using method chaining\n",
    "supermarkets_df.reset_index().spatial.join(new_counties_df, how='inner', op='within').head()"
   ]
  },
  {
   "cell_type": "code",
   "execution_count": 89,
   "id": "a3c8bdc5",
   "metadata": {
    "slideshow": {
     "slide_type": "slide"
    }
   },
   "outputs": [
    {
     "data": {
      "text/html": [
       "<div>\n",
       "<style scoped>\n",
       "    .dataframe tbody tr th:only-of-type {\n",
       "        vertical-align: middle;\n",
       "    }\n",
       "\n",
       "    .dataframe tbody tr th {\n",
       "        vertical-align: top;\n",
       "    }\n",
       "\n",
       "    .dataframe thead th {\n",
       "        text-align: right;\n",
       "    }\n",
       "</style>\n",
       "<table border=\"1\" class=\"dataframe\">\n",
       "  <thead>\n",
       "    <tr style=\"text-align: right;\">\n",
       "      <th></th>\n",
       "      <th>OBJECTID</th>\n",
       "      <th>addr_dist</th>\n",
       "      <th>osm_id</th>\n",
       "      <th>category</th>\n",
       "      <th>name</th>\n",
       "      <th>county</th>\n",
       "      <th>city</th>\n",
       "      <th>zip</th>\n",
       "      <th>block_id</th>\n",
       "      <th>ugrc_addr</th>\n",
       "      <th>...</th>\n",
       "      <th>tourism</th>\n",
       "      <th>shop</th>\n",
       "      <th>website</th>\n",
       "      <th>phone</th>\n",
       "      <th>open_hours</th>\n",
       "      <th>osm_addr</th>\n",
       "      <th>SHAPE</th>\n",
       "      <th>index_right</th>\n",
       "      <th>NAME</th>\n",
       "      <th>POP_LASTCENSUS</th>\n",
       "    </tr>\n",
       "  </thead>\n",
       "  <tbody>\n",
       "    <tr>\n",
       "      <th>0</th>\n",
       "      <td>69</td>\n",
       "      <td>NaN</td>\n",
       "      <td>306835249</td>\n",
       "      <td>supermarket</td>\n",
       "      <td>Winegar's</td>\n",
       "      <td>WEBER</td>\n",
       "      <td>OGDEN</td>\n",
       "      <td>84067</td>\n",
       "      <td>490572105133005</td>\n",
       "      <td>None</td>\n",
       "      <td>...</td>\n",
       "      <td>None</td>\n",
       "      <td>supermarket</td>\n",
       "      <td>None</td>\n",
       "      <td>None</td>\n",
       "      <td>None</td>\n",
       "      <td>None</td>\n",
       "      <td>{\"x\": -12474764.795952193, \"y\": 5038541.480961...</td>\n",
       "      <td>6</td>\n",
       "      <td>WEBER</td>\n",
       "      <td>262223</td>\n",
       "    </tr>\n",
       "    <tr>\n",
       "      <th>1</th>\n",
       "      <td>88</td>\n",
       "      <td>22.674714</td>\n",
       "      <td>307362738</td>\n",
       "      <td>supermarket</td>\n",
       "      <td>Kents</td>\n",
       "      <td>WEBER</td>\n",
       "      <td>OGDEN</td>\n",
       "      <td>84067</td>\n",
       "      <td>490572105091021</td>\n",
       "      <td>3535 W 5500 S</td>\n",
       "      <td>...</td>\n",
       "      <td>None</td>\n",
       "      <td>supermarket</td>\n",
       "      <td>None</td>\n",
       "      <td>None</td>\n",
       "      <td>None</td>\n",
       "      <td>None</td>\n",
       "      <td>{\"x\": -12475109.8975056, \"y\": 5036410.11323035...</td>\n",
       "      <td>6</td>\n",
       "      <td>WEBER</td>\n",
       "      <td>262223</td>\n",
       "    </tr>\n",
       "    <tr>\n",
       "      <th>2</th>\n",
       "      <td>112</td>\n",
       "      <td>11.190251</td>\n",
       "      <td>308444242</td>\n",
       "      <td>supermarket</td>\n",
       "      <td>Natural Foods</td>\n",
       "      <td>WEBER</td>\n",
       "      <td>OGDEN</td>\n",
       "      <td>84405</td>\n",
       "      <td>490572105122014</td>\n",
       "      <td>1050 W RIVERDALE RD</td>\n",
       "      <td>...</td>\n",
       "      <td>None</td>\n",
       "      <td>supermarket</td>\n",
       "      <td>None</td>\n",
       "      <td>None</td>\n",
       "      <td>None</td>\n",
       "      <td>None</td>\n",
       "      <td>{\"x\": -12468211.272813853, \"y\": 5038570.054997...</td>\n",
       "      <td>6</td>\n",
       "      <td>WEBER</td>\n",
       "      <td>262223</td>\n",
       "    </tr>\n",
       "    <tr>\n",
       "      <th>3</th>\n",
       "      <td>983</td>\n",
       "      <td>22.493216</td>\n",
       "      <td>490548656</td>\n",
       "      <td>supermarket</td>\n",
       "      <td>Wangsgards</td>\n",
       "      <td>WEBER</td>\n",
       "      <td>OGDEN</td>\n",
       "      <td>84404</td>\n",
       "      <td>490572003013001</td>\n",
       "      <td>145 HARRISVILLE RD</td>\n",
       "      <td>...</td>\n",
       "      <td>None</td>\n",
       "      <td>supermarket</td>\n",
       "      <td>None</td>\n",
       "      <td>None</td>\n",
       "      <td>None</td>\n",
       "      <td>None</td>\n",
       "      <td>{\"x\": -12464702.716234982, \"y\": 5050771.313416...</td>\n",
       "      <td>6</td>\n",
       "      <td>WEBER</td>\n",
       "      <td>262223</td>\n",
       "    </tr>\n",
       "    <tr>\n",
       "      <th>4</th>\n",
       "      <td>999</td>\n",
       "      <td>NaN</td>\n",
       "      <td>509040436</td>\n",
       "      <td>supermarket</td>\n",
       "      <td>Smith's Marketplace</td>\n",
       "      <td>WEBER</td>\n",
       "      <td>OGDEN</td>\n",
       "      <td>84414</td>\n",
       "      <td>490572102041016</td>\n",
       "      <td>None</td>\n",
       "      <td>...</td>\n",
       "      <td>None</td>\n",
       "      <td>supermarket</td>\n",
       "      <td>None</td>\n",
       "      <td>None</td>\n",
       "      <td>Mo-Su 06:00-24:00</td>\n",
       "      <td>2434 North 400 East North Ogden 84414</td>\n",
       "      <td>{\"x\": -12464039.419049088, \"y\": 5057129.544228...</td>\n",
       "      <td>6</td>\n",
       "      <td>WEBER</td>\n",
       "      <td>262223</td>\n",
       "    </tr>\n",
       "  </tbody>\n",
       "</table>\n",
       "<p>5 rows × 25 columns</p>\n",
       "</div>"
      ],
      "text/plain": [
       "   OBJECTID  addr_dist     osm_id     category                 name county  \\\n",
       "0        69        NaN  306835249  supermarket            Winegar's  WEBER   \n",
       "1        88  22.674714  307362738  supermarket                Kents  WEBER   \n",
       "2       112  11.190251  308444242  supermarket        Natural Foods  WEBER   \n",
       "3       983  22.493216  490548656  supermarket           Wangsgards  WEBER   \n",
       "4       999        NaN  509040436  supermarket  Smith's Marketplace  WEBER   \n",
       "\n",
       "    city    zip         block_id            ugrc_addr  ... tourism  \\\n",
       "0  OGDEN  84067  490572105133005                 None  ...    None   \n",
       "1  OGDEN  84067  490572105091021        3535 W 5500 S  ...    None   \n",
       "2  OGDEN  84405  490572105122014  1050 W RIVERDALE RD  ...    None   \n",
       "3  OGDEN  84404  490572003013001   145 HARRISVILLE RD  ...    None   \n",
       "4  OGDEN  84414  490572102041016                 None  ...    None   \n",
       "\n",
       "          shop  website phone         open_hours  \\\n",
       "0  supermarket     None  None               None   \n",
       "1  supermarket     None  None               None   \n",
       "2  supermarket     None  None               None   \n",
       "3  supermarket     None  None               None   \n",
       "4  supermarket     None  None  Mo-Su 06:00-24:00   \n",
       "\n",
       "                                osm_addr  \\\n",
       "0                                   None   \n",
       "1                                   None   \n",
       "2                                   None   \n",
       "3                                   None   \n",
       "4  2434 North 400 East North Ogden 84414   \n",
       "\n",
       "                                               SHAPE index_right   NAME  \\\n",
       "0  {\"x\": -12474764.795952193, \"y\": 5038541.480961...           6  WEBER   \n",
       "1  {\"x\": -12475109.8975056, \"y\": 5036410.11323035...           6  WEBER   \n",
       "2  {\"x\": -12468211.272813853, \"y\": 5038570.054997...           6  WEBER   \n",
       "3  {\"x\": -12464702.716234982, \"y\": 5050771.313416...           6  WEBER   \n",
       "4  {\"x\": -12464039.419049088, \"y\": 5057129.544228...           6  WEBER   \n",
       "\n",
       "  POP_LASTCENSUS  \n",
       "0         262223  \n",
       "1         262223  \n",
       "2         262223  \n",
       "3         262223  \n",
       "4         262223  \n",
       "\n",
       "[5 rows x 25 columns]"
      ]
     },
     "execution_count": 89,
     "metadata": {},
     "output_type": "execute_result"
    }
   ],
   "source": [
    "#: Now let's save the join and only get the name and population columns from the counties\n",
    "new_supermarkets_df = supermarkets_df.reset_index(drop=True).spatial.join(new_counties_df[['NAME', 'POP_LASTCENSUS', 'SHAPE']], how='inner', op='within')\n",
    "new_supermarkets_df.head()"
   ]
  },
  {
   "cell_type": "markdown",
   "id": "2fb3515d",
   "metadata": {
    "slideshow": {
     "slide_type": "slide"
    }
   },
   "source": [
    "Now lets use our join results to get the number of supermarkets per county and the total county population"
   ]
  },
  {
   "cell_type": "code",
   "execution_count": 90,
   "id": "47f80c6b",
   "metadata": {
    "scrolled": true,
    "slideshow": {
     "slide_type": "fragment"
    }
   },
   "outputs": [
    {
     "data": {
      "text/plain": [
       "NAME\n",
       "BEAVER        1\n",
       "BOX ELDER     3\n",
       "CACHE        10\n",
       "CARBON        2\n",
       "DAVIS        18\n",
       "Name: category, dtype: int64"
      ]
     },
     "execution_count": 90,
     "metadata": {},
     "output_type": "execute_result"
    }
   ],
   "source": [
    "#: Use groupby to get total count of rows in each group, 'category' is arbitrary column\n",
    "new_supermarkets_df.groupby('NAME')['category'].count().head()"
   ]
  },
  {
   "cell_type": "code",
   "execution_count": 91,
   "id": "f53e2b15",
   "metadata": {
    "scrolled": true,
    "slideshow": {
     "slide_type": "fragment"
    }
   },
   "outputs": [
    {
     "data": {
      "text/plain": [
       "NAME\n",
       "BEAVER         7072\n",
       "BOX ELDER     57666\n",
       "CACHE        133154\n",
       "CARBON        20412\n",
       "DAVIS        362679\n",
       "Name: POP_LASTCENSUS, dtype: int64"
      ]
     },
     "execution_count": 91,
     "metadata": {},
     "output_type": "execute_result"
    }
   ],
   "source": [
    "#: And just get the first population value in each group (they're all the same per group)\n",
    "new_supermarkets_df.groupby('NAME')['POP_LASTCENSUS'].first().head()"
   ]
  },
  {
   "cell_type": "code",
   "execution_count": 92,
   "id": "30dc09a1",
   "metadata": {
    "scrolled": true,
    "slideshow": {
     "slide_type": "slide"
    }
   },
   "outputs": [
    {
     "data": {
      "text/html": [
       "<div>\n",
       "<style scoped>\n",
       "    .dataframe tbody tr th:only-of-type {\n",
       "        vertical-align: middle;\n",
       "    }\n",
       "\n",
       "    .dataframe tbody tr th {\n",
       "        vertical-align: top;\n",
       "    }\n",
       "\n",
       "    .dataframe thead th {\n",
       "        text-align: right;\n",
       "    }\n",
       "</style>\n",
       "<table border=\"1\" class=\"dataframe\">\n",
       "  <thead>\n",
       "    <tr style=\"text-align: right;\">\n",
       "      <th></th>\n",
       "      <th>category</th>\n",
       "      <th>POP_LASTCENSUS</th>\n",
       "    </tr>\n",
       "    <tr>\n",
       "      <th>NAME</th>\n",
       "      <th></th>\n",
       "      <th></th>\n",
       "    </tr>\n",
       "  </thead>\n",
       "  <tbody>\n",
       "    <tr>\n",
       "      <th>BEAVER</th>\n",
       "      <td>1</td>\n",
       "      <td>7072</td>\n",
       "    </tr>\n",
       "    <tr>\n",
       "      <th>BOX ELDER</th>\n",
       "      <td>3</td>\n",
       "      <td>57666</td>\n",
       "    </tr>\n",
       "    <tr>\n",
       "      <th>CACHE</th>\n",
       "      <td>10</td>\n",
       "      <td>133154</td>\n",
       "    </tr>\n",
       "    <tr>\n",
       "      <th>CARBON</th>\n",
       "      <td>2</td>\n",
       "      <td>20412</td>\n",
       "    </tr>\n",
       "    <tr>\n",
       "      <th>DAVIS</th>\n",
       "      <td>18</td>\n",
       "      <td>362679</td>\n",
       "    </tr>\n",
       "  </tbody>\n",
       "</table>\n",
       "</div>"
      ],
      "text/plain": [
       "           category  POP_LASTCENSUS\n",
       "NAME                               \n",
       "BEAVER            1            7072\n",
       "BOX ELDER         3           57666\n",
       "CACHE            10          133154\n",
       "CARBON            2           20412\n",
       "DAVIS            18          362679"
      ]
     },
     "execution_count": 92,
     "metadata": {},
     "output_type": "execute_result"
    }
   ],
   "source": [
    "#: Concat our groupby outputs into a new DataFrame\n",
    "answer_df = pd.concat([new_supermarkets_df.groupby('NAME')['category'].count(), new_supermarkets_df.groupby('NAME')['POP_LASTCENSUS'].first()], axis=1)\n",
    "answer_df.head()"
   ]
  },
  {
   "cell_type": "code",
   "execution_count": 93,
   "id": "d51e8136",
   "metadata": {
    "scrolled": false,
    "slideshow": {
     "slide_type": "fragment"
    }
   },
   "outputs": [
    {
     "data": {
      "text/html": [
       "<div>\n",
       "<style scoped>\n",
       "    .dataframe tbody tr th:only-of-type {\n",
       "        vertical-align: middle;\n",
       "    }\n",
       "\n",
       "    .dataframe tbody tr th {\n",
       "        vertical-align: top;\n",
       "    }\n",
       "\n",
       "    .dataframe thead th {\n",
       "        text-align: right;\n",
       "    }\n",
       "</style>\n",
       "<table border=\"1\" class=\"dataframe\">\n",
       "  <thead>\n",
       "    <tr style=\"text-align: right;\">\n",
       "      <th></th>\n",
       "      <th>supermarkets</th>\n",
       "      <th>pop_last_census</th>\n",
       "      <th>people_per_supermarket</th>\n",
       "    </tr>\n",
       "    <tr>\n",
       "      <th>NAME</th>\n",
       "      <th></th>\n",
       "      <th></th>\n",
       "      <th></th>\n",
       "    </tr>\n",
       "  </thead>\n",
       "  <tbody>\n",
       "    <tr>\n",
       "      <th>BEAVER</th>\n",
       "      <td>1</td>\n",
       "      <td>7072</td>\n",
       "      <td>7072.000000</td>\n",
       "    </tr>\n",
       "    <tr>\n",
       "      <th>BOX ELDER</th>\n",
       "      <td>3</td>\n",
       "      <td>57666</td>\n",
       "      <td>19222.000000</td>\n",
       "    </tr>\n",
       "    <tr>\n",
       "      <th>CACHE</th>\n",
       "      <td>10</td>\n",
       "      <td>133154</td>\n",
       "      <td>13315.400000</td>\n",
       "    </tr>\n",
       "    <tr>\n",
       "      <th>CARBON</th>\n",
       "      <td>2</td>\n",
       "      <td>20412</td>\n",
       "      <td>10206.000000</td>\n",
       "    </tr>\n",
       "    <tr>\n",
       "      <th>DAVIS</th>\n",
       "      <td>18</td>\n",
       "      <td>362679</td>\n",
       "      <td>20148.833333</td>\n",
       "    </tr>\n",
       "  </tbody>\n",
       "</table>\n",
       "</div>"
      ],
      "text/plain": [
       "           supermarkets  pop_last_census  people_per_supermarket\n",
       "NAME                                                            \n",
       "BEAVER                1             7072             7072.000000\n",
       "BOX ELDER             3            57666            19222.000000\n",
       "CACHE                10           133154            13315.400000\n",
       "CARBON                2            20412            10206.000000\n",
       "DAVIS                18           362679            20148.833333"
      ]
     },
     "execution_count": 93,
     "metadata": {},
     "output_type": "execute_result"
    }
   ],
   "source": [
    "#: Calculate our metric and clean up the column names\n",
    "answer_df['people_per_supermarket'] = answer_df['POP_LASTCENSUS'] / answer_df['category']\n",
    "answer_df.rename(columns={'category': 'supermarkets', 'POP_LASTCENSUS': 'pop_last_census'}, inplace=True)\n",
    "answer_df.head()"
   ]
  },
  {
   "cell_type": "code",
   "execution_count": 94,
   "id": "7a2d66e9",
   "metadata": {
    "slideshow": {
     "slide_type": "slide"
    }
   },
   "outputs": [
    {
     "data": {
      "text/html": [
       "<div>\n",
       "<style scoped>\n",
       "    .dataframe tbody tr th:only-of-type {\n",
       "        vertical-align: middle;\n",
       "    }\n",
       "\n",
       "    .dataframe tbody tr th {\n",
       "        vertical-align: top;\n",
       "    }\n",
       "\n",
       "    .dataframe thead th {\n",
       "        text-align: right;\n",
       "    }\n",
       "</style>\n",
       "<table border=\"1\" class=\"dataframe\">\n",
       "  <thead>\n",
       "    <tr style=\"text-align: right;\">\n",
       "      <th></th>\n",
       "      <th>supermarkets</th>\n",
       "      <th>pop_last_census</th>\n",
       "      <th>people_per_supermarket</th>\n",
       "    </tr>\n",
       "    <tr>\n",
       "      <th>NAME</th>\n",
       "      <th></th>\n",
       "      <th></th>\n",
       "      <th></th>\n",
       "    </tr>\n",
       "  </thead>\n",
       "  <tbody>\n",
       "    <tr>\n",
       "      <th>BEAVER</th>\n",
       "      <td>1</td>\n",
       "      <td>7072</td>\n",
       "      <td>7072.000000</td>\n",
       "    </tr>\n",
       "    <tr>\n",
       "      <th>BOX ELDER</th>\n",
       "      <td>3</td>\n",
       "      <td>57666</td>\n",
       "      <td>19222.000000</td>\n",
       "    </tr>\n",
       "    <tr>\n",
       "      <th>CACHE</th>\n",
       "      <td>10</td>\n",
       "      <td>133154</td>\n",
       "      <td>13315.400000</td>\n",
       "    </tr>\n",
       "    <tr>\n",
       "      <th>CARBON</th>\n",
       "      <td>2</td>\n",
       "      <td>20412</td>\n",
       "      <td>10206.000000</td>\n",
       "    </tr>\n",
       "    <tr>\n",
       "      <th>DAVIS</th>\n",
       "      <td>18</td>\n",
       "      <td>362679</td>\n",
       "      <td>20148.833333</td>\n",
       "    </tr>\n",
       "  </tbody>\n",
       "</table>\n",
       "</div>"
      ],
      "text/plain": [
       "           supermarkets  pop_last_census  people_per_supermarket\n",
       "NAME                                                            \n",
       "BEAVER                1             7072             7072.000000\n",
       "BOX ELDER             3            57666            19222.000000\n",
       "CACHE                10           133154            13315.400000\n",
       "CARBON                2            20412            10206.000000\n",
       "DAVIS                18           362679            20148.833333"
      ]
     },
     "execution_count": 94,
     "metadata": {},
     "output_type": "execute_result"
    }
   ],
   "source": [
    "#: Use chaining and line continuation to do it in one statement\n",
    "new_answer_df = (pd.concat([new_supermarkets_df.groupby('NAME')['category'].count(), new_supermarkets_df.groupby('NAME')['POP_LASTCENSUS'].first()], axis=1)\n",
    "                     .assign(people_per_supermarket= lambda x: x['POP_LASTCENSUS'] / x['category'])\n",
    "                     .rename(columns={'category': 'supermarkets', 'POP_LASTCENSUS': 'pop_last_census'}))\n",
    "new_answer_df.head()"
   ]
  },
  {
   "cell_type": "code",
   "execution_count": 95,
   "id": "57e2d047",
   "metadata": {
    "slideshow": {
     "slide_type": "fragment"
    }
   },
   "outputs": [
    {
     "data": {
      "text/html": [
       "<div>\n",
       "<style scoped>\n",
       "    .dataframe tbody tr th:only-of-type {\n",
       "        vertical-align: middle;\n",
       "    }\n",
       "\n",
       "    .dataframe tbody tr th {\n",
       "        vertical-align: top;\n",
       "    }\n",
       "\n",
       "    .dataframe thead th {\n",
       "        text-align: right;\n",
       "    }\n",
       "</style>\n",
       "<table border=\"1\" class=\"dataframe\">\n",
       "  <thead>\n",
       "    <tr style=\"text-align: right;\">\n",
       "      <th></th>\n",
       "      <th>NAME</th>\n",
       "      <th>SHAPE</th>\n",
       "      <th>supermarkets</th>\n",
       "      <th>pop_last_census</th>\n",
       "      <th>people_per_supermarket</th>\n",
       "    </tr>\n",
       "  </thead>\n",
       "  <tbody>\n",
       "    <tr>\n",
       "      <th>15</th>\n",
       "      <td>GARFIELD</td>\n",
       "      <td>{'rings': [[[-12497349.647300001, 4600620.4720...</td>\n",
       "      <td>4</td>\n",
       "      <td>5083</td>\n",
       "      <td>1270.75</td>\n",
       "    </tr>\n",
       "    <tr>\n",
       "      <th>21</th>\n",
       "      <td>WAYNE</td>\n",
       "      <td>{'rings': [[[-12435226.4528, 4651746.087300003...</td>\n",
       "      <td>1</td>\n",
       "      <td>2486</td>\n",
       "      <td>2486.00</td>\n",
       "    </tr>\n",
       "    <tr>\n",
       "      <th>11</th>\n",
       "      <td>RICH</td>\n",
       "      <td>{'rings': [[[-12361664.9952, 5161235.351800002...</td>\n",
       "      <td>1</td>\n",
       "      <td>2510</td>\n",
       "      <td>2510.00</td>\n",
       "    </tr>\n",
       "    <tr>\n",
       "      <th>10</th>\n",
       "      <td>GRAND</td>\n",
       "      <td>{'rings': [[[-12139959.1677, 4793360.2117], [-...</td>\n",
       "      <td>3</td>\n",
       "      <td>9669</td>\n",
       "      <td>3223.00</td>\n",
       "    </tr>\n",
       "    <tr>\n",
       "      <th>17</th>\n",
       "      <td>SUMMIT</td>\n",
       "      <td>{'rings': [[[-12245108.298, 5011966.523199998]...</td>\n",
       "      <td>12</td>\n",
       "      <td>42357</td>\n",
       "      <td>3529.75</td>\n",
       "    </tr>\n",
       "  </tbody>\n",
       "</table>\n",
       "</div>"
      ],
      "text/plain": [
       "        NAME                                              SHAPE  supermarkets  \\\n",
       "15  GARFIELD  {'rings': [[[-12497349.647300001, 4600620.4720...             4   \n",
       "21     WAYNE  {'rings': [[[-12435226.4528, 4651746.087300003...             1   \n",
       "11      RICH  {'rings': [[[-12361664.9952, 5161235.351800002...             1   \n",
       "10     GRAND  {'rings': [[[-12139959.1677, 4793360.2117], [-...             3   \n",
       "17    SUMMIT  {'rings': [[[-12245108.298, 5011966.523199998]...            12   \n",
       "\n",
       "    pop_last_census  people_per_supermarket  \n",
       "15             5083                 1270.75  \n",
       "21             2486                 2486.00  \n",
       "11             2510                 2510.00  \n",
       "10             9669                 3223.00  \n",
       "17            42357                 3529.75  "
      ]
     },
     "execution_count": 95,
     "metadata": {},
     "output_type": "execute_result"
    }
   ],
   "source": [
    "#: Now let's join our new data back to the geometries using just name and shape columns\n",
    "merged_df = counties_df[['NAME', 'SHAPE']].merge(answer_df, left_on='NAME', right_on='NAME')\n",
    "merged_df.sort_values(by='people_per_supermarket').head()"
   ]
  },
  {
   "cell_type": "code",
   "execution_count": 96,
   "id": "fe99b10f",
   "metadata": {
    "slideshow": {
     "slide_type": "slide"
    }
   },
   "outputs": [
    {
     "data": {
      "application/vnd.jupyter.widget-view+json": {
       "model_id": "256a1afc04eb4faabc34544e969c42de",
       "version_major": 2,
       "version_minor": 0
      },
      "text/plain": [
       "MapView(layout=Layout(height='400px', width='100%'))"
      ]
     },
     "metadata": {},
     "output_type": "display_data"
    },
    {
     "data": {
      "text/html": [
       "<div class=\"map-static-img-preview-7d0da5ca-233e-437c-8539-f7cd6188c375\"><img src=\"\"></img></div>"
      ],
      "text/plain": [
       "<IPython.core.display.HTML object>"
      ]
     },
     "metadata": {},
     "output_type": "display_data"
    },
    {
     "data": {
      "text/html": [
       "<div class=\"map-html-embed-preview-7d0da5ca-233e-437c-8539-f7cd6188c375\"></div>"
      ],
      "text/plain": [
       "<IPython.core.display.HTML object>"
      ]
     },
     "metadata": {},
     "output_type": "display_data"
    }
   ],
   "source": [
    "merged_df.spatial.plot()"
   ]
  },
  {
   "cell_type": "markdown",
   "id": "b7b3a88b",
   "metadata": {
    "slideshow": {
     "slide_type": "slide"
    }
   },
   "source": [
    "# Let's Get Spatial, the Esri Version"
   ]
  },
  {
   "cell_type": "markdown",
   "id": "25eeb571",
   "metadata": {
    "slideshow": {
     "slide_type": "fragment"
    }
   },
   "source": [
    "We've already used some aspects of Esri's **spatially-enabled dataframes**, which are an extension to normal pandas dataframe namespace provided by the ArcGIS API for Python. "
   ]
  },
  {
   "cell_type": "code",
   "execution_count": 97,
   "id": "5e67770a",
   "metadata": {
    "slideshow": {
     "slide_type": "slide"
    }
   },
   "outputs": [],
   "source": [
    "from arcgis.features import GeoAccessor, GeoSeriesAccessor"
   ]
  },
  {
   "cell_type": "markdown",
   "id": "0c701f40",
   "metadata": {
    "slideshow": {
     "slide_type": "fragment"
    }
   },
   "source": [
    "These imports add the `.spatial` attribute to `pd.DataFrame`, which provides access to a bunch of spatial methods and attributes. We've already used `pd.DataFrame.spatial.from_featureclass()`, `.project()`, `.join()`, and `.sr`.\n",
    "\n",
    "The documentation for all the methods and attributes exposed through `.spatial` can be found in the `GeoAccessor` class of the `arcgis.features` module in the ArcGIS API for Python [docs](https://developers.arcgis.com/python/api-reference/arcgis.features.toc.html#geoaccessor)\n",
    "\n",
    "![docs](assets/docs.png)"
   ]
  },
  {
   "cell_type": "markdown",
   "id": "0751d785",
   "metadata": {
    "slideshow": {
     "slide_type": "slide"
    }
   },
   "source": [
    "Because the ArcGIS API for Python does not require ArcGIS Pro/Enterprise, it can use two different geometry engines for spatial data types and operations. "
   ]
  },
  {
   "cell_type": "markdown",
   "id": "85735be4",
   "metadata": {
    "slideshow": {
     "slide_type": "fragment"
    }
   },
   "source": [
    "If `arcpy` **is** available in your python environment via ArcGIS Pro/Enterprise, it uses `arcpy`'s underlying geometry operations (just without all the feature layer nonsense). \n"
   ]
  },
  {
   "cell_type": "markdown",
   "id": "337d6cd3",
   "metadata": {
    "slideshow": {
     "slide_type": "fragment"
    }
   },
   "source": [
    "If `arcpy` **is not** available, it uses the `shapely` open-source library for geometry operations. The geometry objects will look a little different, and you won't be able to write to File GDBs (though you can still read from them)."
   ]
  },
  {
   "cell_type": "markdown",
   "id": "7fc3be08",
   "metadata": {
    "slideshow": {
     "slide_type": "slide"
    }
   },
   "source": [
    "## Creating Spatially-Enabled DataFrames"
   ]
  },
  {
   "cell_type": "code",
   "execution_count": 98,
   "id": "47f9f48b",
   "metadata": {
    "slideshow": {
     "slide_type": "fragment"
    }
   },
   "outputs": [
    {
     "data": {
      "text/html": [
       "<div>\n",
       "<style scoped>\n",
       "    .dataframe tbody tr th:only-of-type {\n",
       "        vertical-align: middle;\n",
       "    }\n",
       "\n",
       "    .dataframe tbody tr th {\n",
       "        vertical-align: top;\n",
       "    }\n",
       "\n",
       "    .dataframe thead th {\n",
       "        text-align: right;\n",
       "    }\n",
       "</style>\n",
       "<table border=\"1\" class=\"dataframe\">\n",
       "  <thead>\n",
       "    <tr style=\"text-align: right;\">\n",
       "      <th></th>\n",
       "      <th>OBJECTID</th>\n",
       "      <th>COUNTYNBR</th>\n",
       "      <th>ENTITYNBR</th>\n",
       "      <th>ENTITYYR</th>\n",
       "      <th>NAME</th>\n",
       "      <th>FIPS</th>\n",
       "      <th>STATEPLANE</th>\n",
       "      <th>POP_LASTCENSUS</th>\n",
       "      <th>POP_CURRESTIMATE</th>\n",
       "      <th>GlobalID</th>\n",
       "      <th>FIPS_STR</th>\n",
       "      <th>COLOR4</th>\n",
       "      <th>SHAPE</th>\n",
       "    </tr>\n",
       "  </thead>\n",
       "  <tbody>\n",
       "    <tr>\n",
       "      <th>0</th>\n",
       "      <td>1</td>\n",
       "      <td>03</td>\n",
       "      <td>2.010031e+09</td>\n",
       "      <td>2010.0</td>\n",
       "      <td>CACHE</td>\n",
       "      <td>5.0</td>\n",
       "      <td>North</td>\n",
       "      <td>133154</td>\n",
       "      <td>140173</td>\n",
       "      <td>{AD3015BE-B3C9-4316-B8DC-03AFBB56B443}</td>\n",
       "      <td>49005</td>\n",
       "      <td>2</td>\n",
       "      <td>{\"rings\": [[[-12485167.954, 5160638.807099998]...</td>\n",
       "    </tr>\n",
       "    <tr>\n",
       "      <th>1</th>\n",
       "      <td>2</td>\n",
       "      <td>07</td>\n",
       "      <td>2.010071e+09</td>\n",
       "      <td>2010.0</td>\n",
       "      <td>DUCHESNE</td>\n",
       "      <td>13.0</td>\n",
       "      <td>Central</td>\n",
       "      <td>19596</td>\n",
       "      <td>20161</td>\n",
       "      <td>{7F6252B7-137F-4F7E-A19A-03C702111509}</td>\n",
       "      <td>49013</td>\n",
       "      <td>4</td>\n",
       "      <td>{\"rings\": [[[-12273167.1888, 4987644.314599998...</td>\n",
       "    </tr>\n",
       "    <tr>\n",
       "      <th>2</th>\n",
       "      <td>3</td>\n",
       "      <td>06</td>\n",
       "      <td>2.010061e+09</td>\n",
       "      <td>2010.0</td>\n",
       "      <td>DAVIS</td>\n",
       "      <td>11.0</td>\n",
       "      <td>North</td>\n",
       "      <td>362679</td>\n",
       "      <td>369948</td>\n",
       "      <td>{214E29A1-CC25-4867-9148-2817DB623088}</td>\n",
       "      <td>49011</td>\n",
       "      <td>3</td>\n",
       "      <td>{\"rings\": [[[-12458980.0088, 5032817.971900001...</td>\n",
       "    </tr>\n",
       "    <tr>\n",
       "      <th>3</th>\n",
       "      <td>4</td>\n",
       "      <td>14</td>\n",
       "      <td>2.010141e+09</td>\n",
       "      <td>2010.0</td>\n",
       "      <td>MILLARD</td>\n",
       "      <td>27.0</td>\n",
       "      <td>Central</td>\n",
       "      <td>12975</td>\n",
       "      <td>13330</td>\n",
       "      <td>{BC91C742-7508-4118-8469-297719E423CB}</td>\n",
       "      <td>49027</td>\n",
       "      <td>3</td>\n",
       "      <td>{\"rings\": [[[-12494338.1205, 4801287.949100003...</td>\n",
       "    </tr>\n",
       "    <tr>\n",
       "      <th>4</th>\n",
       "      <td>5</td>\n",
       "      <td>26</td>\n",
       "      <td>2.010261e+09</td>\n",
       "      <td>2010.0</td>\n",
       "      <td>WASATCH</td>\n",
       "      <td>51.0</td>\n",
       "      <td>Central</td>\n",
       "      <td>34788</td>\n",
       "      <td>36619</td>\n",
       "      <td>{3D0C5C1E-2650-458E-B322-2B86AA473441}</td>\n",
       "      <td>49051</td>\n",
       "      <td>2</td>\n",
       "      <td>{\"rings\": [[[-12400515.3909, 4966751.283200003...</td>\n",
       "    </tr>\n",
       "  </tbody>\n",
       "</table>\n",
       "</div>"
      ],
      "text/plain": [
       "   OBJECTID COUNTYNBR     ENTITYNBR  ENTITYYR      NAME  FIPS STATEPLANE  \\\n",
       "0         1        03  2.010031e+09    2010.0     CACHE   5.0      North   \n",
       "1         2        07  2.010071e+09    2010.0  DUCHESNE  13.0    Central   \n",
       "2         3        06  2.010061e+09    2010.0     DAVIS  11.0      North   \n",
       "3         4        14  2.010141e+09    2010.0   MILLARD  27.0    Central   \n",
       "4         5        26  2.010261e+09    2010.0   WASATCH  51.0    Central   \n",
       "\n",
       "   POP_LASTCENSUS  POP_CURRESTIMATE                                GlobalID  \\\n",
       "0          133154            140173  {AD3015BE-B3C9-4316-B8DC-03AFBB56B443}   \n",
       "1           19596             20161  {7F6252B7-137F-4F7E-A19A-03C702111509}   \n",
       "2          362679            369948  {214E29A1-CC25-4867-9148-2817DB623088}   \n",
       "3           12975             13330  {BC91C742-7508-4118-8469-297719E423CB}   \n",
       "4           34788             36619  {3D0C5C1E-2650-458E-B322-2B86AA473441}   \n",
       "\n",
       "  FIPS_STR  COLOR4                                              SHAPE  \n",
       "0    49005       2  {\"rings\": [[[-12485167.954, 5160638.807099998]...  \n",
       "1    49013       4  {\"rings\": [[[-12273167.1888, 4987644.314599998...  \n",
       "2    49011       3  {\"rings\": [[[-12458980.0088, 5032817.971900001...  \n",
       "3    49027       3  {\"rings\": [[[-12494338.1205, 4801287.949100003...  \n",
       "4    49051       2  {\"rings\": [[[-12400515.3909, 4966751.283200003...  "
      ]
     },
     "execution_count": 98,
     "metadata": {},
     "output_type": "execute_result"
    }
   ],
   "source": [
    "#: From a Feature Class\n",
    "pd.DataFrame.spatial.from_featureclass(r'data/county_boundaries.gdb/Counties').head()"
   ]
  },
  {
   "cell_type": "code",
   "execution_count": 99,
   "id": "1af6a081",
   "metadata": {
    "slideshow": {
     "slide_type": "slide"
    }
   },
   "outputs": [
    {
     "data": {
      "text/html": [
       "<div>\n",
       "<style scoped>\n",
       "    .dataframe tbody tr th:only-of-type {\n",
       "        vertical-align: middle;\n",
       "    }\n",
       "\n",
       "    .dataframe tbody tr th {\n",
       "        vertical-align: top;\n",
       "    }\n",
       "\n",
       "    .dataframe thead th {\n",
       "        text-align: right;\n",
       "    }\n",
       "</style>\n",
       "<table border=\"1\" class=\"dataframe\">\n",
       "  <thead>\n",
       "    <tr style=\"text-align: right;\">\n",
       "      <th></th>\n",
       "      <th>OBJECTID</th>\n",
       "      <th>COUNTYNBR</th>\n",
       "      <th>ENTITYNBR</th>\n",
       "      <th>ENTITYYR</th>\n",
       "      <th>NAME</th>\n",
       "      <th>FIPS</th>\n",
       "      <th>STATEPLANE</th>\n",
       "      <th>POP_LASTCENSUS</th>\n",
       "      <th>POP_CURRESTIMATE</th>\n",
       "      <th>GlobalID</th>\n",
       "      <th>FIPS_STR</th>\n",
       "      <th>COLOR4</th>\n",
       "      <th>Shape__Area</th>\n",
       "      <th>Shape__Length</th>\n",
       "      <th>SHAPE</th>\n",
       "    </tr>\n",
       "  </thead>\n",
       "  <tbody>\n",
       "    <tr>\n",
       "      <th>0</th>\n",
       "      <td>1</td>\n",
       "      <td>03</td>\n",
       "      <td>2.010031e+09</td>\n",
       "      <td>2010.0</td>\n",
       "      <td>CACHE</td>\n",
       "      <td>5.0</td>\n",
       "      <td>North</td>\n",
       "      <td>133154</td>\n",
       "      <td>140173</td>\n",
       "      <td>ad3015be-b3c9-4316-b8dc-03afbb56b443</td>\n",
       "      <td>49005</td>\n",
       "      <td>2</td>\n",
       "      <td>5.456780e+09</td>\n",
       "      <td>388684.773484</td>\n",
       "      <td>{\"rings\": [[[-12485167.954, 5160638.8071], [-1...</td>\n",
       "    </tr>\n",
       "    <tr>\n",
       "      <th>1</th>\n",
       "      <td>2</td>\n",
       "      <td>07</td>\n",
       "      <td>2.010071e+09</td>\n",
       "      <td>2010.0</td>\n",
       "      <td>DUCHESNE</td>\n",
       "      <td>13.0</td>\n",
       "      <td>Central</td>\n",
       "      <td>19596</td>\n",
       "      <td>20161</td>\n",
       "      <td>7f6252b7-137f-4f7e-a19a-03c702111509</td>\n",
       "      <td>49013</td>\n",
       "      <td>4</td>\n",
       "      <td>1.448945e+10</td>\n",
       "      <td>517976.270842</td>\n",
       "      <td>{\"rings\": [[[-12273167.1888, 4987644.3146], [-...</td>\n",
       "    </tr>\n",
       "    <tr>\n",
       "      <th>2</th>\n",
       "      <td>3</td>\n",
       "      <td>06</td>\n",
       "      <td>2.010061e+09</td>\n",
       "      <td>2010.0</td>\n",
       "      <td>DAVIS</td>\n",
       "      <td>11.0</td>\n",
       "      <td>North</td>\n",
       "      <td>362679</td>\n",
       "      <td>369948</td>\n",
       "      <td>214e29a1-cc25-4867-9148-2817db623088</td>\n",
       "      <td>49011</td>\n",
       "      <td>3</td>\n",
       "      <td>2.889970e+09</td>\n",
       "      <td>279016.597702</td>\n",
       "      <td>{\"rings\": [[[-12458980.0088, 5032817.9719], [-...</td>\n",
       "    </tr>\n",
       "    <tr>\n",
       "      <th>3</th>\n",
       "      <td>4</td>\n",
       "      <td>14</td>\n",
       "      <td>2.010141e+09</td>\n",
       "      <td>2010.0</td>\n",
       "      <td>MILLARD</td>\n",
       "      <td>27.0</td>\n",
       "      <td>Central</td>\n",
       "      <td>12975</td>\n",
       "      <td>13330</td>\n",
       "      <td>bc91c742-7508-4118-8469-297719e423cb</td>\n",
       "      <td>49027</td>\n",
       "      <td>3</td>\n",
       "      <td>2.942199e+10</td>\n",
       "      <td>742424.559718</td>\n",
       "      <td>{\"rings\": [[[-12494338.1205, 4801287.9491], [-...</td>\n",
       "    </tr>\n",
       "    <tr>\n",
       "      <th>4</th>\n",
       "      <td>5</td>\n",
       "      <td>26</td>\n",
       "      <td>2.010261e+09</td>\n",
       "      <td>2010.0</td>\n",
       "      <td>WASATCH</td>\n",
       "      <td>51.0</td>\n",
       "      <td>Central</td>\n",
       "      <td>34788</td>\n",
       "      <td>36619</td>\n",
       "      <td>3d0c5c1e-2650-458e-b322-2b86aa473441</td>\n",
       "      <td>49051</td>\n",
       "      <td>2</td>\n",
       "      <td>5.396133e+09</td>\n",
       "      <td>436612.959291</td>\n",
       "      <td>{\"rings\": [[[-12400515.3909, 4966751.2832], [-...</td>\n",
       "    </tr>\n",
       "  </tbody>\n",
       "</table>\n",
       "</div>"
      ],
      "text/plain": [
       "   OBJECTID COUNTYNBR     ENTITYNBR  ENTITYYR      NAME  FIPS STATEPLANE  \\\n",
       "0         1        03  2.010031e+09    2010.0     CACHE   5.0      North   \n",
       "1         2        07  2.010071e+09    2010.0  DUCHESNE  13.0    Central   \n",
       "2         3        06  2.010061e+09    2010.0     DAVIS  11.0      North   \n",
       "3         4        14  2.010141e+09    2010.0   MILLARD  27.0    Central   \n",
       "4         5        26  2.010261e+09    2010.0   WASATCH  51.0    Central   \n",
       "\n",
       "   POP_LASTCENSUS  POP_CURRESTIMATE                              GlobalID  \\\n",
       "0          133154            140173  ad3015be-b3c9-4316-b8dc-03afbb56b443   \n",
       "1           19596             20161  7f6252b7-137f-4f7e-a19a-03c702111509   \n",
       "2          362679            369948  214e29a1-cc25-4867-9148-2817db623088   \n",
       "3           12975             13330  bc91c742-7508-4118-8469-297719e423cb   \n",
       "4           34788             36619  3d0c5c1e-2650-458e-b322-2b86aa473441   \n",
       "\n",
       "  FIPS_STR  COLOR4   Shape__Area  Shape__Length  \\\n",
       "0    49005       2  5.456780e+09  388684.773484   \n",
       "1    49013       4  1.448945e+10  517976.270842   \n",
       "2    49011       3  2.889970e+09  279016.597702   \n",
       "3    49027       3  2.942199e+10  742424.559718   \n",
       "4    49051       2  5.396133e+09  436612.959291   \n",
       "\n",
       "                                               SHAPE  \n",
       "0  {\"rings\": [[[-12485167.954, 5160638.8071], [-1...  \n",
       "1  {\"rings\": [[[-12273167.1888, 4987644.3146], [-...  \n",
       "2  {\"rings\": [[[-12458980.0088, 5032817.9719], [-...  \n",
       "3  {\"rings\": [[[-12494338.1205, 4801287.9491], [-...  \n",
       "4  {\"rings\": [[[-12400515.3909, 4966751.2832], [-...  "
      ]
     },
     "execution_count": 99,
     "metadata": {},
     "output_type": "execute_result"
    }
   ],
   "source": [
    "#: From a hosted feature layer\n",
    "feature_layer = arcgis.features.FeatureLayer('https://services1.arcgis.com/99lidPhWCzftIe9K/arcgis/rest/services/UtahCountyBoundaries/FeatureServer/0')\n",
    "pd.DataFrame.spatial.from_layer(feature_layer).head()"
   ]
  },
  {
   "cell_type": "code",
   "execution_count": 100,
   "id": "441b6f91",
   "metadata": {
    "slideshow": {
     "slide_type": "slide"
    }
   },
   "outputs": [
    {
     "data": {
      "text/html": [
       "<div>\n",
       "<style scoped>\n",
       "    .dataframe tbody tr th:only-of-type {\n",
       "        vertical-align: middle;\n",
       "    }\n",
       "\n",
       "    .dataframe tbody tr th {\n",
       "        vertical-align: top;\n",
       "    }\n",
       "\n",
       "    .dataframe thead th {\n",
       "        text-align: right;\n",
       "    }\n",
       "</style>\n",
       "<table border=\"1\" class=\"dataframe\">\n",
       "  <thead>\n",
       "    <tr style=\"text-align: right;\">\n",
       "      <th></th>\n",
       "      <th>ugic</th>\n",
       "      <th>latitude</th>\n",
       "      <th>longitude</th>\n",
       "      <th>SHAPE</th>\n",
       "    </tr>\n",
       "  </thead>\n",
       "  <tbody>\n",
       "    <tr>\n",
       "      <th>0</th>\n",
       "      <td>Midway</td>\n",
       "      <td>40.52528</td>\n",
       "      <td>-111.48883</td>\n",
       "      <td>{\"spatialReference\": {\"wkid\": 4326}, \"x\": -111...</td>\n",
       "    </tr>\n",
       "    <tr>\n",
       "      <th>1</th>\n",
       "      <td>Vernal</td>\n",
       "      <td>40.45389</td>\n",
       "      <td>-109.52327</td>\n",
       "      <td>{\"spatialReference\": {\"wkid\": 4326}, \"x\": -109...</td>\n",
       "    </tr>\n",
       "  </tbody>\n",
       "</table>\n",
       "</div>"
      ],
      "text/plain": [
       "     ugic  latitude  longitude  \\\n",
       "0  Midway  40.52528 -111.48883   \n",
       "1  Vernal  40.45389 -109.52327   \n",
       "\n",
       "                                               SHAPE  \n",
       "0  {\"spatialReference\": {\"wkid\": 4326}, \"x\": -111...  \n",
       "1  {\"spatialReference\": {\"wkid\": 4326}, \"x\": -109...  "
      ]
     },
     "execution_count": 100,
     "metadata": {},
     "output_type": "execute_result"
    }
   ],
   "source": [
    "#: From a dataframe containing lat/longs\n",
    "input_df = pd.DataFrame({\n",
    "    'ugic': ['Midway', 'Vernal'],\n",
    "    'latitude': [40.52528, 40.45389],\n",
    "    'longitude': [-111.48883, -109.52327]\n",
    "})\n",
    "pd.DataFrame.spatial.from_xy(input_df, x_column='longitude', y_column='latitude').head()"
   ]
  },
  {
   "cell_type": "markdown",
   "id": "4cba620c",
   "metadata": {
    "slideshow": {
     "slide_type": "slide"
    }
   },
   "source": [
    "## Exporting Spatially-Enabled DataFrames"
   ]
  },
  {
   "cell_type": "markdown",
   "id": "09671f9f",
   "metadata": {
    "slideshow": {
     "slide_type": "fragment"
    }
   },
   "source": [
    "SEDFs can be exported to several different forms using the `df.spatial.to_*` methods.\n",
    "\n",
    "* `to_featurest`/`to_feature_collection`: `arcgis.features.FeatureSet` or `.FeatureCollection` objects.\n",
    "* `to_featureclass`: Write to a feature class within a GDB or shapefile (depending on file extension and whether arcpy is present)\n",
    "* `to_featurelayer`: Create or overwrite a hosted feature layer in a `arcgis.gis.GIS` (AGOL or Portal organization)."
   ]
  },
  {
   "cell_type": "markdown",
   "id": "181bf9cd",
   "metadata": {
    "slideshow": {
     "slide_type": "slide"
    }
   },
   "source": [
    "## SEDF Tips and Tricks"
   ]
  },
  {
   "cell_type": "markdown",
   "id": "f166762d",
   "metadata": {
    "slideshow": {
     "slide_type": "fragment"
    }
   },
   "source": [
    "Sometimes, we perform a `.spatial` operation only to get a weird error that seems to be related to geometries. We can use `.spatial.validate()` to make sure the Spatially-Enabled DataFrame is, well, spatially-enabled."
   ]
  },
  {
   "cell_type": "code",
   "execution_count": 101,
   "id": "b8cb5a9c",
   "metadata": {
    "slideshow": {
     "slide_type": "fragment"
    }
   },
   "outputs": [
    {
     "data": {
      "text/plain": [
       "True"
      ]
     },
     "execution_count": 101,
     "metadata": {},
     "output_type": "execute_result"
    }
   ],
   "source": [
    "#: Use .validate to check if all the spatial bits are working\n",
    "counties_df.spatial.validate()"
   ]
  },
  {
   "cell_type": "markdown",
   "id": "fb1b7183",
   "metadata": {
    "slideshow": {
     "slide_type": "slide"
    }
   },
   "source": [
    "What if this returns `False`? There are a couple common fixes."
   ]
  },
  {
   "cell_type": "code",
   "execution_count": 102,
   "id": "2105a53c",
   "metadata": {
    "slideshow": {
     "slide_type": "fragment"
    }
   },
   "outputs": [
    {
     "data": {
      "text/plain": [
       "'SHAPE'"
      ]
     },
     "execution_count": 102,
     "metadata": {},
     "output_type": "execute_result"
    }
   ],
   "source": [
    "#: First, make sure it's point to the right geometry column.\n",
    "#: Don't try to keep multiple geometry columns in one DataFrame.\n",
    "counties_df.spatial.set_geometry('SHAPE')\n",
    "counties_df.spatial.name  #: The name of the geometry column"
   ]
  },
  {
   "cell_type": "code",
   "execution_count": 103,
   "id": "bedc546f",
   "metadata": {
    "slideshow": {
     "slide_type": "fragment"
    }
   },
   "outputs": [],
   "source": [
    "#: If using shapely, projecting often misnames the .sr property, so set it manually\n",
    "counties_df.spatial.sr = {'wkid': 3857}"
   ]
  },
  {
   "cell_type": "markdown",
   "id": "8abfd74c",
   "metadata": {
    "slideshow": {
     "slide_type": "slide"
    }
   },
   "source": [
    "# Resources"
   ]
  },
  {
   "cell_type": "markdown",
   "id": "68bc1480",
   "metadata": {
    "slideshow": {
     "slide_type": "fragment"
    }
   },
   "source": [
    "[pandas User Guide](https://pandas.pydata.org/docs/user_guide/index.html)\n",
    "\n",
    "[pandas API Reference](https://pandas.pydata.org/docs/reference/index.html)\n",
    "\n",
    "[RealPython](https://realpython.com/pandas-dataframe/)\n",
    "\n",
    "Any of our [\"skid\" repos](https://github.com/search?q=org%3Aagrc+skid&type=repositories)"
   ]
  },
  {
   "cell_type": "markdown",
   "id": "09d41baa",
   "metadata": {
    "slideshow": {
     "slide_type": "slide"
    }
   },
   "source": [
    "![end](assets/end.png)"
   ]
  }
 ],
 "metadata": {
  "celltoolbar": "Slideshow",
  "kernelspec": {
   "display_name": "Python 3",
   "language": "python",
   "name": "python3"
  },
  "language_info": {
   "codemirror_mode": {
    "name": "ipython",
    "version": 3
   },
   "file_extension": ".py",
   "mimetype": "text/x-python",
   "name": "python",
   "nbconvert_exporter": "python",
   "pygments_lexer": "ipython3",
   "version": "3.9.11"
  }
 },
 "nbformat": 4,
 "nbformat_minor": 5
}
