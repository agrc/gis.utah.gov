{
 "cells": [
  {
   "cell_type": "markdown",
   "id": "de8562bc",
   "metadata": {
    "slideshow": {
     "slide_type": "slide"
    }
   },
   "source": [
    "# Ditch the Cursor\n",
    "\n",
    "![mc_pandas.jpg](assets/mc_pandas2.jpg)\n",
    "\n",
    "## Editing Feature Classes with Spatialy-Enabled DataFrames"
   ]
  },
  {
   "cell_type": "markdown",
   "id": "197cc0ce",
   "metadata": {
    "slideshow": {
     "slide_type": "slide"
    }
   },
   "source": [
    "# ArcPy Is Great, And...\n",
    "\n",
    "![arcpy.png](assets/arcpy.png)"
   ]
  },
  {
   "cell_type": "markdown",
   "id": "4ad10a8a",
   "metadata": {
    "slideshow": {
     "slide_type": "slide"
    }
   },
   "source": [
    "## Problem one: `row[0]`"
   ]
  },
  {
   "cell_type": "markdown",
   "id": "6dab0e44",
   "metadata": {
    "slideshow": {
     "slide_type": "fragment"
    }
   },
   "source": [
    "```python\n",
    "def _update_year_built(layer, year_fields):\n",
    "    with arcpy.da.UpdateCursor(layer, year_fields) as cursor:\n",
    "        for row in cursor:\n",
    "            if row[0] is None or row[0] < 1 or row[0] == '':\n",
    "                row[0] = f'{row[1]}_{row[2]}' \n",
    "\n",
    "            cursor.updateRow(row)\n",
    "```"
   ]
  },
  {
   "cell_type": "markdown",
   "id": "97e8cce9",
   "metadata": {
    "slideshow": {
     "slide_type": "skip"
    }
   },
   "source": [
    "```python\n",
    "# If new parcels' owner/owner addr changed, or if PID is new, add to appropriate lists\n",
    "with arcpy.da.SearchCursor(tville_parcels_fc, parcel_check_fields) as new_cursor:\n",
    "    for row in new_cursor:\n",
    "        if row[0] in old_parcels:\n",
    "            old_name = old_parcels[row[0]][0]\n",
    "            old_addr = old_parcels[row[0]][1]\n",
    "            if row[1] != old_name or row[2] != old_addr:\n",
    "                own_addr_changed.append(row[0])\n",
    "        else:\n",
    "            new_parcels.append(row[0])\n",
    "```"
   ]
  },
  {
   "cell_type": "markdown",
   "id": "cf9a4104",
   "metadata": {
    "slideshow": {
     "slide_type": "slide"
    }
   },
   "source": [
    "## Problem 2: Transfering data between feature classes and tables"
   ]
  },
  {
   "cell_type": "markdown",
   "id": "c71e1ce3",
   "metadata": {
    "slideshow": {
     "slide_type": "fragment"
    }
   },
   "source": [
    "```python\n",
    "with arcpy.da.SearchCursor(new_data_fc, fields) as new_data_cursor, \\\n",
    "     arcpy.da.InsertCursor(current_data_fc, fields) as current_data_cursor:\n",
    "    for row in new_data_cursor:\n",
    "        current_data_cursor.insertRow(row)\n",
    "        copied_records += 1\n",
    "```"
   ]
  },
  {
   "cell_type": "markdown",
   "id": "8c271983",
   "metadata": {
    "slideshow": {
     "slide_type": "slide"
    }
   },
   "source": [
    "## Problem 3: Renaming/reordering fields"
   ]
  },
  {
   "cell_type": "markdown",
   "id": "b31b45a2",
   "metadata": {
    "slideshow": {
     "slide_type": "fragment"
    }
   },
   "source": [
    "```python\n",
    "fieldmappings = arcpy.FieldMappings()\n",
    "\n",
    "fieldmappings.addTable(energov_parcels_fc)\n",
    "fieldmappings.addTable(tville_parcels_fc)\n",
    "\n",
    "fields_list = [\n",
    "    ('PIN', 'parcel_id'),\n",
    "    ('own_cityst', 'own_citystate'),\n",
    "    ('own_zip_fo', 'own_zip_four'),\n",
    "    ('prop_locat', 'prop_location'),\n",
    "    ('property_t', 'property_type'),\n",
    "    ('neighborho', 'neighborhood_code'),\n",
    "    ('adjusted_p', 'adjusted_prcl_total'),\n",
    "    #: ...\n",
    "]\n",
    "\n",
    "for field_map in fields_list:\n",
    "    field_to_map_index = fieldmappings.findFieldMapIndex(field_map[0])\n",
    "    field_to_map = fieldmappings.getFieldMap(field_to_map_index)\n",
    "    field_to_map.addInputField(tville_parcels_fc, field_map[1])\n",
    "    fieldmappings.replaceFieldMap(field_to_map_index, field_to_map)\n",
    "```"
   ]
  },
  {
   "cell_type": "markdown",
   "id": "cbc7a0cd",
   "metadata": {
    "slideshow": {
     "slide_type": "slide"
    }
   },
   "source": [
    "## Problem 4: Intermediate feature classes"
   ]
  },
  {
   "cell_type": "markdown",
   "id": "f59fed16",
   "metadata": {
    "slideshow": {
     "slide_type": "fragment"
    }
   },
   "source": [
    "```python\n",
    "ssa_summarized_roads = fr'{output_gdb}\\ssa_bike_lanes_roads'\n",
    "ssa_summarized_paths = fr'{output_gdb}\\ssa_bike_lanes_paths'\n",
    "ssa_summarized_lengths = fr'{output_gdb}b\\SmallStatisticalAreas_2018_bike_lane_lengths'\n",
    "tract_summarized_roads = fr'{output_gdb}\\tract_bike_lanes_roads'\n",
    "tract_summarized_paths = fr'{output_gdb}\\tract_bike_lanes_paths'\n",
    "tract_summarized_lengths = fr'{output_gdb}\\census_tracts_2020_bike_lane_lengths'\n",
    "buffered_tracts = fr'{output_gdb}\\census_tracts_2020_buffered_30ft'\n",
    "buffered_areas = fr'{output_gdb}\\small_areas_buffered_200ft'\n",
    "bike_lanes = fr'{output_gdb}\\bike_lanes_20220111'\n",
    "major_paths = fr'{output_gdb}\\major_paths'\n",
    "```"
   ]
  },
  {
   "cell_type": "markdown",
   "id": "aa1f4a4a",
   "metadata": {
    "slideshow": {
     "slide_type": "slide"
    }
   },
   "source": [
    "# Enter the Pandas!\n",
    "\n",
    "![pandas.jpg](assets/pandas.jpg)"
   ]
  },
  {
   "cell_type": "markdown",
   "id": "2e899f5f",
   "metadata": {
    "slideshow": {
     "slide_type": "slide"
    }
   },
   "source": [
    "pandas gives you the tools to work with tables of data defined by rows and columns, called a DataFrame"
   ]
  },
  {
   "cell_type": "code",
   "execution_count": 1,
   "id": "9935226b",
   "metadata": {
    "scrolled": true,
    "slideshow": {
     "slide_type": "fragment"
    }
   },
   "outputs": [
    {
     "data": {
      "text/html": [
       "<div>\n",
       "<style scoped>\n",
       "    .dataframe tbody tr th:only-of-type {\n",
       "        vertical-align: middle;\n",
       "    }\n",
       "\n",
       "    .dataframe tbody tr th {\n",
       "        vertical-align: top;\n",
       "    }\n",
       "\n",
       "    .dataframe thead th {\n",
       "        text-align: right;\n",
       "    }\n",
       "</style>\n",
       "<table border=\"1\" class=\"dataframe\">\n",
       "  <thead>\n",
       "    <tr style=\"text-align: right;\">\n",
       "      <th></th>\n",
       "      <th>County</th>\n",
       "      <th>Median_age</th>\n",
       "      <th>educationHighSchoolGraduate</th>\n",
       "      <th>educationBachelorOrGreater</th>\n",
       "      <th>Median HH income (dollars)</th>\n",
       "      <th>Mean HH income (dollars)</th>\n",
       "      <th>Mean Per Capita income</th>\n",
       "      <th>Avg_MonthlyIncome</th>\n",
       "      <th>TI_1</th>\n",
       "      <th>TI_2</th>\n",
       "      <th>TI_3</th>\n",
       "      <th>TI_4</th>\n",
       "      <th>TI_5</th>\n",
       "      <th>TI_6</th>\n",
       "      <th>TI_7</th>\n",
       "      <th>TI_8</th>\n",
       "      <th>TI_9</th>\n",
       "      <th>TI_10</th>\n",
       "    </tr>\n",
       "  </thead>\n",
       "  <tbody>\n",
       "    <tr>\n",
       "      <th>0</th>\n",
       "      <td>BEAVER</td>\n",
       "      <td>33.4</td>\n",
       "      <td>90.3</td>\n",
       "      <td>20.4</td>\n",
       "      <td>54,212</td>\n",
       "      <td>64,003</td>\n",
       "      <td>22,558</td>\n",
       "      <td>2805</td>\n",
       "      <td>Gasoline stations</td>\n",
       "      <td>Elementary and secondary schools</td>\n",
       "      <td>Traveler accommodation</td>\n",
       "      <td>Executive, legislative and general government</td>\n",
       "      <td>Cattle ranching and farming</td>\n",
       "      <td>Building equipment contractors</td>\n",
       "      <td>Offices of physicians</td>\n",
       "      <td>Residential building construction</td>\n",
       "      <td>Depository credit intermediation</td>\n",
       "      <td>Other crop farming</td>\n",
       "    </tr>\n",
       "    <tr>\n",
       "      <th>1</th>\n",
       "      <td>BOX ELDER</td>\n",
       "      <td>32.5</td>\n",
       "      <td>93.2</td>\n",
       "      <td>23.3</td>\n",
       "      <td>59,937</td>\n",
       "      <td>73,085</td>\n",
       "      <td>23,998</td>\n",
       "      <td>3344</td>\n",
       "      <td>Restaurants and other eating places</td>\n",
       "      <td>Architectural and structural metals mfg.</td>\n",
       "      <td>General freight trucking</td>\n",
       "      <td>Building foundation and exterior contractors</td>\n",
       "      <td>Utility system construction</td>\n",
       "      <td>Justice, public order, and safety activities</td>\n",
       "      <td>Grain and oilseed milling</td>\n",
       "      <td>Gasoline stations</td>\n",
       "      <td>Automobile dealers</td>\n",
       "      <td>Offices of physicians</td>\n",
       "    </tr>\n",
       "    <tr>\n",
       "      <th>2</th>\n",
       "      <td>CACHE</td>\n",
       "      <td>25.1</td>\n",
       "      <td>93.1</td>\n",
       "      <td>37.8</td>\n",
       "      <td>56,840</td>\n",
       "      <td>72,148</td>\n",
       "      <td>22,666</td>\n",
       "      <td>3049</td>\n",
       "      <td>Restaurants and other eating places</td>\n",
       "      <td>Elementary and secondary schools</td>\n",
       "      <td>Dairy product manufacturing</td>\n",
       "      <td>Accounting and bookkeeping services</td>\n",
       "      <td>Other miscellaneous manufacturing</td>\n",
       "      <td>General merchandise stores, including warehous...</td>\n",
       "      <td>Offices of physicians</td>\n",
       "      <td>Scientific research and development services</td>\n",
       "      <td>Grocery stores</td>\n",
       "      <td>Electronic instrument manufacturing</td>\n",
       "    </tr>\n",
       "    <tr>\n",
       "      <th>3</th>\n",
       "      <td>CARBON</td>\n",
       "      <td>37.2</td>\n",
       "      <td>90.8</td>\n",
       "      <td>16.4</td>\n",
       "      <td>50,278</td>\n",
       "      <td>60,125</td>\n",
       "      <td>23,473</td>\n",
       "      <td>3436</td>\n",
       "      <td>Justice, public order, and safety activities</td>\n",
       "      <td>Machinery and supply merchant wholesalers</td>\n",
       "      <td>Executive, legislative and general government</td>\n",
       "      <td>Commercial machinery repair and maintenance</td>\n",
       "      <td>Offices of physicians</td>\n",
       "      <td>Gasoline stations</td>\n",
       "      <td>Building equipment contractors</td>\n",
       "      <td>Traveler accommodation</td>\n",
       "      <td>Offices of dentists</td>\n",
       "      <td>Home health care services</td>\n",
       "    </tr>\n",
       "    <tr>\n",
       "      <th>4</th>\n",
       "      <td>DAGGET</td>\n",
       "      <td>46.1</td>\n",
       "      <td>96.2</td>\n",
       "      <td>12.4</td>\n",
       "      <td>81,250</td>\n",
       "      <td>78,210</td>\n",
       "      <td>27,698</td>\n",
       "      <td>2252</td>\n",
       "      <td>Elementary and secondary schools</td>\n",
       "      <td>Administration of environmental programs</td>\n",
       "      <td>Postal service</td>\n",
       "      <td>Support activities for mining</td>\n",
       "      <td>Offices of real estate agents and brokers</td>\n",
       "      <td>Justice, public order, and safety activities</td>\n",
       "      <td>Executive, legislative and general government</td>\n",
       "      <td>Personal care services</td>\n",
       "      <td>Commercial machinery repair and maintenance</td>\n",
       "      <td>Special food services</td>\n",
       "    </tr>\n",
       "  </tbody>\n",
       "</table>\n",
       "</div>"
      ],
      "text/plain": [
       "      County  Median_age  educationHighSchoolGraduate  \\\n",
       "0     BEAVER        33.4                         90.3   \n",
       "1  BOX ELDER        32.5                         93.2   \n",
       "2      CACHE        25.1                         93.1   \n",
       "3     CARBON        37.2                         90.8   \n",
       "4     DAGGET        46.1                         96.2   \n",
       "\n",
       "   educationBachelorOrGreater Median HH income (dollars)  \\\n",
       "0                        20.4                     54,212   \n",
       "1                        23.3                     59,937   \n",
       "2                        37.8                     56,840   \n",
       "3                        16.4                     50,278   \n",
       "4                        12.4                     81,250   \n",
       "\n",
       "  Mean HH income (dollars) Mean Per Capita income  Avg_MonthlyIncome  \\\n",
       "0                   64,003                 22,558               2805   \n",
       "1                   73,085                 23,998               3344   \n",
       "2                   72,148                 22,666               3049   \n",
       "3                   60,125                 23,473               3436   \n",
       "4                   78,210                 27,698               2252   \n",
       "\n",
       "                                           TI_1  \\\n",
       "0                             Gasoline stations   \n",
       "1           Restaurants and other eating places   \n",
       "2           Restaurants and other eating places   \n",
       "3  Justice, public order, and safety activities   \n",
       "4              Elementary and secondary schools   \n",
       "\n",
       "                                        TI_2  \\\n",
       "0           Elementary and secondary schools   \n",
       "1   Architectural and structural metals mfg.   \n",
       "2           Elementary and secondary schools   \n",
       "3  Machinery and supply merchant wholesalers   \n",
       "4   Administration of environmental programs   \n",
       "\n",
       "                                            TI_3  \\\n",
       "0                         Traveler accommodation   \n",
       "1                       General freight trucking   \n",
       "2                    Dairy product manufacturing   \n",
       "3  Executive, legislative and general government   \n",
       "4                                 Postal service   \n",
       "\n",
       "                                            TI_4  \\\n",
       "0  Executive, legislative and general government   \n",
       "1   Building foundation and exterior contractors   \n",
       "2            Accounting and bookkeeping services   \n",
       "3    Commercial machinery repair and maintenance   \n",
       "4                  Support activities for mining   \n",
       "\n",
       "                                        TI_5  \\\n",
       "0                Cattle ranching and farming   \n",
       "1                Utility system construction   \n",
       "2          Other miscellaneous manufacturing   \n",
       "3                      Offices of physicians   \n",
       "4  Offices of real estate agents and brokers   \n",
       "\n",
       "                                                TI_6  \\\n",
       "0                     Building equipment contractors   \n",
       "1       Justice, public order, and safety activities   \n",
       "2  General merchandise stores, including warehous...   \n",
       "3                                  Gasoline stations   \n",
       "4       Justice, public order, and safety activities   \n",
       "\n",
       "                                            TI_7  \\\n",
       "0                          Offices of physicians   \n",
       "1                      Grain and oilseed milling   \n",
       "2                          Offices of physicians   \n",
       "3                 Building equipment contractors   \n",
       "4  Executive, legislative and general government   \n",
       "\n",
       "                                           TI_8  \\\n",
       "0             Residential building construction   \n",
       "1                             Gasoline stations   \n",
       "2  Scientific research and development services   \n",
       "3                        Traveler accommodation   \n",
       "4                        Personal care services   \n",
       "\n",
       "                                          TI_9  \\\n",
       "0             Depository credit intermediation   \n",
       "1                           Automobile dealers   \n",
       "2                               Grocery stores   \n",
       "3                          Offices of dentists   \n",
       "4  Commercial machinery repair and maintenance   \n",
       "\n",
       "                                 TI_10  \n",
       "0                   Other crop farming  \n",
       "1                Offices of physicians  \n",
       "2  Electronic instrument manufacturing  \n",
       "3            Home health care services  \n",
       "4                Special food services  "
      ]
     },
     "execution_count": 1,
     "metadata": {},
     "output_type": "execute_result"
    }
   ],
   "source": [
    "import pandas as pd\n",
    "\n",
    "medians_df = pd.read_csv('assets/median_age.csv')\n",
    "medians_df.head()"
   ]
  },
  {
   "cell_type": "markdown",
   "id": "5ad5d59d",
   "metadata": {
    "slideshow": {
     "slide_type": "slide"
    }
   },
   "source": [
    "We can access individual rows and columns using `.loc` (with index labels) or `.iloc` (with indices)"
   ]
  },
  {
   "cell_type": "markdown",
   "id": "e82a7710",
   "metadata": {
    "slideshow": {
     "slide_type": "fragment"
    }
   },
   "source": [
    "```python\n",
    "medians_df.loc[row labels, column labels]\n",
    "medians_df.iloc[row indices, column indices]\n",
    "```"
   ]
  },
  {
   "cell_type": "code",
   "execution_count": 2,
   "id": "1dd7e887",
   "metadata": {
    "slideshow": {
     "slide_type": "slide"
    }
   },
   "outputs": [
    {
     "data": {
      "text/plain": [
       "0       BEAVER\n",
       "1    BOX ELDER\n",
       "2        CACHE\n",
       "5        DAVIS\n",
       "Name: County, dtype: object"
      ]
     },
     "execution_count": 2,
     "metadata": {},
     "output_type": "execute_result"
    }
   ],
   "source": [
    "medians_df.loc[[0, 1, 2, 5], 'County']"
   ]
  },
  {
   "cell_type": "code",
   "execution_count": 3,
   "id": "47a9be74",
   "metadata": {
    "slideshow": {
     "slide_type": "slide"
    }
   },
   "outputs": [
    {
     "data": {
      "text/html": [
       "<div>\n",
       "<style scoped>\n",
       "    .dataframe tbody tr th:only-of-type {\n",
       "        vertical-align: middle;\n",
       "    }\n",
       "\n",
       "    .dataframe tbody tr th {\n",
       "        vertical-align: top;\n",
       "    }\n",
       "\n",
       "    .dataframe thead th {\n",
       "        text-align: right;\n",
       "    }\n",
       "</style>\n",
       "<table border=\"1\" class=\"dataframe\">\n",
       "  <thead>\n",
       "    <tr style=\"text-align: right;\">\n",
       "      <th></th>\n",
       "      <th>County</th>\n",
       "      <th>Median_age</th>\n",
       "      <th>educationHighSchoolGraduate</th>\n",
       "      <th>educationBachelorOrGreater</th>\n",
       "    </tr>\n",
       "  </thead>\n",
       "  <tbody>\n",
       "    <tr>\n",
       "      <th>10</th>\n",
       "      <td>IRON</td>\n",
       "      <td>29.1</td>\n",
       "      <td>92.8</td>\n",
       "      <td>29.1</td>\n",
       "    </tr>\n",
       "    <tr>\n",
       "      <th>11</th>\n",
       "      <td>JUAB</td>\n",
       "      <td>30.4</td>\n",
       "      <td>92.2</td>\n",
       "      <td>17.1</td>\n",
       "    </tr>\n",
       "    <tr>\n",
       "      <th>12</th>\n",
       "      <td>KANE</td>\n",
       "      <td>41.7</td>\n",
       "      <td>92.8</td>\n",
       "      <td>27.3</td>\n",
       "    </tr>\n",
       "    <tr>\n",
       "      <th>13</th>\n",
       "      <td>MILLARD</td>\n",
       "      <td>35.8</td>\n",
       "      <td>88.7</td>\n",
       "      <td>22.4</td>\n",
       "    </tr>\n",
       "    <tr>\n",
       "      <th>14</th>\n",
       "      <td>MORGAN</td>\n",
       "      <td>32.4</td>\n",
       "      <td>97.6</td>\n",
       "      <td>39.5</td>\n",
       "    </tr>\n",
       "  </tbody>\n",
       "</table>\n",
       "</div>"
      ],
      "text/plain": [
       "     County  Median_age  educationHighSchoolGraduate  \\\n",
       "10     IRON        29.1                         92.8   \n",
       "11     JUAB        30.4                         92.2   \n",
       "12     KANE        41.7                         92.8   \n",
       "13  MILLARD        35.8                         88.7   \n",
       "14   MORGAN        32.4                         97.6   \n",
       "\n",
       "    educationBachelorOrGreater  \n",
       "10                        29.1  \n",
       "11                        17.1  \n",
       "12                        27.3  \n",
       "13                        22.4  \n",
       "14                        39.5  "
      ]
     },
     "execution_count": 3,
     "metadata": {},
     "output_type": "execute_result"
    }
   ],
   "source": [
    "medians_df.iloc[10:15, :4]"
   ]
  },
  {
   "cell_type": "markdown",
   "id": "fe413201",
   "metadata": {
    "slideshow": {
     "slide_type": "slide"
    }
   },
   "source": [
    "We can also get just a few columns from all rows"
   ]
  },
  {
   "cell_type": "code",
   "execution_count": 4,
   "id": "e3467f36",
   "metadata": {
    "slideshow": {
     "slide_type": "fragment"
    }
   },
   "outputs": [
    {
     "data": {
      "text/html": [
       "<div>\n",
       "<style scoped>\n",
       "    .dataframe tbody tr th:only-of-type {\n",
       "        vertical-align: middle;\n",
       "    }\n",
       "\n",
       "    .dataframe tbody tr th {\n",
       "        vertical-align: top;\n",
       "    }\n",
       "\n",
       "    .dataframe thead th {\n",
       "        text-align: right;\n",
       "    }\n",
       "</style>\n",
       "<table border=\"1\" class=\"dataframe\">\n",
       "  <thead>\n",
       "    <tr style=\"text-align: right;\">\n",
       "      <th></th>\n",
       "      <th>Median_age</th>\n",
       "      <th>Avg_MonthlyIncome</th>\n",
       "    </tr>\n",
       "  </thead>\n",
       "  <tbody>\n",
       "    <tr>\n",
       "      <th>0</th>\n",
       "      <td>33.4</td>\n",
       "      <td>2805</td>\n",
       "    </tr>\n",
       "    <tr>\n",
       "      <th>1</th>\n",
       "      <td>32.5</td>\n",
       "      <td>3344</td>\n",
       "    </tr>\n",
       "    <tr>\n",
       "      <th>2</th>\n",
       "      <td>25.1</td>\n",
       "      <td>3049</td>\n",
       "    </tr>\n",
       "    <tr>\n",
       "      <th>3</th>\n",
       "      <td>37.2</td>\n",
       "      <td>3436</td>\n",
       "    </tr>\n",
       "    <tr>\n",
       "      <th>4</th>\n",
       "      <td>46.1</td>\n",
       "      <td>2252</td>\n",
       "    </tr>\n",
       "  </tbody>\n",
       "</table>\n",
       "</div>"
      ],
      "text/plain": [
       "   Median_age  Avg_MonthlyIncome\n",
       "0        33.4               2805\n",
       "1        32.5               3344\n",
       "2        25.1               3049\n",
       "3        37.2               3436\n",
       "4        46.1               2252"
      ]
     },
     "execution_count": 4,
     "metadata": {},
     "output_type": "execute_result"
    }
   ],
   "source": [
    "medians_df[['Median_age', 'Avg_MonthlyIncome']].head()"
   ]
  },
  {
   "cell_type": "markdown",
   "id": "adade23a",
   "metadata": {
    "slideshow": {
     "slide_type": "slide"
    }
   },
   "source": [
    "## Extending pandas Spatially\n",
    "\n",
    "The ArcGIS API for Python provides Spatially Enabled DataFrames, which include geometry information.\n",
    "\n",
    "![python_api_logo.png](assets/python_api_logo.png)"
   ]
  },
  {
   "cell_type": "code",
   "execution_count": null,
   "id": "5dc1db4f",
   "metadata": {
    "slideshow": {
     "slide_type": "notes"
    }
   },
   "outputs": [],
   "source": []
  },
  {
   "cell_type": "code",
   "execution_count": 5,
   "id": "95084261",
   "metadata": {
    "slideshow": {
     "slide_type": "slide"
    }
   },
   "outputs": [
    {
     "data": {
      "text/html": [
       "<div>\n",
       "<style scoped>\n",
       "    .dataframe tbody tr th:only-of-type {\n",
       "        vertical-align: middle;\n",
       "    }\n",
       "\n",
       "    .dataframe tbody tr th {\n",
       "        vertical-align: top;\n",
       "    }\n",
       "\n",
       "    .dataframe thead th {\n",
       "        text-align: right;\n",
       "    }\n",
       "</style>\n",
       "<table border=\"1\" class=\"dataframe\">\n",
       "  <thead>\n",
       "    <tr style=\"text-align: right;\">\n",
       "      <th></th>\n",
       "      <th>xid</th>\n",
       "      <th>countynbr</th>\n",
       "      <th>entitynbr</th>\n",
       "      <th>entityyr</th>\n",
       "      <th>name</th>\n",
       "      <th>fips</th>\n",
       "      <th>stateplane</th>\n",
       "      <th>pop_lastcensus</th>\n",
       "      <th>pop_currestimate</th>\n",
       "      <th>globalid</th>\n",
       "      <th>fips_str</th>\n",
       "      <th>color4</th>\n",
       "      <th>SHAPE</th>\n",
       "    </tr>\n",
       "  </thead>\n",
       "  <tbody>\n",
       "    <tr>\n",
       "      <th>0</th>\n",
       "      <td>1</td>\n",
       "      <td>20</td>\n",
       "      <td>2.010201e+09</td>\n",
       "      <td>2010.0</td>\n",
       "      <td>SANPETE</td>\n",
       "      <td>39.0</td>\n",
       "      <td>Central</td>\n",
       "      <td>28437</td>\n",
       "      <td>None</td>\n",
       "      <td>02C0C074-657F-44AE-A886-44ADB97263BD</td>\n",
       "      <td>49039</td>\n",
       "      <td>2</td>\n",
       "      <td>{\"rings\": [[[448347.6200000001, 4407163.6], [4...</td>\n",
       "    </tr>\n",
       "    <tr>\n",
       "      <th>1</th>\n",
       "      <td>2</td>\n",
       "      <td>11</td>\n",
       "      <td>2.010111e+09</td>\n",
       "      <td>2010.0</td>\n",
       "      <td>IRON</td>\n",
       "      <td>21.0</td>\n",
       "      <td>South</td>\n",
       "      <td>57289</td>\n",
       "      <td>None</td>\n",
       "      <td>2ACA2EB9-31B5-4D6A-A858-A0F6B16C64E2</td>\n",
       "      <td>49021</td>\n",
       "      <td>3</td>\n",
       "      <td>{\"rings\": [[[292688.5800000001, 4224956.960000...</td>\n",
       "    </tr>\n",
       "    <tr>\n",
       "      <th>2</th>\n",
       "      <td>3</td>\n",
       "      <td>13</td>\n",
       "      <td>2.010131e+09</td>\n",
       "      <td>2010.0</td>\n",
       "      <td>KANE</td>\n",
       "      <td>25.0</td>\n",
       "      <td>South</td>\n",
       "      <td>7667</td>\n",
       "      <td>None</td>\n",
       "      <td>A250C849-8914-4E00-A80F-C1B45CD8F0A7</td>\n",
       "      <td>49025</td>\n",
       "      <td>4</td>\n",
       "      <td>{\"rings\": [[[425313.88999999966, 4154648.07000...</td>\n",
       "    </tr>\n",
       "    <tr>\n",
       "      <th>3</th>\n",
       "      <td>4</td>\n",
       "      <td>29</td>\n",
       "      <td>2.010291e+09</td>\n",
       "      <td>2010.0</td>\n",
       "      <td>WEBER</td>\n",
       "      <td>57.0</td>\n",
       "      <td>North</td>\n",
       "      <td>262223</td>\n",
       "      <td>None</td>\n",
       "      <td>1757A80B-1895-4975-81DA-3AD2EBBA64C9</td>\n",
       "      <td>49057</td>\n",
       "      <td>1</td>\n",
       "      <td>{\"rings\": [[[422712.16000000015, 4554559.60999...</td>\n",
       "    </tr>\n",
       "    <tr>\n",
       "      <th>4</th>\n",
       "      <td>5</td>\n",
       "      <td>19</td>\n",
       "      <td>2.006191e+09</td>\n",
       "      <td>2006.0</td>\n",
       "      <td>SAN JUAN</td>\n",
       "      <td>37.0</td>\n",
       "      <td>South</td>\n",
       "      <td>14518</td>\n",
       "      <td>None</td>\n",
       "      <td>EC858EAC-D7E7-4748-B7A5-B2B744668178</td>\n",
       "      <td>49037</td>\n",
       "      <td>3</td>\n",
       "      <td>{\"rings\": [[[609343.4100000001, 4095382.08], [...</td>\n",
       "    </tr>\n",
       "  </tbody>\n",
       "</table>\n",
       "</div>"
      ],
      "text/plain": [
       "   xid countynbr     entitynbr  entityyr      name  fips stateplane  \\\n",
       "0    1        20  2.010201e+09    2010.0   SANPETE  39.0    Central   \n",
       "1    2        11  2.010111e+09    2010.0      IRON  21.0      South   \n",
       "2    3        13  2.010131e+09    2010.0      KANE  25.0      South   \n",
       "3    4        29  2.010291e+09    2010.0     WEBER  57.0      North   \n",
       "4    5        19  2.006191e+09    2006.0  SAN JUAN  37.0      South   \n",
       "\n",
       "   pop_lastcensus pop_currestimate                              globalid  \\\n",
       "0           28437             None  02C0C074-657F-44AE-A886-44ADB97263BD   \n",
       "1           57289             None  2ACA2EB9-31B5-4D6A-A858-A0F6B16C64E2   \n",
       "2            7667             None  A250C849-8914-4E00-A80F-C1B45CD8F0A7   \n",
       "3          262223             None  1757A80B-1895-4975-81DA-3AD2EBBA64C9   \n",
       "4           14518             None  EC858EAC-D7E7-4748-B7A5-B2B744668178   \n",
       "\n",
       "  fips_str  color4                                              SHAPE  \n",
       "0    49039       2  {\"rings\": [[[448347.6200000001, 4407163.6], [4...  \n",
       "1    49021       3  {\"rings\": [[[292688.5800000001, 4224956.960000...  \n",
       "2    49025       4  {\"rings\": [[[425313.88999999966, 4154648.07000...  \n",
       "3    49057       1  {\"rings\": [[[422712.16000000015, 4554559.60999...  \n",
       "4    49037       3  {\"rings\": [[[609343.4100000001, 4095382.08], [...  "
      ]
     },
     "execution_count": 5,
     "metadata": {},
     "output_type": "execute_result"
    }
   ],
   "source": [
    "from arcgis.features import GeoAccessor, GeoSeriesAccessor\n",
    "\n",
    "counties_fc_path = r'C:\\Users\\jdadams\\AppData\\Roaming\\Esri\\ArcGISPro\\Favorites\\opensgid.agrc.utah.gov.sde\\opensgid.boundaries.county_boundaries'\n",
    "counties_df = pd.DataFrame.spatial.from_featureclass(counties_fc_path)\n",
    "counties_df.head()"
   ]
  },
  {
   "cell_type": "markdown",
   "id": "0c1a38b8",
   "metadata": {
    "slideshow": {
     "slide_type": "slide"
    }
   },
   "source": [
    "pandas lets you work on rows that meet a certain condition"
   ]
  },
  {
   "cell_type": "code",
   "execution_count": 6,
   "id": "4d796f02",
   "metadata": {
    "slideshow": {
     "slide_type": "fragment"
    }
   },
   "outputs": [
    {
     "data": {
      "text/html": [
       "<div>\n",
       "<style scoped>\n",
       "    .dataframe tbody tr th:only-of-type {\n",
       "        vertical-align: middle;\n",
       "    }\n",
       "\n",
       "    .dataframe tbody tr th {\n",
       "        vertical-align: top;\n",
       "    }\n",
       "\n",
       "    .dataframe thead th {\n",
       "        text-align: right;\n",
       "    }\n",
       "</style>\n",
       "<table border=\"1\" class=\"dataframe\">\n",
       "  <thead>\n",
       "    <tr style=\"text-align: right;\">\n",
       "      <th></th>\n",
       "      <th>name</th>\n",
       "      <th>stateplane</th>\n",
       "      <th>fips_str</th>\n",
       "    </tr>\n",
       "  </thead>\n",
       "  <tbody>\n",
       "    <tr>\n",
       "      <th>0</th>\n",
       "      <td>SANPETE</td>\n",
       "      <td>Central</td>\n",
       "      <td>49039</td>\n",
       "    </tr>\n",
       "    <tr>\n",
       "      <th>8</th>\n",
       "      <td>TOOELE</td>\n",
       "      <td>Central</td>\n",
       "      <td>49045</td>\n",
       "    </tr>\n",
       "    <tr>\n",
       "      <th>12</th>\n",
       "      <td>UINTAH</td>\n",
       "      <td>Central</td>\n",
       "      <td>49047</td>\n",
       "    </tr>\n",
       "    <tr>\n",
       "      <th>13</th>\n",
       "      <td>GRAND</td>\n",
       "      <td>Central</td>\n",
       "      <td>49019</td>\n",
       "    </tr>\n",
       "    <tr>\n",
       "      <th>15</th>\n",
       "      <td>MILLARD</td>\n",
       "      <td>Central</td>\n",
       "      <td>49027</td>\n",
       "    </tr>\n",
       "    <tr>\n",
       "      <th>16</th>\n",
       "      <td>WASATCH</td>\n",
       "      <td>Central</td>\n",
       "      <td>49051</td>\n",
       "    </tr>\n",
       "    <tr>\n",
       "      <th>17</th>\n",
       "      <td>JUAB</td>\n",
       "      <td>Central</td>\n",
       "      <td>49023</td>\n",
       "    </tr>\n",
       "    <tr>\n",
       "      <th>18</th>\n",
       "      <td>UTAH</td>\n",
       "      <td>Central</td>\n",
       "      <td>49049</td>\n",
       "    </tr>\n",
       "    <tr>\n",
       "      <th>19</th>\n",
       "      <td>DUCHESNE</td>\n",
       "      <td>Central</td>\n",
       "      <td>49013</td>\n",
       "    </tr>\n",
       "    <tr>\n",
       "      <th>25</th>\n",
       "      <td>EMERY</td>\n",
       "      <td>Central</td>\n",
       "      <td>49015</td>\n",
       "    </tr>\n",
       "    <tr>\n",
       "      <th>26</th>\n",
       "      <td>SEVIER</td>\n",
       "      <td>Central</td>\n",
       "      <td>49041</td>\n",
       "    </tr>\n",
       "    <tr>\n",
       "      <th>27</th>\n",
       "      <td>CARBON</td>\n",
       "      <td>Central</td>\n",
       "      <td>49007</td>\n",
       "    </tr>\n",
       "    <tr>\n",
       "      <th>28</th>\n",
       "      <td>SALT LAKE</td>\n",
       "      <td>Central</td>\n",
       "      <td>49035</td>\n",
       "    </tr>\n",
       "  </tbody>\n",
       "</table>\n",
       "</div>"
      ],
      "text/plain": [
       "         name stateplane fips_str\n",
       "0     SANPETE    Central    49039\n",
       "8      TOOELE    Central    49045\n",
       "12     UINTAH    Central    49047\n",
       "13      GRAND    Central    49019\n",
       "15    MILLARD    Central    49027\n",
       "16    WASATCH    Central    49051\n",
       "17       JUAB    Central    49023\n",
       "18       UTAH    Central    49049\n",
       "19   DUCHESNE    Central    49013\n",
       "25      EMERY    Central    49015\n",
       "26     SEVIER    Central    49041\n",
       "27     CARBON    Central    49007\n",
       "28  SALT LAKE    Central    49035"
      ]
     },
     "execution_count": 6,
     "metadata": {},
     "output_type": "execute_result"
    }
   ],
   "source": [
    "counties_df.loc[counties_df['stateplane'] == 'Central', ['name', 'stateplane', 'fips_str']]"
   ]
  },
  {
   "cell_type": "markdown",
   "id": "13254dbf",
   "metadata": {
    "slideshow": {
     "slide_type": "slide"
    }
   },
   "source": [
    "You can easily add new columns"
   ]
  },
  {
   "cell_type": "code",
   "execution_count": 7,
   "id": "7fcfa151",
   "metadata": {
    "slideshow": {
     "slide_type": "fragment"
    }
   },
   "outputs": [
    {
     "data": {
      "text/html": [
       "<div>\n",
       "<style scoped>\n",
       "    .dataframe tbody tr th:only-of-type {\n",
       "        vertical-align: middle;\n",
       "    }\n",
       "\n",
       "    .dataframe tbody tr th {\n",
       "        vertical-align: top;\n",
       "    }\n",
       "\n",
       "    .dataframe thead th {\n",
       "        text-align: right;\n",
       "    }\n",
       "</style>\n",
       "<table border=\"1\" class=\"dataframe\">\n",
       "  <thead>\n",
       "    <tr style=\"text-align: right;\">\n",
       "      <th></th>\n",
       "      <th>xid</th>\n",
       "      <th>countynbr</th>\n",
       "      <th>entitynbr</th>\n",
       "      <th>entityyr</th>\n",
       "      <th>name</th>\n",
       "      <th>fips</th>\n",
       "      <th>stateplane</th>\n",
       "      <th>pop_lastcensus</th>\n",
       "      <th>pop_currestimate</th>\n",
       "      <th>globalid</th>\n",
       "      <th>fips_str</th>\n",
       "      <th>color4</th>\n",
       "      <th>SHAPE</th>\n",
       "      <th>emperor</th>\n",
       "    </tr>\n",
       "  </thead>\n",
       "  <tbody>\n",
       "    <tr>\n",
       "      <th>0</th>\n",
       "      <td>1</td>\n",
       "      <td>20</td>\n",
       "      <td>2.010201e+09</td>\n",
       "      <td>2010.0</td>\n",
       "      <td>SANPETE</td>\n",
       "      <td>39.0</td>\n",
       "      <td>Central</td>\n",
       "      <td>28437</td>\n",
       "      <td>None</td>\n",
       "      <td>02C0C074-657F-44AE-A886-44ADB97263BD</td>\n",
       "      <td>49039</td>\n",
       "      <td>2</td>\n",
       "      <td>{\"rings\": [[[448347.6200000001, 4407163.6], [4...</td>\n",
       "      <td>Jake</td>\n",
       "    </tr>\n",
       "    <tr>\n",
       "      <th>1</th>\n",
       "      <td>2</td>\n",
       "      <td>11</td>\n",
       "      <td>2.010111e+09</td>\n",
       "      <td>2010.0</td>\n",
       "      <td>IRON</td>\n",
       "      <td>21.0</td>\n",
       "      <td>South</td>\n",
       "      <td>57289</td>\n",
       "      <td>None</td>\n",
       "      <td>2ACA2EB9-31B5-4D6A-A858-A0F6B16C64E2</td>\n",
       "      <td>49021</td>\n",
       "      <td>3</td>\n",
       "      <td>{\"rings\": [[[292688.5800000001, 4224956.960000...</td>\n",
       "      <td>Jake</td>\n",
       "    </tr>\n",
       "    <tr>\n",
       "      <th>2</th>\n",
       "      <td>3</td>\n",
       "      <td>13</td>\n",
       "      <td>2.010131e+09</td>\n",
       "      <td>2010.0</td>\n",
       "      <td>KANE</td>\n",
       "      <td>25.0</td>\n",
       "      <td>South</td>\n",
       "      <td>7667</td>\n",
       "      <td>None</td>\n",
       "      <td>A250C849-8914-4E00-A80F-C1B45CD8F0A7</td>\n",
       "      <td>49025</td>\n",
       "      <td>4</td>\n",
       "      <td>{\"rings\": [[[425313.88999999966, 4154648.07000...</td>\n",
       "      <td>Jake</td>\n",
       "    </tr>\n",
       "    <tr>\n",
       "      <th>3</th>\n",
       "      <td>4</td>\n",
       "      <td>29</td>\n",
       "      <td>2.010291e+09</td>\n",
       "      <td>2010.0</td>\n",
       "      <td>WEBER</td>\n",
       "      <td>57.0</td>\n",
       "      <td>North</td>\n",
       "      <td>262223</td>\n",
       "      <td>None</td>\n",
       "      <td>1757A80B-1895-4975-81DA-3AD2EBBA64C9</td>\n",
       "      <td>49057</td>\n",
       "      <td>1</td>\n",
       "      <td>{\"rings\": [[[422712.16000000015, 4554559.60999...</td>\n",
       "      <td>Jake</td>\n",
       "    </tr>\n",
       "    <tr>\n",
       "      <th>4</th>\n",
       "      <td>5</td>\n",
       "      <td>19</td>\n",
       "      <td>2.006191e+09</td>\n",
       "      <td>2006.0</td>\n",
       "      <td>SAN JUAN</td>\n",
       "      <td>37.0</td>\n",
       "      <td>South</td>\n",
       "      <td>14518</td>\n",
       "      <td>None</td>\n",
       "      <td>EC858EAC-D7E7-4748-B7A5-B2B744668178</td>\n",
       "      <td>49037</td>\n",
       "      <td>3</td>\n",
       "      <td>{\"rings\": [[[609343.4100000001, 4095382.08], [...</td>\n",
       "      <td>Jake</td>\n",
       "    </tr>\n",
       "  </tbody>\n",
       "</table>\n",
       "</div>"
      ],
      "text/plain": [
       "   xid countynbr     entitynbr  entityyr      name  fips stateplane  \\\n",
       "0    1        20  2.010201e+09    2010.0   SANPETE  39.0    Central   \n",
       "1    2        11  2.010111e+09    2010.0      IRON  21.0      South   \n",
       "2    3        13  2.010131e+09    2010.0      KANE  25.0      South   \n",
       "3    4        29  2.010291e+09    2010.0     WEBER  57.0      North   \n",
       "4    5        19  2.006191e+09    2006.0  SAN JUAN  37.0      South   \n",
       "\n",
       "   pop_lastcensus pop_currestimate                              globalid  \\\n",
       "0           28437             None  02C0C074-657F-44AE-A886-44ADB97263BD   \n",
       "1           57289             None  2ACA2EB9-31B5-4D6A-A858-A0F6B16C64E2   \n",
       "2            7667             None  A250C849-8914-4E00-A80F-C1B45CD8F0A7   \n",
       "3          262223             None  1757A80B-1895-4975-81DA-3AD2EBBA64C9   \n",
       "4           14518             None  EC858EAC-D7E7-4748-B7A5-B2B744668178   \n",
       "\n",
       "  fips_str  color4                                              SHAPE emperor  \n",
       "0    49039       2  {\"rings\": [[[448347.6200000001, 4407163.6], [4...    Jake  \n",
       "1    49021       3  {\"rings\": [[[292688.5800000001, 4224956.960000...    Jake  \n",
       "2    49025       4  {\"rings\": [[[425313.88999999966, 4154648.07000...    Jake  \n",
       "3    49057       1  {\"rings\": [[[422712.16000000015, 4554559.60999...    Jake  \n",
       "4    49037       3  {\"rings\": [[[609343.4100000001, 4095382.08], [...    Jake  "
      ]
     },
     "execution_count": 7,
     "metadata": {},
     "output_type": "execute_result"
    }
   ],
   "source": [
    "counties_df['emperor'] = 'Jake'\n",
    "counties_df.head()"
   ]
  },
  {
   "cell_type": "markdown",
   "id": "4161ba48",
   "metadata": {
    "slideshow": {
     "slide_type": "slide"
    }
   },
   "source": [
    "pandas provides powerful built in grouping and aggregation tools, along with Spatially Enabled DataFrames' geometry operations"
   ]
  },
  {
   "cell_type": "code",
   "execution_count": 8,
   "id": "76c7f2c1",
   "metadata": {
    "slideshow": {
     "slide_type": "fragment"
    }
   },
   "outputs": [
    {
     "data": {
      "text/html": [
       "<div>\n",
       "<style scoped>\n",
       "    .dataframe tbody tr th:only-of-type {\n",
       "        vertical-align: middle;\n",
       "    }\n",
       "\n",
       "    .dataframe tbody tr th {\n",
       "        vertical-align: top;\n",
       "    }\n",
       "\n",
       "    .dataframe thead th {\n",
       "        text-align: right;\n",
       "    }\n",
       "</style>\n",
       "<table border=\"1\" class=\"dataframe\">\n",
       "  <thead>\n",
       "    <tr style=\"text-align: right;\">\n",
       "      <th></th>\n",
       "      <th>xid</th>\n",
       "      <th>countynbr</th>\n",
       "      <th>entitynbr</th>\n",
       "      <th>entityyr</th>\n",
       "      <th>name</th>\n",
       "      <th>fips</th>\n",
       "      <th>pop_lastcensus</th>\n",
       "      <th>pop_currestimate</th>\n",
       "      <th>globalid</th>\n",
       "      <th>fips_str</th>\n",
       "      <th>color4</th>\n",
       "      <th>SHAPE</th>\n",
       "      <th>emperor</th>\n",
       "    </tr>\n",
       "    <tr>\n",
       "      <th>stateplane</th>\n",
       "      <th></th>\n",
       "      <th></th>\n",
       "      <th></th>\n",
       "      <th></th>\n",
       "      <th></th>\n",
       "      <th></th>\n",
       "      <th></th>\n",
       "      <th></th>\n",
       "      <th></th>\n",
       "      <th></th>\n",
       "      <th></th>\n",
       "      <th></th>\n",
       "      <th></th>\n",
       "    </tr>\n",
       "  </thead>\n",
       "  <tbody>\n",
       "    <tr>\n",
       "      <th>Central</th>\n",
       "      <td>13</td>\n",
       "      <td>13</td>\n",
       "      <td>13</td>\n",
       "      <td>13</td>\n",
       "      <td>13</td>\n",
       "      <td>13</td>\n",
       "      <td>13</td>\n",
       "      <td>0</td>\n",
       "      <td>13</td>\n",
       "      <td>13</td>\n",
       "      <td>13</td>\n",
       "      <td>13</td>\n",
       "      <td>13</td>\n",
       "    </tr>\n",
       "    <tr>\n",
       "      <th>North</th>\n",
       "      <td>8</td>\n",
       "      <td>8</td>\n",
       "      <td>8</td>\n",
       "      <td>8</td>\n",
       "      <td>8</td>\n",
       "      <td>8</td>\n",
       "      <td>8</td>\n",
       "      <td>0</td>\n",
       "      <td>8</td>\n",
       "      <td>8</td>\n",
       "      <td>8</td>\n",
       "      <td>8</td>\n",
       "      <td>8</td>\n",
       "    </tr>\n",
       "    <tr>\n",
       "      <th>South</th>\n",
       "      <td>8</td>\n",
       "      <td>8</td>\n",
       "      <td>8</td>\n",
       "      <td>8</td>\n",
       "      <td>8</td>\n",
       "      <td>8</td>\n",
       "      <td>8</td>\n",
       "      <td>0</td>\n",
       "      <td>8</td>\n",
       "      <td>8</td>\n",
       "      <td>8</td>\n",
       "      <td>8</td>\n",
       "      <td>8</td>\n",
       "    </tr>\n",
       "  </tbody>\n",
       "</table>\n",
       "</div>"
      ],
      "text/plain": [
       "            xid  countynbr  entitynbr  entityyr  name  fips  pop_lastcensus  \\\n",
       "stateplane                                                                    \n",
       "Central      13         13         13        13    13    13              13   \n",
       "North         8          8          8         8     8     8               8   \n",
       "South         8          8          8         8     8     8               8   \n",
       "\n",
       "            pop_currestimate  globalid  fips_str  color4  SHAPE  emperor  \n",
       "stateplane                                                                \n",
       "Central                    0        13        13      13     13       13  \n",
       "North                      0         8         8       8      8        8  \n",
       "South                      0         8         8       8      8        8  "
      ]
     },
     "execution_count": 8,
     "metadata": {},
     "output_type": "execute_result"
    }
   ],
   "source": [
    "counties_df.groupby('stateplane').count()"
   ]
  },
  {
   "cell_type": "code",
   "execution_count": 9,
   "id": "4578143b",
   "metadata": {
    "slideshow": {
     "slide_type": "slide"
    }
   },
   "outputs": [
    {
     "data": {
      "text/plain": [
       "stateplane\n",
       "Central    2.725686e+07\n",
       "North      8.633955e+06\n",
       "South      1.842508e+07\n",
       "Name: acres, dtype: float64"
      ]
     },
     "execution_count": 9,
     "metadata": {},
     "output_type": "execute_result"
    }
   ],
   "source": [
    "counties_df['acres'] = counties_df['SHAPE'].apply(lambda shape: shape.area / 4046.8564)\n",
    "counties_df.groupby('stateplane')['acres'].sum()"
   ]
  },
  {
   "cell_type": "markdown",
   "id": "20a8bc16",
   "metadata": {
    "slideshow": {
     "slide_type": "slide"
    }
   },
   "source": [
    "# pandas Solutions to our Arcpy Problems\n",
    "\n",
    "![different.jpg](assets/different.jpg)"
   ]
  },
  {
   "cell_type": "markdown",
   "id": "4b3e78e0",
   "metadata": {
    "slideshow": {
     "slide_type": "slide"
    }
   },
   "source": [
    "## `row[0]` Solution: Field Names"
   ]
  },
  {
   "cell_type": "markdown",
   "id": "dc0097eb",
   "metadata": {
    "slideshow": {
     "slide_type": "skip"
    }
   },
   "source": [
    "```python\n",
    "def update_unit_count(parcels_df):\n",
    "    \"\"\"Update unit counts in-place for single family, duplex, and tri/quad\n",
    "\n",
    "    Args:\n",
    "        parcels_df (pd.DataFrame): The evaluated parcel dataset with UNIT_COUNT, HOUSE_CNT, SUBTYPE, and NOTE columns\n",
    "    \"\"\"\n",
    "\n",
    "    # fix single family (non-pud)\n",
    "    zero_or_null_unit_counts = (parcels_df['UNIT_COUNT'] == 0) | (parcels_df['UNIT_COUNT'].isna())\n",
    "    parcels_df.loc[(zero_or_null_unit_counts) & (parcels_df['SUBTYPE'] == 'single_family'), 'UNIT_COUNT'] = 1\n",
    "\n",
    "    # fix duplex\n",
    "    parcels_df.loc[(parcels_df['SUBTYPE'] == 'duplex'), 'UNIT_COUNT'] = 2\n",
    "\n",
    "    # fix triplex-quadplex\n",
    "    parcels_df.loc[(parcels_df['UNIT_COUNT'] < parcels_df['HOUSE_CNT']) & (parcels_df['NOTE'] == 'triplex-quadplex'),\n",
    "                   'UNIT_COUNT'] = parcels_df['HOUSE_CNT']\n",
    "```"
   ]
  },
  {
   "cell_type": "markdown",
   "id": "269b2335",
   "metadata": {
    "slideshow": {
     "slide_type": "fragment"
    }
   },
   "source": [
    "Let's make Erik the emperor of the small counties that use State Plane North"
   ]
  },
  {
   "cell_type": "code",
   "execution_count": 10,
   "id": "ea8f6bd0",
   "metadata": {
    "slideshow": {
     "slide_type": "fragment"
    }
   },
   "outputs": [
    {
     "data": {
      "text/html": [
       "<div>\n",
       "<style scoped>\n",
       "    .dataframe tbody tr th:only-of-type {\n",
       "        vertical-align: middle;\n",
       "    }\n",
       "\n",
       "    .dataframe tbody tr th {\n",
       "        vertical-align: top;\n",
       "    }\n",
       "\n",
       "    .dataframe thead th {\n",
       "        text-align: right;\n",
       "    }\n",
       "</style>\n",
       "<table border=\"1\" class=\"dataframe\">\n",
       "  <thead>\n",
       "    <tr style=\"text-align: right;\">\n",
       "      <th></th>\n",
       "      <th>name</th>\n",
       "      <th>pop_lastcensus</th>\n",
       "      <th>stateplane</th>\n",
       "      <th>emperor</th>\n",
       "    </tr>\n",
       "  </thead>\n",
       "  <tbody>\n",
       "    <tr>\n",
       "      <th>9</th>\n",
       "      <td>BEAVER</td>\n",
       "      <td>7072</td>\n",
       "      <td>South</td>\n",
       "      <td>Jake</td>\n",
       "    </tr>\n",
       "    <tr>\n",
       "      <th>10</th>\n",
       "      <td>BOX ELDER</td>\n",
       "      <td>57666</td>\n",
       "      <td>North</td>\n",
       "      <td>Erik</td>\n",
       "    </tr>\n",
       "    <tr>\n",
       "      <th>11</th>\n",
       "      <td>CACHE</td>\n",
       "      <td>133154</td>\n",
       "      <td>North</td>\n",
       "      <td>Jake</td>\n",
       "    </tr>\n",
       "    <tr>\n",
       "      <th>27</th>\n",
       "      <td>CARBON</td>\n",
       "      <td>20412</td>\n",
       "      <td>Central</td>\n",
       "      <td>Jake</td>\n",
       "    </tr>\n",
       "    <tr>\n",
       "      <th>20</th>\n",
       "      <td>DAGGETT</td>\n",
       "      <td>935</td>\n",
       "      <td>North</td>\n",
       "      <td>Erik</td>\n",
       "    </tr>\n",
       "  </tbody>\n",
       "</table>\n",
       "</div>"
      ],
      "text/plain": [
       "         name  pop_lastcensus stateplane emperor\n",
       "9      BEAVER            7072      South    Jake\n",
       "10  BOX ELDER           57666      North    Erik\n",
       "11      CACHE          133154      North    Jake\n",
       "27     CARBON           20412    Central    Jake\n",
       "20    DAGGETT             935      North    Erik"
      ]
     },
     "execution_count": 10,
     "metadata": {},
     "output_type": "execute_result"
    }
   ],
   "source": [
    "counties_df.loc[(counties_df['pop_lastcensus'] < 100000) & (counties_df['stateplane'] == 'North'), 'emperor'] = 'Erik'\n",
    "counties_df[['name', 'pop_lastcensus', 'stateplane', 'emperor']].sort_values('name').head()"
   ]
  },
  {
   "cell_type": "markdown",
   "id": "48f5e97b",
   "metadata": {
    "slideshow": {
     "slide_type": "slide"
    }
   },
   "source": [
    "## Joined Tables Solution: Merged DataFrames"
   ]
  },
  {
   "cell_type": "markdown",
   "id": "d32f9e11",
   "metadata": {
    "slideshow": {
     "slide_type": "skip"
    }
   },
   "source": [
    "```python\n",
    "def _get_current_attachment_info_by_oid(self, live_data_subset_df):\n",
    "\n",
    "    #: Join live attachment table to feature layer info\n",
    "    live_attachments_df = pd.DataFrame(self.feature_layer.attachments.search())\n",
    "    live_attachments_subset_df = live_attachments_df.reindex(columns=['PARENTOBJECTID', 'NAME', 'ID'])\n",
    "    merged_df = live_data_subset_df.merge(\n",
    "        live_attachments_subset_df, left_on='OBJECTID', right_on='PARENTOBJECTID', how='left'\n",
    "    )\n",
    "\n",
    "    return merged_df\n",
    "```"
   ]
  },
  {
   "cell_type": "markdown",
   "id": "a55051f0",
   "metadata": {
    "slideshow": {
     "slide_type": "fragment"
    }
   },
   "source": [
    "Let's add census data to our counties"
   ]
  },
  {
   "cell_type": "code",
   "execution_count": null,
   "id": "95810a8b",
   "metadata": {
    "slideshow": {
     "slide_type": "notes"
    }
   },
   "outputs": [],
   "source": []
  },
  {
   "cell_type": "code",
   "execution_count": 11,
   "id": "9d5b88bd",
   "metadata": {
    "scrolled": true,
    "slideshow": {
     "slide_type": "fragment"
    }
   },
   "outputs": [
    {
     "data": {
      "text/html": [
       "<div>\n",
       "<style scoped>\n",
       "    .dataframe tbody tr th:only-of-type {\n",
       "        vertical-align: middle;\n",
       "    }\n",
       "\n",
       "    .dataframe tbody tr th {\n",
       "        vertical-align: top;\n",
       "    }\n",
       "\n",
       "    .dataframe thead th {\n",
       "        text-align: right;\n",
       "    }\n",
       "</style>\n",
       "<table border=\"1\" class=\"dataframe\">\n",
       "  <thead>\n",
       "    <tr style=\"text-align: right;\">\n",
       "      <th></th>\n",
       "      <th>xid</th>\n",
       "      <th>countynbr</th>\n",
       "      <th>entitynbr</th>\n",
       "      <th>entityyr</th>\n",
       "      <th>name</th>\n",
       "      <th>fips</th>\n",
       "      <th>stateplane</th>\n",
       "      <th>pop_lastcensus</th>\n",
       "      <th>pop_currestimate</th>\n",
       "      <th>globalid</th>\n",
       "      <th>fips_str</th>\n",
       "      <th>color4</th>\n",
       "      <th>SHAPE</th>\n",
       "      <th>emperor</th>\n",
       "      <th>acres</th>\n",
       "      <th>geoid20</th>\n",
       "      <th>aland20</th>\n",
       "    </tr>\n",
       "  </thead>\n",
       "  <tbody>\n",
       "    <tr>\n",
       "      <th>0</th>\n",
       "      <td>1</td>\n",
       "      <td>20</td>\n",
       "      <td>2.010201e+09</td>\n",
       "      <td>2010.0</td>\n",
       "      <td>SANPETE</td>\n",
       "      <td>39.0</td>\n",
       "      <td>Central</td>\n",
       "      <td>28437</td>\n",
       "      <td>None</td>\n",
       "      <td>02C0C074-657F-44AE-A886-44ADB97263BD</td>\n",
       "      <td>49039</td>\n",
       "      <td>2</td>\n",
       "      <td>{'rings': [[[448347.6200000001, 4407163.6], [4...</td>\n",
       "      <td>Jake</td>\n",
       "      <td>1.024680e+06</td>\n",
       "      <td>49039</td>\n",
       "      <td>4.117901e+09</td>\n",
       "    </tr>\n",
       "    <tr>\n",
       "      <th>1</th>\n",
       "      <td>2</td>\n",
       "      <td>11</td>\n",
       "      <td>2.010111e+09</td>\n",
       "      <td>2010.0</td>\n",
       "      <td>IRON</td>\n",
       "      <td>21.0</td>\n",
       "      <td>South</td>\n",
       "      <td>57289</td>\n",
       "      <td>None</td>\n",
       "      <td>2ACA2EB9-31B5-4D6A-A858-A0F6B16C64E2</td>\n",
       "      <td>49021</td>\n",
       "      <td>3</td>\n",
       "      <td>{'rings': [[[292688.5800000001, 4224956.960000...</td>\n",
       "      <td>Jake</td>\n",
       "      <td>2.112861e+06</td>\n",
       "      <td>49021</td>\n",
       "      <td>8.537474e+09</td>\n",
       "    </tr>\n",
       "    <tr>\n",
       "      <th>2</th>\n",
       "      <td>3</td>\n",
       "      <td>13</td>\n",
       "      <td>2.010131e+09</td>\n",
       "      <td>2010.0</td>\n",
       "      <td>KANE</td>\n",
       "      <td>25.0</td>\n",
       "      <td>South</td>\n",
       "      <td>7667</td>\n",
       "      <td>None</td>\n",
       "      <td>A250C849-8914-4E00-A80F-C1B45CD8F0A7</td>\n",
       "      <td>49025</td>\n",
       "      <td>4</td>\n",
       "      <td>{'rings': [[[425313.88999999966, 4154648.07000...</td>\n",
       "      <td>Jake</td>\n",
       "      <td>2.627117e+06</td>\n",
       "      <td>49025</td>\n",
       "      <td>1.033391e+10</td>\n",
       "    </tr>\n",
       "    <tr>\n",
       "      <th>3</th>\n",
       "      <td>4</td>\n",
       "      <td>29</td>\n",
       "      <td>2.010291e+09</td>\n",
       "      <td>2010.0</td>\n",
       "      <td>WEBER</td>\n",
       "      <td>57.0</td>\n",
       "      <td>North</td>\n",
       "      <td>262223</td>\n",
       "      <td>None</td>\n",
       "      <td>1757A80B-1895-4975-81DA-3AD2EBBA64C9</td>\n",
       "      <td>49057</td>\n",
       "      <td>1</td>\n",
       "      <td>{'rings': [[[422712.16000000015, 4554559.60999...</td>\n",
       "      <td>Jake</td>\n",
       "      <td>4.220563e+05</td>\n",
       "      <td>49057</td>\n",
       "      <td>1.492537e+09</td>\n",
       "    </tr>\n",
       "    <tr>\n",
       "      <th>4</th>\n",
       "      <td>5</td>\n",
       "      <td>19</td>\n",
       "      <td>2.006191e+09</td>\n",
       "      <td>2006.0</td>\n",
       "      <td>SAN JUAN</td>\n",
       "      <td>37.0</td>\n",
       "      <td>South</td>\n",
       "      <td>14518</td>\n",
       "      <td>None</td>\n",
       "      <td>EC858EAC-D7E7-4748-B7A5-B2B744668178</td>\n",
       "      <td>49037</td>\n",
       "      <td>3</td>\n",
       "      <td>{'rings': [[[609343.4100000001, 4095382.08], [...</td>\n",
       "      <td>Jake</td>\n",
       "      <td>5.075154e+06</td>\n",
       "      <td>49037</td>\n",
       "      <td>2.025317e+10</td>\n",
       "    </tr>\n",
       "  </tbody>\n",
       "</table>\n",
       "</div>"
      ],
      "text/plain": [
       "   xid countynbr     entitynbr  entityyr      name  fips stateplane  \\\n",
       "0    1        20  2.010201e+09    2010.0   SANPETE  39.0    Central   \n",
       "1    2        11  2.010111e+09    2010.0      IRON  21.0      South   \n",
       "2    3        13  2.010131e+09    2010.0      KANE  25.0      South   \n",
       "3    4        29  2.010291e+09    2010.0     WEBER  57.0      North   \n",
       "4    5        19  2.006191e+09    2006.0  SAN JUAN  37.0      South   \n",
       "\n",
       "   pop_lastcensus pop_currestimate                              globalid  \\\n",
       "0           28437             None  02C0C074-657F-44AE-A886-44ADB97263BD   \n",
       "1           57289             None  2ACA2EB9-31B5-4D6A-A858-A0F6B16C64E2   \n",
       "2            7667             None  A250C849-8914-4E00-A80F-C1B45CD8F0A7   \n",
       "3          262223             None  1757A80B-1895-4975-81DA-3AD2EBBA64C9   \n",
       "4           14518             None  EC858EAC-D7E7-4748-B7A5-B2B744668178   \n",
       "\n",
       "  fips_str  color4                                              SHAPE emperor  \\\n",
       "0    49039       2  {'rings': [[[448347.6200000001, 4407163.6], [4...    Jake   \n",
       "1    49021       3  {'rings': [[[292688.5800000001, 4224956.960000...    Jake   \n",
       "2    49025       4  {'rings': [[[425313.88999999966, 4154648.07000...    Jake   \n",
       "3    49057       1  {'rings': [[[422712.16000000015, 4554559.60999...    Jake   \n",
       "4    49037       3  {'rings': [[[609343.4100000001, 4095382.08], [...    Jake   \n",
       "\n",
       "          acres geoid20       aland20  \n",
       "0  1.024680e+06   49039  4.117901e+09  \n",
       "1  2.112861e+06   49021  8.537474e+09  \n",
       "2  2.627117e+06   49025  1.033391e+10  \n",
       "3  4.220563e+05   49057  1.492537e+09  \n",
       "4  5.075154e+06   49037  2.025317e+10  "
      ]
     },
     "execution_count": 11,
     "metadata": {},
     "output_type": "execute_result"
    }
   ],
   "source": [
    "census_fc_path = r'C:\\Users\\jdadams\\AppData\\Roaming\\Esri\\ArcGISPro\\Favorites\\opensgid.agrc.utah.gov.sde\\opensgid.demographic.census_counties_2020'\n",
    "census_df = pd.DataFrame.spatial.from_featureclass(census_fc_path)\n",
    "counties_with_census_df = counties_df.merge(census_df[['geoid20', 'aland20']], left_on='fips_str', right_on='geoid20')\n",
    "counties_with_census_df.head()"
   ]
  },
  {
   "cell_type": "markdown",
   "id": "91098062",
   "metadata": {
    "slideshow": {
     "slide_type": "slide"
    }
   },
   "source": [
    "## Renaming/Reordering Fields Solution: `df.rename()` and `df.reindex()`"
   ]
  },
  {
   "cell_type": "markdown",
   "id": "14edb2a7",
   "metadata": {
    "slideshow": {
     "slide_type": "skip"
    }
   },
   "source": [
    "```python\n",
    "final_parcels_df.rename(\n",
    "    columns={\n",
    "        'name': 'CITY',  #: from cities\n",
    "        'NewSA': 'SUBCOUNTY',  #: From subcounties/regions\n",
    "        'BUILT_YR': 'APX_BLT_YR',\n",
    "        'BLDG_SQFT': 'TOT_BD_FT2',\n",
    "        'TOTAL_MKT_VALUE': 'TOT_VALUE',\n",
    "        'PARCEL_ACRES': 'ACRES',\n",
    "    },\n",
    "    inplace=True\n",
    ")\n",
    "```"
   ]
  },
  {
   "cell_type": "markdown",
   "id": "91b57bb6",
   "metadata": {
    "slideshow": {
     "slide_type": "skip"
    }
   },
   "source": [
    "```python\n",
    "final_fields = [\n",
    "    'SHAPE', 'UNIT_ID', 'TYPE', 'SUBTYPE', 'IS_OUG', 'UNIT_COUNT', 'DUA', 'ACRES', 'TOT_BD_FT2', 'TOT_VALUE',\n",
    "    'APX_BLT_YR', 'BLT_DECADE', 'CITY', 'COUNTY', 'SUBCOUNTY', 'PARCEL_ID'\n",
    "]\n",
    "\n",
    "logging.info('Writing final data out to disk...')\n",
    "output_df = final_parcels_df.reindex(columns=final_fields)\n",
    "output_df.spatial.to_featureclass(output_fc, sanitize_columns=False)\n",
    "```"
   ]
  },
  {
   "cell_type": "markdown",
   "id": "df512c92",
   "metadata": {
    "slideshow": {
     "slide_type": "fragment"
    }
   },
   "source": [
    "\"Emperor\" is too bold; let's use \"Benevolent Dictator for Life\" instead."
   ]
  },
  {
   "cell_type": "code",
   "execution_count": 12,
   "id": "b2333323",
   "metadata": {
    "scrolled": true,
    "slideshow": {
     "slide_type": "fragment"
    }
   },
   "outputs": [
    {
     "data": {
      "text/html": [
       "<div>\n",
       "<style scoped>\n",
       "    .dataframe tbody tr th:only-of-type {\n",
       "        vertical-align: middle;\n",
       "    }\n",
       "\n",
       "    .dataframe tbody tr th {\n",
       "        vertical-align: top;\n",
       "    }\n",
       "\n",
       "    .dataframe thead th {\n",
       "        text-align: right;\n",
       "    }\n",
       "</style>\n",
       "<table border=\"1\" class=\"dataframe\">\n",
       "  <thead>\n",
       "    <tr style=\"text-align: right;\">\n",
       "      <th></th>\n",
       "      <th>xid</th>\n",
       "      <th>countynbr</th>\n",
       "      <th>entitynbr</th>\n",
       "      <th>entityyr</th>\n",
       "      <th>County Name</th>\n",
       "      <th>fips</th>\n",
       "      <th>stateplane</th>\n",
       "      <th>Last Census Population</th>\n",
       "      <th>pop_currestimate</th>\n",
       "      <th>globalid</th>\n",
       "      <th>fips_str</th>\n",
       "      <th>color4</th>\n",
       "      <th>SHAPE</th>\n",
       "      <th>Benevolent Dictator for Life</th>\n",
       "      <th>Acres</th>\n",
       "      <th>geoid20</th>\n",
       "      <th>Land Area</th>\n",
       "    </tr>\n",
       "  </thead>\n",
       "  <tbody>\n",
       "    <tr>\n",
       "      <th>0</th>\n",
       "      <td>1</td>\n",
       "      <td>20</td>\n",
       "      <td>2.010201e+09</td>\n",
       "      <td>2010.0</td>\n",
       "      <td>SANPETE</td>\n",
       "      <td>39.0</td>\n",
       "      <td>Central</td>\n",
       "      <td>28437</td>\n",
       "      <td>None</td>\n",
       "      <td>02C0C074-657F-44AE-A886-44ADB97263BD</td>\n",
       "      <td>49039</td>\n",
       "      <td>2</td>\n",
       "      <td>{'rings': [[[448347.6200000001, 4407163.6], [4...</td>\n",
       "      <td>Jake</td>\n",
       "      <td>1.024680e+06</td>\n",
       "      <td>49039</td>\n",
       "      <td>4.117901e+09</td>\n",
       "    </tr>\n",
       "    <tr>\n",
       "      <th>1</th>\n",
       "      <td>2</td>\n",
       "      <td>11</td>\n",
       "      <td>2.010111e+09</td>\n",
       "      <td>2010.0</td>\n",
       "      <td>IRON</td>\n",
       "      <td>21.0</td>\n",
       "      <td>South</td>\n",
       "      <td>57289</td>\n",
       "      <td>None</td>\n",
       "      <td>2ACA2EB9-31B5-4D6A-A858-A0F6B16C64E2</td>\n",
       "      <td>49021</td>\n",
       "      <td>3</td>\n",
       "      <td>{'rings': [[[292688.5800000001, 4224956.960000...</td>\n",
       "      <td>Jake</td>\n",
       "      <td>2.112861e+06</td>\n",
       "      <td>49021</td>\n",
       "      <td>8.537474e+09</td>\n",
       "    </tr>\n",
       "    <tr>\n",
       "      <th>2</th>\n",
       "      <td>3</td>\n",
       "      <td>13</td>\n",
       "      <td>2.010131e+09</td>\n",
       "      <td>2010.0</td>\n",
       "      <td>KANE</td>\n",
       "      <td>25.0</td>\n",
       "      <td>South</td>\n",
       "      <td>7667</td>\n",
       "      <td>None</td>\n",
       "      <td>A250C849-8914-4E00-A80F-C1B45CD8F0A7</td>\n",
       "      <td>49025</td>\n",
       "      <td>4</td>\n",
       "      <td>{'rings': [[[425313.88999999966, 4154648.07000...</td>\n",
       "      <td>Jake</td>\n",
       "      <td>2.627117e+06</td>\n",
       "      <td>49025</td>\n",
       "      <td>1.033391e+10</td>\n",
       "    </tr>\n",
       "    <tr>\n",
       "      <th>3</th>\n",
       "      <td>4</td>\n",
       "      <td>29</td>\n",
       "      <td>2.010291e+09</td>\n",
       "      <td>2010.0</td>\n",
       "      <td>WEBER</td>\n",
       "      <td>57.0</td>\n",
       "      <td>North</td>\n",
       "      <td>262223</td>\n",
       "      <td>None</td>\n",
       "      <td>1757A80B-1895-4975-81DA-3AD2EBBA64C9</td>\n",
       "      <td>49057</td>\n",
       "      <td>1</td>\n",
       "      <td>{'rings': [[[422712.16000000015, 4554559.60999...</td>\n",
       "      <td>Jake</td>\n",
       "      <td>4.220563e+05</td>\n",
       "      <td>49057</td>\n",
       "      <td>1.492537e+09</td>\n",
       "    </tr>\n",
       "    <tr>\n",
       "      <th>4</th>\n",
       "      <td>5</td>\n",
       "      <td>19</td>\n",
       "      <td>2.006191e+09</td>\n",
       "      <td>2006.0</td>\n",
       "      <td>SAN JUAN</td>\n",
       "      <td>37.0</td>\n",
       "      <td>South</td>\n",
       "      <td>14518</td>\n",
       "      <td>None</td>\n",
       "      <td>EC858EAC-D7E7-4748-B7A5-B2B744668178</td>\n",
       "      <td>49037</td>\n",
       "      <td>3</td>\n",
       "      <td>{'rings': [[[609343.4100000001, 4095382.08], [...</td>\n",
       "      <td>Jake</td>\n",
       "      <td>5.075154e+06</td>\n",
       "      <td>49037</td>\n",
       "      <td>2.025317e+10</td>\n",
       "    </tr>\n",
       "  </tbody>\n",
       "</table>\n",
       "</div>"
      ],
      "text/plain": [
       "   xid countynbr     entitynbr  entityyr County Name  fips stateplane  \\\n",
       "0    1        20  2.010201e+09    2010.0     SANPETE  39.0    Central   \n",
       "1    2        11  2.010111e+09    2010.0        IRON  21.0      South   \n",
       "2    3        13  2.010131e+09    2010.0        KANE  25.0      South   \n",
       "3    4        29  2.010291e+09    2010.0       WEBER  57.0      North   \n",
       "4    5        19  2.006191e+09    2006.0    SAN JUAN  37.0      South   \n",
       "\n",
       "   Last Census Population pop_currestimate  \\\n",
       "0                   28437             None   \n",
       "1                   57289             None   \n",
       "2                    7667             None   \n",
       "3                  262223             None   \n",
       "4                   14518             None   \n",
       "\n",
       "                               globalid fips_str  color4  \\\n",
       "0  02C0C074-657F-44AE-A886-44ADB97263BD    49039       2   \n",
       "1  2ACA2EB9-31B5-4D6A-A858-A0F6B16C64E2    49021       3   \n",
       "2  A250C849-8914-4E00-A80F-C1B45CD8F0A7    49025       4   \n",
       "3  1757A80B-1895-4975-81DA-3AD2EBBA64C9    49057       1   \n",
       "4  EC858EAC-D7E7-4748-B7A5-B2B744668178    49037       3   \n",
       "\n",
       "                                               SHAPE  \\\n",
       "0  {'rings': [[[448347.6200000001, 4407163.6], [4...   \n",
       "1  {'rings': [[[292688.5800000001, 4224956.960000...   \n",
       "2  {'rings': [[[425313.88999999966, 4154648.07000...   \n",
       "3  {'rings': [[[422712.16000000015, 4554559.60999...   \n",
       "4  {'rings': [[[609343.4100000001, 4095382.08], [...   \n",
       "\n",
       "  Benevolent Dictator for Life         Acres geoid20     Land Area  \n",
       "0                         Jake  1.024680e+06   49039  4.117901e+09  \n",
       "1                         Jake  2.112861e+06   49021  8.537474e+09  \n",
       "2                         Jake  2.627117e+06   49025  1.033391e+10  \n",
       "3                         Jake  4.220563e+05   49057  1.492537e+09  \n",
       "4                         Jake  5.075154e+06   49037  2.025317e+10  "
      ]
     },
     "execution_count": 12,
     "metadata": {},
     "output_type": "execute_result"
    }
   ],
   "source": [
    "renames = {\n",
    "    'name': 'County Name',\n",
    "    'pop_lastcensus': 'Last Census Population',\n",
    "    'emperor': 'Benevolent Dictator for Life',\n",
    "    'acres': 'Acres',\n",
    "    'aland20': 'Land Area',\n",
    "}\n",
    "counties_with_census_df.rename(columns=renames, inplace=True)\n",
    "counties_with_census_df.head()"
   ]
  },
  {
   "cell_type": "markdown",
   "id": "6ed45979",
   "metadata": {
    "slideshow": {
     "slide_type": "slide"
    }
   },
   "source": [
    "Now that we've got it all looking good, let's reorder the fields and get rid of the ones we don't want"
   ]
  },
  {
   "cell_type": "code",
   "execution_count": 13,
   "id": "c31a48e5",
   "metadata": {
    "slideshow": {
     "slide_type": "fragment"
    }
   },
   "outputs": [
    {
     "data": {
      "text/html": [
       "<div>\n",
       "<style scoped>\n",
       "    .dataframe tbody tr th:only-of-type {\n",
       "        vertical-align: middle;\n",
       "    }\n",
       "\n",
       "    .dataframe tbody tr th {\n",
       "        vertical-align: top;\n",
       "    }\n",
       "\n",
       "    .dataframe thead th {\n",
       "        text-align: right;\n",
       "    }\n",
       "</style>\n",
       "<table border=\"1\" class=\"dataframe\">\n",
       "  <thead>\n",
       "    <tr style=\"text-align: right;\">\n",
       "      <th></th>\n",
       "      <th>County Name</th>\n",
       "      <th>Benevolent Dictator for Life</th>\n",
       "      <th>Acres</th>\n",
       "      <th>Land Area</th>\n",
       "      <th>Last Census Population</th>\n",
       "      <th>SHAPE</th>\n",
       "    </tr>\n",
       "  </thead>\n",
       "  <tbody>\n",
       "    <tr>\n",
       "      <th>0</th>\n",
       "      <td>SANPETE</td>\n",
       "      <td>Jake</td>\n",
       "      <td>1.024680e+06</td>\n",
       "      <td>4.117901e+09</td>\n",
       "      <td>28437</td>\n",
       "      <td>{'rings': [[[448347.6200000001, 4407163.6], [4...</td>\n",
       "    </tr>\n",
       "    <tr>\n",
       "      <th>1</th>\n",
       "      <td>IRON</td>\n",
       "      <td>Jake</td>\n",
       "      <td>2.112861e+06</td>\n",
       "      <td>8.537474e+09</td>\n",
       "      <td>57289</td>\n",
       "      <td>{'rings': [[[292688.5800000001, 4224956.960000...</td>\n",
       "    </tr>\n",
       "    <tr>\n",
       "      <th>2</th>\n",
       "      <td>KANE</td>\n",
       "      <td>Jake</td>\n",
       "      <td>2.627117e+06</td>\n",
       "      <td>1.033391e+10</td>\n",
       "      <td>7667</td>\n",
       "      <td>{'rings': [[[425313.88999999966, 4154648.07000...</td>\n",
       "    </tr>\n",
       "    <tr>\n",
       "      <th>3</th>\n",
       "      <td>WEBER</td>\n",
       "      <td>Jake</td>\n",
       "      <td>4.220563e+05</td>\n",
       "      <td>1.492537e+09</td>\n",
       "      <td>262223</td>\n",
       "      <td>{'rings': [[[422712.16000000015, 4554559.60999...</td>\n",
       "    </tr>\n",
       "    <tr>\n",
       "      <th>4</th>\n",
       "      <td>SAN JUAN</td>\n",
       "      <td>Jake</td>\n",
       "      <td>5.075154e+06</td>\n",
       "      <td>2.025317e+10</td>\n",
       "      <td>14518</td>\n",
       "      <td>{'rings': [[[609343.4100000001, 4095382.08], [...</td>\n",
       "    </tr>\n",
       "  </tbody>\n",
       "</table>\n",
       "</div>"
      ],
      "text/plain": [
       "  County Name Benevolent Dictator for Life         Acres     Land Area  \\\n",
       "0     SANPETE                         Jake  1.024680e+06  4.117901e+09   \n",
       "1        IRON                         Jake  2.112861e+06  8.537474e+09   \n",
       "2        KANE                         Jake  2.627117e+06  1.033391e+10   \n",
       "3       WEBER                         Jake  4.220563e+05  1.492537e+09   \n",
       "4    SAN JUAN                         Jake  5.075154e+06  2.025317e+10   \n",
       "\n",
       "   Last Census Population                                              SHAPE  \n",
       "0                   28437  {'rings': [[[448347.6200000001, 4407163.6], [4...  \n",
       "1                   57289  {'rings': [[[292688.5800000001, 4224956.960000...  \n",
       "2                    7667  {'rings': [[[425313.88999999966, 4154648.07000...  \n",
       "3                  262223  {'rings': [[[422712.16000000015, 4554559.60999...  \n",
       "4                   14518  {'rings': [[[609343.4100000001, 4095382.08], [...  "
      ]
     },
     "execution_count": 13,
     "metadata": {},
     "output_type": "execute_result"
    }
   ],
   "source": [
    "field_order = [\n",
    "    'County Name',\n",
    "    'Benevolent Dictator for Life',\n",
    "    'Acres',\n",
    "    'Land Area',\n",
    "    'Last Census Population',\n",
    "    'SHAPE'\n",
    "]\n",
    "final_counties_df = counties_with_census_df.reindex(columns=field_order)\n",
    "final_counties_df.head()"
   ]
  },
  {
   "cell_type": "markdown",
   "id": "e4b1f42e",
   "metadata": {
    "slideshow": {
     "slide_type": "slide"
    }
   },
   "source": [
    "## Intermediate Feature Classes: New DataFrame Variables"
   ]
  },
  {
   "cell_type": "markdown",
   "id": "192a3032",
   "metadata": {
    "slideshow": {
     "slide_type": "fragment"
    }
   },
   "source": [
    "With everything we've done, we've not written a single feature class to either disk or `in_memory`"
   ]
  },
  {
   "cell_type": "markdown",
   "id": "79b71646",
   "metadata": {
    "slideshow": {
     "slide_type": "fragment"
    }
   },
   "source": [
    "```python\n",
    "counties_df\n",
    "counties_with_census_df\n",
    "final_counties_df\n",
    "```"
   ]
  },
  {
   "cell_type": "markdown",
   "id": "a6856f3b",
   "metadata": {
    "slideshow": {
     "slide_type": "slide"
    }
   },
   "source": [
    "## Finally, Write It All To Disk"
   ]
  },
  {
   "cell_type": "code",
   "execution_count": 14,
   "id": "3c31b4d2",
   "metadata": {
    "slideshow": {
     "slide_type": "fragment"
    }
   },
   "outputs": [
    {
     "data": {
      "text/plain": [
       "'C:\\\\gis\\\\Projects\\\\HousingInventory\\\\HousingInventory.gdb\\\\counties_ugic'"
      ]
     },
     "execution_count": 14,
     "metadata": {},
     "output_type": "execute_result"
    }
   ],
   "source": [
    "final_counties_df.spatial.to_featureclass(r'C:\\gis\\Projects\\HousingInventory\\HousingInventory.gdb\\counties_ugic')"
   ]
  },
  {
   "cell_type": "markdown",
   "id": "8160815b",
   "metadata": {
    "slideshow": {
     "slide_type": "fragment"
    }
   },
   "source": [
    "![results.png](assets/results.png)"
   ]
  },
  {
   "cell_type": "markdown",
   "id": "f06cd9e0",
   "metadata": {
    "slideshow": {
     "slide_type": "slide"
    }
   },
   "source": [
    "![but_wait.png](assets/but_wait.png)"
   ]
  },
  {
   "cell_type": "markdown",
   "id": "8a248fd7",
   "metadata": {
    "slideshow": {
     "slide_type": "slide"
    }
   },
   "source": [
    "## Spatial Joins"
   ]
  },
  {
   "cell_type": "markdown",
   "id": "197aeec7",
   "metadata": {
    "slideshow": {
     "slide_type": "fragment"
    }
   },
   "source": [
    "```python\n",
    "centroids_df = pd.DataFrame.spatial.from_featureclass(centroids_fc)\n",
    "walksheds_df = pd.DataFrame.spatial.from_featureclass(walksheds_fc)\n",
    "\n",
    "walk_centroids_df = centroids_df.spatial.join(walksheds_df, 'left', 'within')\n",
    "```"
   ]
  },
  {
   "cell_type": "markdown",
   "id": "9f3b03b1",
   "metadata": {
    "slideshow": {
     "slide_type": "slide"
    }
   },
   "source": [
    "## Update an AGOL Hosted Feature Layer"
   ]
  },
  {
   "cell_type": "markdown",
   "id": "c6fc5e81",
   "metadata": {
    "slideshow": {
     "slide_type": "fragment"
    }
   },
   "source": [
    "```python\n",
    "feature_layer_item = gis.content.get(feature_layer_itemid)\n",
    "feature_layer = arcgis.features.FeatureLayer.fromitem(feature_layer_item)\n",
    "live_dataframe = pd.DataFrame.spatial.from_layer(feature_layer)\n",
    "\n",
    "#: maniuplate/transform the existing data\n",
    "cleaned_dataframe = do_stuff(live_dataframe)\n",
    "\n",
    "feature_layer.edit_features(updates=cleaned_dataframe.spatial.to_featureset())\n",
    "```"
   ]
  },
  {
   "cell_type": "markdown",
   "id": "c114723e",
   "metadata": {
    "slideshow": {
     "slide_type": "slide"
    }
   },
   "source": [
    "# Resources?\n",
    "\n",
    "![resources.png](assets/resources.png)\n"
   ]
  },
  {
   "cell_type": "markdown",
   "id": "57f41653",
   "metadata": {
    "slideshow": {
     "slide_type": "slide"
    }
   },
   "source": [
    "## Official Docs\n",
    "\n",
    "- Pandas docs: https://pandas.pydata.org/docs/user_guide/index.html\n",
    "- ArcGIS API for Python Reference: https://developers.arcgis.com/python/api-reference/arcgis.features.toc.html#geoaccessor\n",
    "\n",
    "## Example Code\n",
    "\n",
    "- Erik's 2020 UGIC Intro to Pandas presentation: https://agrc.github.io/Presentations/UGIC/2020/pandas.pdf\n",
    "- Updating AGOL with dataframe: https://github.com/agrc/palletjack/blob/main/src/palletjack/updaters.py#L175\n",
    "- So much dataframe craziness: https://github.com/agrc/housing-unit-inventory/tree/first-dev/src/housing_unit_inventory"
   ]
  },
  {
   "cell_type": "markdown",
   "id": "5359974f",
   "metadata": {
    "slideshow": {
     "slide_type": "slide"
    }
   },
   "source": [
    "![ugrc.png](assets/ugrc.png)\n",
    "\n",
    "### [jdadams@utah.gov](mailto:jdadams@utah.gov)\n",
    "\n",
    "### [gis.utah.gov/presentations](https://gis.utah.gov/presentations)"
   ]
  }
 ],
 "metadata": {
  "celltoolbar": "Slideshow",
  "kernelspec": {
   "display_name": "Python 3",
   "language": "python",
   "name": "python3"
  },
  "language_info": {
   "codemirror_mode": {
    "name": "ipython",
    "version": 3
   },
   "file_extension": ".py",
   "mimetype": "text/x-python",
   "name": "python",
   "nbconvert_exporter": "python",
   "pygments_lexer": "ipython3",
   "version": "3.7.11"
  }
 },
 "nbformat": 4,
 "nbformat_minor": 5
}
